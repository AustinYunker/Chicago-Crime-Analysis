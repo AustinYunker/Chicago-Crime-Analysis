{
 "cells": [
  {
   "cell_type": "markdown",
   "id": "84574ee4",
   "metadata": {},
   "source": [
    "# Setup and Imports"
   ]
  },
  {
   "cell_type": "code",
   "execution_count": 21,
   "id": "12268235",
   "metadata": {},
   "outputs": [],
   "source": [
    "import pandas as pd\n",
    "import numpy as np\n",
    "from datetime import datetime\n",
    "import warnings\n",
    "import pickle\n",
    "from sklearn.preprocessing import OneHotEncoder\n",
    "from tensorflow import keras\n",
    "from sklearn.preprocessing import LabelEncoder\n",
    "\n",
    "#Custom Python Module with functions specifically for this project\n",
    "import ChicagoDataCleaningFunctions as cd\n",
    "#Custom Python Module to fetch the data\n",
    "import FetchChicagoData as fc\n",
    "#Custom Python Module to prepare new crime instances\n",
    "import PrepareChicago as pc"
   ]
  },
  {
   "cell_type": "markdown",
   "id": "02240104",
   "metadata": {},
   "source": [
    "# Get the Data"
   ]
  },
  {
   "cell_type": "code",
   "execution_count": 2,
   "id": "1417285d",
   "metadata": {},
   "outputs": [
    {
     "name": "stdout",
     "output_type": "stream",
     "text": [
      "Fetching Chicago Data Started...\n",
      "\n",
      "Successfully queried Google BigQuery.\n",
      "Sucessfully read in excel file.\n",
      "Sucessfully joined Chicago districts to main data.\n",
      "Successfully dropped duplicate column\n",
      "\n",
      "Succcessfully fetched Chicago Data\n",
      "Wall time: 3min 37s\n"
     ]
    }
   ],
   "source": [
    "%%time\n",
    "#Specify input values for fetching the data\n",
    "query = \"\"\"\n",
    "            SELECT unique_key, date, primary_type, location_description, \n",
    "                    arrest, domestic, community_area, year\n",
    "            FROM `gdac-327115.Chicago.chicago2`\n",
    "            WHERE year >= 2011\n",
    "        \"\"\"\n",
    "project_id = \"gdac-327115\"\n",
    "excel_file = \"ChicagoCommunityAreas.xlsx\"\n",
    "\n",
    "#Fetch the data\n",
    "chicago = fc.fetch_chicago_data(query, project_id, excel_file, verbose=True)"
   ]
  },
  {
   "cell_type": "markdown",
   "id": "752ece1e",
   "metadata": {},
   "source": [
    "# Clean the Data"
   ]
  },
  {
   "cell_type": "code",
   "execution_count": 3,
   "id": "64f3c46c",
   "metadata": {},
   "outputs": [
    {
     "name": "stdout",
     "output_type": "stream",
     "text": [
      "Cleaning Started...\n",
      "\n",
      "Successfully Cleaned Primary Type\n",
      "Successfully Imputed Location\n",
      "Successfully Cleaned Location\n",
      "Successfully Added Month Column\n",
      "Successfully Added Hour Column\n",
      "Successfully Cleaned Community\n",
      "\n",
      "Data Set Successfully Cleaned!\n"
     ]
    }
   ],
   "source": [
    "%%capture --no-stdout\n",
    "#Clean the full data set\n",
    "cd.chicago_data_cleaner(chicago, verbose = True)"
   ]
  },
  {
   "cell_type": "markdown",
   "id": "b3e973d3",
   "metadata": {},
   "source": [
    "# Load in Traditional Model"
   ]
  },
  {
   "cell_type": "code",
   "execution_count": 109,
   "id": "69ba29ea",
   "metadata": {},
   "outputs": [
    {
     "data": {
      "text/plain": [
       "XGBClassifier(base_score=0.5, booster='gbtree', colsample_bylevel=1,\n",
       "              colsample_bynode=1, colsample_bytree=0.45195454681591674,\n",
       "              enable_categorical=False, gamma=0.546708263364187, gpu_id=-1,\n",
       "              importance_type=None, interaction_constraints='',\n",
       "              learning_rate=0.38768070515882624, max_delta_step=0, max_depth=7,\n",
       "              min_child_weight=25, missing=nan, monotone_constraints='()',\n",
       "              n_estimators=195, n_jobs=8, num_parallel_tree=1, predictor='auto',\n",
       "              random_state=0, reg_alpha=0, reg_lambda=0.6338249886045665,\n",
       "              scale_pos_weight=1, subsample=0.7838501639099957,\n",
       "              tree_method='exact', use_label_encoder=False,\n",
       "              validate_parameters=1, verbosity=None)"
      ]
     },
     "execution_count": 109,
     "metadata": {},
     "output_type": "execute_result"
    }
   ],
   "source": [
    "best_model = pickle.load(open(\"best_model.sav\", 'rb'))\n",
    "best_model"
   ]
  },
  {
   "cell_type": "markdown",
   "id": "d55bc403",
   "metadata": {},
   "source": [
    "# Load in Deep Learning Model"
   ]
  },
  {
   "cell_type": "code",
   "execution_count": 105,
   "id": "35bfa33d",
   "metadata": {},
   "outputs": [
    {
     "data": {
      "text/plain": [
       "<tensorflow.python.keras.engine.functional.Functional at 0x1d349f25610>"
      ]
     },
     "execution_count": 105,
     "metadata": {},
     "output_type": "execute_result"
    }
   ],
   "source": [
    "#Load the model \n",
    "model = keras.models.load_model(\"best_nn_model_fitted_h5\")\n",
    "model"
   ]
  },
  {
   "cell_type": "markdown",
   "id": "8b536d65",
   "metadata": {},
   "source": [
    "# Create Helper Functions for Traditional Model"
   ]
  },
  {
   "cell_type": "code",
   "execution_count": 4,
   "id": "09cffbf9",
   "metadata": {},
   "outputs": [],
   "source": [
    "def get_district(community):\n",
    "    \"\"\"\n",
    "    This function returns the district that corresponds to the community area provided\n",
    "    \n",
    "    community: community name\n",
    "    \n",
    "    returns: district name as string\n",
    "    \"\"\"\n",
    "    district = dict(zip(chicago[\"community_name\"], chicago[\"district_name\"]))\n",
    "    return district[community]"
   ]
  },
  {
   "cell_type": "code",
   "execution_count": 5,
   "id": "ca02e61c",
   "metadata": {},
   "outputs": [],
   "source": [
    "def str_to_date(date_str, time_str):\n",
    "    \"\"\"\n",
    "    This function takes takes a date and time string and concatenates them together. Finally, it returns a datetime object.\n",
    "    \n",
    "    date_str: string containing the date in form mm/dd/yyyy\n",
    "    time_str: string containing the time in form hh:mm:ss\n",
    "    \n",
    "    returns: datetime object \n",
    "    \"\"\"\n",
    "    crime_time = date_str + \" \" + time_str\n",
    "    return datetime.strptime(crime_time, \"%m/%d/%Y %H:%M:%S\")\n"
   ]
  },
  {
   "cell_type": "code",
   "execution_count": 6,
   "id": "139453a8",
   "metadata": {},
   "outputs": [],
   "source": [
    "def user_input():\n",
    "    \"\"\"\n",
    "    This function asks the user for the new crime details. It then converts the input to the form found in the original\n",
    "    dataframe. \n",
    "    \n",
    "    returns: DataFrame with the crime details\n",
    "    \"\"\"\n",
    "    community_name = str.upper(input(\"Enter the Community Name: \"))\n",
    "    district = get_district(community_name)\n",
    "    \n",
    "    primary_type = str.upper(input(\"Enter the crime committed: \"))\n",
    "    \n",
    "    location_description = str.upper(input(\"Enter the crime's location (street, residence, etc.): \"))\n",
    "    \n",
    "    domestic = (str.upper(input(\"Was the crime domestic?: \")) == \"YES\")\n",
    "    \n",
    "    date = input(\"Date of Crime (mm/dd/yyy): \")\n",
    "    \n",
    "    hour = input(\"Time of Crime (hh:mm:ss): \")\n",
    "    \n",
    "    date_time = str_to_date(date, hour)\n",
    "    \n",
    "    new_crime_df = pd.DataFrame({\"date\": date_time, \"primary_type\": primary_type , \n",
    "                                 \"location_description\": location_description, \"domestic\": domestic,  \n",
    "                                 \"community_name\": community_name,  \"district_name\": district}, index = [1])\n",
    "    \n",
    "    return new_crime_df"
   ]
  },
  {
   "cell_type": "code",
   "execution_count": 7,
   "id": "97c3af44",
   "metadata": {
    "scrolled": true
   },
   "outputs": [],
   "source": [
    "def unique_column_values(df):\n",
    "    \"\"\"\n",
    "    This function creates lists containing the unique values for each variable in the chicago data set. It returns a list of\n",
    "    lists for each variable\n",
    "    \n",
    "    df: Dataframe \n",
    "    \n",
    "    returns: List of list with unique values for each variable\n",
    "    \"\"\"\n",
    "    crime_values = list(np.sort(df[\"primary_type\"].value_counts().index))\n",
    "    location_values = list(np.sort(df[\"location_description\"].value_counts().index))\n",
    "    domestic_values = list(np.sort(df[\"domestic\"].value_counts().index))\n",
    "    community_values = list(np.sort(df[\"community_name\"].value_counts().index))\n",
    "    district_values = list(np.sort(df[\"district_name\"].value_counts().index))\n",
    "    Month_values = list(np.sort(df[\"Month\"].value_counts().index))\n",
    "    Hour_values = list(np.sort(df[\"Hour\"].value_counts().index))\n",
    "\n",
    "    column_values = [crime_values, location_values, domestic_values, community_values, district_values, Month_values, Hour_values]\n",
    "    return column_values"
   ]
  },
  {
   "cell_type": "code",
   "execution_count": 54,
   "id": "67d74de4",
   "metadata": {},
   "outputs": [],
   "source": [
    "def prepare_new_instance(df, unique_vals_per_attrib, output_sparse = True):\n",
    "    \"\"\"\n",
    "    This function prepares a new crime instance by one hot encoding the variables. It specifies the categories from the \n",
    "    original data set.\n",
    "    \n",
    "    df: Dataframe containing the new crime instance\n",
    "    unique_vals_per_attrib: List of list containing the unique values for each variable\n",
    "    \n",
    "    returns: X (sparse matrix)\n",
    "    \"\"\"\n",
    "    #attribs = [\"primary_type\", \"location_description\", \"domestic\", \"community_name\", \"Month\", \"Hour\"]\n",
    "    \n",
    "    df.drop(\"date\", axis = 1, inplace = True)\n",
    "    cat_encoder = OneHotEncoder(categories=unique_vals_per_attrib, sparse=output_sparse)\n",
    "    X = cat_encoder.fit_transform(df)\n",
    "    return X\n",
    "    "
   ]
  },
  {
   "cell_type": "code",
   "execution_count": 9,
   "id": "68a554a8",
   "metadata": {},
   "outputs": [],
   "source": [
    "def make_prediction(X, model, probability = True):\n",
    "    \"\"\"\n",
    "    This function makes the prediction on the new crime instance. It can return either the predicted probability or class. \n",
    "    \n",
    "    X (Sparse matrix)\n",
    "    model: Model capable of making returning a predicted probability or class\n",
    "    probability: Specifies if the function should return a predicted probability or class\n",
    "    \"\"\"\n",
    "    if probability:\n",
    "        return model.predict_proba(X)\n",
    "    else:\n",
    "        return model.predict(X)\n",
    "    "
   ]
  },
  {
   "cell_type": "code",
   "execution_count": 108,
   "id": "57b460eb",
   "metadata": {},
   "outputs": [],
   "source": [
    "def chicago_crime_prediction(df, model):\n",
    "    \"\"\"\n",
    "    This is the main function for turning a user's input into a predicted response. It contains functions that get the input, \n",
    "    clean it, transform it to the correct form for the model and finally outputs a predicted probability of success. \n",
    "    \n",
    "    df: Dataframe of past instances\n",
    "    model: Model capable of giving a predicted probability\n",
    "    \n",
    "    \"\"\"\n",
    "    #Enter the new crime\n",
    "    new_crime = user_input()\n",
    "    #Clean the new crime\n",
    "    cd.chicago_data_cleaner(new_crime, verbose=False)\n",
    "    #Generate the unique values per column\n",
    "    unique_vals = unique_column_values(df)\n",
    "    #Prepare the new instance by one-hot encoding the features\n",
    "    prepared_crime = prepare_new_instance(new_crime, unique_vals)\n",
    "    #Get the predicted probability\n",
    "    crime_prediction = make_prediction(prepared_crime, model, probability=True)\n",
    "    #Change the prediction to a percentage\n",
    "    chance = np.round(crime_prediction[0][1], 4) * 100\n",
    "    #Print the chance of making an arrest\n",
    "    print(f\"\\nThe traditional model predicts a {chance:.2f}% chance of making an arrest\")"
   ]
  },
  {
   "cell_type": "markdown",
   "id": "f3248a52",
   "metadata": {},
   "source": [
    "# Create Helper Functions for Deep Learning Model"
   ]
  },
  {
   "cell_type": "code",
   "execution_count": 16,
   "id": "3d177349",
   "metadata": {},
   "outputs": [],
   "source": [
    "def data_to_array(df, attribs):\n",
    "    \"\"\"\n",
    "    This function converts the dataframe into a numpy array based on the specified features \n",
    "    \n",
    "    df: Pandas dataframe\n",
    "    attribs: List of columns to use as attributes\n",
    "    \n",
    "    returns: X (numpy array)\n",
    "    \"\"\"\n",
    "    X = df[attribs].values\n",
    "    \n",
    "    return X"
   ]
  },
  {
   "cell_type": "code",
   "execution_count": 144,
   "id": "a9d16154",
   "metadata": {},
   "outputs": [],
   "source": [
    "def prepare_inputs(X_old, X_new):\n",
    "    \"\"\"\n",
    "    This function prepares the input data by ordinal encoding each one and adding it to a list.\n",
    "    \n",
    "    X_old: Array of original data \n",
    "    X_new: Array of new instance\n",
    "    \n",
    "    returns: Two lists of encoded training and test features\n",
    "    \"\"\"\n",
    "    X_old_enc, X_new_enc = list(), list()\n",
    "    #label encode each column\n",
    "    for i in range(X_old.shape[1]):\n",
    "        le = LabelEncoder()\n",
    "        le.fit(X_old[:, i])\n",
    "        #encode\n",
    "        old_enc = le.transform(X_old[:, i])\n",
    "        new_enc = le.transform(X_new[:, i])\n",
    "        #store\n",
    "        X_old_enc.append(old_enc)\n",
    "        X_new_enc.append(new_enc)\n",
    "    return X_new_enc"
   ]
  },
  {
   "cell_type": "code",
   "execution_count": 119,
   "id": "3a6845ea",
   "metadata": {},
   "outputs": [],
   "source": [
    "features = [\"primary_type\", \"location_description\", \"domestic\", \"district_name\", \"community_name\", \"Month\", \"Hour\"]\n",
    "\n",
    "def chicago_dl_crime_prediction(model, df_orig, features = features):\n",
    "    \"\"\"\n",
    "    This is the main function for turning a user's input into a predicted response based on the deep learning model.\n",
    "    It contains functions that get the input, clean it, transform it to the correct form for the model and finally \n",
    "    outputs a predicted probability of success. \n",
    "    \n",
    "    model: Deep learning model capable of giving a predicted probabilit\n",
    "    df_orig: Dataframe of past instances\n",
    "    features: Features to use for the model\n",
    "    \n",
    "    \"\"\"\n",
    "    #Enter the new crime\n",
    "    new_crime = user_input()\n",
    "    #Clean the crime\n",
    "    cd.chicago_data_cleaner(new_crime, verbose=False)\n",
    "    #Convert the original data into an array\n",
    "    original_array = data_to_array(df_orig, features)\n",
    "    #Convert the new data into an array\n",
    "    new_instance_array = data_to_array(new_crime, features)\n",
    "    #Generate the encodings for the new crime based on the original data\n",
    "    new_crime_enc = prepare_inputs(original_array, new_instance_array)\n",
    "    #Get the prediction\n",
    "    y_pred = model.predict(new_crime_enc)\n",
    "    #Convert the prediction to a percentage\n",
    "    chance = np.round(y_pred.reshape((y_pred.shape[0]))[0], 4) * 100\n",
    "    #Print the chance of making an arrest\n",
    "    print(f\"\\nThe deep learning model predicts a {chance:.2f}% chance of making an arrest\")\n"
   ]
  },
  {
   "cell_type": "markdown",
   "id": "581f2a5c",
   "metadata": {},
   "source": [
    "# Examples: New Instances"
   ]
  },
  {
   "cell_type": "markdown",
   "id": "19ea438a",
   "metadata": {},
   "source": [
    "### Domestic Effect on Homicide using Traditional Model"
   ]
  },
  {
   "cell_type": "markdown",
   "id": "4b1221b3",
   "metadata": {},
   "source": [
    "There is a common belief that a spouse, family member or loved one is the primary culprit in a homicide. Let's see an example of this."
   ]
  },
  {
   "cell_type": "code",
   "execution_count": 110,
   "id": "fa747554",
   "metadata": {},
   "outputs": [
    {
     "name": "stdout",
     "output_type": "stream",
     "text": [
      "Enter the Community Name: woodlawn\n",
      "Enter the crime committed: homicide\n",
      "Enter the crime's location (street, residence, etc.): residence\n",
      "Was the crime domestic?: yes\n",
      "Date of Crime (mm/dd/yyy): 02/16/2022\n",
      "Time of Crime (hh:mm:ss): 20:30:00\n",
      "\n",
      "The traditional model predicts a 83.96% chance of making an arrest\n"
     ]
    }
   ],
   "source": [
    "chicago_crime_prediction(chicago, best_model)"
   ]
  },
  {
   "cell_type": "code",
   "execution_count": 145,
   "id": "415efe18",
   "metadata": {},
   "outputs": [
    {
     "name": "stdout",
     "output_type": "stream",
     "text": [
      "Enter the Community Name: woodlawn\n",
      "Enter the crime committed: homicide\n",
      "Enter the crime's location (street, residence, etc.): residence\n",
      "Was the crime domestic?: no\n",
      "Date of Crime (mm/dd/yyy): 02/16/2022\n",
      "Time of Crime (hh:mm:ss): 20:30:00\n",
      "\n",
      "The traditional model predicts a 49.16% chance of making an arrest\n"
     ]
    }
   ],
   "source": [
    "chicago_crime_prediction(chicago, best_model)"
   ]
  },
  {
   "cell_type": "markdown",
   "id": "3af96eae",
   "metadata": {},
   "source": [
    "### Domestic Effect on Homicide using Deep Learning Model"
   ]
  },
  {
   "cell_type": "code",
   "execution_count": 146,
   "id": "d322d201",
   "metadata": {},
   "outputs": [
    {
     "name": "stdout",
     "output_type": "stream",
     "text": [
      "Enter the Community Name: woodlawn\n",
      "Enter the crime committed: homicide\n",
      "Enter the crime's location (street, residence, etc.): residence\n",
      "Was the crime domestic?: yes\n",
      "Date of Crime (mm/dd/yyy): 02/16/2022\n",
      "Time of Crime (hh:mm:ss): 20:30:00\n",
      "\n",
      "The deep learning model predicts a 98.87% chance of making an arrest\n"
     ]
    }
   ],
   "source": [
    "chicago_dl_crime_prediction(model, chicago, features = features)"
   ]
  },
  {
   "cell_type": "code",
   "execution_count": 113,
   "id": "e18e4aeb",
   "metadata": {},
   "outputs": [
    {
     "name": "stdout",
     "output_type": "stream",
     "text": [
      "Enter the Community Name: woodlawn\n",
      "Enter the crime committed: homicide\n",
      "Enter the crime's location (street, residence, etc.): residence\n",
      "Was the crime domestic?: no\n",
      "Date of Crime (mm/dd/yyy): 02/16/2022\n",
      "Time of Crime (hh:mm:ss): 20:30:00\n",
      "\n",
      "The deep learning model predicts a 46.03% chance of making an arrest\n"
     ]
    }
   ],
   "source": [
    "chicago_dl_crime_prediction(model, chicago, features = features)"
   ]
  },
  {
   "cell_type": "markdown",
   "id": "0aa03a79",
   "metadata": {},
   "source": [
    "### Prediction Based on Highest Arrest Percentage"
   ]
  },
  {
   "cell_type": "markdown",
   "id": "e693e565",
   "metadata": {},
   "source": [
    "Lets take a look at an extreme example that uses the crime details corresponding to the variables with the highest value of arrest percentage. We'll substitute \"gambling\" for \"public indecency\" since it has a larger count of occurrences. We can use the graphs from Data Visualization to determine the artificial example. "
   ]
  },
  {
   "cell_type": "code",
   "execution_count": 132,
   "id": "d27276df",
   "metadata": {},
   "outputs": [
    {
     "name": "stdout",
     "output_type": "stream",
     "text": [
      "Enter the Community Name: west garfield park\n",
      "Enter the crime committed: gambling\n",
      "Enter the crime's location (street, residence, etc.): police\n",
      "Was the crime domestic?: no\n",
      "Date of Crime (mm/dd/yyy): 02/16/2022\n",
      "Time of Crime (hh:mm:ss): 19:00:00\n",
      "\n",
      "The model predicts a 99.62% chance of making an arrest\n"
     ]
    }
   ],
   "source": [
    "chicago_crime_prediction(chicago, best_model)"
   ]
  },
  {
   "cell_type": "code",
   "execution_count": 114,
   "id": "a06f680b",
   "metadata": {},
   "outputs": [
    {
     "name": "stdout",
     "output_type": "stream",
     "text": [
      "Enter the Community Name: west garfield park\n",
      "Enter the crime committed: gambling\n",
      "Enter the crime's location (street, residence, etc.): police\n",
      "Was the crime domestic?: no\n",
      "Date of Crime (mm/dd/yyy): 02/16/2022\n",
      "Time of Crime (hh:mm:ss): 19:00:00\n",
      "\n",
      "The deep learning model predicts a 99.99% chance of making an arrest\n"
     ]
    }
   ],
   "source": [
    "chicago_dl_crime_prediction(model, chicago, features = features)"
   ]
  },
  {
   "cell_type": "markdown",
   "id": "9fa328f2",
   "metadata": {},
   "source": [
    "Therfore, both models show that if you are in the police station in West Garfield Park at 7pm gambling on February 16th, 2022, you are most certainly going to be arrested. "
   ]
  },
  {
   "cell_type": "markdown",
   "id": "fe429de8",
   "metadata": {},
   "source": [
    "### Prediction Based on Lowest Arrest Percentage"
   ]
  },
  {
   "cell_type": "markdown",
   "id": "11350780",
   "metadata": {},
   "source": [
    "Similar to above, let's make an extreme observation based on the variable values that correspond to the lowest arrest percentage. "
   ]
  },
  {
   "cell_type": "code",
   "execution_count": 133,
   "id": "92f3469c",
   "metadata": {},
   "outputs": [
    {
     "name": "stdout",
     "output_type": "stream",
     "text": [
      "Enter the Community Name: forest glen\n",
      "Enter the crime committed: burglary\n",
      "Enter the crime's location (street, residence, etc.): construction site\n",
      "Was the crime domestic?: no\n",
      "Date of Crime (mm/dd/yyy): 12/16/2022\n",
      "Time of Crime (hh:mm:ss): 05:00:00\n",
      "\n",
      "The model predicts a 2.99% chance of making an arrest\n"
     ]
    }
   ],
   "source": [
    "chicago_crime_prediction(chicago, best_model)"
   ]
  },
  {
   "cell_type": "code",
   "execution_count": 116,
   "id": "06916725",
   "metadata": {},
   "outputs": [
    {
     "name": "stdout",
     "output_type": "stream",
     "text": [
      "Enter the Community Name: forest glen\n",
      "Enter the crime committed: burglary\n",
      "Enter the crime's location (street, residence, etc.): construction site\n",
      "Was the crime domestic?: no\n",
      "Date of Crime (mm/dd/yyy): 12/16/2022\n",
      "Time of Crime (hh:mm:ss): 05:00:00\n",
      "\n",
      "The deep learning model predicts a 6.31% chance of making an arrest\n"
     ]
    }
   ],
   "source": [
    "chicago_dl_crime_prediction(model, chicago, features = features)"
   ]
  },
  {
   "cell_type": "markdown",
   "id": "72cfc495",
   "metadata": {},
   "source": [
    "Thus, if you enter into a construction site illegally in Forest Glen at 5am on December 16th, 2022 you most likely will get away with it. Construction site owners have been warned!"
   ]
  },
  {
   "cell_type": "markdown",
   "id": "8ae4bd82",
   "metadata": {},
   "source": [
    "# Random Crime Instances"
   ]
  },
  {
   "cell_type": "markdown",
   "id": "56303566",
   "metadata": {},
   "source": [
    "To get more examples, we'll randomly generate crimes and take a look at their prediction. "
   ]
  },
  {
   "cell_type": "code",
   "execution_count": 121,
   "id": "5ebff961",
   "metadata": {},
   "outputs": [],
   "source": [
    "def gen_random_crime(df):\n",
    "    \"\"\"\n",
    "    This function generates a random crime instance and returns the new instance as a dataframe.\n",
    "    \n",
    "    df: Dataframe of original data\n",
    "    \n",
    "    returns: Dataframe of new instance\n",
    "    \"\"\"\n",
    "    #Randomly select values from each feature\n",
    "    community = np.random.choice(chicago[\"community_name\"])\n",
    "    crime = np.random.choice(chicago[\"primary_type\"])\n",
    "    location = np.random.choice(chicago[\"location_description\"])\n",
    "    domestic = np.random.choice(chicago[\"domestic\"])\n",
    "    date = np.random.choice(chicago[\"date\"])\n",
    "    \n",
    "    print(f\"Crime Details\\n\")\n",
    "    print(f\"Date: {date}\")\n",
    "    print(f\"Community Name: {community}\")\n",
    "    print(f\"District: {get_district(community)}\")\n",
    "    print(f\"Crime committed: {crime}\")\n",
    "    print(f\"Location: {location}\")\n",
    "    print(f\"Domesic?: {domestic}\")\n",
    "    \n",
    "    #Combine values into a dataframe\n",
    "    random_crime_df = new_crime_df = pd.DataFrame({\"date\": date, \"primary_type\": crime, \"location_description\": location, \n",
    "                                                   \"domestic\": domestic,  \"community_name\": community,  \n",
    "                                                   \"district_name\": get_district(community)}, index = [1])\n",
    "    return random_crime_df\n"
   ]
  },
  {
   "cell_type": "code",
   "execution_count": 129,
   "id": "63ed9173",
   "metadata": {},
   "outputs": [],
   "source": [
    "def random_chicago_crime_prediction(df, model):\n",
    "    \"\"\"\n",
    "    This function outputs a prediction for a randomly generated crime using the traditional model. \n",
    "    \n",
    "    df: Dataframe of past instances\n",
    "    model: Model capable of giving a predicted probability\n",
    "    \n",
    "    \"\"\"\n",
    "    #Generate random crime\n",
    "    new_crime = gen_random_crime(df)\n",
    "    #Clean the new crime\n",
    "    cd.chicago_data_cleaner(new_crime, verbose=False)\n",
    "    #Get the unique values base on the original data\n",
    "    unique_vals = unique_column_values(df)\n",
    "    #Prepare the new crime\n",
    "    prepared_crime = prepare_new_instance(new_crime, unique_vals)\n",
    "    #Get the probability for the new instance\n",
    "    crime_prediction = make_prediction(prepared_crime, model, probability=True)\n",
    "    #Convert into a percentage\n",
    "    chance = np.round(crime_prediction[0][1], 4) * 100\n",
    "    #Print the chance of making an arrest\n",
    "    print(f\"\\nThe traditional model predicts a {chance:.2f}% chance of making an arrest\")"
   ]
  },
  {
   "cell_type": "code",
   "execution_count": 124,
   "id": "94bece78",
   "metadata": {},
   "outputs": [],
   "source": [
    "features = [\"primary_type\", \"location_description\", \"domestic\", \"district_name\", \"community_name\", \"Month\", \"Hour\"]\n",
    "\n",
    "def random_chicago_dl_crime_prediction(model, df_orig, features = features):\n",
    "    \"\"\"\n",
    "    This function outputs a prediction for a randomly generated crime using the traditional model. \n",
    "\n",
    "    model: Deep learning model capable of giving a predicted probabilit\n",
    "    df_orig: Dataframe of past instances\n",
    "    features: Features to use for the model\n",
    "    \n",
    "    \"\"\"\n",
    "    #Generate the new crime\n",
    "    new_crime = gen_random_crime(df_orig)\n",
    "    #Clean the crime\n",
    "    cd.chicago_data_cleaner(new_crime, verbose=False)\n",
    "    #Convert the original data into an array\n",
    "    original_array = data_to_array(df_orig, features)\n",
    "    #Convert the new data into an array\n",
    "    new_instance_array = data_to_array(new_crime, features)\n",
    "    #Generate the encodings for the new crime based on the original data\n",
    "    new_crime_enc = prepare_inputs(original_array, new_instance_array)\n",
    "    #Get the prediction\n",
    "    y_pred = model.predict(new_crime_enc)\n",
    "    #Convert the prediction to a percentage\n",
    "    chance = np.round(y_pred.reshape((y_pred.shape[0]))[0], 4) * 100\n",
    "    #Print the chance of making an arrest\n",
    "    print(f\"\\nThe deep learning model predicts a {chance:.2f}% chance of making an arrest\")\n"
   ]
  },
  {
   "cell_type": "markdown",
   "id": "f67e8486",
   "metadata": {},
   "source": [
    "### Random Instance #1"
   ]
  },
  {
   "cell_type": "code",
   "execution_count": 130,
   "id": "8f3c9881",
   "metadata": {},
   "outputs": [
    {
     "name": "stdout",
     "output_type": "stream",
     "text": [
      "Crime Details\n",
      "\n",
      "Date: 2019-06-18 13:00:00+00:00\n",
      "Community Name: ROSELAND\n",
      "District: Far Southeast\n",
      "Crime committed: THEFT\n",
      "Location: RESIDENCE\n",
      "Domesic?: False\n",
      "\n",
      "The traditional model predicts a 2.07% chance of making an arrest\n"
     ]
    }
   ],
   "source": [
    "#Set random seed for reproducibility\n",
    "np.random.seed(28)\n",
    "random_chicago_crime_prediction(chicago, best_model)"
   ]
  },
  {
   "cell_type": "code",
   "execution_count": 127,
   "id": "967bf2b8",
   "metadata": {},
   "outputs": [
    {
     "name": "stdout",
     "output_type": "stream",
     "text": [
      "Enter the Community Name: roseland\n",
      "Enter the crime committed: theft\n",
      "Enter the crime's location (street, residence, etc.): residence\n",
      "Was the crime domestic?: no\n",
      "Date of Crime (mm/dd/yyy): 06/18/2019\n",
      "Time of Crime (hh:mm:ss): 13:00:00\n",
      "\n",
      "The traditional model predicts a 2.07% chance of making an arrest\n"
     ]
    }
   ],
   "source": [
    "#Check that we would get the same result entering the information manually for the traditional model\n",
    "chicago_crime_prediction(chicago, best_model)"
   ]
  },
  {
   "cell_type": "code",
   "execution_count": 125,
   "id": "87d603f6",
   "metadata": {},
   "outputs": [
    {
     "name": "stdout",
     "output_type": "stream",
     "text": [
      "Crime Details\n",
      "\n",
      "Date: 2019-06-18 13:00:00+00:00\n",
      "Community Name: ROSELAND\n",
      "District: Far Southeast\n",
      "Crime committed: THEFT\n",
      "Location: RESIDENCE\n",
      "Domesic?: False\n",
      "\n",
      "The deep learning model predicts a 1.98% chance of making an arrest\n"
     ]
    }
   ],
   "source": [
    "#Set random seed for reproducibilty\n",
    "np.random.seed(28)\n",
    "random_chicago_dl_crime_prediction(model, chicago, features)"
   ]
  },
  {
   "cell_type": "code",
   "execution_count": 131,
   "id": "ccb862ed",
   "metadata": {},
   "outputs": [
    {
     "name": "stdout",
     "output_type": "stream",
     "text": [
      "Enter the Community Name: roseland\n",
      "Enter the crime committed: theft\n",
      "Enter the crime's location (street, residence, etc.): residence\n",
      "Was the crime domestic?: no\n",
      "Date of Crime (mm/dd/yyy): 06/18/2019\n",
      "Time of Crime (hh:mm:ss): 13:00:00\n",
      "\n",
      "The deep learning model predicts a 1.98% chance of making an arrest\n"
     ]
    }
   ],
   "source": [
    "#Check that we would get the same result entering the information manually for the deep learning model\n",
    "chicago_dl_crime_prediction(model, chicago, features)"
   ]
  },
  {
   "cell_type": "markdown",
   "id": "73be3401",
   "metadata": {},
   "source": [
    "### Random Instance #2"
   ]
  },
  {
   "cell_type": "code",
   "execution_count": 133,
   "id": "ababf7df",
   "metadata": {},
   "outputs": [
    {
     "name": "stdout",
     "output_type": "stream",
     "text": [
      "Crime Details\n",
      "\n",
      "Date: 2018-02-01 10:30:00+00:00\n",
      "Community Name: SOUTH CHICAGO\n",
      "District: Far Southeast\n",
      "Crime committed: BATTERY\n",
      "Location: RESIDENCE\n",
      "Domesic?: False\n",
      "\n",
      "The traditional model predicts a 22.09% chance of making an arrest\n"
     ]
    }
   ],
   "source": [
    "#Set random seed for reproducibility\n",
    "np.random.seed(32)\n",
    "random_chicago_crime_prediction(chicago, best_model)"
   ]
  },
  {
   "cell_type": "code",
   "execution_count": 132,
   "id": "b81512f6",
   "metadata": {},
   "outputs": [
    {
     "name": "stdout",
     "output_type": "stream",
     "text": [
      "Crime Details\n",
      "\n",
      "Date: 2018-02-01 10:30:00+00:00\n",
      "Community Name: SOUTH CHICAGO\n",
      "District: Far Southeast\n",
      "Crime committed: BATTERY\n",
      "Location: RESIDENCE\n",
      "Domesic?: False\n",
      "\n",
      "The deep learning model predicts a 22.67% chance of making an arrest\n"
     ]
    }
   ],
   "source": [
    "#Set random seed for reproducibility\n",
    "np.random.seed(32)\n",
    "random_chicago_dl_crime_prediction(model, chicago)"
   ]
  },
  {
   "cell_type": "markdown",
   "id": "11ffdf0f",
   "metadata": {},
   "source": [
    "### Random Instance #3"
   ]
  },
  {
   "cell_type": "code",
   "execution_count": 134,
   "id": "a7d3b3fa",
   "metadata": {},
   "outputs": [
    {
     "name": "stdout",
     "output_type": "stream",
     "text": [
      "Crime Details\n",
      "\n",
      "Date: 2012-08-30 21:00:00+00:00\n",
      "Community Name: ALBANY PARK\n",
      "District: Far North\n",
      "Crime committed: OTHER OFFENSE\n",
      "Location: RESIDENCE\n",
      "Domesic?: False\n",
      "\n",
      "The traditional model predicts a 5.00% chance of making an arrest\n"
     ]
    }
   ],
   "source": [
    "#Set random seed for reproducibility\n",
    "np.random.seed(84)\n",
    "random_chicago_crime_prediction(chicago, best_model)"
   ]
  },
  {
   "cell_type": "code",
   "execution_count": 135,
   "id": "0807f046",
   "metadata": {},
   "outputs": [
    {
     "name": "stdout",
     "output_type": "stream",
     "text": [
      "Crime Details\n",
      "\n",
      "Date: 2012-08-30 21:00:00+00:00\n",
      "Community Name: ALBANY PARK\n",
      "District: Far North\n",
      "Crime committed: OTHER OFFENSE\n",
      "Location: RESIDENCE\n",
      "Domesic?: False\n",
      "\n",
      "The deep learning model predicts a 4.80% chance of making an arrest\n"
     ]
    }
   ],
   "source": [
    "#Set random seed for reproducibility\n",
    "np.random.seed(84)\n",
    "random_chicago_dl_crime_prediction(model, chicago)"
   ]
  },
  {
   "cell_type": "markdown",
   "id": "d703c977",
   "metadata": {},
   "source": [
    "### Random Instance #4"
   ]
  },
  {
   "cell_type": "code",
   "execution_count": 136,
   "id": "29b10138",
   "metadata": {},
   "outputs": [
    {
     "name": "stdout",
     "output_type": "stream",
     "text": [
      "Crime Details\n",
      "\n",
      "Date: 2018-10-23 22:28:00+00:00\n",
      "Community Name: ENGLEWOOD\n",
      "District: Southwest\n",
      "Crime committed: OTHER OFFENSE\n",
      "Location: APARTMENT\n",
      "Domesic?: False\n",
      "\n",
      "The traditional model predicts a 10.57% chance of making an arrest\n"
     ]
    }
   ],
   "source": [
    "#Set random seed for reproducibility\n",
    "np.random.seed(96)\n",
    "random_chicago_crime_prediction(chicago, best_model)"
   ]
  },
  {
   "cell_type": "code",
   "execution_count": 137,
   "id": "a04682d2",
   "metadata": {},
   "outputs": [
    {
     "name": "stdout",
     "output_type": "stream",
     "text": [
      "Crime Details\n",
      "\n",
      "Date: 2018-10-23 22:28:00+00:00\n",
      "Community Name: ENGLEWOOD\n",
      "District: Southwest\n",
      "Crime committed: OTHER OFFENSE\n",
      "Location: APARTMENT\n",
      "Domesic?: False\n",
      "\n",
      "The deep learning model predicts a 9.86% chance of making an arrest\n"
     ]
    }
   ],
   "source": [
    "#Set random seed for reproducibility\n",
    "np.random.seed(96)\n",
    "random_chicago_dl_crime_prediction(model, chicago)"
   ]
  },
  {
   "cell_type": "markdown",
   "id": "f5cd7e88",
   "metadata": {},
   "source": [
    "### Random Instance #5"
   ]
  },
  {
   "cell_type": "code",
   "execution_count": 142,
   "id": "a61907a7",
   "metadata": {},
   "outputs": [
    {
     "name": "stdout",
     "output_type": "stream",
     "text": [
      "Crime Details\n",
      "\n",
      "Date: 2020-07-08 09:25:00+00:00\n",
      "Community Name: PULLMAN\n",
      "District: Far Southeast\n",
      "Crime committed: NARCOTICS\n",
      "Location: STREET\n",
      "Domesic?: True\n",
      "\n",
      "The traditional model predicts a 99.61% chance of making an arrest\n"
     ]
    }
   ],
   "source": [
    "#Set random seed for reproducibility\n",
    "np.random.seed(53)\n",
    "random_chicago_crime_prediction(chicago, best_model)"
   ]
  },
  {
   "cell_type": "code",
   "execution_count": 143,
   "id": "4e4cb56c",
   "metadata": {},
   "outputs": [
    {
     "name": "stdout",
     "output_type": "stream",
     "text": [
      "Crime Details\n",
      "\n",
      "Date: 2020-07-08 09:25:00+00:00\n",
      "Community Name: PULLMAN\n",
      "District: Far Southeast\n",
      "Crime committed: NARCOTICS\n",
      "Location: STREET\n",
      "Domesic?: True\n",
      "\n",
      "The deep learning model predicts a 93.81% chance of making an arrest\n"
     ]
    }
   ],
   "source": [
    "#Set random seed for reproducibility\n",
    "np.random.seed(53)\n",
    "random_chicago_dl_crime_prediction(model, chicago)"
   ]
  },
  {
   "cell_type": "markdown",
   "id": "f0dfbca3",
   "metadata": {},
   "source": [
    "# Final Comments"
   ]
  },
  {
   "cell_type": "markdown",
   "id": "0c42ef69",
   "metadata": {},
   "source": [
    "We see that overall both the traditional model and the deep learning model give similar results. "
   ]
  }
 ],
 "metadata": {
  "kernelspec": {
   "display_name": "Python 3",
   "language": "python",
   "name": "python3"
  },
  "language_info": {
   "codemirror_mode": {
    "name": "ipython",
    "version": 3
   },
   "file_extension": ".py",
   "mimetype": "text/x-python",
   "name": "python",
   "nbconvert_exporter": "python",
   "pygments_lexer": "ipython3",
   "version": "3.8.8"
  }
 },
 "nbformat": 4,
 "nbformat_minor": 5
}
