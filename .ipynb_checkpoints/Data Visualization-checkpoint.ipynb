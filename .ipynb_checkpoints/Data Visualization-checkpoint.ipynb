{
 "cells": [
  {
   "cell_type": "markdown",
   "id": "2328b0ac",
   "metadata": {},
   "source": [
    "# Setup and Imports"
   ]
  },
  {
   "cell_type": "code",
   "execution_count": 15,
   "id": "dc44ddb7",
   "metadata": {},
   "outputs": [],
   "source": [
    "import pandas as pd\n",
    "import numpy as np\n",
    "import matplotlib.pyplot as plt\n",
    "%matplotlib inline\n",
    "import seaborn as sns\n",
    "sns.set\n",
    "import warnings\n",
    "from pandas.io import gbq\n",
    "#Custom Python Module with functions specifically for this project\n",
    "import ChicagoDataCleaningFunctions as cd"
   ]
  },
  {
   "cell_type": "markdown",
   "id": "f4270651",
   "metadata": {},
   "source": [
    "# Get the Data"
   ]
  },
  {
   "cell_type": "code",
   "execution_count": 8,
   "id": "ab175283",
   "metadata": {},
   "outputs": [],
   "source": [
    "#Read the data in from Google BigQuery\n",
    "chicago_data = \"\"\"\n",
    "                    SELECT unique_key, date, primary_type, location_description, \n",
    "                            arrest, domestic, community_area, year\n",
    "                    FROM `gdac-327115.Chicago.chicago2`\n",
    "                    WHERE year >= 2011\n",
    "               \"\"\"\n",
    "chicago_data = gbq.read_gbq(chicago_data, project_id=\"gdac-327115\")"
   ]
  },
  {
   "cell_type": "code",
   "execution_count": 9,
   "id": "3dc58292",
   "metadata": {},
   "outputs": [],
   "source": [
    "#Read in an Excel file with a one to one mapping between Chicago community areas and districts\n",
    "chicago_districts = pd.read_excel(\"ChicagoCommunityAreas.xlsx\")"
   ]
  },
  {
   "cell_type": "code",
   "execution_count": 10,
   "id": "9447be23",
   "metadata": {},
   "outputs": [],
   "source": [
    "#Data type can't be joined on an int\n",
    "chicago_districts.community_area = chicago_districts[\"community_area\"].astype(\"string\")\n",
    "chicago_data.community_area = chicago_data[\"community_area\"].astype(\"string\")"
   ]
  },
  {
   "cell_type": "code",
   "execution_count": 11,
   "id": "e9281821",
   "metadata": {},
   "outputs": [],
   "source": [
    "#Outer join the two data sets\n",
    "chicago = chicago_data.merge(chicago_districts, how=\"outer\", left_on=\"community_area\", right_on=\"community_area\", )"
   ]
  },
  {
   "cell_type": "code",
   "execution_count": 12,
   "id": "faf9a264",
   "metadata": {},
   "outputs": [],
   "source": [
    "#Drop the community area variable since we have a community name variable\n",
    "chicago.drop(\"community_area\", axis = 1, inplace = True)"
   ]
  },
  {
   "cell_type": "markdown",
   "id": "2c6c4a4e",
   "metadata": {},
   "source": [
    "# Split the Data in Training and Test Sets"
   ]
  },
  {
   "cell_type": "code",
   "execution_count": 13,
   "id": "11e1b3f2",
   "metadata": {},
   "outputs": [],
   "source": [
    "chicago_train = chicago.loc[chicago[\"year\"] != 2021]\n",
    "chicago_test = chicago.loc[chicago[\"year\"] == 2021]"
   ]
  },
  {
   "cell_type": "markdown",
   "id": "cffa8ba4",
   "metadata": {},
   "source": [
    "# Clean the Training Data"
   ]
  },
  {
   "cell_type": "code",
   "execution_count": 14,
   "id": "224454d1",
   "metadata": {},
   "outputs": [
    {
     "data": {
      "text/plain": [
       "unique_key                 0\n",
       "date                       0\n",
       "primary_type               0\n",
       "location_description    7844\n",
       "arrest                     0\n",
       "domestic                   0\n",
       "year                       0\n",
       "district_name            218\n",
       "community_name           218\n",
       "dtype: int64"
      ]
     },
     "execution_count": 14,
     "metadata": {},
     "output_type": "execute_result"
    }
   ],
   "source": [
    "#Check for missing values\n",
    "chicago_train.isnull().sum()"
   ]
  },
  {
   "cell_type": "code",
   "execution_count": 18,
   "id": "c9d071c9",
   "metadata": {},
   "outputs": [
    {
     "name": "stdout",
     "output_type": "stream",
     "text": [
      "Cleaning Started...\n",
      "\n",
      "Successfully Cleaned Primary Type\n",
      "Successfully Imputed Location\n",
      "Successfully Cleaned Location\n",
      "Successfully Added Month Column\n",
      "Successfully Added Hour Column\n",
      "Successfully Cleaned Community\n",
      "\n",
      "Data Set Successfully Cleaned!\n"
     ]
    }
   ],
   "source": [
    "%%capture --no-stdout\n",
    "cd.chicago_data_cleaner(chicago_train, verbose=True)"
   ]
  },
  {
   "cell_type": "code",
   "execution_count": 19,
   "id": "2b2c78fb",
   "metadata": {},
   "outputs": [
    {
     "data": {
      "text/plain": [
       "unique_key              0\n",
       "date                    0\n",
       "primary_type            0\n",
       "location_description    0\n",
       "arrest                  0\n",
       "domestic                0\n",
       "year                    0\n",
       "district_name           0\n",
       "community_name          0\n",
       "Month                   0\n",
       "Hour                    0\n",
       "dtype: int64"
      ]
     },
     "execution_count": 19,
     "metadata": {},
     "output_type": "execute_result"
    }
   ],
   "source": [
    "#Check to make sure the values were cleaned up\n",
    "chicago_train.isnull().sum()"
   ]
  },
  {
   "cell_type": "code",
   "execution_count": 20,
   "id": "d2391aff",
   "metadata": {},
   "outputs": [
    {
     "data": {
      "text/plain": [
       "(2814636, 11)"
      ]
     },
     "execution_count": 20,
     "metadata": {},
     "output_type": "execute_result"
    }
   ],
   "source": [
    "#Check the dimensions\n",
    "chicago_train.shape"
   ]
  },
  {
   "cell_type": "code",
   "execution_count": 21,
   "id": "a3d1463e",
   "metadata": {},
   "outputs": [
    {
     "data": {
      "text/html": [
       "<div>\n",
       "<style scoped>\n",
       "    .dataframe tbody tr th:only-of-type {\n",
       "        vertical-align: middle;\n",
       "    }\n",
       "\n",
       "    .dataframe tbody tr th {\n",
       "        vertical-align: top;\n",
       "    }\n",
       "\n",
       "    .dataframe thead th {\n",
       "        text-align: right;\n",
       "    }\n",
       "</style>\n",
       "<table border=\"1\" class=\"dataframe\">\n",
       "  <thead>\n",
       "    <tr style=\"text-align: right;\">\n",
       "      <th></th>\n",
       "      <th>unique_key</th>\n",
       "      <th>date</th>\n",
       "      <th>primary_type</th>\n",
       "      <th>location_description</th>\n",
       "      <th>arrest</th>\n",
       "      <th>domestic</th>\n",
       "      <th>year</th>\n",
       "      <th>district_name</th>\n",
       "      <th>community_name</th>\n",
       "      <th>Month</th>\n",
       "      <th>Hour</th>\n",
       "    </tr>\n",
       "  </thead>\n",
       "  <tbody>\n",
       "    <tr>\n",
       "      <th>0</th>\n",
       "      <td>10225218</td>\n",
       "      <td>2015-09-05 23:00:00+00:00</td>\n",
       "      <td>ROBBERY</td>\n",
       "      <td>CTA</td>\n",
       "      <td>False</td>\n",
       "      <td>False</td>\n",
       "      <td>2015</td>\n",
       "      <td>Far Southeast</td>\n",
       "      <td>RIVERDALE</td>\n",
       "      <td>9</td>\n",
       "      <td>23</td>\n",
       "    </tr>\n",
       "    <tr>\n",
       "      <th>1</th>\n",
       "      <td>10341077</td>\n",
       "      <td>2015-12-10 05:15:00+00:00</td>\n",
       "      <td>BURGLARY</td>\n",
       "      <td>RESIDENCE</td>\n",
       "      <td>False</td>\n",
       "      <td>False</td>\n",
       "      <td>2015</td>\n",
       "      <td>Far Southeast</td>\n",
       "      <td>RIVERDALE</td>\n",
       "      <td>12</td>\n",
       "      <td>5</td>\n",
       "    </tr>\n",
       "    <tr>\n",
       "      <th>2</th>\n",
       "      <td>11861007</td>\n",
       "      <td>2019-10-14 22:47:00+00:00</td>\n",
       "      <td>OTHER OFFENSE</td>\n",
       "      <td>STREET</td>\n",
       "      <td>True</td>\n",
       "      <td>False</td>\n",
       "      <td>2019</td>\n",
       "      <td>Far Southeast</td>\n",
       "      <td>RIVERDALE</td>\n",
       "      <td>10</td>\n",
       "      <td>22</td>\n",
       "    </tr>\n",
       "    <tr>\n",
       "      <th>3</th>\n",
       "      <td>10599541</td>\n",
       "      <td>2016-07-15 22:30:00+00:00</td>\n",
       "      <td>INTERFERENCE WITH PUBLIC OFFICER</td>\n",
       "      <td>PARKING</td>\n",
       "      <td>True</td>\n",
       "      <td>False</td>\n",
       "      <td>2016</td>\n",
       "      <td>Far Southeast</td>\n",
       "      <td>RIVERDALE</td>\n",
       "      <td>7</td>\n",
       "      <td>22</td>\n",
       "    </tr>\n",
       "    <tr>\n",
       "      <th>4</th>\n",
       "      <td>10707134</td>\n",
       "      <td>2016-10-04 17:00:00+00:00</td>\n",
       "      <td>DECEPTIVE PRACTICE</td>\n",
       "      <td>STREET</td>\n",
       "      <td>False</td>\n",
       "      <td>False</td>\n",
       "      <td>2016</td>\n",
       "      <td>Far Southeast</td>\n",
       "      <td>RIVERDALE</td>\n",
       "      <td>10</td>\n",
       "      <td>17</td>\n",
       "    </tr>\n",
       "  </tbody>\n",
       "</table>\n",
       "</div>"
      ],
      "text/plain": [
       "   unique_key                      date                      primary_type  \\\n",
       "0    10225218 2015-09-05 23:00:00+00:00                           ROBBERY   \n",
       "1    10341077 2015-12-10 05:15:00+00:00                          BURGLARY   \n",
       "2    11861007 2019-10-14 22:47:00+00:00                     OTHER OFFENSE   \n",
       "3    10599541 2016-07-15 22:30:00+00:00  INTERFERENCE WITH PUBLIC OFFICER   \n",
       "4    10707134 2016-10-04 17:00:00+00:00                DECEPTIVE PRACTICE   \n",
       "\n",
       "  location_description  arrest  domestic  year  district_name community_name  \\\n",
       "0                  CTA   False     False  2015  Far Southeast      RIVERDALE   \n",
       "1            RESIDENCE   False     False  2015  Far Southeast      RIVERDALE   \n",
       "2               STREET    True     False  2019  Far Southeast      RIVERDALE   \n",
       "3              PARKING    True     False  2016  Far Southeast      RIVERDALE   \n",
       "4               STREET   False     False  2016  Far Southeast      RIVERDALE   \n",
       "\n",
       "   Month  Hour  \n",
       "0      9    23  \n",
       "1     12     5  \n",
       "2     10    22  \n",
       "3      7    22  \n",
       "4     10    17  "
      ]
     },
     "execution_count": 21,
     "metadata": {},
     "output_type": "execute_result"
    }
   ],
   "source": [
    "#Check the first few rows\n",
    "chicago_train.head()"
   ]
  },
  {
   "cell_type": "markdown",
   "id": "a927602d",
   "metadata": {},
   "source": [
    "# Data Visualizations"
   ]
  },
  {
   "cell_type": "markdown",
   "id": "04592320",
   "metadata": {},
   "source": [
    "The purpose of this project is to look at the percentage of crimes that result in an arrest and ultimately predict if an arrest will be made. Therefore, we are only interested in the arrest percentage broken down by each variable."
   ]
  },
  {
   "cell_type": "markdown",
   "id": "f35fd685",
   "metadata": {},
   "source": [
    "## Arrest Percentage"
   ]
  },
  {
   "cell_type": "code",
   "execution_count": 22,
   "id": "8ab13436",
   "metadata": {},
   "outputs": [
    {
     "data": {
      "text/html": [
       "<div>\n",
       "<style scoped>\n",
       "    .dataframe tbody tr th:only-of-type {\n",
       "        vertical-align: middle;\n",
       "    }\n",
       "\n",
       "    .dataframe tbody tr th {\n",
       "        vertical-align: top;\n",
       "    }\n",
       "\n",
       "    .dataframe thead th {\n",
       "        text-align: right;\n",
       "    }\n",
       "</style>\n",
       "<table border=\"1\" class=\"dataframe\">\n",
       "  <thead>\n",
       "    <tr style=\"text-align: right;\">\n",
       "      <th></th>\n",
       "      <th>Arrest</th>\n",
       "      <th>mean</th>\n",
       "    </tr>\n",
       "  </thead>\n",
       "  <tbody>\n",
       "    <tr>\n",
       "      <th>0</th>\n",
       "      <td>False</td>\n",
       "      <td>76.113217</td>\n",
       "    </tr>\n",
       "    <tr>\n",
       "      <th>1</th>\n",
       "      <td>True</td>\n",
       "      <td>23.886783</td>\n",
       "    </tr>\n",
       "  </tbody>\n",
       "</table>\n",
       "</div>"
      ],
      "text/plain": [
       "   Arrest       mean\n",
       "0   False  76.113217\n",
       "1    True  23.886783"
      ]
     },
     "execution_count": 22,
     "metadata": {},
     "output_type": "execute_result"
    }
   ],
   "source": [
    "#Group by arrest while dividing by the number of rows to get the percentage\n",
    "arrest_grp = (chicago_train[\"arrest\"].value_counts() / chicago_train.shape[0]) * 100\n",
    "arrest_grp = pd.DataFrame(arrest_grp).reset_index().rename(columns ={\"index\": \"Arrest\", \"arrest\" : \"mean\"})\n",
    "arrest_grp"
   ]
  },
  {
   "cell_type": "code",
   "execution_count": 23,
   "id": "02313d5e",
   "metadata": {},
   "outputs": [
    {
     "data": {
      "text/plain": [
       "Text(0.5, 0, 'Arrest Status')"
      ]
     },
     "execution_count": 23,
     "metadata": {},
     "output_type": "execute_result"
    },
    {
     "data": {
      "image/png": "[encoded data removed]",
      "text/plain": [
       "<Figure size 720x720 with 1 Axes>"
      ]
     },
     "metadata": {},
     "output_type": "display_data"
    }
   ],
   "source": [
    "#Make a bar chart of the results\n",
    "sns.set(rc = {'figure.figsize':(10,10)})\n",
    "sns.barplot(x=\"Arrest\", y = \"mean\", order = arrest_grp[\"Arrest\"] \\\n",
    "                                            , data = arrest_grp, color = \"blue\")\n",
    "plt.title(\"Arrest Percentage\")\n",
    "plt.ylabel(\"Percentage\")\n",
    "plt.xlabel(\"Arrest Status\")"
   ]
  },
  {
   "cell_type": "markdown",
   "id": "a2d81844",
   "metadata": {},
   "source": [
    "Nearly a quarter of every crime results in an arrest. This large class imbalance will play a factor later when we start building models to predict arrest. "
   ]
  },
  {
   "cell_type": "markdown",
   "id": "dc4c6f6e",
   "metadata": {},
   "source": [
    "## Primary Type"
   ]
  },
  {
   "cell_type": "markdown",
   "id": "1705771e",
   "metadata": {},
   "source": [
    "### Primary Type Ranked By Arrest Percentage"
   ]
  },
  {
   "cell_type": "code",
   "execution_count": 28,
   "id": "a5a26f39",
   "metadata": {},
   "outputs": [
    {
     "data": {
      "text/html": [
       "<div>\n",
       "<style scoped>\n",
       "    .dataframe tbody tr th:only-of-type {\n",
       "        vertical-align: middle;\n",
       "    }\n",
       "\n",
       "    .dataframe tbody tr th {\n",
       "        vertical-align: top;\n",
       "    }\n",
       "\n",
       "    .dataframe thead th {\n",
       "        text-align: right;\n",
       "    }\n",
       "</style>\n",
       "<table border=\"1\" class=\"dataframe\">\n",
       "  <thead>\n",
       "    <tr style=\"text-align: right;\">\n",
       "      <th></th>\n",
       "      <th>Crime</th>\n",
       "      <th>Percentage</th>\n",
       "    </tr>\n",
       "  </thead>\n",
       "  <tbody>\n",
       "    <tr>\n",
       "      <th>0</th>\n",
       "      <td>NARCOTICS</td>\n",
       "      <td>32.969125</td>\n",
       "    </tr>\n",
       "    <tr>\n",
       "      <th>1</th>\n",
       "      <td>BATTERY</td>\n",
       "      <td>16.684912</td>\n",
       "    </tr>\n",
       "    <tr>\n",
       "      <th>2</th>\n",
       "      <td>THEFT</td>\n",
       "      <td>9.946365</td>\n",
       "    </tr>\n",
       "    <tr>\n",
       "      <th>3</th>\n",
       "      <td>CRIMINAL TRESPASS</td>\n",
       "      <td>6.763386</td>\n",
       "    </tr>\n",
       "    <tr>\n",
       "      <th>4</th>\n",
       "      <td>ASSAULT</td>\n",
       "      <td>5.858021</td>\n",
       "    </tr>\n",
       "    <tr>\n",
       "      <th>5</th>\n",
       "      <td>OTHER OFFENSE</td>\n",
       "      <td>5.134116</td>\n",
       "    </tr>\n",
       "    <tr>\n",
       "      <th>6</th>\n",
       "      <td>WEAPONS VIOLATION</td>\n",
       "      <td>5.056624</td>\n",
       "    </tr>\n",
       "    <tr>\n",
       "      <th>7</th>\n",
       "      <td>CRIMINAL DAMAGE</td>\n",
       "      <td>2.831513</td>\n",
       "    </tr>\n",
       "    <tr>\n",
       "      <th>8</th>\n",
       "      <td>PUBLIC PEACE VIOLATION</td>\n",
       "      <td>2.334879</td>\n",
       "    </tr>\n",
       "    <tr>\n",
       "      <th>9</th>\n",
       "      <td>DECEPTIVE PRACTICE</td>\n",
       "      <td>2.167550</td>\n",
       "    </tr>\n",
       "    <tr>\n",
       "      <th>10</th>\n",
       "      <td>PROSTITUTION</td>\n",
       "      <td>1.843897</td>\n",
       "    </tr>\n",
       "    <tr>\n",
       "      <th>11</th>\n",
       "      <td>INTERFERENCE WITH PUBLIC OFFICER</td>\n",
       "      <td>1.662289</td>\n",
       "    </tr>\n",
       "    <tr>\n",
       "      <th>12</th>\n",
       "      <td>ROBBERY</td>\n",
       "      <td>1.483655</td>\n",
       "    </tr>\n",
       "    <tr>\n",
       "      <th>13</th>\n",
       "      <td>BURGLARY</td>\n",
       "      <td>1.230653</td>\n",
       "    </tr>\n",
       "    <tr>\n",
       "      <th>14</th>\n",
       "      <td>MOTOR VEHICLE THEFT</td>\n",
       "      <td>1.184693</td>\n",
       "    </tr>\n",
       "    <tr>\n",
       "      <th>15</th>\n",
       "      <td>OFFENSE INVOLVING CHILDREN</td>\n",
       "      <td>0.565499</td>\n",
       "    </tr>\n",
       "    <tr>\n",
       "      <th>16</th>\n",
       "      <td>GAMBLING</td>\n",
       "      <td>0.520581</td>\n",
       "    </tr>\n",
       "    <tr>\n",
       "      <th>17</th>\n",
       "      <td>LIQUOR LAW VIOLATION</td>\n",
       "      <td>0.500055</td>\n",
       "    </tr>\n",
       "    <tr>\n",
       "      <th>18</th>\n",
       "      <td>SEX OFFENSE</td>\n",
       "      <td>0.341352</td>\n",
       "    </tr>\n",
       "    <tr>\n",
       "      <th>19</th>\n",
       "      <td>HOMICIDE</td>\n",
       "      <td>0.326479</td>\n",
       "    </tr>\n",
       "    <tr>\n",
       "      <th>20</th>\n",
       "      <td>CRIMINAL SEXUAL ASSAULT</td>\n",
       "      <td>0.253448</td>\n",
       "    </tr>\n",
       "    <tr>\n",
       "      <th>21</th>\n",
       "      <td>CONCEALED CARRY LICENSE VIOLATION</td>\n",
       "      <td>0.096084</td>\n",
       "    </tr>\n",
       "    <tr>\n",
       "      <th>22</th>\n",
       "      <td>ARSON</td>\n",
       "      <td>0.065444</td>\n",
       "    </tr>\n",
       "    <tr>\n",
       "      <th>23</th>\n",
       "      <td>OBSCENITY</td>\n",
       "      <td>0.060090</td>\n",
       "    </tr>\n",
       "    <tr>\n",
       "      <th>24</th>\n",
       "      <td>STALKING</td>\n",
       "      <td>0.040159</td>\n",
       "    </tr>\n",
       "    <tr>\n",
       "      <th>25</th>\n",
       "      <td>INTIMIDATION</td>\n",
       "      <td>0.030789</td>\n",
       "    </tr>\n",
       "    <tr>\n",
       "      <th>26</th>\n",
       "      <td>KIDNAPPING</td>\n",
       "      <td>0.026921</td>\n",
       "    </tr>\n",
       "    <tr>\n",
       "      <th>27</th>\n",
       "      <td>PUBLIC INDECENCY</td>\n",
       "      <td>0.017551</td>\n",
       "    </tr>\n",
       "    <tr>\n",
       "      <th>28</th>\n",
       "      <td>NON-CRIMINAL</td>\n",
       "      <td>0.002975</td>\n",
       "    </tr>\n",
       "    <tr>\n",
       "      <th>29</th>\n",
       "      <td>HUMAN TRAFFICKING</td>\n",
       "      <td>0.000892</td>\n",
       "    </tr>\n",
       "  </tbody>\n",
       "</table>\n",
       "</div>"
      ],
      "text/plain": [
       "                                Crime  Percentage\n",
       "0                           NARCOTICS   32.969125\n",
       "1                             BATTERY   16.684912\n",
       "2                               THEFT    9.946365\n",
       "3                   CRIMINAL TRESPASS    6.763386\n",
       "4                             ASSAULT    5.858021\n",
       "5                       OTHER OFFENSE    5.134116\n",
       "6                   WEAPONS VIOLATION    5.056624\n",
       "7                     CRIMINAL DAMAGE    2.831513\n",
       "8              PUBLIC PEACE VIOLATION    2.334879\n",
       "9                  DECEPTIVE PRACTICE    2.167550\n",
       "10                       PROSTITUTION    1.843897\n",
       "11   INTERFERENCE WITH PUBLIC OFFICER    1.662289\n",
       "12                            ROBBERY    1.483655\n",
       "13                           BURGLARY    1.230653\n",
       "14                MOTOR VEHICLE THEFT    1.184693\n",
       "15         OFFENSE INVOLVING CHILDREN    0.565499\n",
       "16                           GAMBLING    0.520581\n",
       "17               LIQUOR LAW VIOLATION    0.500055\n",
       "18                        SEX OFFENSE    0.341352\n",
       "19                           HOMICIDE    0.326479\n",
       "20            CRIMINAL SEXUAL ASSAULT    0.253448\n",
       "21  CONCEALED CARRY LICENSE VIOLATION    0.096084\n",
       "22                              ARSON    0.065444\n",
       "23                          OBSCENITY    0.060090\n",
       "24                           STALKING    0.040159\n",
       "25                       INTIMIDATION    0.030789\n",
       "26                         KIDNAPPING    0.026921\n",
       "27                   PUBLIC INDECENCY    0.017551\n",
       "28                       NON-CRIMINAL    0.002975\n",
       "29                  HUMAN TRAFFICKING    0.000892"
      ]
     },
     "execution_count": 28,
     "metadata": {},
     "output_type": "execute_result"
    }
   ],
   "source": [
    "mask = chicago_train[\"arrest\"] == True\n",
    "crm_by_arrest = chicago_train.loc[mask, \"primary_type\"].value_counts() / chicago_train[mask].shape[0] * 100\n",
    "crm_by_arrest = pd.DataFrame(crm_by_arrest).reset_index().rename(columns ={\"index\": \"Crime\", \"primary_type\" : \"Percentage\"})\n",
    "crm_by_arrest"
   ]
  },
  {
   "cell_type": "code",
   "execution_count": 29,
   "id": "4b423986",
   "metadata": {},
   "outputs": [
    {
     "data": {
      "text/plain": [
       "Text(0.5, 0, 'Percentage')"
      ]
     },
     "execution_count": 29,
     "metadata": {},
     "output_type": "execute_result"
    },
    {
     "data": {
      "image/png": "[encoded data removed]",
      "text/plain": [
       "<Figure size 720x720 with 1 Axes>"
      ]
     },
     "metadata": {},
     "output_type": "display_data"
    }
   ],
   "source": [
    "sns.set(rc = {'figure.figsize':(10,10)})\n",
    "sns.barplot(x=\"Percentage\", y = \"Crime\", order = crm_by_arrest[\"Crime\"] \\\n",
    "                                            , data = crm_by_arrest, color = \"blue\")\n",
    "plt.title(\"Crime Type Ranked By Arrest Percentage\")\n",
    "plt.ylabel(\"Crime Type\")\n",
    "plt.xlabel(\"Percentage\")"
   ]
  },
  {
   "cell_type": "markdown",
   "id": "28fc9a2d",
   "metadata": {},
   "source": [
    "### Arrest Percentage By Primary Type"
   ]
  },
  {
   "cell_type": "code",
   "execution_count": 30,
   "id": "f1a3f563",
   "metadata": {},
   "outputs": [
    {
     "data": {
      "text/html": [
       "<div>\n",
       "<style scoped>\n",
       "    .dataframe tbody tr th:only-of-type {\n",
       "        vertical-align: middle;\n",
       "    }\n",
       "\n",
       "    .dataframe tbody tr th {\n",
       "        vertical-align: top;\n",
       "    }\n",
       "\n",
       "    .dataframe thead th {\n",
       "        text-align: right;\n",
       "    }\n",
       "</style>\n",
       "<table border=\"1\" class=\"dataframe\">\n",
       "  <thead>\n",
       "    <tr style=\"text-align: right;\">\n",
       "      <th></th>\n",
       "      <th>primary_type</th>\n",
       "      <th>mean</th>\n",
       "      <th>sum</th>\n",
       "    </tr>\n",
       "  </thead>\n",
       "  <tbody>\n",
       "    <tr>\n",
       "      <th>0</th>\n",
       "      <td>PUBLIC INDECENCY</td>\n",
       "      <td>100.0</td>\n",
       "      <td>118</td>\n",
       "    </tr>\n",
       "    <tr>\n",
       "      <th>1</th>\n",
       "      <td>GAMBLING</td>\n",
       "      <td>99.800399</td>\n",
       "      <td>3500</td>\n",
       "    </tr>\n",
       "    <tr>\n",
       "      <th>2</th>\n",
       "      <td>PROSTITUTION</td>\n",
       "      <td>99.670365</td>\n",
       "      <td>12397</td>\n",
       "    </tr>\n",
       "    <tr>\n",
       "      <th>3</th>\n",
       "      <td>NARCOTICS</td>\n",
       "      <td>99.646208</td>\n",
       "      <td>221660</td>\n",
       "    </tr>\n",
       "    <tr>\n",
       "      <th>4</th>\n",
       "      <td>LIQUOR LAW VIOLATION</td>\n",
       "      <td>98.67919</td>\n",
       "      <td>3362</td>\n",
       "    </tr>\n",
       "    <tr>\n",
       "      <th>5</th>\n",
       "      <td>CONCEALED CARRY LICENSE VIOLATION</td>\n",
       "      <td>96.706587</td>\n",
       "      <td>646</td>\n",
       "    </tr>\n",
       "    <tr>\n",
       "      <th>6</th>\n",
       "      <td>INTERFERENCE WITH PUBLIC OFFICER</td>\n",
       "      <td>94.768083</td>\n",
       "      <td>11176</td>\n",
       "    </tr>\n",
       "    <tr>\n",
       "      <th>7</th>\n",
       "      <td>OBSCENITY</td>\n",
       "      <td>78.294574</td>\n",
       "      <td>404</td>\n",
       "    </tr>\n",
       "    <tr>\n",
       "      <th>8</th>\n",
       "      <td>WEAPONS VIOLATION</td>\n",
       "      <td>74.11598</td>\n",
       "      <td>33997</td>\n",
       "    </tr>\n",
       "    <tr>\n",
       "      <th>9</th>\n",
       "      <td>PUBLIC PEACE VIOLATION</td>\n",
       "      <td>71.916804</td>\n",
       "      <td>15698</td>\n",
       "    </tr>\n",
       "    <tr>\n",
       "      <th>10</th>\n",
       "      <td>CRIMINAL TRESPASS</td>\n",
       "      <td>64.992496</td>\n",
       "      <td>45472</td>\n",
       "    </tr>\n",
       "    <tr>\n",
       "      <th>11</th>\n",
       "      <td>HOMICIDE</td>\n",
       "      <td>38.719351</td>\n",
       "      <td>2195</td>\n",
       "    </tr>\n",
       "    <tr>\n",
       "      <th>12</th>\n",
       "      <td>BATTERY</td>\n",
       "      <td>21.897381</td>\n",
       "      <td>112177</td>\n",
       "    </tr>\n",
       "    <tr>\n",
       "      <th>13</th>\n",
       "      <td>SEX OFFENSE</td>\n",
       "      <td>21.307214</td>\n",
       "      <td>2295</td>\n",
       "    </tr>\n",
       "    <tr>\n",
       "      <th>14</th>\n",
       "      <td>ASSAULT</td>\n",
       "      <td>20.780351</td>\n",
       "      <td>39385</td>\n",
       "    </tr>\n",
       "    <tr>\n",
       "      <th>15</th>\n",
       "      <td>OTHER OFFENSE</td>\n",
       "      <td>20.144615</td>\n",
       "      <td>34518</td>\n",
       "    </tr>\n",
       "    <tr>\n",
       "      <th>16</th>\n",
       "      <td>OFFENSE INVOLVING CHILDREN</td>\n",
       "      <td>16.277079</td>\n",
       "      <td>3802</td>\n",
       "    </tr>\n",
       "    <tr>\n",
       "      <th>17</th>\n",
       "      <td>STALKING</td>\n",
       "      <td>14.697877</td>\n",
       "      <td>270</td>\n",
       "    </tr>\n",
       "    <tr>\n",
       "      <th>18</th>\n",
       "      <td>INTIMIDATION</td>\n",
       "      <td>14.02439</td>\n",
       "      <td>207</td>\n",
       "    </tr>\n",
       "    <tr>\n",
       "      <th>19</th>\n",
       "      <td>CRIMINAL SEXUAL ASSAULT</td>\n",
       "      <td>11.474747</td>\n",
       "      <td>1704</td>\n",
       "    </tr>\n",
       "    <tr>\n",
       "      <th>20</th>\n",
       "      <td>THEFT</td>\n",
       "      <td>10.515176</td>\n",
       "      <td>66872</td>\n",
       "    </tr>\n",
       "    <tr>\n",
       "      <th>21</th>\n",
       "      <td>ARSON</td>\n",
       "      <td>9.817046</td>\n",
       "      <td>440</td>\n",
       "    </tr>\n",
       "    <tr>\n",
       "      <th>22</th>\n",
       "      <td>NON-CRIMINAL</td>\n",
       "      <td>9.259259</td>\n",
       "      <td>20</td>\n",
       "    </tr>\n",
       "    <tr>\n",
       "      <th>23</th>\n",
       "      <td>ROBBERY</td>\n",
       "      <td>9.228677</td>\n",
       "      <td>9975</td>\n",
       "    </tr>\n",
       "    <tr>\n",
       "      <th>24</th>\n",
       "      <td>KIDNAPPING</td>\n",
       "      <td>9.018435</td>\n",
       "      <td>181</td>\n",
       "    </tr>\n",
       "    <tr>\n",
       "      <th>25</th>\n",
       "      <td>HUMAN TRAFFICKING</td>\n",
       "      <td>8.695652</td>\n",
       "      <td>6</td>\n",
       "    </tr>\n",
       "    <tr>\n",
       "      <th>26</th>\n",
       "      <td>DECEPTIVE PRACTICE</td>\n",
       "      <td>8.689767</td>\n",
       "      <td>14573</td>\n",
       "    </tr>\n",
       "    <tr>\n",
       "      <th>27</th>\n",
       "      <td>MOTOR VEHICLE THEFT</td>\n",
       "      <td>6.637113</td>\n",
       "      <td>7965</td>\n",
       "    </tr>\n",
       "    <tr>\n",
       "      <th>28</th>\n",
       "      <td>CRIMINAL DAMAGE</td>\n",
       "      <td>6.347423</td>\n",
       "      <td>19037</td>\n",
       "    </tr>\n",
       "    <tr>\n",
       "      <th>29</th>\n",
       "      <td>BURGLARY</td>\n",
       "      <td>5.425325</td>\n",
       "      <td>8274</td>\n",
       "    </tr>\n",
       "  </tbody>\n",
       "</table>\n",
       "</div>"
      ],
      "text/plain": [
       "                         primary_type       mean     sum\n",
       "0                    PUBLIC INDECENCY      100.0     118\n",
       "1                            GAMBLING  99.800399    3500\n",
       "2                        PROSTITUTION  99.670365   12397\n",
       "3                           NARCOTICS  99.646208  221660\n",
       "4                LIQUOR LAW VIOLATION   98.67919    3362\n",
       "5   CONCEALED CARRY LICENSE VIOLATION  96.706587     646\n",
       "6    INTERFERENCE WITH PUBLIC OFFICER  94.768083   11176\n",
       "7                           OBSCENITY  78.294574     404\n",
       "8                   WEAPONS VIOLATION   74.11598   33997\n",
       "9              PUBLIC PEACE VIOLATION  71.916804   15698\n",
       "10                  CRIMINAL TRESPASS  64.992496   45472\n",
       "11                           HOMICIDE  38.719351    2195\n",
       "12                            BATTERY  21.897381  112177\n",
       "13                        SEX OFFENSE  21.307214    2295\n",
       "14                            ASSAULT  20.780351   39385\n",
       "15                      OTHER OFFENSE  20.144615   34518\n",
       "16         OFFENSE INVOLVING CHILDREN  16.277079    3802\n",
       "17                           STALKING  14.697877     270\n",
       "18                       INTIMIDATION   14.02439     207\n",
       "19            CRIMINAL SEXUAL ASSAULT  11.474747    1704\n",
       "20                              THEFT  10.515176   66872\n",
       "21                              ARSON   9.817046     440\n",
       "22                       NON-CRIMINAL   9.259259      20\n",
       "23                            ROBBERY   9.228677    9975\n",
       "24                         KIDNAPPING   9.018435     181\n",
       "25                  HUMAN TRAFFICKING   8.695652       6\n",
       "26                 DECEPTIVE PRACTICE   8.689767   14573\n",
       "27                MOTOR VEHICLE THEFT   6.637113    7965\n",
       "28                    CRIMINAL DAMAGE   6.347423   19037\n",
       "29                           BURGLARY   5.425325    8274"
      ]
     },
     "execution_count": 30,
     "metadata": {},
     "output_type": "execute_result"
    }
   ],
   "source": [
    "#Group by primary type while summarizing arrest\n",
    "crime_grp = chicago_train.groupby(\"primary_type\")[\"arrest\"].aggregate([\"mean\", \"sum\"]).sort_values(by=\"mean\", ascending=False)\n",
    "crime_grp = crime_grp.reset_index()\n",
    "#Change it to a percentage\n",
    "crime_grp[\"mean\"] *= 100\n",
    "crime_grp"
   ]
  },
  {
   "cell_type": "code",
   "execution_count": 31,
   "id": "4634046b",
   "metadata": {},
   "outputs": [
    {
     "data": {
      "text/plain": [
       "Text(0.5, 0, 'Percentage')"
      ]
     },
     "execution_count": 31,
     "metadata": {},
     "output_type": "execute_result"
    },
    {
     "data": {
      "image/png": "[encoded data removed]",
      "text/plain": [
       "<Figure size 1080x864 with 1 Axes>"
      ]
     },
     "metadata": {},
     "output_type": "display_data"
    }
   ],
   "source": [
    "#Make a bar chart showing the results\n",
    "sns.set(rc = {'figure.figsize':(15,12)})\n",
    "sns.barplot(x=\"mean\", y = \"primary_type\", order = crime_grp[\"primary_type\"], data = crime_grp, color = \"blue\")\n",
    "plt.title(\"Arrest Percentage By Crime Type\")\n",
    "plt.ylabel(\"Crime Type\")\n",
    "plt.xlabel(\"Percentage\")"
   ]
  },
  {
   "cell_type": "markdown",
   "id": "f4a115fc",
   "metadata": {},
   "source": [
    "Interestingly, Narcotic crimes rank 4th of most occurrences and are also 4th in arrest percentage with 99.65%."
   ]
  },
  {
   "cell_type": "code",
   "execution_count": null,
   "id": "c8376dc8",
   "metadata": {},
   "outputs": [],
   "source": []
  },
  {
   "cell_type": "code",
   "execution_count": null,
   "id": "ddce5d38",
   "metadata": {},
   "outputs": [],
   "source": []
  },
  {
   "cell_type": "code",
   "execution_count": null,
   "id": "81185a07",
   "metadata": {},
   "outputs": [],
   "source": []
  },
  {
   "cell_type": "code",
   "execution_count": null,
   "id": "b4a68b91",
   "metadata": {},
   "outputs": [],
   "source": []
  }
 ],
 "metadata": {
  "kernelspec": {
   "display_name": "Python 3",
   "language": "python",
   "name": "python3"
  },
  "language_info": {
   "codemirror_mode": {
    "name": "ipython",
    "version": 3
   },
   "file_extension": ".py",
   "mimetype": "text/x-python",
   "name": "python",
   "nbconvert_exporter": "python",
   "pygments_lexer": "ipython3",
   "version": "3.8.8"
  }
 },
 "nbformat": 4,
 "nbformat_minor": 5
}
