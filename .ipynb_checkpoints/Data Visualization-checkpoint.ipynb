{
 "cells": [
  {
   "cell_type": "markdown",
   "id": "479174e9",
   "metadata": {},
   "source": [
    "# Setup and Imports"
   ]
  },
  {
   "cell_type": "code",
   "execution_count": 1,
   "id": "b2415d95",
   "metadata": {},
   "outputs": [],
   "source": [
    "import pandas as pd\n",
    "import numpy as np\n",
    "import matplotlib.pyplot as plt\n",
    "%matplotlib inline\n",
    "import seaborn as sns\n",
    "sns.set\n",
    "import warnings\n",
    "#Custom Python Module with functions specifically for this project\n",
    "import ChicagoDataCleaningFunctions as cdcf"
   ]
  },
  {
   "cell_type": "markdown",
   "id": "c9cbfbf5",
   "metadata": {},
   "source": [
    "# Get the Data"
   ]
  },
  {
   "cell_type": "code",
   "execution_count": null,
   "id": "2fa6c19e",
   "metadata": {},
   "outputs": [],
   "source": [
    "chicago_data = \"\"\"\n",
    "                    SELECT unique_key, date, primary_type, location_description, \n",
    "                            arrest, domestic, community_area, year\n",
    "                    FROM `gdac-327115.Chicago.chicago2`\n",
    "                    WHERE year >= 2011\n",
    "               \"\"\"\n",
    "chicago_data = gbq.read_gbq(chicago_data, project_id=\"gdac-327115\")"
   ]
  }
 ],
 "metadata": {
  "kernelspec": {
   "display_name": "Python 3",
   "language": "python",
   "name": "python3"
  },
  "language_info": {
   "codemirror_mode": {
    "name": "ipython",
    "version": 3
   },
   "file_extension": ".py",
   "mimetype": "text/x-python",
   "name": "python",
   "nbconvert_exporter": "python",
   "pygments_lexer": "ipython3",
   "version": "3.8.8"
  }
 },
 "nbformat": 4,
 "nbformat_minor": 5
}
