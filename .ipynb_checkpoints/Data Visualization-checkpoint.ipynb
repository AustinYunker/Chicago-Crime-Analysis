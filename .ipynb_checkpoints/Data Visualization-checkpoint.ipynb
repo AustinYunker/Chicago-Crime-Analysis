{
 "cells": [
  {
   "cell_type": "markdown",
   "id": "758f5b75",
   "metadata": {},
   "source": [
    "# Setup and Imports"
   ]
  },
  {
   "cell_type": "code",
   "execution_count": 15,
   "id": "cbf0278f",
   "metadata": {},
   "outputs": [],
   "source": [
    "import pandas as pd\n",
    "import numpy as np\n",
    "import matplotlib.pyplot as plt\n",
    "%matplotlib inline\n",
    "import seaborn as sns\n",
    "sns.set\n",
    "import warnings\n",
    "from pandas.io import gbq\n",
    "#Custom Python Module with functions specifically for this project\n",
    "import ChicagoDataCleaningFunctions as cd"
   ]
  },
  {
   "cell_type": "markdown",
   "id": "138105c5",
   "metadata": {},
   "source": [
    "# Get the Data"
   ]
  },
  {
   "cell_type": "code",
   "execution_count": 8,
   "id": "916cfe02",
   "metadata": {},
   "outputs": [],
   "source": [
    "#Read the data in from Google BigQuery\n",
    "chicago_data = \"\"\"\n",
    "                    SELECT unique_key, date, primary_type, location_description, \n",
    "                            arrest, domestic, community_area, year\n",
    "                    FROM `gdac-327115.Chicago.chicago2`\n",
    "                    WHERE year >= 2011\n",
    "               \"\"\"\n",
    "chicago_data = gbq.read_gbq(chicago_data, project_id=\"gdac-327115\")"
   ]
  },
  {
   "cell_type": "code",
   "execution_count": 9,
   "id": "01403bfc",
   "metadata": {},
   "outputs": [],
   "source": [
    "#Read in an Excel file with a one to one mapping between Chicago community areas and districts\n",
    "chicago_districts = pd.read_excel(\"ChicagoCommunityAreas.xlsx\")"
   ]
  },
  {
   "cell_type": "code",
   "execution_count": 10,
   "id": "c424354e",
   "metadata": {},
   "outputs": [],
   "source": [
    "#Data type can't be joined on an int\n",
    "chicago_districts.community_area = chicago_districts[\"community_area\"].astype(\"string\")\n",
    "chicago_data.community_area = chicago_data[\"community_area\"].astype(\"string\")"
   ]
  },
  {
   "cell_type": "code",
   "execution_count": 11,
   "id": "fb291d8e",
   "metadata": {},
   "outputs": [],
   "source": [
    "#Outer join the two data sets\n",
    "chicago = chicago_data.merge(chicago_districts, how=\"outer\", left_on=\"community_area\", right_on=\"community_area\", )"
   ]
  },
  {
   "cell_type": "code",
   "execution_count": 12,
   "id": "78c32d87",
   "metadata": {},
   "outputs": [],
   "source": [
    "#Drop the community area variable since we have a community name variable\n",
    "chicago.drop(\"community_area\", axis = 1, inplace = True)"
   ]
  },
  {
   "cell_type": "markdown",
   "id": "a71e8443",
   "metadata": {},
   "source": [
    "# Split the Data in Training and Test Sets"
   ]
  },
  {
   "cell_type": "code",
   "execution_count": 13,
   "id": "d487833b",
   "metadata": {},
   "outputs": [],
   "source": [
    "chicago_train = chicago.loc[chicago[\"year\"] != 2021]\n",
    "chicago_test = chicago.loc[chicago[\"year\"] == 2021]"
   ]
  },
  {
   "cell_type": "markdown",
   "id": "f72778cd",
   "metadata": {},
   "source": [
    "# Clean the Training Data"
   ]
  },
  {
   "cell_type": "code",
   "execution_count": 14,
   "id": "bb3b9c0c",
   "metadata": {},
   "outputs": [
    {
     "data": {
      "text/plain": [
       "unique_key                 0\n",
       "date                       0\n",
       "primary_type               0\n",
       "location_description    7844\n",
       "arrest                     0\n",
       "domestic                   0\n",
       "year                       0\n",
       "district_name            218\n",
       "community_name           218\n",
       "dtype: int64"
      ]
     },
     "execution_count": 14,
     "metadata": {},
     "output_type": "execute_result"
    }
   ],
   "source": [
    "#Check for missing values\n",
    "chicago_train.isnull().sum()"
   ]
  },
  {
   "cell_type": "code",
   "execution_count": 18,
   "id": "2516a0fc",
   "metadata": {},
   "outputs": [
    {
     "name": "stdout",
     "output_type": "stream",
     "text": [
      "Cleaning Started...\n",
      "\n",
      "Successfully Cleaned Primary Type\n",
      "Successfully Imputed Location\n",
      "Successfully Cleaned Location\n",
      "Successfully Added Month Column\n",
      "Successfully Added Hour Column\n",
      "Successfully Cleaned Community\n",
      "\n",
      "Data Set Successfully Cleaned!\n"
     ]
    }
   ],
   "source": [
    "%%capture --no-stdout\n",
    "cd.chicago_data_cleaner(chicago_train, verbose=True)"
   ]
  },
  {
   "cell_type": "code",
   "execution_count": 19,
   "id": "8d213cdc",
   "metadata": {},
   "outputs": [
    {
     "data": {
      "text/plain": [
       "unique_key              0\n",
       "date                    0\n",
       "primary_type            0\n",
       "location_description    0\n",
       "arrest                  0\n",
       "domestic                0\n",
       "year                    0\n",
       "district_name           0\n",
       "community_name          0\n",
       "Month                   0\n",
       "Hour                    0\n",
       "dtype: int64"
      ]
     },
     "execution_count": 19,
     "metadata": {},
     "output_type": "execute_result"
    }
   ],
   "source": [
    "#Check to make sure the values were cleaned up\n",
    "chicago_train.isnull().sum()"
   ]
  },
  {
   "cell_type": "code",
   "execution_count": 20,
   "id": "8caedb4c",
   "metadata": {},
   "outputs": [
    {
     "data": {
      "text/plain": [
       "(2814636, 11)"
      ]
     },
     "execution_count": 20,
     "metadata": {},
     "output_type": "execute_result"
    }
   ],
   "source": [
    "#Check the dimensions\n",
    "chicago_train.shape"
   ]
  },
  {
   "cell_type": "code",
   "execution_count": 21,
   "id": "b31f4fd1",
   "metadata": {},
   "outputs": [
    {
     "data": {
      "text/html": [
       "<div>\n",
       "<style scoped>\n",
       "    .dataframe tbody tr th:only-of-type {\n",
       "        vertical-align: middle;\n",
       "    }\n",
       "\n",
       "    .dataframe tbody tr th {\n",
       "        vertical-align: top;\n",
       "    }\n",
       "\n",
       "    .dataframe thead th {\n",
       "        text-align: right;\n",
       "    }\n",
       "</style>\n",
       "<table border=\"1\" class=\"dataframe\">\n",
       "  <thead>\n",
       "    <tr style=\"text-align: right;\">\n",
       "      <th></th>\n",
       "      <th>unique_key</th>\n",
       "      <th>date</th>\n",
       "      <th>primary_type</th>\n",
       "      <th>location_description</th>\n",
       "      <th>arrest</th>\n",
       "      <th>domestic</th>\n",
       "      <th>year</th>\n",
       "      <th>district_name</th>\n",
       "      <th>community_name</th>\n",
       "      <th>Month</th>\n",
       "      <th>Hour</th>\n",
       "    </tr>\n",
       "  </thead>\n",
       "  <tbody>\n",
       "    <tr>\n",
       "      <th>0</th>\n",
       "      <td>10225218</td>\n",
       "      <td>2015-09-05 23:00:00+00:00</td>\n",
       "      <td>ROBBERY</td>\n",
       "      <td>CTA</td>\n",
       "      <td>False</td>\n",
       "      <td>False</td>\n",
       "      <td>2015</td>\n",
       "      <td>Far Southeast</td>\n",
       "      <td>RIVERDALE</td>\n",
       "      <td>9</td>\n",
       "      <td>23</td>\n",
       "    </tr>\n",
       "    <tr>\n",
       "      <th>1</th>\n",
       "      <td>10341077</td>\n",
       "      <td>2015-12-10 05:15:00+00:00</td>\n",
       "      <td>BURGLARY</td>\n",
       "      <td>RESIDENCE</td>\n",
       "      <td>False</td>\n",
       "      <td>False</td>\n",
       "      <td>2015</td>\n",
       "      <td>Far Southeast</td>\n",
       "      <td>RIVERDALE</td>\n",
       "      <td>12</td>\n",
       "      <td>5</td>\n",
       "    </tr>\n",
       "    <tr>\n",
       "      <th>2</th>\n",
       "      <td>11861007</td>\n",
       "      <td>2019-10-14 22:47:00+00:00</td>\n",
       "      <td>OTHER OFFENSE</td>\n",
       "      <td>STREET</td>\n",
       "      <td>True</td>\n",
       "      <td>False</td>\n",
       "      <td>2019</td>\n",
       "      <td>Far Southeast</td>\n",
       "      <td>RIVERDALE</td>\n",
       "      <td>10</td>\n",
       "      <td>22</td>\n",
       "    </tr>\n",
       "    <tr>\n",
       "      <th>3</th>\n",
       "      <td>10599541</td>\n",
       "      <td>2016-07-15 22:30:00+00:00</td>\n",
       "      <td>INTERFERENCE WITH PUBLIC OFFICER</td>\n",
       "      <td>PARKING</td>\n",
       "      <td>True</td>\n",
       "      <td>False</td>\n",
       "      <td>2016</td>\n",
       "      <td>Far Southeast</td>\n",
       "      <td>RIVERDALE</td>\n",
       "      <td>7</td>\n",
       "      <td>22</td>\n",
       "    </tr>\n",
       "    <tr>\n",
       "      <th>4</th>\n",
       "      <td>10707134</td>\n",
       "      <td>2016-10-04 17:00:00+00:00</td>\n",
       "      <td>DECEPTIVE PRACTICE</td>\n",
       "      <td>STREET</td>\n",
       "      <td>False</td>\n",
       "      <td>False</td>\n",
       "      <td>2016</td>\n",
       "      <td>Far Southeast</td>\n",
       "      <td>RIVERDALE</td>\n",
       "      <td>10</td>\n",
       "      <td>17</td>\n",
       "    </tr>\n",
       "  </tbody>\n",
       "</table>\n",
       "</div>"
      ],
      "text/plain": [
       "   unique_key                      date                      primary_type  \\\n",
       "0    10225218 2015-09-05 23:00:00+00:00                           ROBBERY   \n",
       "1    10341077 2015-12-10 05:15:00+00:00                          BURGLARY   \n",
       "2    11861007 2019-10-14 22:47:00+00:00                     OTHER OFFENSE   \n",
       "3    10599541 2016-07-15 22:30:00+00:00  INTERFERENCE WITH PUBLIC OFFICER   \n",
       "4    10707134 2016-10-04 17:00:00+00:00                DECEPTIVE PRACTICE   \n",
       "\n",
       "  location_description  arrest  domestic  year  district_name community_name  \\\n",
       "0                  CTA   False     False  2015  Far Southeast      RIVERDALE   \n",
       "1            RESIDENCE   False     False  2015  Far Southeast      RIVERDALE   \n",
       "2               STREET    True     False  2019  Far Southeast      RIVERDALE   \n",
       "3              PARKING    True     False  2016  Far Southeast      RIVERDALE   \n",
       "4               STREET   False     False  2016  Far Southeast      RIVERDALE   \n",
       "\n",
       "   Month  Hour  \n",
       "0      9    23  \n",
       "1     12     5  \n",
       "2     10    22  \n",
       "3      7    22  \n",
       "4     10    17  "
      ]
     },
     "execution_count": 21,
     "metadata": {},
     "output_type": "execute_result"
    }
   ],
   "source": [
    "#Check the first few rows\n",
    "chicago_train.head()"
   ]
  },
  {
   "cell_type": "markdown",
   "id": "c2825570",
   "metadata": {},
   "source": [
    "# Data Visualizations"
   ]
  },
  {
   "cell_type": "markdown",
   "id": "19ef2644",
   "metadata": {},
   "source": [
    "The purpose of this project is to look at the percentage of crimes that result in an arrest and ultimately predict if an arrest will be made. Therefore, we are only interested in the arrest percentage broken down by each variable."
   ]
  },
  {
   "cell_type": "markdown",
   "id": "9ec8972c",
   "metadata": {},
   "source": [
    "## Arrest Percentage"
   ]
  },
  {
   "cell_type": "code",
   "execution_count": 22,
   "id": "1bdb1327",
   "metadata": {},
   "outputs": [
    {
     "data": {
      "text/html": [
       "<div>\n",
       "<style scoped>\n",
       "    .dataframe tbody tr th:only-of-type {\n",
       "        vertical-align: middle;\n",
       "    }\n",
       "\n",
       "    .dataframe tbody tr th {\n",
       "        vertical-align: top;\n",
       "    }\n",
       "\n",
       "    .dataframe thead th {\n",
       "        text-align: right;\n",
       "    }\n",
       "</style>\n",
       "<table border=\"1\" class=\"dataframe\">\n",
       "  <thead>\n",
       "    <tr style=\"text-align: right;\">\n",
       "      <th></th>\n",
       "      <th>Arrest</th>\n",
       "      <th>mean</th>\n",
       "    </tr>\n",
       "  </thead>\n",
       "  <tbody>\n",
       "    <tr>\n",
       "      <th>0</th>\n",
       "      <td>False</td>\n",
       "      <td>76.113217</td>\n",
       "    </tr>\n",
       "    <tr>\n",
       "      <th>1</th>\n",
       "      <td>True</td>\n",
       "      <td>23.886783</td>\n",
       "    </tr>\n",
       "  </tbody>\n",
       "</table>\n",
       "</div>"
      ],
      "text/plain": [
       "   Arrest       mean\n",
       "0   False  76.113217\n",
       "1    True  23.886783"
      ]
     },
     "execution_count": 22,
     "metadata": {},
     "output_type": "execute_result"
    }
   ],
   "source": [
    "#Group by arrest while dividing by the number of rows to get the percentage\n",
    "arrest_grp = (chicago_train[\"arrest\"].value_counts() / chicago_train.shape[0]) * 100\n",
    "arrest_grp = pd.DataFrame(arrest_grp).reset_index().rename(columns ={\"index\": \"Arrest\", \"arrest\" : \"mean\"})\n",
    "arrest_grp"
   ]
  },
  {
   "cell_type": "code",
   "execution_count": 23,
   "id": "9a495651",
   "metadata": {},
   "outputs": [
    {
     "data": {
      "text/plain": [
       "Text(0.5, 0, 'Arrest Status')"
      ]
     },
     "execution_count": 23,
     "metadata": {},
     "output_type": "execute_result"
    },
    {
     "data": {
      "image/png": "[encoded data removed]",
      "text/plain": [
       "<Figure size 720x720 with 1 Axes>"
      ]
     },
     "metadata": {},
     "output_type": "display_data"
    }
   ],
   "source": [
    "#Make a bar chart of the results\n",
    "sns.set(rc = {'figure.figsize':(10,10)})\n",
    "sns.barplot(x=\"Arrest\", y = \"mean\", order = arrest_grp[\"Arrest\"] \\\n",
    "                                            , data = arrest_grp, color = \"blue\")\n",
    "plt.title(\"Arrest Percentage\")\n",
    "plt.ylabel(\"Percentage\")\n",
    "plt.xlabel(\"Arrest Status\")"
   ]
  },
  {
   "cell_type": "markdown",
   "id": "8941cb89",
   "metadata": {},
   "source": [
    "Nearly a quarter of every crime results in an arrest. This large class imbalance will play a factor later when we start building models to predict arrest. "
   ]
  },
  {
   "cell_type": "markdown",
   "id": "659c3b10",
   "metadata": {},
   "source": [
    "## Primary Type"
   ]
  },
  {
   "cell_type": "markdown",
   "id": "ac826926",
   "metadata": {},
   "source": [
    "### Primary Type Ranked By Arrest Percentage"
   ]
  },
  {
   "cell_type": "code",
   "execution_count": 37,
   "id": "7aa2fa20",
   "metadata": {},
   "outputs": [
    {
     "data": {
      "text/html": [
       "<div>\n",
       "<style scoped>\n",
       "    .dataframe tbody tr th:only-of-type {\n",
       "        vertical-align: middle;\n",
       "    }\n",
       "\n",
       "    .dataframe tbody tr th {\n",
       "        vertical-align: top;\n",
       "    }\n",
       "\n",
       "    .dataframe thead th {\n",
       "        text-align: right;\n",
       "    }\n",
       "</style>\n",
       "<table border=\"1\" class=\"dataframe\">\n",
       "  <thead>\n",
       "    <tr style=\"text-align: right;\">\n",
       "      <th></th>\n",
       "      <th>Crime</th>\n",
       "      <th>Percentage</th>\n",
       "    </tr>\n",
       "  </thead>\n",
       "  <tbody>\n",
       "    <tr>\n",
       "      <th>0</th>\n",
       "      <td>NARCOTICS</td>\n",
       "      <td>32.969125</td>\n",
       "    </tr>\n",
       "    <tr>\n",
       "      <th>1</th>\n",
       "      <td>BATTERY</td>\n",
       "      <td>16.684912</td>\n",
       "    </tr>\n",
       "    <tr>\n",
       "      <th>2</th>\n",
       "      <td>THEFT</td>\n",
       "      <td>9.946365</td>\n",
       "    </tr>\n",
       "    <tr>\n",
       "      <th>3</th>\n",
       "      <td>CRIMINAL TRESPASS</td>\n",
       "      <td>6.763386</td>\n",
       "    </tr>\n",
       "    <tr>\n",
       "      <th>4</th>\n",
       "      <td>ASSAULT</td>\n",
       "      <td>5.858021</td>\n",
       "    </tr>\n",
       "    <tr>\n",
       "      <th>5</th>\n",
       "      <td>OTHER OFFENSE</td>\n",
       "      <td>5.134116</td>\n",
       "    </tr>\n",
       "    <tr>\n",
       "      <th>6</th>\n",
       "      <td>WEAPONS VIOLATION</td>\n",
       "      <td>5.056624</td>\n",
       "    </tr>\n",
       "    <tr>\n",
       "      <th>7</th>\n",
       "      <td>CRIMINAL DAMAGE</td>\n",
       "      <td>2.831513</td>\n",
       "    </tr>\n",
       "    <tr>\n",
       "      <th>8</th>\n",
       "      <td>PUBLIC PEACE VIOLATION</td>\n",
       "      <td>2.334879</td>\n",
       "    </tr>\n",
       "    <tr>\n",
       "      <th>9</th>\n",
       "      <td>DECEPTIVE PRACTICE</td>\n",
       "      <td>2.167550</td>\n",
       "    </tr>\n",
       "    <tr>\n",
       "      <th>10</th>\n",
       "      <td>PROSTITUTION</td>\n",
       "      <td>1.843897</td>\n",
       "    </tr>\n",
       "    <tr>\n",
       "      <th>11</th>\n",
       "      <td>INTERFERENCE WITH PUBLIC OFFICER</td>\n",
       "      <td>1.662289</td>\n",
       "    </tr>\n",
       "    <tr>\n",
       "      <th>12</th>\n",
       "      <td>ROBBERY</td>\n",
       "      <td>1.483655</td>\n",
       "    </tr>\n",
       "    <tr>\n",
       "      <th>13</th>\n",
       "      <td>BURGLARY</td>\n",
       "      <td>1.230653</td>\n",
       "    </tr>\n",
       "    <tr>\n",
       "      <th>14</th>\n",
       "      <td>MOTOR VEHICLE THEFT</td>\n",
       "      <td>1.184693</td>\n",
       "    </tr>\n",
       "    <tr>\n",
       "      <th>15</th>\n",
       "      <td>OFFENSE INVOLVING CHILDREN</td>\n",
       "      <td>0.565499</td>\n",
       "    </tr>\n",
       "    <tr>\n",
       "      <th>16</th>\n",
       "      <td>GAMBLING</td>\n",
       "      <td>0.520581</td>\n",
       "    </tr>\n",
       "    <tr>\n",
       "      <th>17</th>\n",
       "      <td>LIQUOR LAW VIOLATION</td>\n",
       "      <td>0.500055</td>\n",
       "    </tr>\n",
       "    <tr>\n",
       "      <th>18</th>\n",
       "      <td>SEX OFFENSE</td>\n",
       "      <td>0.341352</td>\n",
       "    </tr>\n",
       "    <tr>\n",
       "      <th>19</th>\n",
       "      <td>HOMICIDE</td>\n",
       "      <td>0.326479</td>\n",
       "    </tr>\n",
       "    <tr>\n",
       "      <th>20</th>\n",
       "      <td>CRIMINAL SEXUAL ASSAULT</td>\n",
       "      <td>0.253448</td>\n",
       "    </tr>\n",
       "    <tr>\n",
       "      <th>21</th>\n",
       "      <td>CONCEALED CARRY LICENSE VIOLATION</td>\n",
       "      <td>0.096084</td>\n",
       "    </tr>\n",
       "    <tr>\n",
       "      <th>22</th>\n",
       "      <td>ARSON</td>\n",
       "      <td>0.065444</td>\n",
       "    </tr>\n",
       "    <tr>\n",
       "      <th>23</th>\n",
       "      <td>OBSCENITY</td>\n",
       "      <td>0.060090</td>\n",
       "    </tr>\n",
       "    <tr>\n",
       "      <th>24</th>\n",
       "      <td>STALKING</td>\n",
       "      <td>0.040159</td>\n",
       "    </tr>\n",
       "    <tr>\n",
       "      <th>25</th>\n",
       "      <td>INTIMIDATION</td>\n",
       "      <td>0.030789</td>\n",
       "    </tr>\n",
       "    <tr>\n",
       "      <th>26</th>\n",
       "      <td>KIDNAPPING</td>\n",
       "      <td>0.026921</td>\n",
       "    </tr>\n",
       "    <tr>\n",
       "      <th>27</th>\n",
       "      <td>PUBLIC INDECENCY</td>\n",
       "      <td>0.017551</td>\n",
       "    </tr>\n",
       "    <tr>\n",
       "      <th>28</th>\n",
       "      <td>NON-CRIMINAL</td>\n",
       "      <td>0.002975</td>\n",
       "    </tr>\n",
       "    <tr>\n",
       "      <th>29</th>\n",
       "      <td>HUMAN TRAFFICKING</td>\n",
       "      <td>0.000892</td>\n",
       "    </tr>\n",
       "  </tbody>\n",
       "</table>\n",
       "</div>"
      ],
      "text/plain": [
       "                                Crime  Percentage\n",
       "0                           NARCOTICS   32.969125\n",
       "1                             BATTERY   16.684912\n",
       "2                               THEFT    9.946365\n",
       "3                   CRIMINAL TRESPASS    6.763386\n",
       "4                             ASSAULT    5.858021\n",
       "5                       OTHER OFFENSE    5.134116\n",
       "6                   WEAPONS VIOLATION    5.056624\n",
       "7                     CRIMINAL DAMAGE    2.831513\n",
       "8              PUBLIC PEACE VIOLATION    2.334879\n",
       "9                  DECEPTIVE PRACTICE    2.167550\n",
       "10                       PROSTITUTION    1.843897\n",
       "11   INTERFERENCE WITH PUBLIC OFFICER    1.662289\n",
       "12                            ROBBERY    1.483655\n",
       "13                           BURGLARY    1.230653\n",
       "14                MOTOR VEHICLE THEFT    1.184693\n",
       "15         OFFENSE INVOLVING CHILDREN    0.565499\n",
       "16                           GAMBLING    0.520581\n",
       "17               LIQUOR LAW VIOLATION    0.500055\n",
       "18                        SEX OFFENSE    0.341352\n",
       "19                           HOMICIDE    0.326479\n",
       "20            CRIMINAL SEXUAL ASSAULT    0.253448\n",
       "21  CONCEALED CARRY LICENSE VIOLATION    0.096084\n",
       "22                              ARSON    0.065444\n",
       "23                          OBSCENITY    0.060090\n",
       "24                           STALKING    0.040159\n",
       "25                       INTIMIDATION    0.030789\n",
       "26                         KIDNAPPING    0.026921\n",
       "27                   PUBLIC INDECENCY    0.017551\n",
       "28                       NON-CRIMINAL    0.002975\n",
       "29                  HUMAN TRAFFICKING    0.000892"
      ]
     },
     "execution_count": 37,
     "metadata": {},
     "output_type": "execute_result"
    }
   ],
   "source": [
    "#Create boolean for only incidents that resulted in an arrest\n",
    "mask = chicago_train[\"arrest\"] == True\n",
    "\n",
    "#Ceate a the percentages of crimes based on the filtered data set\n",
    "crm_by_arrest = chicago_train.loc[mask, \"primary_type\"].value_counts() / chicago_train[mask].shape[0] * 100\n",
    "\n",
    "#Put the result into a data set\n",
    "crm_by_arrest = pd.DataFrame(crm_by_arrest).reset_index().rename(columns ={\"index\": \"Crime\", \"primary_type\" : \"Percentage\"})\n",
    "crm_by_arrest"
   ]
  },
  {
   "cell_type": "code",
   "execution_count": 38,
   "id": "9f18e289",
   "metadata": {
    "scrolled": false
   },
   "outputs": [
    {
     "data": {
      "text/plain": [
       "Text(0.5, 0, 'Percentage')"
      ]
     },
     "execution_count": 38,
     "metadata": {},
     "output_type": "execute_result"
    },
    {
     "data": {
      "image/png": "[encoded data removed]",
      "text/plain": [
       "<Figure size 720x720 with 1 Axes>"
      ]
     },
     "metadata": {},
     "output_type": "display_data"
    }
   ],
   "source": [
    "sns.set(rc = {'figure.figsize':(10,10)})\n",
    "sns.barplot(x=\"Percentage\", y = \"Crime\", order = crm_by_arrest[\"Crime\"] \\\n",
    "                                            , data = crm_by_arrest, color = \"blue\")\n",
    "plt.title(\"Crime Type Ranked By Arrest Percentage\")\n",
    "plt.ylabel(\"Crime Type\")\n",
    "plt.xlabel(\"Percentage\")"
   ]
  },
  {
   "cell_type": "markdown",
   "id": "2ce0c937",
   "metadata": {},
   "source": [
    "We see that nearly a third of all arrests made have been for Narcotics. "
   ]
  },
  {
   "cell_type": "markdown",
   "id": "68b33d36",
   "metadata": {},
   "source": [
    "### Arrest Percentage By Primary Type"
   ]
  },
  {
   "cell_type": "code",
   "execution_count": 30,
   "id": "36b95970",
   "metadata": {},
   "outputs": [
    {
     "data": {
      "text/html": [
       "<div>\n",
       "<style scoped>\n",
       "    .dataframe tbody tr th:only-of-type {\n",
       "        vertical-align: middle;\n",
       "    }\n",
       "\n",
       "    .dataframe tbody tr th {\n",
       "        vertical-align: top;\n",
       "    }\n",
       "\n",
       "    .dataframe thead th {\n",
       "        text-align: right;\n",
       "    }\n",
       "</style>\n",
       "<table border=\"1\" class=\"dataframe\">\n",
       "  <thead>\n",
       "    <tr style=\"text-align: right;\">\n",
       "      <th></th>\n",
       "      <th>primary_type</th>\n",
       "      <th>mean</th>\n",
       "      <th>sum</th>\n",
       "    </tr>\n",
       "  </thead>\n",
       "  <tbody>\n",
       "    <tr>\n",
       "      <th>0</th>\n",
       "      <td>PUBLIC INDECENCY</td>\n",
       "      <td>100.0</td>\n",
       "      <td>118</td>\n",
       "    </tr>\n",
       "    <tr>\n",
       "      <th>1</th>\n",
       "      <td>GAMBLING</td>\n",
       "      <td>99.800399</td>\n",
       "      <td>3500</td>\n",
       "    </tr>\n",
       "    <tr>\n",
       "      <th>2</th>\n",
       "      <td>PROSTITUTION</td>\n",
       "      <td>99.670365</td>\n",
       "      <td>12397</td>\n",
       "    </tr>\n",
       "    <tr>\n",
       "      <th>3</th>\n",
       "      <td>NARCOTICS</td>\n",
       "      <td>99.646208</td>\n",
       "      <td>221660</td>\n",
       "    </tr>\n",
       "    <tr>\n",
       "      <th>4</th>\n",
       "      <td>LIQUOR LAW VIOLATION</td>\n",
       "      <td>98.67919</td>\n",
       "      <td>3362</td>\n",
       "    </tr>\n",
       "    <tr>\n",
       "      <th>5</th>\n",
       "      <td>CONCEALED CARRY LICENSE VIOLATION</td>\n",
       "      <td>96.706587</td>\n",
       "      <td>646</td>\n",
       "    </tr>\n",
       "    <tr>\n",
       "      <th>6</th>\n",
       "      <td>INTERFERENCE WITH PUBLIC OFFICER</td>\n",
       "      <td>94.768083</td>\n",
       "      <td>11176</td>\n",
       "    </tr>\n",
       "    <tr>\n",
       "      <th>7</th>\n",
       "      <td>OBSCENITY</td>\n",
       "      <td>78.294574</td>\n",
       "      <td>404</td>\n",
       "    </tr>\n",
       "    <tr>\n",
       "      <th>8</th>\n",
       "      <td>WEAPONS VIOLATION</td>\n",
       "      <td>74.11598</td>\n",
       "      <td>33997</td>\n",
       "    </tr>\n",
       "    <tr>\n",
       "      <th>9</th>\n",
       "      <td>PUBLIC PEACE VIOLATION</td>\n",
       "      <td>71.916804</td>\n",
       "      <td>15698</td>\n",
       "    </tr>\n",
       "    <tr>\n",
       "      <th>10</th>\n",
       "      <td>CRIMINAL TRESPASS</td>\n",
       "      <td>64.992496</td>\n",
       "      <td>45472</td>\n",
       "    </tr>\n",
       "    <tr>\n",
       "      <th>11</th>\n",
       "      <td>HOMICIDE</td>\n",
       "      <td>38.719351</td>\n",
       "      <td>2195</td>\n",
       "    </tr>\n",
       "    <tr>\n",
       "      <th>12</th>\n",
       "      <td>BATTERY</td>\n",
       "      <td>21.897381</td>\n",
       "      <td>112177</td>\n",
       "    </tr>\n",
       "    <tr>\n",
       "      <th>13</th>\n",
       "      <td>SEX OFFENSE</td>\n",
       "      <td>21.307214</td>\n",
       "      <td>2295</td>\n",
       "    </tr>\n",
       "    <tr>\n",
       "      <th>14</th>\n",
       "      <td>ASSAULT</td>\n",
       "      <td>20.780351</td>\n",
       "      <td>39385</td>\n",
       "    </tr>\n",
       "    <tr>\n",
       "      <th>15</th>\n",
       "      <td>OTHER OFFENSE</td>\n",
       "      <td>20.144615</td>\n",
       "      <td>34518</td>\n",
       "    </tr>\n",
       "    <tr>\n",
       "      <th>16</th>\n",
       "      <td>OFFENSE INVOLVING CHILDREN</td>\n",
       "      <td>16.277079</td>\n",
       "      <td>3802</td>\n",
       "    </tr>\n",
       "    <tr>\n",
       "      <th>17</th>\n",
       "      <td>STALKING</td>\n",
       "      <td>14.697877</td>\n",
       "      <td>270</td>\n",
       "    </tr>\n",
       "    <tr>\n",
       "      <th>18</th>\n",
       "      <td>INTIMIDATION</td>\n",
       "      <td>14.02439</td>\n",
       "      <td>207</td>\n",
       "    </tr>\n",
       "    <tr>\n",
       "      <th>19</th>\n",
       "      <td>CRIMINAL SEXUAL ASSAULT</td>\n",
       "      <td>11.474747</td>\n",
       "      <td>1704</td>\n",
       "    </tr>\n",
       "    <tr>\n",
       "      <th>20</th>\n",
       "      <td>THEFT</td>\n",
       "      <td>10.515176</td>\n",
       "      <td>66872</td>\n",
       "    </tr>\n",
       "    <tr>\n",
       "      <th>21</th>\n",
       "      <td>ARSON</td>\n",
       "      <td>9.817046</td>\n",
       "      <td>440</td>\n",
       "    </tr>\n",
       "    <tr>\n",
       "      <th>22</th>\n",
       "      <td>NON-CRIMINAL</td>\n",
       "      <td>9.259259</td>\n",
       "      <td>20</td>\n",
       "    </tr>\n",
       "    <tr>\n",
       "      <th>23</th>\n",
       "      <td>ROBBERY</td>\n",
       "      <td>9.228677</td>\n",
       "      <td>9975</td>\n",
       "    </tr>\n",
       "    <tr>\n",
       "      <th>24</th>\n",
       "      <td>KIDNAPPING</td>\n",
       "      <td>9.018435</td>\n",
       "      <td>181</td>\n",
       "    </tr>\n",
       "    <tr>\n",
       "      <th>25</th>\n",
       "      <td>HUMAN TRAFFICKING</td>\n",
       "      <td>8.695652</td>\n",
       "      <td>6</td>\n",
       "    </tr>\n",
       "    <tr>\n",
       "      <th>26</th>\n",
       "      <td>DECEPTIVE PRACTICE</td>\n",
       "      <td>8.689767</td>\n",
       "      <td>14573</td>\n",
       "    </tr>\n",
       "    <tr>\n",
       "      <th>27</th>\n",
       "      <td>MOTOR VEHICLE THEFT</td>\n",
       "      <td>6.637113</td>\n",
       "      <td>7965</td>\n",
       "    </tr>\n",
       "    <tr>\n",
       "      <th>28</th>\n",
       "      <td>CRIMINAL DAMAGE</td>\n",
       "      <td>6.347423</td>\n",
       "      <td>19037</td>\n",
       "    </tr>\n",
       "    <tr>\n",
       "      <th>29</th>\n",
       "      <td>BURGLARY</td>\n",
       "      <td>5.425325</td>\n",
       "      <td>8274</td>\n",
       "    </tr>\n",
       "  </tbody>\n",
       "</table>\n",
       "</div>"
      ],
      "text/plain": [
       "                         primary_type       mean     sum\n",
       "0                    PUBLIC INDECENCY      100.0     118\n",
       "1                            GAMBLING  99.800399    3500\n",
       "2                        PROSTITUTION  99.670365   12397\n",
       "3                           NARCOTICS  99.646208  221660\n",
       "4                LIQUOR LAW VIOLATION   98.67919    3362\n",
       "5   CONCEALED CARRY LICENSE VIOLATION  96.706587     646\n",
       "6    INTERFERENCE WITH PUBLIC OFFICER  94.768083   11176\n",
       "7                           OBSCENITY  78.294574     404\n",
       "8                   WEAPONS VIOLATION   74.11598   33997\n",
       "9              PUBLIC PEACE VIOLATION  71.916804   15698\n",
       "10                  CRIMINAL TRESPASS  64.992496   45472\n",
       "11                           HOMICIDE  38.719351    2195\n",
       "12                            BATTERY  21.897381  112177\n",
       "13                        SEX OFFENSE  21.307214    2295\n",
       "14                            ASSAULT  20.780351   39385\n",
       "15                      OTHER OFFENSE  20.144615   34518\n",
       "16         OFFENSE INVOLVING CHILDREN  16.277079    3802\n",
       "17                           STALKING  14.697877     270\n",
       "18                       INTIMIDATION   14.02439     207\n",
       "19            CRIMINAL SEXUAL ASSAULT  11.474747    1704\n",
       "20                              THEFT  10.515176   66872\n",
       "21                              ARSON   9.817046     440\n",
       "22                       NON-CRIMINAL   9.259259      20\n",
       "23                            ROBBERY   9.228677    9975\n",
       "24                         KIDNAPPING   9.018435     181\n",
       "25                  HUMAN TRAFFICKING   8.695652       6\n",
       "26                 DECEPTIVE PRACTICE   8.689767   14573\n",
       "27                MOTOR VEHICLE THEFT   6.637113    7965\n",
       "28                    CRIMINAL DAMAGE   6.347423   19037\n",
       "29                           BURGLARY   5.425325    8274"
      ]
     },
     "execution_count": 30,
     "metadata": {},
     "output_type": "execute_result"
    }
   ],
   "source": [
    "#Group by primary type while summarizing arrest\n",
    "crime_grp = chicago_train.groupby(\"primary_type\")[\"arrest\"].aggregate([\"mean\", \"sum\"]).sort_values(by=\"mean\", ascending=False)\n",
    "crime_grp = crime_grp.reset_index()\n",
    "#Change it to a percentage\n",
    "crime_grp[\"mean\"] *= 100\n",
    "crime_grp"
   ]
  },
  {
   "cell_type": "code",
   "execution_count": 31,
   "id": "6647a126",
   "metadata": {},
   "outputs": [
    {
     "data": {
      "text/plain": [
       "Text(0.5, 0, 'Percentage')"
      ]
     },
     "execution_count": 31,
     "metadata": {},
     "output_type": "execute_result"
    },
    {
     "data": {
      "image/png": "[encoded data removed]",
      "text/plain": [
       "<Figure size 1080x864 with 1 Axes>"
      ]
     },
     "metadata": {},
     "output_type": "display_data"
    }
   ],
   "source": [
    "#Make a bar chart showing the results\n",
    "sns.set(rc = {'figure.figsize':(15,12)})\n",
    "sns.barplot(x=\"mean\", y = \"primary_type\", order = crime_grp[\"primary_type\"], data = crime_grp, color = \"blue\")\n",
    "plt.title(\"Arrest Percentage By Crime Type\")\n",
    "plt.ylabel(\"Crime Type\")\n",
    "plt.xlabel(\"Percentage\")"
   ]
  },
  {
   "cell_type": "markdown",
   "id": "8713a17a",
   "metadata": {},
   "source": [
    "Interestingly, Narcotic crimes rank 4th of most occurrences and are also 4th in arrest percentage with 99.65%."
   ]
  },
  {
   "cell_type": "markdown",
   "id": "2958530a",
   "metadata": {},
   "source": [
    "## Location Description"
   ]
  },
  {
   "cell_type": "markdown",
   "id": "bf2aa461",
   "metadata": {},
   "source": [
    "### Location Description Ranked By Arrest Percentage"
   ]
  },
  {
   "cell_type": "code",
   "execution_count": 39,
   "id": "18aa19ae",
   "metadata": {},
   "outputs": [
    {
     "data": {
      "text/html": [
       "<div>\n",
       "<style scoped>\n",
       "    .dataframe tbody tr th:only-of-type {\n",
       "        vertical-align: middle;\n",
       "    }\n",
       "\n",
       "    .dataframe tbody tr th {\n",
       "        vertical-align: top;\n",
       "    }\n",
       "\n",
       "    .dataframe thead th {\n",
       "        text-align: right;\n",
       "    }\n",
       "</style>\n",
       "<table border=\"1\" class=\"dataframe\">\n",
       "  <thead>\n",
       "    <tr style=\"text-align: right;\">\n",
       "      <th></th>\n",
       "      <th>Location</th>\n",
       "      <th>Percentage</th>\n",
       "    </tr>\n",
       "  </thead>\n",
       "  <tbody>\n",
       "    <tr>\n",
       "      <th>0</th>\n",
       "      <td>STREET</td>\n",
       "      <td>23.071546</td>\n",
       "    </tr>\n",
       "    <tr>\n",
       "      <th>1</th>\n",
       "      <td>SIDEWALK</td>\n",
       "      <td>18.982458</td>\n",
       "    </tr>\n",
       "    <tr>\n",
       "      <th>2</th>\n",
       "      <td>RESIDENCE</td>\n",
       "      <td>12.470885</td>\n",
       "    </tr>\n",
       "    <tr>\n",
       "      <th>3</th>\n",
       "      <td>STORE</td>\n",
       "      <td>9.917213</td>\n",
       "    </tr>\n",
       "    <tr>\n",
       "      <th>4</th>\n",
       "      <td>APARTMENT</td>\n",
       "      <td>8.648632</td>\n",
       "    </tr>\n",
       "    <tr>\n",
       "      <th>5</th>\n",
       "      <td>ALLEY</td>\n",
       "      <td>3.716203</td>\n",
       "    </tr>\n",
       "    <tr>\n",
       "      <th>6</th>\n",
       "      <td>PARKING</td>\n",
       "      <td>3.099835</td>\n",
       "    </tr>\n",
       "    <tr>\n",
       "      <th>7</th>\n",
       "      <td>SCHOOL</td>\n",
       "      <td>2.551887</td>\n",
       "    </tr>\n",
       "    <tr>\n",
       "      <th>8</th>\n",
       "      <td>VEHICLE</td>\n",
       "      <td>2.546235</td>\n",
       "    </tr>\n",
       "    <tr>\n",
       "      <th>9</th>\n",
       "      <td>CTA</td>\n",
       "      <td>2.475585</td>\n",
       "    </tr>\n",
       "    <tr>\n",
       "      <th>10</th>\n",
       "      <td>OTHER</td>\n",
       "      <td>2.261849</td>\n",
       "    </tr>\n",
       "    <tr>\n",
       "      <th>11</th>\n",
       "      <td>RESTAURANT</td>\n",
       "      <td>1.966308</td>\n",
       "    </tr>\n",
       "    <tr>\n",
       "      <th>12</th>\n",
       "      <td>GAS STATION</td>\n",
       "      <td>1.801953</td>\n",
       "    </tr>\n",
       "    <tr>\n",
       "      <th>13</th>\n",
       "      <td>PARK PROPERTY</td>\n",
       "      <td>1.021528</td>\n",
       "    </tr>\n",
       "    <tr>\n",
       "      <th>14</th>\n",
       "      <td>POLICE</td>\n",
       "      <td>1.003234</td>\n",
       "    </tr>\n",
       "    <tr>\n",
       "      <th>15</th>\n",
       "      <td>BUILDING</td>\n",
       "      <td>0.907298</td>\n",
       "    </tr>\n",
       "    <tr>\n",
       "      <th>16</th>\n",
       "      <td>VACANT</td>\n",
       "      <td>0.577696</td>\n",
       "    </tr>\n",
       "    <tr>\n",
       "      <th>17</th>\n",
       "      <td>AIRPORT</td>\n",
       "      <td>0.486520</td>\n",
       "    </tr>\n",
       "    <tr>\n",
       "      <th>18</th>\n",
       "      <td>HOSPITAL</td>\n",
       "      <td>0.464507</td>\n",
       "    </tr>\n",
       "    <tr>\n",
       "      <th>19</th>\n",
       "      <td>HOTEL</td>\n",
       "      <td>0.457070</td>\n",
       "    </tr>\n",
       "    <tr>\n",
       "      <th>20</th>\n",
       "      <td>CHA</td>\n",
       "      <td>0.386122</td>\n",
       "    </tr>\n",
       "    <tr>\n",
       "      <th>21</th>\n",
       "      <td>BANK</td>\n",
       "      <td>0.328710</td>\n",
       "    </tr>\n",
       "    <tr>\n",
       "      <th>22</th>\n",
       "      <td>OFFICE</td>\n",
       "      <td>0.304465</td>\n",
       "    </tr>\n",
       "    <tr>\n",
       "      <th>23</th>\n",
       "      <td>SPORTS</td>\n",
       "      <td>0.136838</td>\n",
       "    </tr>\n",
       "    <tr>\n",
       "      <th>24</th>\n",
       "      <td>LIBRARY</td>\n",
       "      <td>0.120775</td>\n",
       "    </tr>\n",
       "    <tr>\n",
       "      <th>25</th>\n",
       "      <td>COLLEGE</td>\n",
       "      <td>0.107240</td>\n",
       "    </tr>\n",
       "    <tr>\n",
       "      <th>26</th>\n",
       "      <td>CHURCH</td>\n",
       "      <td>0.101439</td>\n",
       "    </tr>\n",
       "    <tr>\n",
       "      <th>27</th>\n",
       "      <td>CONSTRUCTION SITE</td>\n",
       "      <td>0.052951</td>\n",
       "    </tr>\n",
       "    <tr>\n",
       "      <th>28</th>\n",
       "      <td>WATER</td>\n",
       "      <td>0.033020</td>\n",
       "    </tr>\n",
       "  </tbody>\n",
       "</table>\n",
       "</div>"
      ],
      "text/plain": [
       "             Location  Percentage\n",
       "0              STREET   23.071546\n",
       "1            SIDEWALK   18.982458\n",
       "2           RESIDENCE   12.470885\n",
       "3               STORE    9.917213\n",
       "4           APARTMENT    8.648632\n",
       "5               ALLEY    3.716203\n",
       "6             PARKING    3.099835\n",
       "7              SCHOOL    2.551887\n",
       "8             VEHICLE    2.546235\n",
       "9                 CTA    2.475585\n",
       "10              OTHER    2.261849\n",
       "11         RESTAURANT    1.966308\n",
       "12        GAS STATION    1.801953\n",
       "13      PARK PROPERTY    1.021528\n",
       "14             POLICE    1.003234\n",
       "15           BUILDING    0.907298\n",
       "16             VACANT    0.577696\n",
       "17            AIRPORT    0.486520\n",
       "18           HOSPITAL    0.464507\n",
       "19              HOTEL    0.457070\n",
       "20                CHA    0.386122\n",
       "21               BANK    0.328710\n",
       "22             OFFICE    0.304465\n",
       "23             SPORTS    0.136838\n",
       "24            LIBRARY    0.120775\n",
       "25            COLLEGE    0.107240\n",
       "26             CHURCH    0.101439\n",
       "27  CONSTRUCTION SITE    0.052951\n",
       "28              WATER    0.033020"
      ]
     },
     "execution_count": 39,
     "metadata": {},
     "output_type": "execute_result"
    }
   ],
   "source": [
    "#Create boolean for only incidents that resulted in an arrest\n",
    "mask = chicago_train[\"arrest\"] == True\n",
    "\n",
    "#Ceate a the percentages of crimes based on the filtered data set\n",
    "loc_by_arrest = chicago_train.loc[mask, \"location_description\"].value_counts() / chicago_train[mask].shape[0] * 100\n",
    "\n",
    "#Put the result into a data set\n",
    "loc_by_arrest = pd.DataFrame(loc_by_arrest).reset_index().rename(columns ={\"index\": \"Location\", \"location_description\" : \"Percentage\"})\n",
    "loc_by_arrest"
   ]
  },
  {
   "cell_type": "code",
   "execution_count": 46,
   "id": "28591026",
   "metadata": {
    "scrolled": false
   },
   "outputs": [
    {
     "data": {
      "text/plain": [
       "Text(0.5, 0, 'Percentage')"
      ]
     },
     "execution_count": 46,
     "metadata": {},
     "output_type": "execute_result"
    },
    {
     "data": {
      "image/png": "[encoded data removed]",
      "text/plain": [
       "<Figure size 720x720 with 1 Axes>"
      ]
     },
     "metadata": {},
     "output_type": "display_data"
    }
   ],
   "source": [
    "sns.set(rc = {'figure.figsize':(10,10)})\n",
    "sns.barplot(x=\"Percentage\", y = \"Location\", order = loc_by_arrest[\"Location\"] \\\n",
    "                                            , data = loc_by_arrest, color = \"blue\")\n",
    "plt.title(\"Location Ranked By Arrest Percentage\")\n",
    "plt.ylabel(\"Location\")\n",
    "plt.xlabel(\"Percentage\")"
   ]
  },
  {
   "cell_type": "markdown",
   "id": "0daee084",
   "metadata": {},
   "source": [
    "The majority of arrests occur on the street. "
   ]
  },
  {
   "cell_type": "markdown",
   "id": "0477d50c",
   "metadata": {},
   "source": [
    "### Location Description By Arrest Percentage"
   ]
  },
  {
   "cell_type": "code",
   "execution_count": 42,
   "id": "e64c8ce3",
   "metadata": {},
   "outputs": [
    {
     "data": {
      "text/html": [
       "<div>\n",
       "<style scoped>\n",
       "    .dataframe tbody tr th:only-of-type {\n",
       "        vertical-align: middle;\n",
       "    }\n",
       "\n",
       "    .dataframe tbody tr th {\n",
       "        vertical-align: top;\n",
       "    }\n",
       "\n",
       "    .dataframe thead th {\n",
       "        text-align: right;\n",
       "    }\n",
       "</style>\n",
       "<table border=\"1\" class=\"dataframe\">\n",
       "  <thead>\n",
       "    <tr style=\"text-align: right;\">\n",
       "      <th></th>\n",
       "      <th>location_description</th>\n",
       "      <th>mean</th>\n",
       "      <th>sum</th>\n",
       "    </tr>\n",
       "  </thead>\n",
       "  <tbody>\n",
       "    <tr>\n",
       "      <th>0</th>\n",
       "      <td>POLICE</td>\n",
       "      <td>66.689737</td>\n",
       "      <td>6745</td>\n",
       "    </tr>\n",
       "    <tr>\n",
       "      <th>1</th>\n",
       "      <td>SIDEWALK</td>\n",
       "      <td>45.96744</td>\n",
       "      <td>127624</td>\n",
       "    </tr>\n",
       "    <tr>\n",
       "      <th>2</th>\n",
       "      <td>ALLEY</td>\n",
       "      <td>42.081417</td>\n",
       "      <td>24985</td>\n",
       "    </tr>\n",
       "    <tr>\n",
       "      <th>3</th>\n",
       "      <td>STORE</td>\n",
       "      <td>38.10558</td>\n",
       "      <td>66676</td>\n",
       "    </tr>\n",
       "    <tr>\n",
       "      <th>4</th>\n",
       "      <td>BUILDING</td>\n",
       "      <td>36.424434</td>\n",
       "      <td>6100</td>\n",
       "    </tr>\n",
       "    <tr>\n",
       "      <th>5</th>\n",
       "      <td>GAS STATION</td>\n",
       "      <td>36.24641</td>\n",
       "      <td>12115</td>\n",
       "    </tr>\n",
       "    <tr>\n",
       "      <th>6</th>\n",
       "      <td>VACANT</td>\n",
       "      <td>35.206672</td>\n",
       "      <td>3884</td>\n",
       "    </tr>\n",
       "    <tr>\n",
       "      <th>7</th>\n",
       "      <td>LIBRARY</td>\n",
       "      <td>32.337714</td>\n",
       "      <td>812</td>\n",
       "    </tr>\n",
       "    <tr>\n",
       "      <th>8</th>\n",
       "      <td>PARK PROPERTY</td>\n",
       "      <td>31.982863</td>\n",
       "      <td>6868</td>\n",
       "    </tr>\n",
       "    <tr>\n",
       "      <th>9</th>\n",
       "      <td>VEHICLE</td>\n",
       "      <td>29.884435</td>\n",
       "      <td>17119</td>\n",
       "    </tr>\n",
       "    <tr>\n",
       "      <th>10</th>\n",
       "      <td>COLLEGE</td>\n",
       "      <td>29.202106</td>\n",
       "      <td>721</td>\n",
       "    </tr>\n",
       "    <tr>\n",
       "      <th>11</th>\n",
       "      <td>CTA</td>\n",
       "      <td>29.179012</td>\n",
       "      <td>16644</td>\n",
       "    </tr>\n",
       "    <tr>\n",
       "      <th>12</th>\n",
       "      <td>SCHOOL</td>\n",
       "      <td>26.61114</td>\n",
       "      <td>17157</td>\n",
       "    </tr>\n",
       "    <tr>\n",
       "      <th>13</th>\n",
       "      <td>CHA</td>\n",
       "      <td>26.568417</td>\n",
       "      <td>2596</td>\n",
       "    </tr>\n",
       "    <tr>\n",
       "      <th>14</th>\n",
       "      <td>AIRPORT</td>\n",
       "      <td>25.445352</td>\n",
       "      <td>3271</td>\n",
       "    </tr>\n",
       "    <tr>\n",
       "      <th>15</th>\n",
       "      <td>STREET</td>\n",
       "      <td>24.25738</td>\n",
       "      <td>155116</td>\n",
       "    </tr>\n",
       "    <tr>\n",
       "      <th>16</th>\n",
       "      <td>HOTEL</td>\n",
       "      <td>23.629373</td>\n",
       "      <td>3073</td>\n",
       "    </tr>\n",
       "    <tr>\n",
       "      <th>17</th>\n",
       "      <td>PARKING</td>\n",
       "      <td>23.593674</td>\n",
       "      <td>20841</td>\n",
       "    </tr>\n",
       "    <tr>\n",
       "      <th>18</th>\n",
       "      <td>RESTAURANT</td>\n",
       "      <td>17.749731</td>\n",
       "      <td>13220</td>\n",
       "    </tr>\n",
       "    <tr>\n",
       "      <th>19</th>\n",
       "      <td>HOSPITAL</td>\n",
       "      <td>16.988522</td>\n",
       "      <td>3123</td>\n",
       "    </tr>\n",
       "    <tr>\n",
       "      <th>20</th>\n",
       "      <td>APARTMENT</td>\n",
       "      <td>15.861459</td>\n",
       "      <td>58147</td>\n",
       "    </tr>\n",
       "    <tr>\n",
       "      <th>21</th>\n",
       "      <td>WATER</td>\n",
       "      <td>13.93597</td>\n",
       "      <td>222</td>\n",
       "    </tr>\n",
       "    <tr>\n",
       "      <th>22</th>\n",
       "      <td>OTHER</td>\n",
       "      <td>13.717672</td>\n",
       "      <td>15207</td>\n",
       "    </tr>\n",
       "    <tr>\n",
       "      <th>23</th>\n",
       "      <td>RESIDENCE</td>\n",
       "      <td>13.212301</td>\n",
       "      <td>83845</td>\n",
       "    </tr>\n",
       "    <tr>\n",
       "      <th>24</th>\n",
       "      <td>SPORTS</td>\n",
       "      <td>12.10845</td>\n",
       "      <td>920</td>\n",
       "    </tr>\n",
       "    <tr>\n",
       "      <th>25</th>\n",
       "      <td>CHURCH</td>\n",
       "      <td>11.304492</td>\n",
       "      <td>682</td>\n",
       "    </tr>\n",
       "    <tr>\n",
       "      <th>26</th>\n",
       "      <td>BANK</td>\n",
       "      <td>11.039512</td>\n",
       "      <td>2210</td>\n",
       "    </tr>\n",
       "    <tr>\n",
       "      <th>27</th>\n",
       "      <td>OFFICE</td>\n",
       "      <td>10.731886</td>\n",
       "      <td>2047</td>\n",
       "    </tr>\n",
       "    <tr>\n",
       "      <th>28</th>\n",
       "      <td>CONSTRUCTION SITE</td>\n",
       "      <td>10.391127</td>\n",
       "      <td>356</td>\n",
       "    </tr>\n",
       "  </tbody>\n",
       "</table>\n",
       "</div>"
      ],
      "text/plain": [
       "   location_description       mean     sum\n",
       "0                POLICE  66.689737    6745\n",
       "1              SIDEWALK   45.96744  127624\n",
       "2                 ALLEY  42.081417   24985\n",
       "3                 STORE   38.10558   66676\n",
       "4              BUILDING  36.424434    6100\n",
       "5           GAS STATION   36.24641   12115\n",
       "6                VACANT  35.206672    3884\n",
       "7               LIBRARY  32.337714     812\n",
       "8         PARK PROPERTY  31.982863    6868\n",
       "9               VEHICLE  29.884435   17119\n",
       "10              COLLEGE  29.202106     721\n",
       "11                  CTA  29.179012   16644\n",
       "12               SCHOOL   26.61114   17157\n",
       "13                  CHA  26.568417    2596\n",
       "14              AIRPORT  25.445352    3271\n",
       "15               STREET   24.25738  155116\n",
       "16                HOTEL  23.629373    3073\n",
       "17              PARKING  23.593674   20841\n",
       "18           RESTAURANT  17.749731   13220\n",
       "19             HOSPITAL  16.988522    3123\n",
       "20            APARTMENT  15.861459   58147\n",
       "21                WATER   13.93597     222\n",
       "22                OTHER  13.717672   15207\n",
       "23            RESIDENCE  13.212301   83845\n",
       "24               SPORTS   12.10845     920\n",
       "25               CHURCH  11.304492     682\n",
       "26                 BANK  11.039512    2210\n",
       "27               OFFICE  10.731886    2047\n",
       "28    CONSTRUCTION SITE  10.391127     356"
      ]
     },
     "execution_count": 42,
     "metadata": {},
     "output_type": "execute_result"
    }
   ],
   "source": [
    "#Group by location while summarizing arrest\n",
    "descrip_grp = chicago_train.groupby(\"location_description\")[\"arrest\"].aggregate([\"mean\", \"sum\"]).sort_values(by=\"mean\", ascending=False)\n",
    "descrip_grp = descrip_grp.reset_index()\n",
    "#Change to percentage\n",
    "descrip_grp[\"mean\"] *= 100\n",
    "descrip_grp"
   ]
  },
  {
   "cell_type": "code",
   "execution_count": 43,
   "id": "92ec2292",
   "metadata": {},
   "outputs": [
    {
     "data": {
      "text/plain": [
       "Text(0.5, 0, 'Percentage')"
      ]
     },
     "execution_count": 43,
     "metadata": {},
     "output_type": "execute_result"
    },
    {
     "data": {
      "image/png": "[encoded data removed]",
      "text/plain": [
       "<Figure size 1080x720 with 1 Axes>"
      ]
     },
     "metadata": {},
     "output_type": "display_data"
    }
   ],
   "source": [
    "#Make a bar chart of the results\n",
    "sns.set(rc = {'figure.figsize':(15,10)})\n",
    "sns.barplot(x=\"mean\", y = \"location_description\", order = descrip_grp[\"location_description\"] \\\n",
    "                                            , data = descrip_grp, color = \"blue\")\n",
    "plt.title(\"Arrest Percentage By Location Description\")\n",
    "plt.ylabel(\"Location Description\")\n",
    "plt.xlabel(\"Percentage\")"
   ]
  },
  {
   "cell_type": "markdown",
   "id": "c5c9e0ee",
   "metadata": {},
   "source": [
    "## Month"
   ]
  },
  {
   "cell_type": "markdown",
   "id": "a8498116",
   "metadata": {},
   "source": [
    "### Month Ranked By Arrest Percentage"
   ]
  },
  {
   "cell_type": "code",
   "execution_count": 91,
   "id": "ab22ca3f",
   "metadata": {},
   "outputs": [
    {
     "data": {
      "text/html": [
       "<div>\n",
       "<style scoped>\n",
       "    .dataframe tbody tr th:only-of-type {\n",
       "        vertical-align: middle;\n",
       "    }\n",
       "\n",
       "    .dataframe tbody tr th {\n",
       "        vertical-align: top;\n",
       "    }\n",
       "\n",
       "    .dataframe thead th {\n",
       "        text-align: right;\n",
       "    }\n",
       "</style>\n",
       "<table border=\"1\" class=\"dataframe\">\n",
       "  <thead>\n",
       "    <tr style=\"text-align: right;\">\n",
       "      <th></th>\n",
       "      <th>Month</th>\n",
       "      <th>Percentage</th>\n",
       "    </tr>\n",
       "  </thead>\n",
       "  <tbody>\n",
       "    <tr>\n",
       "      <th>0</th>\n",
       "      <td>JULY</td>\n",
       "      <td>9.084730</td>\n",
       "    </tr>\n",
       "    <tr>\n",
       "      <th>1</th>\n",
       "      <td>MAY</td>\n",
       "      <td>9.014823</td>\n",
       "    </tr>\n",
       "    <tr>\n",
       "      <th>2</th>\n",
       "      <td>AUG</td>\n",
       "      <td>8.941942</td>\n",
       "    </tr>\n",
       "    <tr>\n",
       "      <th>3</th>\n",
       "      <td>MAR</td>\n",
       "      <td>8.885273</td>\n",
       "    </tr>\n",
       "    <tr>\n",
       "      <th>4</th>\n",
       "      <td>JUNE</td>\n",
       "      <td>8.711399</td>\n",
       "    </tr>\n",
       "    <tr>\n",
       "      <th>5</th>\n",
       "      <td>JAN</td>\n",
       "      <td>8.402025</td>\n",
       "    </tr>\n",
       "    <tr>\n",
       "      <th>6</th>\n",
       "      <td>SEPT</td>\n",
       "      <td>8.305346</td>\n",
       "    </tr>\n",
       "    <tr>\n",
       "      <th>7</th>\n",
       "      <td>APR</td>\n",
       "      <td>8.248231</td>\n",
       "    </tr>\n",
       "    <tr>\n",
       "      <th>8</th>\n",
       "      <td>OCT</td>\n",
       "      <td>8.093693</td>\n",
       "    </tr>\n",
       "    <tr>\n",
       "      <th>9</th>\n",
       "      <td>FEB</td>\n",
       "      <td>7.797259</td>\n",
       "    </tr>\n",
       "    <tr>\n",
       "      <th>10</th>\n",
       "      <td>NOV</td>\n",
       "      <td>7.458138</td>\n",
       "    </tr>\n",
       "    <tr>\n",
       "      <th>11</th>\n",
       "      <td>DEC</td>\n",
       "      <td>7.057142</td>\n",
       "    </tr>\n",
       "  </tbody>\n",
       "</table>\n",
       "</div>"
      ],
      "text/plain": [
       "   Month  Percentage\n",
       "0   JULY    9.084730\n",
       "1    MAY    9.014823\n",
       "2    AUG    8.941942\n",
       "3    MAR    8.885273\n",
       "4   JUNE    8.711399\n",
       "5    JAN    8.402025\n",
       "6   SEPT    8.305346\n",
       "7    APR    8.248231\n",
       "8    OCT    8.093693\n",
       "9    FEB    7.797259\n",
       "10   NOV    7.458138\n",
       "11   DEC    7.057142"
      ]
     },
     "execution_count": 91,
     "metadata": {},
     "output_type": "execute_result"
    }
   ],
   "source": [
    "#Create a months dict\n",
    "mths_dic = {\"Month\" : [1, 2, 3, 4, 5, 6, 7, 8, 9, 10, 11, 12], \n",
    "            \"Month_Name\": [\"JAN\", \"FEB\", \"MAR\", \"APR\", \"MAY\", \"JUNE\", \"JULY\", \"AUG\", \"SEPT\", \"OCT\", \"NOV\", \"DEC\"]}\n",
    "#Create a months dataframe\n",
    "mths_df = pd.DataFrame(mths_dic, columns=[\"Month\", \"Month_Name\"])\n",
    "\n",
    "#Create boolean for only incidents that resulted in an arrest\n",
    "mask = chicago_train[\"arrest\"] == True\n",
    "\n",
    "#Ceate a the percentages of crimes based on the filtered data set\n",
    "mth_by_arrest = chicago_train.loc[mask, \"Month\"].value_counts() / chicago_train[mask].shape[0] * 100\n",
    "\n",
    "#Put the result into a data set\n",
    "mth_by_arrest = pd.DataFrame(mth_by_arrest).reset_index().rename(columns ={\"index\": \"Month\", \"Month\" : \"Percentage\"})\n",
    "#Merge with mths_df to make it easier to know which month is which\n",
    "mth_by_arrest = pd.merge(mth_by_arrest, mths_df).drop(\"Month\", axis = 1).rename(columns={\"Month_Name\":\"Month\"})\n",
    "mth_by_arrest[[\"Month\", \"Percentage\"]]"
   ]
  },
  {
   "cell_type": "code",
   "execution_count": 92,
   "id": "e16d7c2c",
   "metadata": {},
   "outputs": [
    {
     "data": {
      "text/plain": [
       "Text(0.5, 0, 'Percentage')"
      ]
     },
     "execution_count": 92,
     "metadata": {},
     "output_type": "execute_result"
    },
    {
     "data": {
      "image/png": "[encoded data removed]",
      "text/plain": [
       "<Figure size 720x720 with 1 Axes>"
      ]
     },
     "metadata": {},
     "output_type": "display_data"
    }
   ],
   "source": [
    "sns.set(rc = {'figure.figsize':(10,10)})\n",
    "sns.barplot(x=\"Percentage\", y = \"Month\", order = mth_by_arrest[\"Month\"] \\\n",
    "                                            , data = mth_by_arrest, color = \"blue\")\n",
    "plt.title(\"Month Ranked By Arrest Percentage\")\n",
    "plt.ylabel(\"Month\")\n",
    "plt.xlabel(\"Percentage\")"
   ]
  },
  {
   "cell_type": "markdown",
   "id": "335d947a",
   "metadata": {},
   "source": [
    "We can see that the each month provides almost an equal number of arrests overall. "
   ]
  },
  {
   "cell_type": "markdown",
   "id": "1946004b",
   "metadata": {},
   "source": [
    "### Arrest Percentage By Month"
   ]
  },
  {
   "cell_type": "code",
   "execution_count": 96,
   "id": "6b63106c",
   "metadata": {},
   "outputs": [
    {
     "data": {
      "text/html": [
       "<div>\n",
       "<style scoped>\n",
       "    .dataframe tbody tr th:only-of-type {\n",
       "        vertical-align: middle;\n",
       "    }\n",
       "\n",
       "    .dataframe tbody tr th {\n",
       "        vertical-align: top;\n",
       "    }\n",
       "\n",
       "    .dataframe thead th {\n",
       "        text-align: right;\n",
       "    }\n",
       "</style>\n",
       "<table border=\"1\" class=\"dataframe\">\n",
       "  <thead>\n",
       "    <tr style=\"text-align: right;\">\n",
       "      <th></th>\n",
       "      <th>Month</th>\n",
       "      <th>mean</th>\n",
       "      <th>sum</th>\n",
       "    </tr>\n",
       "  </thead>\n",
       "  <tbody>\n",
       "    <tr>\n",
       "      <th>0</th>\n",
       "      <td>JAN</td>\n",
       "      <td>25.346166</td>\n",
       "      <td>56489</td>\n",
       "    </tr>\n",
       "    <tr>\n",
       "      <th>1</th>\n",
       "      <td>FEB</td>\n",
       "      <td>27.038472</td>\n",
       "      <td>52423</td>\n",
       "    </tr>\n",
       "    <tr>\n",
       "      <th>2</th>\n",
       "      <td>MAR</td>\n",
       "      <td>26.31062</td>\n",
       "      <td>59738</td>\n",
       "    </tr>\n",
       "    <tr>\n",
       "      <th>3</th>\n",
       "      <td>APR</td>\n",
       "      <td>24.718405</td>\n",
       "      <td>55455</td>\n",
       "    </tr>\n",
       "    <tr>\n",
       "      <th>4</th>\n",
       "      <td>MAY</td>\n",
       "      <td>24.135185</td>\n",
       "      <td>60609</td>\n",
       "    </tr>\n",
       "    <tr>\n",
       "      <th>5</th>\n",
       "      <td>JUNE</td>\n",
       "      <td>23.172975</td>\n",
       "      <td>58569</td>\n",
       "    </tr>\n",
       "    <tr>\n",
       "      <th>6</th>\n",
       "      <td>JULY</td>\n",
       "      <td>23.132918</td>\n",
       "      <td>61079</td>\n",
       "    </tr>\n",
       "    <tr>\n",
       "      <th>7</th>\n",
       "      <td>AUG</td>\n",
       "      <td>23.004397</td>\n",
       "      <td>60119</td>\n",
       "    </tr>\n",
       "    <tr>\n",
       "      <th>8</th>\n",
       "      <td>SEPT</td>\n",
       "      <td>23.168652</td>\n",
       "      <td>55839</td>\n",
       "    </tr>\n",
       "    <tr>\n",
       "      <th>9</th>\n",
       "      <td>OCT</td>\n",
       "      <td>22.63928</td>\n",
       "      <td>54416</td>\n",
       "    </tr>\n",
       "    <tr>\n",
       "      <th>10</th>\n",
       "      <td>NOV</td>\n",
       "      <td>22.894988</td>\n",
       "      <td>50143</td>\n",
       "    </tr>\n",
       "    <tr>\n",
       "      <th>11</th>\n",
       "      <td>DEC</td>\n",
       "      <td>21.879093</td>\n",
       "      <td>47447</td>\n",
       "    </tr>\n",
       "  </tbody>\n",
       "</table>\n",
       "</div>"
      ],
      "text/plain": [
       "   Month       mean    sum\n",
       "0    JAN  25.346166  56489\n",
       "1    FEB  27.038472  52423\n",
       "2    MAR   26.31062  59738\n",
       "3    APR  24.718405  55455\n",
       "4    MAY  24.135185  60609\n",
       "5   JUNE  23.172975  58569\n",
       "6   JULY  23.132918  61079\n",
       "7    AUG  23.004397  60119\n",
       "8   SEPT  23.168652  55839\n",
       "9    OCT   22.63928  54416\n",
       "10   NOV  22.894988  50143\n",
       "11   DEC  21.879093  47447"
      ]
     },
     "execution_count": 96,
     "metadata": {},
     "output_type": "execute_result"
    }
   ],
   "source": [
    "#Group by month while summarizing arrest\n",
    "month_grp = chicago_train.groupby(\"Month\")[\"arrest\"].aggregate([\"mean\", \"sum\"])\n",
    "month_grp = month_grp.reset_index()\n",
    "month_grp = pd.merge(month_grp, mths_df).drop(\"Month\", axis = 1).rename(columns={\"Month_Name\":\"Month\"})\n",
    "#Change to percentage\n",
    "month_grp[\"mean\"] *= 100\n",
    "month_grp[[\"Month\", \"mean\", \"sum\"]]"
   ]
  },
  {
   "cell_type": "code",
   "execution_count": 97,
   "id": "50a4c427",
   "metadata": {},
   "outputs": [
    {
     "data": {
      "text/plain": [
       "Text(0.5, 0, 'Month')"
      ]
     },
     "execution_count": 97,
     "metadata": {},
     "output_type": "execute_result"
    },
    {
     "data": {
      "image/png": "[encoded data removed]",
      "text/plain": [
       "<Figure size 1080x720 with 1 Axes>"
      ]
     },
     "metadata": {},
     "output_type": "display_data"
    }
   ],
   "source": [
    "#Make a bar chart of the results\n",
    "sns.set(rc = {'figure.figsize':(15,10)})\n",
    "sns.barplot(x=\"Month\", y = \"mean\", order = month_grp[\"Month\"] \\\n",
    "                                            , data = month_grp, color = \"blue\")\n",
    "plt.title(\"Arrest Percentage By Month\")\n",
    "plt.ylabel(\"Percentage\")\n",
    "plt.xlabel(\"Month\")"
   ]
  },
  {
   "cell_type": "markdown",
   "id": "7be9837a",
   "metadata": {},
   "source": [
    "## Hour "
   ]
  },
  {
   "cell_type": "markdown",
   "id": "a5d1096f",
   "metadata": {},
   "source": [
    "### Hour Ranked By Arrest Percentage"
   ]
  },
  {
   "cell_type": "code",
   "execution_count": null,
   "id": "a61f9b1f",
   "metadata": {},
   "outputs": [],
   "source": [
    "#Create boolean for only incidents that resulted in an arrest\n",
    "mask = chicago_train[\"arrest\"] == True\n",
    "\n",
    "#Ceate a the percentages of crimes based on the filtered data set\n",
    "loc_by_arrest = chicago_train.loc[mask, \"location_description\"].value_counts() / chicago_train[mask].shape[0] * 100\n",
    "\n",
    "#Put the result into a data set\n",
    "loc_by_arrest = pd.DataFrame(loc_by_arrest).reset_index().rename(columns ={\"index\": \"Location\", \"location_description\" : \"Percentage\"})\n",
    "loc_by_arrest"
   ]
  },
  {
   "cell_type": "code",
   "execution_count": null,
   "id": "ccede6f5",
   "metadata": {},
   "outputs": [],
   "source": [
    "sns.set(rc = {'figure.figsize':(10,10)})\n",
    "sns.barplot(x=\"Percentage\", y = \"Location\", order = loc_by_arrest[\"Location\"] \\\n",
    "                                            , data = loc_by_arrest, color = \"blue\")\n",
    "plt.title(\"Crime Type Ranked By Arrest Percentage\")\n",
    "plt.ylabel(\"Crime Type\")\n",
    "plt.xlabel(\"Percentage\")"
   ]
  },
  {
   "cell_type": "markdown",
   "id": "ed3b19ba",
   "metadata": {},
   "source": [
    "### Arrest Percentage By Hour"
   ]
  },
  {
   "cell_type": "markdown",
   "id": "0b59c6a5",
   "metadata": {},
   "source": [
    "## Districts"
   ]
  },
  {
   "cell_type": "markdown",
   "id": "fc15fb72",
   "metadata": {},
   "source": [
    "### Districts Ranked By Arrest Percentage"
   ]
  },
  {
   "cell_type": "code",
   "execution_count": null,
   "id": "b53e4555",
   "metadata": {},
   "outputs": [],
   "source": [
    "#Create boolean for only incidents that resulted in an arrest\n",
    "mask = chicago_train[\"arrest\"] == True\n",
    "\n",
    "#Ceate a the percentages of crimes based on the filtered data set\n",
    "loc_by_arrest = chicago_train.loc[mask, \"location_description\"].value_counts() / chicago_train[mask].shape[0] * 100\n",
    "\n",
    "#Put the result into a data set\n",
    "loc_by_arrest = pd.DataFrame(loc_by_arrest).reset_index().rename(columns ={\"index\": \"Location\", \"location_description\" : \"Percentage\"})\n",
    "loc_by_arrest"
   ]
  },
  {
   "cell_type": "code",
   "execution_count": null,
   "id": "5f25f651",
   "metadata": {},
   "outputs": [],
   "source": [
    "sns.set(rc = {'figure.figsize':(10,10)})\n",
    "sns.barplot(x=\"Percentage\", y = \"Location\", order = loc_by_arrest[\"Location\"] \\\n",
    "                                            , data = loc_by_arrest, color = \"blue\")\n",
    "plt.title(\"Crime Type Ranked By Arrest Percentage\")\n",
    "plt.ylabel(\"Crime Type\")\n",
    "plt.xlabel(\"Percentage\")"
   ]
  },
  {
   "cell_type": "markdown",
   "id": "ac50cc57",
   "metadata": {},
   "source": [
    "### Arrest Percentage By Districts"
   ]
  },
  {
   "cell_type": "markdown",
   "id": "d8b4325b",
   "metadata": {},
   "source": [
    "## Community Names"
   ]
  },
  {
   "cell_type": "markdown",
   "id": "b6da6e6e",
   "metadata": {},
   "source": [
    "### Community Names Ranked By Arrest Percentage"
   ]
  },
  {
   "cell_type": "code",
   "execution_count": null,
   "id": "31d2af33",
   "metadata": {},
   "outputs": [],
   "source": [
    "#Create boolean for only incidents that resulted in an arrest\n",
    "mask = chicago_train[\"arrest\"] == True\n",
    "\n",
    "#Ceate a the percentages of crimes based on the filtered data set\n",
    "loc_by_arrest = chicago_train.loc[mask, \"location_description\"].value_counts() / chicago_train[mask].shape[0] * 100\n",
    "\n",
    "#Put the result into a data set\n",
    "loc_by_arrest = pd.DataFrame(loc_by_arrest).reset_index().rename(columns ={\"index\": \"Location\", \"location_description\" : \"Percentage\"})\n",
    "loc_by_arrest"
   ]
  },
  {
   "cell_type": "code",
   "execution_count": null,
   "id": "4809a505",
   "metadata": {},
   "outputs": [],
   "source": [
    "sns.set(rc = {'figure.figsize':(10,10)})\n",
    "sns.barplot(x=\"Percentage\", y = \"Location\", order = loc_by_arrest[\"Location\"] \\\n",
    "                                            , data = loc_by_arrest, color = \"blue\")\n",
    "plt.title(\"Crime Type Ranked By Arrest Percentage\")\n",
    "plt.ylabel(\"Crime Type\")\n",
    "plt.xlabel(\"Percentage\")"
   ]
  },
  {
   "cell_type": "markdown",
   "id": "bc280de6",
   "metadata": {},
   "source": [
    "### Arrest Percentage By Community Names"
   ]
  },
  {
   "cell_type": "markdown",
   "id": "697d6fa2",
   "metadata": {},
   "source": [
    "## Domestic "
   ]
  },
  {
   "cell_type": "markdown",
   "id": "bda7e115",
   "metadata": {},
   "source": [
    "### Domestic Ranked By Arrest Percentage"
   ]
  },
  {
   "cell_type": "code",
   "execution_count": null,
   "id": "9e471474",
   "metadata": {},
   "outputs": [],
   "source": [
    "#Create boolean for only incidents that resulted in an arrest\n",
    "mask = chicago_train[\"arrest\"] == True\n",
    "\n",
    "#Ceate a the percentages of crimes based on the filtered data set\n",
    "loc_by_arrest = chicago_train.loc[mask, \"location_description\"].value_counts() / chicago_train[mask].shape[0] * 100\n",
    "\n",
    "#Put the result into a data set\n",
    "loc_by_arrest = pd.DataFrame(loc_by_arrest).reset_index().rename(columns ={\"index\": \"Location\", \"location_description\" : \"Percentage\"})\n",
    "loc_by_arrest"
   ]
  },
  {
   "cell_type": "code",
   "execution_count": null,
   "id": "4e59ee0d",
   "metadata": {},
   "outputs": [],
   "source": [
    "sns.set(rc = {'figure.figsize':(10,10)})\n",
    "sns.barplot(x=\"Percentage\", y = \"Location\", order = loc_by_arrest[\"Location\"] \\\n",
    "                                            , data = loc_by_arrest, color = \"blue\")\n",
    "plt.title(\"Crime Type Ranked By Arrest Percentage\")\n",
    "plt.ylabel(\"Crime Type\")\n",
    "plt.xlabel(\"Percentage\")"
   ]
  },
  {
   "cell_type": "markdown",
   "id": "d024073c",
   "metadata": {},
   "source": [
    "### Arrest Percentage By Domestic"
   ]
  },
  {
   "cell_type": "code",
   "execution_count": null,
   "id": "b784495f",
   "metadata": {},
   "outputs": [],
   "source": []
  },
  {
   "cell_type": "code",
   "execution_count": null,
   "id": "9f32c6ed",
   "metadata": {},
   "outputs": [],
   "source": []
  },
  {
   "cell_type": "code",
   "execution_count": null,
   "id": "73bff403",
   "metadata": {},
   "outputs": [],
   "source": []
  },
  {
   "cell_type": "code",
   "execution_count": null,
   "id": "e0b8980d",
   "metadata": {},
   "outputs": [],
   "source": []
  },
  {
   "cell_type": "code",
   "execution_count": null,
   "id": "9ebd6cd7",
   "metadata": {},
   "outputs": [],
   "source": []
  }
 ],
 "metadata": {
  "kernelspec": {
   "display_name": "Python 3",
   "language": "python",
   "name": "python3"
  },
  "language_info": {
   "codemirror_mode": {
    "name": "ipython",
    "version": 3
   },
   "file_extension": ".py",
   "mimetype": "text/x-python",
   "name": "python",
   "nbconvert_exporter": "python",
   "pygments_lexer": "ipython3",
   "version": "3.8.8"
  }
 },
 "nbformat": 4,
 "nbformat_minor": 5
}
