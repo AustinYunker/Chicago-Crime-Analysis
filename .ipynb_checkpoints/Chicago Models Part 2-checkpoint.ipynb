{
 "cells": [
  {
   "cell_type": "markdown",
   "id": "40045fca",
   "metadata": {},
   "source": [
    "# Setup and Imports"
   ]
  },
  {
   "cell_type": "code",
   "execution_count": 1,
   "id": "e6b828dd",
   "metadata": {},
   "outputs": [],
   "source": [
    "import pandas as pd\n",
    "import numpy as np\n",
    "import matplotlib.pyplot as plt\n",
    "%matplotlib inline\n",
    "import seaborn as sns\n",
    "sns.set\n",
    "import warnings\n",
    "import tensorflow as tf\n",
    "from tensorflow import keras\n",
    "from sklearn.metrics import confusion_matrix\n",
    "from sklearn.metrics import f1_score\n",
    "from sklearn.metrics import accuracy_score\n",
    "import pickle\n",
    "\n",
    "#Custom Python Module with functions specifically for this project\n",
    "import ChicagoDataCleaningFunctions as cd\n",
    "#Custom Python Module to fetch the data\n",
    "import FetchChicagoData as fc\n",
    "#Custom Python Module to prepare new crime instances\n",
    "import PrepareChicago as pc"
   ]
  },
  {
   "cell_type": "markdown",
   "id": "6cde5665",
   "metadata": {},
   "source": [
    "# Get the Data"
   ]
  },
  {
   "cell_type": "code",
   "execution_count": 2,
   "id": "6b27b472",
   "metadata": {},
   "outputs": [
    {
     "name": "stdout",
     "output_type": "stream",
     "text": [
      "Fetching Chicago Data Started...\n",
      "\n",
      "Successfully queried Google BigQuery.\n",
      "Sucessfully read in excel file.\n",
      "Sucessfully joined Chicago districts to main data.\n",
      "Successfully dropped duplicate column\n",
      "\n",
      "Succcessfully fetched Chicago Data\n",
      "Wall time: 3min 16s\n"
     ]
    }
   ],
   "source": [
    "%%time\n",
    "#Specify input values for fetching the data\n",
    "query = \"\"\"\n",
    "            SELECT unique_key, date, primary_type, location_description, \n",
    "                    arrest, domestic, community_area, year\n",
    "            FROM `gdac-327115.Chicago.chicago2`\n",
    "            WHERE year >= 2011\n",
    "        \"\"\"\n",
    "project_id = \"gdac-327115\"\n",
    "excel_file = \"ChicagoCommunityAreas.xlsx\"\n",
    "\n",
    "#Fetch the data\n",
    "chicago = fc.fetch_chicago_data(query, project_id, excel_file, verbose=True)"
   ]
  },
  {
   "cell_type": "markdown",
   "id": "ed7f0127",
   "metadata": {},
   "source": [
    "# Split the Data into Training and Test Sets"
   ]
  },
  {
   "cell_type": "code",
   "execution_count": 3,
   "id": "d287b2fe",
   "metadata": {},
   "outputs": [],
   "source": [
    "chicago_train = chicago.loc[chicago[\"year\"] != 2021]\n",
    "chicago_test = chicago.loc[chicago[\"year\"] == 2021]"
   ]
  },
  {
   "cell_type": "markdown",
   "id": "eb66b3fc",
   "metadata": {},
   "source": [
    "# Clean the Training Data"
   ]
  },
  {
   "cell_type": "code",
   "execution_count": 4,
   "id": "a4d68acf",
   "metadata": {},
   "outputs": [
    {
     "name": "stdout",
     "output_type": "stream",
     "text": [
      "Cleaning Started...\n",
      "\n",
      "Successfully Cleaned Primary Type\n",
      "Successfully Imputed Location\n",
      "Successfully Cleaned Location\n",
      "Successfully Added Month Column\n",
      "Successfully Added Hour Column\n",
      "Successfully Cleaned Community\n",
      "\n",
      "Data Set Successfully Cleaned!\n"
     ]
    }
   ],
   "source": [
    "%%capture --no-stdout\n",
    "cd.chicago_data_cleaner(chicago_train, verbose=True)"
   ]
  }
 ],
 "metadata": {
  "kernelspec": {
   "display_name": "Python 3",
   "language": "python",
   "name": "python3"
  },
  "language_info": {
   "codemirror_mode": {
    "name": "ipython",
    "version": 3
   },
   "file_extension": ".py",
   "mimetype": "text/x-python",
   "name": "python",
   "nbconvert_exporter": "python",
   "pygments_lexer": "ipython3",
   "version": "3.8.8"
  }
 },
 "nbformat": 4,
 "nbformat_minor": 5
}
