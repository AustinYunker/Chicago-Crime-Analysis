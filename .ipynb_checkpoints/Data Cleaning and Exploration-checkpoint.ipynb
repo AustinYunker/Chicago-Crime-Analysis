{
 "cells": [
  {
   "cell_type": "markdown",
   "id": "6ec949e4",
   "metadata": {},
   "source": [
    "# Setup and Imports"
   ]
  },
  {
   "cell_type": "code",
   "execution_count": 2,
   "id": "44d64fb0",
   "metadata": {},
   "outputs": [],
   "source": [
    "import pandas as pd\n",
    "import numpy as np\n",
    "import matplotlib.pyplot as plt\n",
    "%matplotlib inline\n",
    "import seaborn as sns\n",
    "sns.set\n",
    "import warnings\n",
    "import re\n",
    "from pandas.io import gbq\n",
    "from sklearn.preprocessing import OneHotEncoder\n",
    "from sklearn.compose import ColumnTransformer\n",
    "from scipy import sparse"
   ]
  },
  {
   "cell_type": "markdown",
   "id": "bd6a7dd5",
   "metadata": {},
   "source": [
    "# Get the Data"
   ]
  },
  {
   "cell_type": "code",
   "execution_count": 3,
   "id": "2e2027c8",
   "metadata": {},
   "outputs": [],
   "source": [
    "chicago_data = \"\"\"\n",
    "                    SELECT unique_key, date, primary_type, location_description, \n",
    "                            arrest, domestic, community_area,year, latitude, longitude,\n",
    "                    FROM `gdac-327115.Chicago.chicago2`\n",
    "                    WHERE year >= 2011\n",
    "               \"\"\"\n",
    "chicago_data = gbq.read_gbq(chicago_data, project_id=\"gdac-327115\")"
   ]
  },
  {
   "cell_type": "code",
   "execution_count": 4,
   "id": "36d7ed5d",
   "metadata": {},
   "outputs": [],
   "source": [
    "#Read in an Excel file with a one to one mapping between Chicago community areas and districts\n",
    "chicago_districts = pd.read_excel(\"ChicagoCommunityAreas.xlsx\")"
   ]
  },
  {
   "cell_type": "code",
   "execution_count": 5,
   "id": "b6ff4af6",
   "metadata": {},
   "outputs": [],
   "source": [
    "#Data type can't be joined on an int\n",
    "chicago_districts.community_area = chicago_districts[\"community_area\"].astype(\"string\")\n",
    "chicago_data.community_area = chicago_data[\"community_area\"].astype(\"string\")"
   ]
  },
  {
   "cell_type": "code",
   "execution_count": 6,
   "id": "c0402b6a",
   "metadata": {},
   "outputs": [],
   "source": [
    "#Outer join the two data sets\n",
    "chicago = chicago_data.merge(chicago_districts, how=\"outer\", left_on=\"community_area\", right_on=\"community_area\", )"
   ]
  },
  {
   "cell_type": "code",
   "execution_count": 7,
   "id": "f97d2133",
   "metadata": {},
   "outputs": [
    {
     "data": {
      "text/plain": [
       "unique_key                            Int64\n",
       "date                    datetime64[ns, UTC]\n",
       "primary_type                         object\n",
       "location_description                 object\n",
       "arrest                              boolean\n",
       "domestic                            boolean\n",
       "community_area                       string\n",
       "year                                  Int64\n",
       "latitude                            float64\n",
       "longitude                           float64\n",
       "district_name                        object\n",
       "community_name                       object\n",
       "dtype: object"
      ]
     },
     "execution_count": 7,
     "metadata": {},
     "output_type": "execute_result"
    }
   ],
   "source": [
    "#Check data types\n",
    "chicago.dtypes"
   ]
  },
  {
   "cell_type": "code",
   "execution_count": 8,
   "id": "6da6e2ca",
   "metadata": {},
   "outputs": [],
   "source": [
    "#Change the object data types to categorical\n",
    "chicago.loc[:, chicago.dtypes == \"object\"] = chicago.select_dtypes([\"object\"]).apply(lambda x: x.astype(\"category\"))"
   ]
  },
  {
   "cell_type": "code",
   "execution_count": 9,
   "id": "2a5878ce",
   "metadata": {},
   "outputs": [],
   "source": [
    "#Drop the community area variable since we have a community name variable\n",
    "chicago.drop(\"community_area\", axis = 1, inplace = True)"
   ]
  },
  {
   "cell_type": "markdown",
   "id": "ec8e9ebc",
   "metadata": {},
   "source": [
    "### Explore first few rows"
   ]
  },
  {
   "cell_type": "code",
   "execution_count": 10,
   "id": "9f820fba",
   "metadata": {},
   "outputs": [
    {
     "data": {
      "text/html": [
       "<div>\n",
       "<style scoped>\n",
       "    .dataframe tbody tr th:only-of-type {\n",
       "        vertical-align: middle;\n",
       "    }\n",
       "\n",
       "    .dataframe tbody tr th {\n",
       "        vertical-align: top;\n",
       "    }\n",
       "\n",
       "    .dataframe thead th {\n",
       "        text-align: right;\n",
       "    }\n",
       "</style>\n",
       "<table border=\"1\" class=\"dataframe\">\n",
       "  <thead>\n",
       "    <tr style=\"text-align: right;\">\n",
       "      <th></th>\n",
       "      <th>unique_key</th>\n",
       "      <th>date</th>\n",
       "      <th>primary_type</th>\n",
       "      <th>location_description</th>\n",
       "      <th>arrest</th>\n",
       "      <th>domestic</th>\n",
       "      <th>year</th>\n",
       "      <th>latitude</th>\n",
       "      <th>longitude</th>\n",
       "      <th>district_name</th>\n",
       "      <th>community_name</th>\n",
       "    </tr>\n",
       "  </thead>\n",
       "  <tbody>\n",
       "    <tr>\n",
       "      <th>0</th>\n",
       "      <td>11228094</td>\n",
       "      <td>2017-11-20 15:00:00+00:00</td>\n",
       "      <td>DECEPTIVE PRACTICE</td>\n",
       "      <td>POOL ROOM</td>\n",
       "      <td>False</td>\n",
       "      <td>False</td>\n",
       "      <td>2017</td>\n",
       "      <td>NaN</td>\n",
       "      <td>NaN</td>\n",
       "      <td>Far North</td>\n",
       "      <td>NORTH PARK</td>\n",
       "    </tr>\n",
       "    <tr>\n",
       "      <th>1</th>\n",
       "      <td>12135292</td>\n",
       "      <td>2020-08-13 12:00:00+00:00</td>\n",
       "      <td>DECEPTIVE PRACTICE</td>\n",
       "      <td>BANK</td>\n",
       "      <td>False</td>\n",
       "      <td>False</td>\n",
       "      <td>2020</td>\n",
       "      <td>41.993402</td>\n",
       "      <td>-87.712280</td>\n",
       "      <td>Far North</td>\n",
       "      <td>NORTH PARK</td>\n",
       "    </tr>\n",
       "    <tr>\n",
       "      <th>2</th>\n",
       "      <td>8905294</td>\n",
       "      <td>2012-11-27 17:30:00+00:00</td>\n",
       "      <td>PUBLIC PEACE VIOLATION</td>\n",
       "      <td>RESTAURANT</td>\n",
       "      <td>False</td>\n",
       "      <td>False</td>\n",
       "      <td>2012</td>\n",
       "      <td>41.978265</td>\n",
       "      <td>-87.708742</td>\n",
       "      <td>Far North</td>\n",
       "      <td>NORTH PARK</td>\n",
       "    </tr>\n",
       "    <tr>\n",
       "      <th>3</th>\n",
       "      <td>8805120</td>\n",
       "      <td>2012-09-17 00:30:00+00:00</td>\n",
       "      <td>DECEPTIVE PRACTICE</td>\n",
       "      <td>TAXICAB</td>\n",
       "      <td>False</td>\n",
       "      <td>False</td>\n",
       "      <td>2012</td>\n",
       "      <td>41.985277</td>\n",
       "      <td>-87.713827</td>\n",
       "      <td>Far North</td>\n",
       "      <td>NORTH PARK</td>\n",
       "    </tr>\n",
       "    <tr>\n",
       "      <th>4</th>\n",
       "      <td>9030552</td>\n",
       "      <td>2013-02-21 00:00:00+00:00</td>\n",
       "      <td>CRIM SEXUAL ASSAULT</td>\n",
       "      <td>RESIDENCE</td>\n",
       "      <td>False</td>\n",
       "      <td>True</td>\n",
       "      <td>2013</td>\n",
       "      <td>41.994323</td>\n",
       "      <td>-87.720213</td>\n",
       "      <td>Far North</td>\n",
       "      <td>NORTH PARK</td>\n",
       "    </tr>\n",
       "  </tbody>\n",
       "</table>\n",
       "</div>"
      ],
      "text/plain": [
       "   unique_key                      date            primary_type  \\\n",
       "0    11228094 2017-11-20 15:00:00+00:00      DECEPTIVE PRACTICE   \n",
       "1    12135292 2020-08-13 12:00:00+00:00      DECEPTIVE PRACTICE   \n",
       "2     8905294 2012-11-27 17:30:00+00:00  PUBLIC PEACE VIOLATION   \n",
       "3     8805120 2012-09-17 00:30:00+00:00      DECEPTIVE PRACTICE   \n",
       "4     9030552 2013-02-21 00:00:00+00:00     CRIM SEXUAL ASSAULT   \n",
       "\n",
       "  location_description  arrest  domestic  year   latitude  longitude  \\\n",
       "0            POOL ROOM   False     False  2017        NaN        NaN   \n",
       "1                 BANK   False     False  2020  41.993402 -87.712280   \n",
       "2           RESTAURANT   False     False  2012  41.978265 -87.708742   \n",
       "3              TAXICAB   False     False  2012  41.985277 -87.713827   \n",
       "4            RESIDENCE   False      True  2013  41.994323 -87.720213   \n",
       "\n",
       "  district_name community_name  \n",
       "0     Far North     NORTH PARK  \n",
       "1     Far North     NORTH PARK  \n",
       "2     Far North     NORTH PARK  \n",
       "3     Far North     NORTH PARK  \n",
       "4     Far North     NORTH PARK  "
      ]
     },
     "execution_count": 10,
     "metadata": {},
     "output_type": "execute_result"
    }
   ],
   "source": [
    "chicago.head()"
   ]
  },
  {
   "cell_type": "code",
   "execution_count": 11,
   "id": "da551373",
   "metadata": {},
   "outputs": [
    {
     "data": {
      "text/plain": [
       "(2971810, 11)"
      ]
     },
     "execution_count": 11,
     "metadata": {},
     "output_type": "execute_result"
    }
   ],
   "source": [
    "#Check the number of rows and columns\n",
    "chicago.shape"
   ]
  },
  {
   "cell_type": "markdown",
   "id": "2e793c3d",
   "metadata": {},
   "source": [
    "# Split the Data into a Training Set and Test Set"
   ]
  },
  {
   "cell_type": "code",
   "execution_count": 12,
   "id": "c7443e68",
   "metadata": {},
   "outputs": [],
   "source": [
    "chicago_train = chicago.loc[chicago[\"year\"] != 2021]\n",
    "chicago_test = chicago.loc[chicago[\"year\"] == 2021]"
   ]
  },
  {
   "cell_type": "code",
   "execution_count": 20,
   "id": "e9abc8df",
   "metadata": {},
   "outputs": [
    {
     "data": {
      "text/html": [
       "<div>\n",
       "<style scoped>\n",
       "    .dataframe tbody tr th:only-of-type {\n",
       "        vertical-align: middle;\n",
       "    }\n",
       "\n",
       "    .dataframe tbody tr th {\n",
       "        vertical-align: top;\n",
       "    }\n",
       "\n",
       "    .dataframe thead th {\n",
       "        text-align: right;\n",
       "    }\n",
       "</style>\n",
       "<table border=\"1\" class=\"dataframe\">\n",
       "  <thead>\n",
       "    <tr style=\"text-align: right;\">\n",
       "      <th></th>\n",
       "      <th>Month</th>\n",
       "      <th>Count</th>\n",
       "    </tr>\n",
       "  </thead>\n",
       "  <tbody>\n",
       "    <tr>\n",
       "      <th>5</th>\n",
       "      <td>1</td>\n",
       "      <td>16008</td>\n",
       "    </tr>\n",
       "    <tr>\n",
       "      <th>8</th>\n",
       "      <td>2</td>\n",
       "      <td>12852</td>\n",
       "    </tr>\n",
       "    <tr>\n",
       "      <th>6</th>\n",
       "      <td>3</td>\n",
       "      <td>15709</td>\n",
       "    </tr>\n",
       "    <tr>\n",
       "      <th>7</th>\n",
       "      <td>4</td>\n",
       "      <td>15279</td>\n",
       "    </tr>\n",
       "    <tr>\n",
       "      <th>4</th>\n",
       "      <td>5</td>\n",
       "      <td>17493</td>\n",
       "    </tr>\n",
       "    <tr>\n",
       "      <th>2</th>\n",
       "      <td>6</td>\n",
       "      <td>18468</td>\n",
       "    </tr>\n",
       "    <tr>\n",
       "      <th>0</th>\n",
       "      <td>7</td>\n",
       "      <td>18898</td>\n",
       "    </tr>\n",
       "    <tr>\n",
       "      <th>3</th>\n",
       "      <td>8</td>\n",
       "      <td>18110</td>\n",
       "    </tr>\n",
       "    <tr>\n",
       "      <th>1</th>\n",
       "      <td>9</td>\n",
       "      <td>18632</td>\n",
       "    </tr>\n",
       "    <tr>\n",
       "      <th>9</th>\n",
       "      <td>10</td>\n",
       "      <td>5507</td>\n",
       "    </tr>\n",
       "  </tbody>\n",
       "</table>\n",
       "</div>"
      ],
      "text/plain": [
       "   Month  Count\n",
       "5      1  16008\n",
       "8      2  12852\n",
       "6      3  15709\n",
       "7      4  15279\n",
       "4      5  17493\n",
       "2      6  18468\n",
       "0      7  18898\n",
       "3      8  18110\n",
       "1      9  18632\n",
       "9     10   5507"
      ]
     },
     "execution_count": 20,
     "metadata": {},
     "output_type": "execute_result"
    }
   ],
   "source": [
    "#Check if the test set contains data from the full year\n",
    "chicago_test.loc[:, \"date\"].dt.month. \\\n",
    "                                value_counts(). \\\n",
    "                                reset_index(). \\\n",
    "                                rename(columns={\"index\":\"Month\", \"date\":\"Count\"}). \\\n",
    "                                sort_values(by = \"Month\")"
   ]
  },
  {
   "cell_type": "markdown",
   "id": "d3923f96",
   "metadata": {},
   "source": [
    "# Data Exploration and Cleaning"
   ]
  },
  {
   "cell_type": "code",
   "execution_count": 22,
   "id": "01f239d2",
   "metadata": {},
   "outputs": [
    {
     "data": {
      "text/plain": [
       "unique_key                  0\n",
       "date                        0\n",
       "primary_type                0\n",
       "location_description     7844\n",
       "arrest                      0\n",
       "domestic                    0\n",
       "year                        0\n",
       "latitude                26843\n",
       "longitude               26843\n",
       "district_name             218\n",
       "community_name            218\n",
       "dtype: int64"
      ]
     },
     "execution_count": 22,
     "metadata": {},
     "output_type": "execute_result"
    }
   ],
   "source": [
    "#Check the total number of missing values in each column\n",
    "chicago_train.isnull().sum()"
   ]
  },
  {
   "cell_type": "code",
   "execution_count": 21,
   "id": "06a83fe4",
   "metadata": {},
   "outputs": [],
   "source": [
    "#Check to make sure there are no duplicate incidents based on the \"unique key\" variable\n",
    "assert len(chicago_train[\"unique_key\"].unique()) == chicago_train.shape[0]"
   ]
  },
  {
   "cell_type": "markdown",
   "id": "4e00bddd",
   "metadata": {},
   "source": [
    "### Cleaning Primary Type Variable"
   ]
  },
  {
   "cell_type": "code",
   "execution_count": 23,
   "id": "c8af60a5",
   "metadata": {},
   "outputs": [
    {
     "data": {
      "text/plain": [
       "0"
      ]
     },
     "execution_count": 23,
     "metadata": {},
     "output_type": "execute_result"
    }
   ],
   "source": [
    "#Quick reference on the number of missing values\n",
    "chicago_train[\"primary_type\"].isnull().sum()"
   ]
  },
  {
   "cell_type": "code",
   "execution_count": 24,
   "id": "dd434c0d",
   "metadata": {},
   "outputs": [
    {
     "data": {
      "text/plain": [
       "THEFT                                636007\n",
       "BATTERY                              512318\n",
       "CRIMINAL DAMAGE                      299943\n",
       "NARCOTICS                            222406\n",
       "ASSAULT                              189549\n",
       "OTHER OFFENSE                        171368\n",
       "DECEPTIVE PRACTICE                   167709\n",
       "BURGLARY                             152532\n",
       "MOTOR VEHICLE THEFT                  120013\n",
       "ROBBERY                              108092\n",
       "CRIMINAL TRESPASS                     69971\n",
       "WEAPONS VIOLATION                     45871\n",
       "OFFENSE INVOLVING CHILDREN            23359\n",
       "PUBLIC PEACE VIOLATION                21829\n",
       "PROSTITUTION                          12438\n",
       "CRIM SEXUAL ASSAULT                   12334\n",
       "INTERFERENCE WITH PUBLIC OFFICER      11793\n",
       "SEX OFFENSE                           10771\n",
       "HOMICIDE                               5669\n",
       "ARSON                                  4482\n",
       "GAMBLING                               3507\n",
       "LIQUOR LAW VIOLATION                   3407\n",
       "CRIMINAL SEXUAL ASSAULT                2516\n",
       "KIDNAPPING                             2008\n",
       "STALKING                               1837\n",
       "INTIMIDATION                           1476\n",
       "CONCEALED CARRY LICENSE VIOLATION       668\n",
       "OBSCENITY                               516\n",
       "NON-CRIMINAL                            169\n",
       "PUBLIC INDECENCY                        118\n",
       "HUMAN TRAFFICKING                        69\n",
       "OTHER NARCOTIC VIOLATION                 61\n",
       "NON - CRIMINAL                           38\n",
       "NON-CRIMINAL (SUBJECT SPECIFIED)          9\n",
       "RITUALISM                                 1\n",
       "Name: primary_type, dtype: int64"
      ]
     },
     "execution_count": 24,
     "metadata": {},
     "output_type": "execute_result"
    }
   ],
   "source": [
    "#Examine the different crime types listed\n",
    "chicago_train[\"primary_type\"].value_counts()"
   ]
  },
  {
   "cell_type": "markdown",
   "id": "4cb55356",
   "metadata": {},
   "source": [
    "It appears \"CRIM SEXUAL ASSAULT\" should be merged into \"CRIMINAL SEXUAL ASSAULT\". We'll also merge the three various \"Non-criminal\" categories into one category. We'll do the same thing for the \"OTHER NARCOTIC VIOLATION\" category. Finally, we'll move \"RITUALISM\" into the \"OTHER\" since it has only one occurence. Let's collect all of these changes into one function. "
   ]
  },
  {
   "cell_type": "code",
   "execution_count": 25,
   "id": "464bd7fc",
   "metadata": {},
   "outputs": [],
   "source": [
    "def crime_type_cleaner(df):\n",
    "    \"\"\"\n",
    "    This function cleans the primary_type column. \n",
    "    \n",
    "    df: DataFrame with primary_type column\n",
    "    \n",
    "    returns: df\n",
    "    \"\"\"\n",
    "    df.loc[:, \"primary_type\"].replace([\"CRIM SEXUAL ASSAULT\"], \"CRIMINAL SEXUAL ASSAULT\", inplace = True)\n",
    "\n",
    "    df.loc[:, \"primary_type\"].replace([\"OTHER NARCOTIC VIOLATION\"], \"NARCOTICS\", inplace = True)\n",
    "\n",
    "    df.loc[:, \"primary_type\"].replace([\"NON - CRIMINAL\", \"NON-CRIMINAL (SUBJECT SPECIFIED)\"], \"NON-CRIMINAL\", inplace = True)\n",
    "\n",
    "    df.loc[:, \"primary_type\"].replace([\"RITUALISM\"], \"OTHER OFFENSE\", inplace = True)\n",
    "   "
   ]
  },
  {
   "cell_type": "code",
   "execution_count": 29,
   "id": "12864fd6",
   "metadata": {},
   "outputs": [
    {
     "data": {
      "text/plain": [
       "THEFT                                636007\n",
       "BATTERY                              512318\n",
       "CRIMINAL DAMAGE                      299943\n",
       "NARCOTICS                            222467\n",
       "ASSAULT                              189549\n",
       "OTHER OFFENSE                        171369\n",
       "DECEPTIVE PRACTICE                   167709\n",
       "BURGLARY                             152532\n",
       "MOTOR VEHICLE THEFT                  120013\n",
       "ROBBERY                              108092\n",
       "CRIMINAL TRESPASS                     69971\n",
       "WEAPONS VIOLATION                     45871\n",
       "OFFENSE INVOLVING CHILDREN            23359\n",
       "PUBLIC PEACE VIOLATION                21829\n",
       "CRIMINAL SEXUAL ASSAULT               14850\n",
       "PROSTITUTION                          12438\n",
       "INTERFERENCE WITH PUBLIC OFFICER      11793\n",
       "SEX OFFENSE                           10771\n",
       "HOMICIDE                               5669\n",
       "ARSON                                  4482\n",
       "GAMBLING                               3507\n",
       "LIQUOR LAW VIOLATION                   3407\n",
       "KIDNAPPING                             2008\n",
       "STALKING                               1837\n",
       "INTIMIDATION                           1476\n",
       "CONCEALED CARRY LICENSE VIOLATION       668\n",
       "OBSCENITY                               516\n",
       "NON-CRIMINAL                            216\n",
       "PUBLIC INDECENCY                        118\n",
       "HUMAN TRAFFICKING                        69\n",
       "Name: primary_type, dtype: int64"
      ]
     },
     "execution_count": 29,
     "metadata": {},
     "output_type": "execute_result"
    }
   ],
   "source": [
    "crime_type_cleaner(chicago_train)\n",
    "chicago_train[\"primary_type\"].value_counts()"
   ]
  },
  {
   "cell_type": "code",
   "execution_count": null,
   "id": "aef89a2d",
   "metadata": {},
   "outputs": [],
   "source": []
  }
 ],
 "metadata": {
  "kernelspec": {
   "display_name": "Python 3",
   "language": "python",
   "name": "python3"
  },
  "language_info": {
   "codemirror_mode": {
    "name": "ipython",
    "version": 3
   },
   "file_extension": ".py",
   "mimetype": "text/x-python",
   "name": "python",
   "nbconvert_exporter": "python",
   "pygments_lexer": "ipython3",
   "version": "3.8.8"
  }
 },
 "nbformat": 4,
 "nbformat_minor": 5
}
