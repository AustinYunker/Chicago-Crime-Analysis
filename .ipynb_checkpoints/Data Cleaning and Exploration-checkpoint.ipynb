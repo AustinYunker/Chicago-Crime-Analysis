{
 "cells": [
  {
   "cell_type": "markdown",
   "id": "b1c110e8",
   "metadata": {},
   "source": [
    "# Setup and Imports"
   ]
  },
  {
   "cell_type": "code",
   "execution_count": 2,
   "id": "d78494d0",
   "metadata": {},
   "outputs": [],
   "source": [
    "import pandas as pd\n",
    "import numpy as np\n",
    "import matplotlib.pyplot as plt\n",
    "%matplotlib inline\n",
    "import seaborn as sns\n",
    "sns.set\n",
    "import warnings\n",
    "import re\n",
    "from pandas.io import gbq\n",
    "from sklearn.preprocessing import OneHotEncoder\n",
    "from sklearn.compose import ColumnTransformer\n",
    "from scipy import sparse"
   ]
  },
  {
   "cell_type": "markdown",
   "id": "38c0fc14",
   "metadata": {},
   "source": [
    "# Get the Data"
   ]
  },
  {
   "cell_type": "code",
   "execution_count": 3,
   "id": "5f56d275",
   "metadata": {},
   "outputs": [],
   "source": [
    "chicago_data = \"\"\"\n",
    "                    SELECT unique_key, date, primary_type, location_description, \n",
    "                            arrest, domestic, community_area,year, latitude, longitude,\n",
    "                    FROM `gdac-327115.Chicago.chicago2`\n",
    "                    WHERE year >= 2011\n",
    "               \"\"\"\n",
    "chicago_data = gbq.read_gbq(chicago_data, project_id=\"gdac-327115\")"
   ]
  },
  {
   "cell_type": "code",
   "execution_count": 4,
   "id": "202c54e5",
   "metadata": {},
   "outputs": [],
   "source": [
    "#Read in an Excel file with a one to one mapping between Chicago community areas and districts\n",
    "chicago_districts = pd.read_excel(\"ChicagoCommunityAreas.xlsx\")"
   ]
  },
  {
   "cell_type": "code",
   "execution_count": 5,
   "id": "f6bb1800",
   "metadata": {},
   "outputs": [],
   "source": [
    "#Data type can't be joined on an int\n",
    "chicago_districts.community_area = chicago_districts[\"community_area\"].astype(\"string\")\n",
    "chicago_data.community_area = chicago_data[\"community_area\"].astype(\"string\")"
   ]
  },
  {
   "cell_type": "code",
   "execution_count": 6,
   "id": "338fe650",
   "metadata": {},
   "outputs": [],
   "source": [
    "#Outer join the two data sets\n",
    "chicago = chicago_data.merge(chicago_districts, how=\"outer\", left_on=\"community_area\", right_on=\"community_area\", )"
   ]
  },
  {
   "cell_type": "code",
   "execution_count": 7,
   "id": "a91a6b8e",
   "metadata": {},
   "outputs": [
    {
     "data": {
      "text/plain": [
       "unique_key                            Int64\n",
       "date                    datetime64[ns, UTC]\n",
       "primary_type                         object\n",
       "location_description                 object\n",
       "arrest                              boolean\n",
       "domestic                            boolean\n",
       "community_area                       string\n",
       "year                                  Int64\n",
       "latitude                            float64\n",
       "longitude                           float64\n",
       "district_name                        object\n",
       "community_name                       object\n",
       "dtype: object"
      ]
     },
     "execution_count": 7,
     "metadata": {},
     "output_type": "execute_result"
    }
   ],
   "source": [
    "#Check data types\n",
    "chicago.dtypes"
   ]
  },
  {
   "cell_type": "code",
   "execution_count": 8,
   "id": "c2b9ffe7",
   "metadata": {},
   "outputs": [],
   "source": [
    "#Change the object data types to categorical\n",
    "chicago.loc[:, chicago.dtypes == \"object\"] = chicago.select_dtypes([\"object\"]).apply(lambda x: x.astype(\"category\"))"
   ]
  },
  {
   "cell_type": "code",
   "execution_count": 9,
   "id": "d4c2e93b",
   "metadata": {},
   "outputs": [],
   "source": [
    "#Drop the community area variable since we have a community name variable\n",
    "chicago.drop(\"community_area\", axis = 1, inplace = True)"
   ]
  },
  {
   "cell_type": "markdown",
   "id": "8b617e8e",
   "metadata": {},
   "source": [
    "### Explore first few rows"
   ]
  },
  {
   "cell_type": "code",
   "execution_count": 10,
   "id": "2ecb45d9",
   "metadata": {},
   "outputs": [
    {
     "data": {
      "text/html": [
       "<div>\n",
       "<style scoped>\n",
       "    .dataframe tbody tr th:only-of-type {\n",
       "        vertical-align: middle;\n",
       "    }\n",
       "\n",
       "    .dataframe tbody tr th {\n",
       "        vertical-align: top;\n",
       "    }\n",
       "\n",
       "    .dataframe thead th {\n",
       "        text-align: right;\n",
       "    }\n",
       "</style>\n",
       "<table border=\"1\" class=\"dataframe\">\n",
       "  <thead>\n",
       "    <tr style=\"text-align: right;\">\n",
       "      <th></th>\n",
       "      <th>unique_key</th>\n",
       "      <th>date</th>\n",
       "      <th>primary_type</th>\n",
       "      <th>location_description</th>\n",
       "      <th>arrest</th>\n",
       "      <th>domestic</th>\n",
       "      <th>year</th>\n",
       "      <th>latitude</th>\n",
       "      <th>longitude</th>\n",
       "      <th>district_name</th>\n",
       "      <th>community_name</th>\n",
       "    </tr>\n",
       "  </thead>\n",
       "  <tbody>\n",
       "    <tr>\n",
       "      <th>0</th>\n",
       "      <td>11228094</td>\n",
       "      <td>2017-11-20 15:00:00+00:00</td>\n",
       "      <td>DECEPTIVE PRACTICE</td>\n",
       "      <td>POOL ROOM</td>\n",
       "      <td>False</td>\n",
       "      <td>False</td>\n",
       "      <td>2017</td>\n",
       "      <td>NaN</td>\n",
       "      <td>NaN</td>\n",
       "      <td>Far North</td>\n",
       "      <td>NORTH PARK</td>\n",
       "    </tr>\n",
       "    <tr>\n",
       "      <th>1</th>\n",
       "      <td>12135292</td>\n",
       "      <td>2020-08-13 12:00:00+00:00</td>\n",
       "      <td>DECEPTIVE PRACTICE</td>\n",
       "      <td>BANK</td>\n",
       "      <td>False</td>\n",
       "      <td>False</td>\n",
       "      <td>2020</td>\n",
       "      <td>41.993402</td>\n",
       "      <td>-87.712280</td>\n",
       "      <td>Far North</td>\n",
       "      <td>NORTH PARK</td>\n",
       "    </tr>\n",
       "    <tr>\n",
       "      <th>2</th>\n",
       "      <td>8905294</td>\n",
       "      <td>2012-11-27 17:30:00+00:00</td>\n",
       "      <td>PUBLIC PEACE VIOLATION</td>\n",
       "      <td>RESTAURANT</td>\n",
       "      <td>False</td>\n",
       "      <td>False</td>\n",
       "      <td>2012</td>\n",
       "      <td>41.978265</td>\n",
       "      <td>-87.708742</td>\n",
       "      <td>Far North</td>\n",
       "      <td>NORTH PARK</td>\n",
       "    </tr>\n",
       "    <tr>\n",
       "      <th>3</th>\n",
       "      <td>8805120</td>\n",
       "      <td>2012-09-17 00:30:00+00:00</td>\n",
       "      <td>DECEPTIVE PRACTICE</td>\n",
       "      <td>TAXICAB</td>\n",
       "      <td>False</td>\n",
       "      <td>False</td>\n",
       "      <td>2012</td>\n",
       "      <td>41.985277</td>\n",
       "      <td>-87.713827</td>\n",
       "      <td>Far North</td>\n",
       "      <td>NORTH PARK</td>\n",
       "    </tr>\n",
       "    <tr>\n",
       "      <th>4</th>\n",
       "      <td>9030552</td>\n",
       "      <td>2013-02-21 00:00:00+00:00</td>\n",
       "      <td>CRIM SEXUAL ASSAULT</td>\n",
       "      <td>RESIDENCE</td>\n",
       "      <td>False</td>\n",
       "      <td>True</td>\n",
       "      <td>2013</td>\n",
       "      <td>41.994323</td>\n",
       "      <td>-87.720213</td>\n",
       "      <td>Far North</td>\n",
       "      <td>NORTH PARK</td>\n",
       "    </tr>\n",
       "  </tbody>\n",
       "</table>\n",
       "</div>"
      ],
      "text/plain": [
       "   unique_key                      date            primary_type  \\\n",
       "0    11228094 2017-11-20 15:00:00+00:00      DECEPTIVE PRACTICE   \n",
       "1    12135292 2020-08-13 12:00:00+00:00      DECEPTIVE PRACTICE   \n",
       "2     8905294 2012-11-27 17:30:00+00:00  PUBLIC PEACE VIOLATION   \n",
       "3     8805120 2012-09-17 00:30:00+00:00      DECEPTIVE PRACTICE   \n",
       "4     9030552 2013-02-21 00:00:00+00:00     CRIM SEXUAL ASSAULT   \n",
       "\n",
       "  location_description  arrest  domestic  year   latitude  longitude  \\\n",
       "0            POOL ROOM   False     False  2017        NaN        NaN   \n",
       "1                 BANK   False     False  2020  41.993402 -87.712280   \n",
       "2           RESTAURANT   False     False  2012  41.978265 -87.708742   \n",
       "3              TAXICAB   False     False  2012  41.985277 -87.713827   \n",
       "4            RESIDENCE   False      True  2013  41.994323 -87.720213   \n",
       "\n",
       "  district_name community_name  \n",
       "0     Far North     NORTH PARK  \n",
       "1     Far North     NORTH PARK  \n",
       "2     Far North     NORTH PARK  \n",
       "3     Far North     NORTH PARK  \n",
       "4     Far North     NORTH PARK  "
      ]
     },
     "execution_count": 10,
     "metadata": {},
     "output_type": "execute_result"
    }
   ],
   "source": [
    "chicago.head()"
   ]
  },
  {
   "cell_type": "code",
   "execution_count": 11,
   "id": "2daa033c",
   "metadata": {},
   "outputs": [
    {
     "data": {
      "text/plain": [
       "(2971810, 11)"
      ]
     },
     "execution_count": 11,
     "metadata": {},
     "output_type": "execute_result"
    }
   ],
   "source": [
    "#Check the number of rows and columns\n",
    "chicago.shape"
   ]
  },
  {
   "cell_type": "markdown",
   "id": "96cef8c7",
   "metadata": {},
   "source": [
    "# Split the Data into a Training Set and Test Set"
   ]
  },
  {
   "cell_type": "code",
   "execution_count": null,
   "id": "4ed1cfbb",
   "metadata": {},
   "outputs": [],
   "source": []
  }
 ],
 "metadata": {
  "kernelspec": {
   "display_name": "Python 3",
   "language": "python",
   "name": "python3"
  },
  "language_info": {
   "codemirror_mode": {
    "name": "ipython",
    "version": 3
   },
   "file_extension": ".py",
   "mimetype": "text/x-python",
   "name": "python",
   "nbconvert_exporter": "python",
   "pygments_lexer": "ipython3",
   "version": "3.8.8"
  }
 },
 "nbformat": 4,
 "nbformat_minor": 5
}
