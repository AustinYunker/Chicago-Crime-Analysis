{
 "cells": [
  {
   "cell_type": "markdown",
   "id": "4e4aaa12",
   "metadata": {},
   "source": [
    "# Setup and Imports"
   ]
  },
  {
   "cell_type": "code",
   "execution_count": 1,
   "id": "7c25408a",
   "metadata": {},
   "outputs": [],
   "source": [
    "import pandas as pd\n",
    "import numpy as np\n",
    "import matplotlib.pyplot as plt\n",
    "%matplotlib inline\n",
    "import seaborn as sns\n",
    "sns.set\n",
    "import warnings\n",
    "import re\n",
    "from pandas.io import gbq\n",
    "from sklearn.preprocessing import OneHotEncoder\n",
    "from sklearn.compose import ColumnTransformer\n",
    "from scipy import sparse"
   ]
  },
  {
   "cell_type": "markdown",
   "id": "80f4e408",
   "metadata": {},
   "source": [
    "# Get the Data"
   ]
  },
  {
   "cell_type": "code",
   "execution_count": 2,
   "id": "e531f1f9",
   "metadata": {},
   "outputs": [],
   "source": [
    "chicago_data = \"\"\"\n",
    "                    SELECT unique_key, date, primary_type, location_description, \n",
    "                            arrest, domestic, community_area,year, latitude, longitude,\n",
    "                    FROM `gdac-327115.Chicago.chicago2`\n",
    "                    WHERE year >= 2011\n",
    "               \"\"\"\n",
    "chicago_data = gbq.read_gbq(chicago_data, project_id=\"gdac-327115\")"
   ]
  },
  {
   "cell_type": "code",
   "execution_count": 3,
   "id": "46960833",
   "metadata": {},
   "outputs": [],
   "source": [
    "#Read in an Excel file with a one to one mapping between Chicago community areas and districts\n",
    "chicago_districts = pd.read_excel(\"ChicagoCommunityAreas.xlsx\")"
   ]
  },
  {
   "cell_type": "code",
   "execution_count": 4,
   "id": "f855c2c0",
   "metadata": {},
   "outputs": [],
   "source": [
    "#Data type can't be joined on an int\n",
    "chicago_districts.community_area = chicago_districts[\"community_area\"].astype(\"string\")\n",
    "chicago_data.community_area = chicago_data[\"community_area\"].astype(\"string\")"
   ]
  },
  {
   "cell_type": "code",
   "execution_count": 5,
   "id": "936be0ce",
   "metadata": {},
   "outputs": [],
   "source": [
    "#Outer join the two data sets\n",
    "chicago = chicago_data.merge(chicago_districts, how=\"outer\", left_on=\"community_area\", right_on=\"community_area\", )"
   ]
  },
  {
   "cell_type": "code",
   "execution_count": 6,
   "id": "516f1b41",
   "metadata": {},
   "outputs": [
    {
     "data": {
      "text/plain": [
       "unique_key                            Int64\n",
       "date                    datetime64[ns, UTC]\n",
       "primary_type                         object\n",
       "location_description                 object\n",
       "arrest                              boolean\n",
       "domestic                            boolean\n",
       "community_area                       string\n",
       "year                                  Int64\n",
       "latitude                            float64\n",
       "longitude                           float64\n",
       "district_name                        object\n",
       "community_name                       object\n",
       "dtype: object"
      ]
     },
     "execution_count": 6,
     "metadata": {},
     "output_type": "execute_result"
    }
   ],
   "source": [
    "#Check data types\n",
    "chicago.dtypes"
   ]
  },
  {
   "cell_type": "code",
   "execution_count": 7,
   "id": "f1486ec2",
   "metadata": {},
   "outputs": [],
   "source": [
    "#Change the object data types to categorical\n",
    "chicago.loc[:, chicago.dtypes == \"object\"] = chicago.select_dtypes([\"object\"]).apply(lambda x: x.astype(\"category\"))"
   ]
  },
  {
   "cell_type": "code",
   "execution_count": 8,
   "id": "6024f487",
   "metadata": {},
   "outputs": [],
   "source": [
    "#Drop the community area variable since we have a community name variable\n",
    "chicago.drop(\"community_area\", axis = 1, inplace = True)"
   ]
  },
  {
   "cell_type": "markdown",
   "id": "f3b1a678",
   "metadata": {},
   "source": [
    "### Explore first few rows"
   ]
  },
  {
   "cell_type": "code",
   "execution_count": 10,
   "id": "cc84ac96",
   "metadata": {},
   "outputs": [
    {
     "data": {
      "text/html": [
       "<div>\n",
       "<style scoped>\n",
       "    .dataframe tbody tr th:only-of-type {\n",
       "        vertical-align: middle;\n",
       "    }\n",
       "\n",
       "    .dataframe tbody tr th {\n",
       "        vertical-align: top;\n",
       "    }\n",
       "\n",
       "    .dataframe thead th {\n",
       "        text-align: right;\n",
       "    }\n",
       "</style>\n",
       "<table border=\"1\" class=\"dataframe\">\n",
       "  <thead>\n",
       "    <tr style=\"text-align: right;\">\n",
       "      <th></th>\n",
       "      <th>unique_key</th>\n",
       "      <th>date</th>\n",
       "      <th>primary_type</th>\n",
       "      <th>location_description</th>\n",
       "      <th>arrest</th>\n",
       "      <th>domestic</th>\n",
       "      <th>year</th>\n",
       "      <th>latitude</th>\n",
       "      <th>longitude</th>\n",
       "      <th>district_name</th>\n",
       "      <th>community_name</th>\n",
       "    </tr>\n",
       "  </thead>\n",
       "  <tbody>\n",
       "    <tr>\n",
       "      <th>0</th>\n",
       "      <td>11228094</td>\n",
       "      <td>2017-11-20 15:00:00+00:00</td>\n",
       "      <td>DECEPTIVE PRACTICE</td>\n",
       "      <td>POOL ROOM</td>\n",
       "      <td>False</td>\n",
       "      <td>False</td>\n",
       "      <td>2017</td>\n",
       "      <td>NaN</td>\n",
       "      <td>NaN</td>\n",
       "      <td>Far North</td>\n",
       "      <td>NORTH PARK</td>\n",
       "    </tr>\n",
       "    <tr>\n",
       "      <th>1</th>\n",
       "      <td>12135292</td>\n",
       "      <td>2020-08-13 12:00:00+00:00</td>\n",
       "      <td>DECEPTIVE PRACTICE</td>\n",
       "      <td>BANK</td>\n",
       "      <td>False</td>\n",
       "      <td>False</td>\n",
       "      <td>2020</td>\n",
       "      <td>41.993402</td>\n",
       "      <td>-87.712280</td>\n",
       "      <td>Far North</td>\n",
       "      <td>NORTH PARK</td>\n",
       "    </tr>\n",
       "    <tr>\n",
       "      <th>2</th>\n",
       "      <td>8905294</td>\n",
       "      <td>2012-11-27 17:30:00+00:00</td>\n",
       "      <td>PUBLIC PEACE VIOLATION</td>\n",
       "      <td>RESTAURANT</td>\n",
       "      <td>False</td>\n",
       "      <td>False</td>\n",
       "      <td>2012</td>\n",
       "      <td>41.978265</td>\n",
       "      <td>-87.708742</td>\n",
       "      <td>Far North</td>\n",
       "      <td>NORTH PARK</td>\n",
       "    </tr>\n",
       "    <tr>\n",
       "      <th>3</th>\n",
       "      <td>8805120</td>\n",
       "      <td>2012-09-17 00:30:00+00:00</td>\n",
       "      <td>DECEPTIVE PRACTICE</td>\n",
       "      <td>TAXICAB</td>\n",
       "      <td>False</td>\n",
       "      <td>False</td>\n",
       "      <td>2012</td>\n",
       "      <td>41.985277</td>\n",
       "      <td>-87.713827</td>\n",
       "      <td>Far North</td>\n",
       "      <td>NORTH PARK</td>\n",
       "    </tr>\n",
       "    <tr>\n",
       "      <th>4</th>\n",
       "      <td>9030552</td>\n",
       "      <td>2013-02-21 00:00:00+00:00</td>\n",
       "      <td>CRIM SEXUAL ASSAULT</td>\n",
       "      <td>RESIDENCE</td>\n",
       "      <td>False</td>\n",
       "      <td>True</td>\n",
       "      <td>2013</td>\n",
       "      <td>41.994323</td>\n",
       "      <td>-87.720213</td>\n",
       "      <td>Far North</td>\n",
       "      <td>NORTH PARK</td>\n",
       "    </tr>\n",
       "  </tbody>\n",
       "</table>\n",
       "</div>"
      ],
      "text/plain": [
       "   unique_key                      date            primary_type  \\\n",
       "0    11228094 2017-11-20 15:00:00+00:00      DECEPTIVE PRACTICE   \n",
       "1    12135292 2020-08-13 12:00:00+00:00      DECEPTIVE PRACTICE   \n",
       "2     8905294 2012-11-27 17:30:00+00:00  PUBLIC PEACE VIOLATION   \n",
       "3     8805120 2012-09-17 00:30:00+00:00      DECEPTIVE PRACTICE   \n",
       "4     9030552 2013-02-21 00:00:00+00:00     CRIM SEXUAL ASSAULT   \n",
       "\n",
       "  location_description  arrest  domestic  year   latitude  longitude  \\\n",
       "0            POOL ROOM   False     False  2017        NaN        NaN   \n",
       "1                 BANK   False     False  2020  41.993402 -87.712280   \n",
       "2           RESTAURANT   False     False  2012  41.978265 -87.708742   \n",
       "3              TAXICAB   False     False  2012  41.985277 -87.713827   \n",
       "4            RESIDENCE   False      True  2013  41.994323 -87.720213   \n",
       "\n",
       "  district_name community_name  \n",
       "0     Far North     NORTH PARK  \n",
       "1     Far North     NORTH PARK  \n",
       "2     Far North     NORTH PARK  \n",
       "3     Far North     NORTH PARK  \n",
       "4     Far North     NORTH PARK  "
      ]
     },
     "execution_count": 10,
     "metadata": {},
     "output_type": "execute_result"
    }
   ],
   "source": [
    "chicago.head()"
   ]
  },
  {
   "cell_type": "code",
   "execution_count": 11,
   "id": "74316c23",
   "metadata": {},
   "outputs": [
    {
     "data": {
      "text/plain": [
       "(2971810, 11)"
      ]
     },
     "execution_count": 11,
     "metadata": {},
     "output_type": "execute_result"
    }
   ],
   "source": [
    "#Check the number of rows and columns\n",
    "chicago.shape"
   ]
  },
  {
   "cell_type": "markdown",
   "id": "5e979316",
   "metadata": {},
   "source": [
    "# Split the Data into a Training Set and Test Set"
   ]
  },
  {
   "cell_type": "code",
   "execution_count": 35,
   "id": "cf0f5a70",
   "metadata": {},
   "outputs": [],
   "source": [
    "chicago_train = chicago.loc[chicago[\"year\"] != 2021]\n",
    "chicago_test = chicago.loc[chicago[\"year\"] == 2021]"
   ]
  },
  {
   "cell_type": "code",
   "execution_count": 20,
   "id": "5f441aee",
   "metadata": {},
   "outputs": [
    {
     "data": {
      "text/html": [
       "<div>\n",
       "<style scoped>\n",
       "    .dataframe tbody tr th:only-of-type {\n",
       "        vertical-align: middle;\n",
       "    }\n",
       "\n",
       "    .dataframe tbody tr th {\n",
       "        vertical-align: top;\n",
       "    }\n",
       "\n",
       "    .dataframe thead th {\n",
       "        text-align: right;\n",
       "    }\n",
       "</style>\n",
       "<table border=\"1\" class=\"dataframe\">\n",
       "  <thead>\n",
       "    <tr style=\"text-align: right;\">\n",
       "      <th></th>\n",
       "      <th>Month</th>\n",
       "      <th>Count</th>\n",
       "    </tr>\n",
       "  </thead>\n",
       "  <tbody>\n",
       "    <tr>\n",
       "      <th>5</th>\n",
       "      <td>1</td>\n",
       "      <td>16008</td>\n",
       "    </tr>\n",
       "    <tr>\n",
       "      <th>8</th>\n",
       "      <td>2</td>\n",
       "      <td>12852</td>\n",
       "    </tr>\n",
       "    <tr>\n",
       "      <th>6</th>\n",
       "      <td>3</td>\n",
       "      <td>15709</td>\n",
       "    </tr>\n",
       "    <tr>\n",
       "      <th>7</th>\n",
       "      <td>4</td>\n",
       "      <td>15279</td>\n",
       "    </tr>\n",
       "    <tr>\n",
       "      <th>4</th>\n",
       "      <td>5</td>\n",
       "      <td>17493</td>\n",
       "    </tr>\n",
       "    <tr>\n",
       "      <th>2</th>\n",
       "      <td>6</td>\n",
       "      <td>18468</td>\n",
       "    </tr>\n",
       "    <tr>\n",
       "      <th>0</th>\n",
       "      <td>7</td>\n",
       "      <td>18898</td>\n",
       "    </tr>\n",
       "    <tr>\n",
       "      <th>3</th>\n",
       "      <td>8</td>\n",
       "      <td>18110</td>\n",
       "    </tr>\n",
       "    <tr>\n",
       "      <th>1</th>\n",
       "      <td>9</td>\n",
       "      <td>18632</td>\n",
       "    </tr>\n",
       "    <tr>\n",
       "      <th>9</th>\n",
       "      <td>10</td>\n",
       "      <td>5507</td>\n",
       "    </tr>\n",
       "  </tbody>\n",
       "</table>\n",
       "</div>"
      ],
      "text/plain": [
       "   Month  Count\n",
       "5      1  16008\n",
       "8      2  12852\n",
       "6      3  15709\n",
       "7      4  15279\n",
       "4      5  17493\n",
       "2      6  18468\n",
       "0      7  18898\n",
       "3      8  18110\n",
       "1      9  18632\n",
       "9     10   5507"
      ]
     },
     "execution_count": 20,
     "metadata": {},
     "output_type": "execute_result"
    }
   ],
   "source": [
    "#Check if the test set contains data from the full year\n",
    "chicago_test.loc[:, \"date\"].dt.month. \\\n",
    "                                value_counts(). \\\n",
    "                                reset_index(). \\\n",
    "                                rename(columns={\"index\":\"Month\", \"date\":\"Count\"}). \\\n",
    "                                sort_values(by = \"Month\")"
   ]
  },
  {
   "cell_type": "markdown",
   "id": "2b4e2768",
   "metadata": {},
   "source": [
    "# Data Exploration and Cleaning"
   ]
  },
  {
   "cell_type": "code",
   "execution_count": 22,
   "id": "88b517e3",
   "metadata": {},
   "outputs": [
    {
     "data": {
      "text/plain": [
       "unique_key                  0\n",
       "date                        0\n",
       "primary_type                0\n",
       "location_description     7844\n",
       "arrest                      0\n",
       "domestic                    0\n",
       "year                        0\n",
       "latitude                26843\n",
       "longitude               26843\n",
       "district_name             218\n",
       "community_name            218\n",
       "dtype: int64"
      ]
     },
     "execution_count": 22,
     "metadata": {},
     "output_type": "execute_result"
    }
   ],
   "source": [
    "#Check the total number of missing values for each variable\n",
    "chicago_train.isnull().sum()"
   ]
  },
  {
   "cell_type": "code",
   "execution_count": 21,
   "id": "c07028a1",
   "metadata": {},
   "outputs": [],
   "source": [
    "#Check to make sure there are no duplicate incidents based on the \"unique key\" variable\n",
    "assert len(chicago_train[\"unique_key\"].unique()) == chicago_train.shape[0]"
   ]
  },
  {
   "cell_type": "markdown",
   "id": "89c1f39d",
   "metadata": {},
   "source": [
    "### Cleaning Primary Type Variable"
   ]
  },
  {
   "cell_type": "code",
   "execution_count": 23,
   "id": "01f3e147",
   "metadata": {},
   "outputs": [
    {
     "data": {
      "text/plain": [
       "0"
      ]
     },
     "execution_count": 23,
     "metadata": {},
     "output_type": "execute_result"
    }
   ],
   "source": [
    "#Quick reference on the number of missing values\n",
    "chicago_train[\"primary_type\"].isnull().sum()"
   ]
  },
  {
   "cell_type": "code",
   "execution_count": 10,
   "id": "f374bc1a",
   "metadata": {},
   "outputs": [
    {
     "data": {
      "text/plain": [
       "THEFT                                636007\n",
       "BATTERY                              512318\n",
       "CRIMINAL DAMAGE                      299943\n",
       "NARCOTICS                            222406\n",
       "ASSAULT                              189549\n",
       "OTHER OFFENSE                        171368\n",
       "DECEPTIVE PRACTICE                   167709\n",
       "BURGLARY                             152532\n",
       "MOTOR VEHICLE THEFT                  120013\n",
       "ROBBERY                              108092\n",
       "CRIMINAL TRESPASS                     69971\n",
       "WEAPONS VIOLATION                     45871\n",
       "OFFENSE INVOLVING CHILDREN            23359\n",
       "PUBLIC PEACE VIOLATION                21829\n",
       "PROSTITUTION                          12438\n",
       "CRIM SEXUAL ASSAULT                   12334\n",
       "INTERFERENCE WITH PUBLIC OFFICER      11793\n",
       "SEX OFFENSE                           10771\n",
       "HOMICIDE                               5669\n",
       "ARSON                                  4482\n",
       "GAMBLING                               3507\n",
       "LIQUOR LAW VIOLATION                   3407\n",
       "CRIMINAL SEXUAL ASSAULT                2516\n",
       "KIDNAPPING                             2008\n",
       "STALKING                               1837\n",
       "INTIMIDATION                           1476\n",
       "CONCEALED CARRY LICENSE VIOLATION       668\n",
       "OBSCENITY                               516\n",
       "NON-CRIMINAL                            169\n",
       "PUBLIC INDECENCY                        118\n",
       "HUMAN TRAFFICKING                        69\n",
       "OTHER NARCOTIC VIOLATION                 61\n",
       "NON - CRIMINAL                           38\n",
       "NON-CRIMINAL (SUBJECT SPECIFIED)          9\n",
       "RITUALISM                                 1\n",
       "Name: primary_type, dtype: int64"
      ]
     },
     "execution_count": 10,
     "metadata": {},
     "output_type": "execute_result"
    }
   ],
   "source": [
    "#Examine the different crime types listed\n",
    "chicago_train[\"primary_type\"].value_counts()"
   ]
  },
  {
   "cell_type": "markdown",
   "id": "9513c280",
   "metadata": {},
   "source": [
    "It appears \"CRIM SEXUAL ASSAULT\" should be merged into \"CRIMINAL SEXUAL ASSAULT\". We'll also merge the three various \"Non-criminal\" categories into one category. We'll do the same thing for the \"OTHER NARCOTIC VIOLATION\" category. Finally, we'll move \"RITUALISM\" into the \"OTHER\" since it has only one occurence. Let's collect all of these changes into one function. "
   ]
  },
  {
   "cell_type": "code",
   "execution_count": 11,
   "id": "36f5ac4e",
   "metadata": {},
   "outputs": [],
   "source": [
    "def crime_type_cleaner(df):\n",
    "    \"\"\"\n",
    "    This function cleans the primary_type column in place. \n",
    "    \n",
    "    df: DataFrame with primary_type column\n",
    "    \n",
    "    returns: None\n",
    "    \"\"\"\n",
    "    df.loc[:, \"primary_type\"].replace([\"CRIM SEXUAL ASSAULT\"], \"CRIMINAL SEXUAL ASSAULT\", inplace = True)\n",
    "\n",
    "    df.loc[:, \"primary_type\"].replace([\"OTHER NARCOTIC VIOLATION\"], \"NARCOTICS\", inplace = True)\n",
    "\n",
    "    df.loc[:, \"primary_type\"].replace([\"NON - CRIMINAL\", \"NON-CRIMINAL (SUBJECT SPECIFIED)\"], \"NON-CRIMINAL\", inplace = True)\n",
    "\n",
    "    df.loc[:, \"primary_type\"].replace([\"RITUALISM\"], \"OTHER OFFENSE\", inplace = True)\n",
    "   "
   ]
  },
  {
   "cell_type": "code",
   "execution_count": 29,
   "id": "25bf8d07",
   "metadata": {},
   "outputs": [
    {
     "data": {
      "text/plain": [
       "THEFT                                636007\n",
       "BATTERY                              512318\n",
       "CRIMINAL DAMAGE                      299943\n",
       "NARCOTICS                            222467\n",
       "ASSAULT                              189549\n",
       "OTHER OFFENSE                        171369\n",
       "DECEPTIVE PRACTICE                   167709\n",
       "BURGLARY                             152532\n",
       "MOTOR VEHICLE THEFT                  120013\n",
       "ROBBERY                              108092\n",
       "CRIMINAL TRESPASS                     69971\n",
       "WEAPONS VIOLATION                     45871\n",
       "OFFENSE INVOLVING CHILDREN            23359\n",
       "PUBLIC PEACE VIOLATION                21829\n",
       "CRIMINAL SEXUAL ASSAULT               14850\n",
       "PROSTITUTION                          12438\n",
       "INTERFERENCE WITH PUBLIC OFFICER      11793\n",
       "SEX OFFENSE                           10771\n",
       "HOMICIDE                               5669\n",
       "ARSON                                  4482\n",
       "GAMBLING                               3507\n",
       "LIQUOR LAW VIOLATION                   3407\n",
       "KIDNAPPING                             2008\n",
       "STALKING                               1837\n",
       "INTIMIDATION                           1476\n",
       "CONCEALED CARRY LICENSE VIOLATION       668\n",
       "OBSCENITY                               516\n",
       "NON-CRIMINAL                            216\n",
       "PUBLIC INDECENCY                        118\n",
       "HUMAN TRAFFICKING                        69\n",
       "Name: primary_type, dtype: int64"
      ]
     },
     "execution_count": 29,
     "metadata": {},
     "output_type": "execute_result"
    }
   ],
   "source": [
    "#Clean the primary type variable\n",
    "crime_type_cleaner(chicago_train)\n",
    "#Check the cleaned variable\n",
    "chicago_train[\"primary_type\"].value_counts()"
   ]
  },
  {
   "cell_type": "markdown",
   "id": "14ae8396",
   "metadata": {},
   "source": [
    "### Cleaning Location Description Variable"
   ]
  },
  {
   "cell_type": "code",
   "execution_count": 13,
   "id": "db31f68a",
   "metadata": {},
   "outputs": [
    {
     "data": {
      "text/plain": [
       "7844"
      ]
     },
     "execution_count": 13,
     "metadata": {},
     "output_type": "execute_result"
    }
   ],
   "source": [
    "#Check the number of missing values\n",
    "chicago_train[\"location_description\"].isnull().sum()"
   ]
  },
  {
   "cell_type": "code",
   "execution_count": 14,
   "id": "aa08530d",
   "metadata": {},
   "outputs": [
    {
     "data": {
      "text/html": [
       "<div>\n",
       "<style scoped>\n",
       "    .dataframe tbody tr th:only-of-type {\n",
       "        vertical-align: middle;\n",
       "    }\n",
       "\n",
       "    .dataframe tbody tr th {\n",
       "        vertical-align: top;\n",
       "    }\n",
       "\n",
       "    .dataframe thead th {\n",
       "        text-align: right;\n",
       "    }\n",
       "</style>\n",
       "<table border=\"1\" class=\"dataframe\">\n",
       "  <thead>\n",
       "    <tr style=\"text-align: right;\">\n",
       "      <th></th>\n",
       "      <th>unique_key</th>\n",
       "      <th>date</th>\n",
       "      <th>primary_type</th>\n",
       "      <th>location_description</th>\n",
       "      <th>arrest</th>\n",
       "      <th>domestic</th>\n",
       "      <th>year</th>\n",
       "      <th>latitude</th>\n",
       "      <th>longitude</th>\n",
       "      <th>district_name</th>\n",
       "      <th>community_name</th>\n",
       "    </tr>\n",
       "  </thead>\n",
       "  <tbody>\n",
       "    <tr>\n",
       "      <th>192</th>\n",
       "      <td>10625982</td>\n",
       "      <td>2015-08-01 16:20:00+00:00</td>\n",
       "      <td>DECEPTIVE PRACTICE</td>\n",
       "      <td>NaN</td>\n",
       "      <td>False</td>\n",
       "      <td>False</td>\n",
       "      <td>2015</td>\n",
       "      <td>NaN</td>\n",
       "      <td>NaN</td>\n",
       "      <td>Far North</td>\n",
       "      <td>NORTH PARK</td>\n",
       "    </tr>\n",
       "    <tr>\n",
       "      <th>285</th>\n",
       "      <td>12185129</td>\n",
       "      <td>2020-09-28 21:37:00+00:00</td>\n",
       "      <td>DECEPTIVE PRACTICE</td>\n",
       "      <td>NaN</td>\n",
       "      <td>False</td>\n",
       "      <td>False</td>\n",
       "      <td>2020</td>\n",
       "      <td>41.987639</td>\n",
       "      <td>-87.710214</td>\n",
       "      <td>Far North</td>\n",
       "      <td>NORTH PARK</td>\n",
       "    </tr>\n",
       "    <tr>\n",
       "      <th>2019</th>\n",
       "      <td>11489624</td>\n",
       "      <td>2018-10-26 15:05:00+00:00</td>\n",
       "      <td>DECEPTIVE PRACTICE</td>\n",
       "      <td>NaN</td>\n",
       "      <td>False</td>\n",
       "      <td>False</td>\n",
       "      <td>2018</td>\n",
       "      <td>41.994360</td>\n",
       "      <td>-87.723939</td>\n",
       "      <td>Far North</td>\n",
       "      <td>NORTH PARK</td>\n",
       "    </tr>\n",
       "    <tr>\n",
       "      <th>2034</th>\n",
       "      <td>12018775</td>\n",
       "      <td>2020-03-26 14:00:00+00:00</td>\n",
       "      <td>DECEPTIVE PRACTICE</td>\n",
       "      <td>NaN</td>\n",
       "      <td>False</td>\n",
       "      <td>False</td>\n",
       "      <td>2020</td>\n",
       "      <td>41.974920</td>\n",
       "      <td>-87.706215</td>\n",
       "      <td>Far North</td>\n",
       "      <td>NORTH PARK</td>\n",
       "    </tr>\n",
       "    <tr>\n",
       "      <th>2042</th>\n",
       "      <td>10596491</td>\n",
       "      <td>2016-06-16 13:00:00+00:00</td>\n",
       "      <td>DECEPTIVE PRACTICE</td>\n",
       "      <td>NaN</td>\n",
       "      <td>False</td>\n",
       "      <td>False</td>\n",
       "      <td>2016</td>\n",
       "      <td>41.985369</td>\n",
       "      <td>-87.712605</td>\n",
       "      <td>Far North</td>\n",
       "      <td>NORTH PARK</td>\n",
       "    </tr>\n",
       "    <tr>\n",
       "      <th>...</th>\n",
       "      <td>...</td>\n",
       "      <td>...</td>\n",
       "      <td>...</td>\n",
       "      <td>...</td>\n",
       "      <td>...</td>\n",
       "      <td>...</td>\n",
       "      <td>...</td>\n",
       "      <td>...</td>\n",
       "      <td>...</td>\n",
       "      <td>...</td>\n",
       "      <td>...</td>\n",
       "    </tr>\n",
       "    <tr>\n",
       "      <th>2970607</th>\n",
       "      <td>10465221</td>\n",
       "      <td>2016-03-24 14:25:00+00:00</td>\n",
       "      <td>DECEPTIVE PRACTICE</td>\n",
       "      <td>NaN</td>\n",
       "      <td>False</td>\n",
       "      <td>False</td>\n",
       "      <td>2016</td>\n",
       "      <td>41.982365</td>\n",
       "      <td>-87.662518</td>\n",
       "      <td>Far North</td>\n",
       "      <td>EDGEWATER</td>\n",
       "    </tr>\n",
       "    <tr>\n",
       "      <th>2970615</th>\n",
       "      <td>12114559</td>\n",
       "      <td>2020-07-23 11:58:00+00:00</td>\n",
       "      <td>DECEPTIVE PRACTICE</td>\n",
       "      <td>NaN</td>\n",
       "      <td>False</td>\n",
       "      <td>False</td>\n",
       "      <td>2020</td>\n",
       "      <td>41.991336</td>\n",
       "      <td>-87.656851</td>\n",
       "      <td>Far North</td>\n",
       "      <td>EDGEWATER</td>\n",
       "    </tr>\n",
       "    <tr>\n",
       "      <th>2970618</th>\n",
       "      <td>10883083</td>\n",
       "      <td>2017-03-19 11:55:00+00:00</td>\n",
       "      <td>DECEPTIVE PRACTICE</td>\n",
       "      <td>NaN</td>\n",
       "      <td>False</td>\n",
       "      <td>False</td>\n",
       "      <td>2017</td>\n",
       "      <td>NaN</td>\n",
       "      <td>NaN</td>\n",
       "      <td>Far North</td>\n",
       "      <td>EDGEWATER</td>\n",
       "    </tr>\n",
       "    <tr>\n",
       "      <th>2970632</th>\n",
       "      <td>10852091</td>\n",
       "      <td>2017-02-16 17:15:00+00:00</td>\n",
       "      <td>DECEPTIVE PRACTICE</td>\n",
       "      <td>NaN</td>\n",
       "      <td>False</td>\n",
       "      <td>False</td>\n",
       "      <td>2017</td>\n",
       "      <td>41.982755</td>\n",
       "      <td>-87.662528</td>\n",
       "      <td>Far North</td>\n",
       "      <td>EDGEWATER</td>\n",
       "    </tr>\n",
       "    <tr>\n",
       "      <th>2970635</th>\n",
       "      <td>12132604</td>\n",
       "      <td>2020-08-05 14:39:00+00:00</td>\n",
       "      <td>DECEPTIVE PRACTICE</td>\n",
       "      <td>NaN</td>\n",
       "      <td>False</td>\n",
       "      <td>False</td>\n",
       "      <td>2020</td>\n",
       "      <td>NaN</td>\n",
       "      <td>NaN</td>\n",
       "      <td>Far North</td>\n",
       "      <td>EDGEWATER</td>\n",
       "    </tr>\n",
       "  </tbody>\n",
       "</table>\n",
       "<p>7844 rows × 11 columns</p>\n",
       "</div>"
      ],
      "text/plain": [
       "         unique_key                      date        primary_type  \\\n",
       "192        10625982 2015-08-01 16:20:00+00:00  DECEPTIVE PRACTICE   \n",
       "285        12185129 2020-09-28 21:37:00+00:00  DECEPTIVE PRACTICE   \n",
       "2019       11489624 2018-10-26 15:05:00+00:00  DECEPTIVE PRACTICE   \n",
       "2034       12018775 2020-03-26 14:00:00+00:00  DECEPTIVE PRACTICE   \n",
       "2042       10596491 2016-06-16 13:00:00+00:00  DECEPTIVE PRACTICE   \n",
       "...             ...                       ...                 ...   \n",
       "2970607    10465221 2016-03-24 14:25:00+00:00  DECEPTIVE PRACTICE   \n",
       "2970615    12114559 2020-07-23 11:58:00+00:00  DECEPTIVE PRACTICE   \n",
       "2970618    10883083 2017-03-19 11:55:00+00:00  DECEPTIVE PRACTICE   \n",
       "2970632    10852091 2017-02-16 17:15:00+00:00  DECEPTIVE PRACTICE   \n",
       "2970635    12132604 2020-08-05 14:39:00+00:00  DECEPTIVE PRACTICE   \n",
       "\n",
       "        location_description  arrest  domestic  year   latitude  longitude  \\\n",
       "192                      NaN   False     False  2015        NaN        NaN   \n",
       "285                      NaN   False     False  2020  41.987639 -87.710214   \n",
       "2019                     NaN   False     False  2018  41.994360 -87.723939   \n",
       "2034                     NaN   False     False  2020  41.974920 -87.706215   \n",
       "2042                     NaN   False     False  2016  41.985369 -87.712605   \n",
       "...                      ...     ...       ...   ...        ...        ...   \n",
       "2970607                  NaN   False     False  2016  41.982365 -87.662518   \n",
       "2970615                  NaN   False     False  2020  41.991336 -87.656851   \n",
       "2970618                  NaN   False     False  2017        NaN        NaN   \n",
       "2970632                  NaN   False     False  2017  41.982755 -87.662528   \n",
       "2970635                  NaN   False     False  2020        NaN        NaN   \n",
       "\n",
       "        district_name community_name  \n",
       "192         Far North     NORTH PARK  \n",
       "285         Far North     NORTH PARK  \n",
       "2019        Far North     NORTH PARK  \n",
       "2034        Far North     NORTH PARK  \n",
       "2042        Far North     NORTH PARK  \n",
       "...               ...            ...  \n",
       "2970607     Far North      EDGEWATER  \n",
       "2970615     Far North      EDGEWATER  \n",
       "2970618     Far North      EDGEWATER  \n",
       "2970632     Far North      EDGEWATER  \n",
       "2970635     Far North      EDGEWATER  \n",
       "\n",
       "[7844 rows x 11 columns]"
      ]
     },
     "execution_count": 14,
     "metadata": {},
     "output_type": "execute_result"
    }
   ],
   "source": [
    "#Look at which rows are missing\n",
    "chicago_train.loc[chicago_train[\"location_description\"].isnull()]"
   ]
  },
  {
   "cell_type": "markdown",
   "id": "f0d2536a",
   "metadata": {},
   "source": [
    "Looks like there might be some relationship between the missing locations and the type of crime committed. Let's further explore this. "
   ]
  },
  {
   "cell_type": "code",
   "execution_count": 36,
   "id": "d4a895f3",
   "metadata": {
    "scrolled": false
   },
   "outputs": [
    {
     "data": {
      "text/plain": [
       "DECEPTIVE PRACTICE                   7124\n",
       "THEFT                                 704\n",
       "BURGLARY                                5\n",
       "ROBBERY                                 4\n",
       "BATTERY                                 2\n",
       "CRIMINAL DAMAGE                         2\n",
       "OTHER OFFENSE                           1\n",
       "ARSON                                   1\n",
       "CRIMINAL SEXUAL ASSAULT                 1\n",
       "SEX OFFENSE                             0\n",
       "NON-CRIMINAL                            0\n",
       "RITUALISM                               0\n",
       "PUBLIC PEACE VIOLATION                  0\n",
       "PUBLIC INDECENCY                        0\n",
       "PROSTITUTION                            0\n",
       "STALKING                                0\n",
       "OTHER NARCOTIC VIOLATION                0\n",
       "OFFENSE INVOLVING CHILDREN              0\n",
       "OBSCENITY                               0\n",
       "NON-CRIMINAL (SUBJECT SPECIFIED)        0\n",
       "MOTOR VEHICLE THEFT                     0\n",
       "NON - CRIMINAL                          0\n",
       "NARCOTICS                               0\n",
       "ASSAULT                                 0\n",
       "LIQUOR LAW VIOLATION                    0\n",
       "KIDNAPPING                              0\n",
       "INTIMIDATION                            0\n",
       "INTERFERENCE WITH PUBLIC OFFICER        0\n",
       "HUMAN TRAFFICKING                       0\n",
       "HOMICIDE                                0\n",
       "GAMBLING                                0\n",
       "CRIMINAL TRESPASS                       0\n",
       "CRIM SEXUAL ASSAULT                     0\n",
       "CONCEALED CARRY LICENSE VIOLATION       0\n",
       "WEAPONS VIOLATION                       0\n",
       "Name: primary_type, dtype: int64"
      ]
     },
     "execution_count": 36,
     "metadata": {},
     "output_type": "execute_result"
    }
   ],
   "source": [
    "#Look at the counts of the primary type variable with the data filtered to those values of location that are missing\n",
    "chicago_train.loc[chicago_train[\"location_description\"].isnull()][\"primary_type\"].value_counts()"
   ]
  },
  {
   "cell_type": "markdown",
   "id": "19a372ea",
   "metadata": {},
   "source": [
    "It appears that nearly all missing values for location description have a primary type that is labeled as \"DECEPTIVE PRACTICE\". Let's see what the non-missing values for location description have for their corresponding \"DECEPTIVE PRACTICE\" values."
   ]
  },
  {
   "cell_type": "code",
   "execution_count": 24,
   "id": "5675268c",
   "metadata": {},
   "outputs": [
    {
     "data": {
      "text/plain": [
       "RESIDENCE                54361\n",
       "APARTMENT                17232\n",
       "OTHER                    16680\n",
       "STREET                    8369\n",
       "BANK                      6910\n",
       "                         ...  \n",
       "PORCH                        0\n",
       "POOLROOM                     0\n",
       "EXPRESSWAY EMBANKMENT        0\n",
       "FARM                         0\n",
       "YMCA                         0\n",
       "Name: location_description, Length: 197, dtype: int64"
      ]
     },
     "execution_count": 24,
     "metadata": {},
     "output_type": "execute_result"
    }
   ],
   "source": [
    "#Create a boolean mask that filters the data to non-missing locations with a primary type of \"DECEPTIVE PRACTICE\"\n",
    "mask = (chicago_train[\"location_description\"].notnull()) & (chicago_train[\"primary_type\"] == \"DECEPTIVE PRACTICE\")\n",
    "chicago_train.loc[mask][\"location_description\"].value_counts()"
   ]
  },
  {
   "cell_type": "markdown",
   "id": "e0b88acf",
   "metadata": {},
   "source": [
    "Thus, it appears that the \"RESIDENCE\" location occurrs the most for non-missing \"DECEPTIVE PRACTICE\" crimes. Therefore, we can impute the missing values for location that have the corresponding crime as \"DECEPTIVE PRACTICE\" with \"RESIDENCE\".  "
   ]
  },
  {
   "cell_type": "markdown",
   "id": "9cafd603",
   "metadata": {},
   "source": [
    "Let's do the same process for the \"THEFT\" crime"
   ]
  },
  {
   "cell_type": "code",
   "execution_count": 23,
   "id": "23dda90b",
   "metadata": {},
   "outputs": [
    {
     "data": {
      "text/plain": [
       "STREET                152284\n",
       "RESIDENCE              58720\n",
       "APARTMENT              41793\n",
       "SMALL RETAIL STORE     35004\n",
       "DEPARTMENT STORE       32695\n",
       "                       ...  \n",
       "ELEVATOR                   0\n",
       "DRIVEWAY                   0\n",
       "SCHOOL YARD                0\n",
       "CTA PROPERTY               0\n",
       "YMCA                       0\n",
       "Name: location_description, Length: 197, dtype: int64"
      ]
     },
     "execution_count": 23,
     "metadata": {},
     "output_type": "execute_result"
    }
   ],
   "source": [
    "#Create a boolean mask that filters the data to non-missing locations with a primary type of \"THEFT\"\n",
    "mask = (chicago_train[\"location_description\"].notnull()) & (chicago_train[\"primary_type\"] == \"THEFT\")\n",
    "chicago_train.loc[mask][\"location_description\"].value_counts()"
   ]
  },
  {
   "cell_type": "markdown",
   "id": "45e518fb",
   "metadata": {},
   "source": [
    "Now, it appears that the \"STREET\" location is the most occurring for non-missing \"THEFT\" crimes. Let's impute the missing values for location that have the corresponding crime as \"THEFT\" with \"STREET\". "
   ]
  },
  {
   "cell_type": "markdown",
   "id": "39b7617b",
   "metadata": {},
   "source": [
    "Finally, we'll collect the remaining crimes into one group due to their low counts and check what crime is most occurring for the group."
   ]
  },
  {
   "cell_type": "code",
   "execution_count": 37,
   "id": "ae68de8d",
   "metadata": {},
   "outputs": [
    {
     "data": {
      "text/plain": [
       "location_description\n",
       "RESIDENCE               277616\n",
       "APARTMENT               248008\n",
       "STREET                  235210\n",
       "SIDEWALK                125040\n",
       "RESIDENCE-GARAGE         35372\n",
       "                         ...  \n",
       "PARKING LOT                  0\n",
       "CLUB                         0\n",
       "OFFICE                       0\n",
       "NURSING HOME                 0\n",
       "YMCA                         0\n",
       "Length: 197, dtype: int64"
      ]
     },
     "execution_count": 37,
     "metadata": {},
     "output_type": "execute_result"
    }
   ],
   "source": [
    "crime_type = [\"BURGLARY\", \"ROBBERY\", \"BATTERY\", \"CRIMINAL DAMAGE\", \"ARSON\", \"CRIMINAL SEXUAL ASSAULT\", \"OTHER OFFENSE\"]\n",
    "mask = (chicago_train[\"primary_type\"].isin(crime_type)) & (chicago_train[\"location_description\"].notnull())\n",
    "chicago_train.loc[mask, [\"location_description\"]].value_counts()"
   ]
  },
  {
   "cell_type": "markdown",
   "id": "ed5b2a72",
   "metadata": {},
   "source": [
    "Again, it looks like \"RESIDENCE\" is the most occuring location for the group of crimes when location is not missing. Thus, we can impute the missing location values for the group of crimes as \"RESIDENCE\". "
   ]
  },
  {
   "cell_type": "markdown",
   "id": "b500035a",
   "metadata": {},
   "source": [
    "We'll collect all of these missing value imputations into one function"
   ]
  },
  {
   "cell_type": "code",
   "execution_count": 38,
   "id": "63ffbb6d",
   "metadata": {},
   "outputs": [],
   "source": [
    "def location_imputer(df):\n",
    "    \"\"\"\n",
    "    This function imputes missing values in the location_description column by setting the missing value to the value that \n",
    "    occurs most in the primary_type column in place\n",
    "    \n",
    "    df: DataFrame that contains the location_description column\n",
    "    \n",
    "    returns: None\n",
    "    \"\"\"\n",
    "    mask = (df.loc[:, \"primary_type\"] == \"DECEPTIVE PRACTICE\") & (df.loc[:, \"location_description\"].isnull())\n",
    "    df.loc[mask, [\"location_description\"]] = \"RESIDENCE\"\n",
    "    \n",
    "    mask = (df.loc[:, \"primary_type\"] == \"THEFT\") & (df.loc[:, \"location_description\"].isnull())\n",
    "    df.loc[mask, [\"location_description\"]] = \"STREET\"\n",
    "    \n",
    "    crime_type = [\"BURGLARY\", \"ROBBERY\", \"BATTERY\", \"CRIMINAL DAMAGE\", \"ARSON\", \"CRIMINAL SEXUAL ASSAULT\", \"OTHER OFFENSE\"]\n",
    "    mask = (df.loc[:, \"primary_type\"].isin(crime_type)) & (df.loc[:, \"location_description\"].isnull())\n",
    "    df.loc[mask, [\"location_description\"]] = \"RESIDENCE\"\n",
    "    "
   ]
  },
  {
   "cell_type": "code",
   "execution_count": 40,
   "id": "283f15d4",
   "metadata": {},
   "outputs": [
    {
     "data": {
      "text/plain": [
       "0"
      ]
     },
     "execution_count": 40,
     "metadata": {},
     "output_type": "execute_result"
    }
   ],
   "source": [
    "#Impute the missing values\n",
    "location_imputer(chicago_train)\n",
    "#Check that there are no missing values\n",
    "chicago_train[\"location_description\"].isnull().sum()"
   ]
  },
  {
   "cell_type": "markdown",
   "id": "843acb52",
   "metadata": {},
   "source": [
    "Now we can examine the different locations"
   ]
  },
  {
   "cell_type": "code",
   "execution_count": 53,
   "id": "17c23cc5",
   "metadata": {},
   "outputs": [
    {
     "data": {
      "text/plain": [
       "STREET                                                   638800\n",
       "RESIDENCE                                                473271\n",
       "APARTMENT                                                366599\n",
       "SIDEWALK                                                 277648\n",
       "OTHER                                                    101780\n",
       "PARKING LOT/GARAGE(NON.RESID.)                            76267\n",
       "SMALL RETAIL STORE                                        60930\n",
       "ALLEY                                                     59350\n",
       "RESTAURANT                                                55421\n",
       "RESIDENTIAL YARD (FRONT/BACK)                             53164\n",
       "VEHICLE NON-COMMERCIAL                                    48626\n",
       "RESIDENCE PORCH/HALLWAY                                   46118\n",
       "RESIDENCE-GARAGE                                          44805\n",
       "SCHOOL, PUBLIC, BUILDING                                  43233\n",
       "DEPARTMENT STORE                                          41196\n",
       "GAS STATION                                               33399\n",
       "GROCERY FOOD STORE                                        32508\n",
       "PARK PROPERTY                                             21477\n",
       "BAR OR TAVERN                                             19054\n",
       "COMMERCIAL / BUSINESS OFFICE                              16178\n",
       "CTA TRAIN                                                 15906\n",
       "CONVENIENCE STORE                                         15839\n",
       "CTA PLATFORM                                              12793\n",
       "HOTEL/MOTEL                                               12141\n",
       "SCHOOL, PUBLIC, GROUNDS                                   11346\n",
       "CTA BUS                                                   11066\n",
       "DRUG STORE                                                11040\n",
       "BANK                                                      10653\n",
       "VACANT LOT/LAND                                           10474\n",
       "HOSPITAL BUILDING/GROUNDS                                 10010\n",
       "POLICE FACILITY/VEH PARKING LOT                            8126\n",
       "CHA APARTMENT                                              7977\n",
       "DRIVEWAY - RESIDENTIAL                                     7176\n",
       "CHA PARKING LOT/GROUNDS                                    6787\n",
       "NURSING HOME/RETIREMENT HOME                               6352\n",
       "CTA BUS STOP                                               6331\n",
       "ABANDONED BUILDING                                         5774\n",
       "CTA STATION                                                5767\n",
       "CHURCH/SYNAGOGUE/PLACE OF WORSHIP                          5731\n",
       "SCHOOL, PRIVATE, BUILDING                                  5614\n",
       "GOVERNMENT BUILDING/PROPERTY                               5502\n",
       "TAVERN/LIQUOR STORE                                        5486\n",
       "OTHER (SPECIFY)                                            5435\n",
       "ATHLETIC CLUB                                              4898\n",
       "CTA GARAGE / OTHER PROPERTY                                4863\n",
       "ATM (AUTOMATIC TELLER MACHINE)                             4856\n",
       "PARKING LOT / GARAGE (NON RESIDENTIAL)                     4812\n",
       "CURRENCY EXCHANGE                                          4193\n",
       "AIRPORT TERMINAL UPPER LEVEL - SECURE AREA                 3783\n",
       "TAXICAB                                                    3686\n",
       "RESIDENCE - YARD (FRONT / BACK)                            3502\n",
       "CONSTRUCTION SITE                                          3427\n",
       "RESIDENCE - PORCH / HALLWAY                                3391\n",
       "WAREHOUSE                                                  3096\n",
       "SPORTS ARENA/STADIUM                                       2638\n",
       "MEDICAL/DENTAL OFFICE                                      2636\n",
       "RESIDENCE - GARAGE                                         2531\n",
       "BARBERSHOP                                                 2522\n",
       "LIBRARY                                                    2511\n",
       "VEHICLE-COMMERCIAL                                         2303\n",
       "OTHER RAILROAD PROP / TRAIN DEPOT                          2050\n",
       "COLLEGE/UNIVERSITY GROUNDS                                 1846\n",
       "SCHOOL, PRIVATE, GROUNDS                                   1820\n",
       "AIRPORT TERMINAL LOWER LEVEL - NON-SECURE AREA             1669\n",
       "CHA HALLWAY/STAIRWELL/ELEVATOR                             1664\n",
       "DAY CARE CENTER                                            1530\n",
       "FACTORY/MANUFACTURING BUILDING                             1491\n",
       "OTHER COMMERCIAL TRANSPORTATION                            1308\n",
       "CAR WASH                                                   1199\n",
       "CLEANING STORE                                             1006\n",
       "AIRPORT BUILDING NON-TERMINAL - NON-SECURE AREA             992\n",
       "MOVIE HOUSE/THEATER                                         962\n",
       "HOSPITAL BUILDING / GROUNDS                                 930\n",
       "AIRPORT VENDING ESTABLISHMENT                               916\n",
       "HOTEL / MOTEL                                               851\n",
       "APPLIANCE STORE                                             821\n",
       "POLICE FACILITY / VEHICLE PARKING LOT                       803\n",
       "AIRPORT/AIRCRAFT                                            798\n",
       "AIRPORT PARKING LOT                                         769\n",
       "AIRPORT EXTERIOR - NON-SECURE AREA                          766\n",
       "AUTO / BOAT / RV DEALERSHIP                                 744\n",
       "AIRPORT TERMINAL UPPER LEVEL - NON-SECURE AREA              725\n",
       "AIRCRAFT                                                    679\n",
       "JAIL / LOCK-UP FACILITY                                     657\n",
       "AIRPORT TERMINAL LOWER LEVEL - SECURE AREA                  639\n",
       "LAKEFRONT/WATERFRONT/RIVERBANK                              638\n",
       "AIRPORT BUILDING NON-TERMINAL - SECURE AREA                 637\n",
       "POOL ROOM                                                   593\n",
       "NURSING / RETIREMENT HOME                                   568\n",
       "COLLEGE/UNIVERSITY RESIDENCE HALL                           562\n",
       "AUTO                                                        550\n",
       "ANIMAL HOSPITAL                                             515\n",
       "VACANT LOT / LAND                                           512\n",
       "SCHOOL - PUBLIC BUILDING                                    501\n",
       "PAWN SHOP                                                   486\n",
       "VEHICLE - OTHER RIDE SHARE SERVICE (E.G., UBER, LYFT)       468\n",
       "HIGHWAY/EXPRESSWAY                                          431\n",
       "FIRE STATION                                                418\n",
       "GOVERNMENT BUILDING / PROPERTY                              413\n",
       "CHA PARKING LOT / GROUNDS                                   372\n",
       "FEDERAL BUILDING                                            367\n",
       "VEHICLE - OTHER RIDE SERVICE                                331\n",
       "TAVERN / LIQUOR STORE                                       318\n",
       "AIRPORT EXTERIOR - SECURE AREA                              312\n",
       "CHURCH / SYNAGOGUE / PLACE OF WORSHIP                       299\n",
       "BOAT/WATERCRAFT                                             294\n",
       "COIN OPERATED MACHINE                                       290\n",
       "HOUSE                                                       266\n",
       "MEDICAL / DENTAL OFFICE                                     256\n",
       "BOWLING ALLEY                                               256\n",
       "SCHOOL - PUBLIC GROUNDS                                     225\n",
       "VEHICLE - DELIVERY TRUCK                                    219\n",
       "BRIDGE                                                      217\n",
       "CREDIT UNION                                                192\n",
       "PORCH                                                       181\n",
       "CTA TRACKS - RIGHT OF WAY                                   168\n",
       "SCHOOL - PRIVATE BUILDING                                   161\n",
       "CEMETARY                                                    161\n",
       "YARD                                                        160\n",
       "CTA PARKING LOT / GARAGE / OTHER PROPERTY                   137\n",
       "OTHER RAILROAD PROPERTY / TRAIN DEPOT                       128\n",
       "SAVINGS AND LOAN                                            125\n",
       "VEHICLE - OTHER RIDE SHARE SERVICE (LYFT, UBER, ETC.)       121\n",
       "CHA HALLWAY / STAIRWELL / ELEVATOR                          120\n",
       "VEHICLE - COMMERCIAL                                        120\n",
       "FOREST PRESERVE                                             110\n",
       "FACTORY / MANUFACTURING BUILDING                            101\n",
       "DELIVERY TRUCK                                               88\n",
       "PARKING LOT                                                  88\n",
       "AIRPORT TRANSPORTATION SYSTEM (ATS)                          88\n",
       "AIRPORT TERMINAL MEZZANINE - NON-SECURE AREA                 82\n",
       "NEWSSTAND                                                    62\n",
       "SPORTS ARENA / STADIUM                                       57\n",
       "SCHOOL - PRIVATE GROUNDS                                     56\n",
       "VACANT LOT                                                   48\n",
       "COLLEGE / UNIVERSITY - GROUNDS                               45\n",
       "HIGHWAY / EXPRESSWAY                                         45\n",
       "LAKEFRONT / WATERFRONT / RIVERBANK                           38\n",
       "HALLWAY                                                      37\n",
       "RETAIL STORE                                                 36\n",
       "CHA PARKING LOT                                              27\n",
       "GANGWAY                                                      26\n",
       "BOAT / WATERCRAFT                                            25\n",
       "GAS STATION DRIVE/PROP.                                      25\n",
       "GARAGE                                                       24\n",
       "COLLEGE / UNIVERSITY - RESIDENCE HALL                        16\n",
       "MOVIE HOUSE / THEATER                                        15\n",
       "HOTEL                                                        12\n",
       "VESTIBULE                                                    11\n",
       "VEHICLE-COMMERCIAL - ENTERTAINMENT/PARTY BUS                 10\n",
       "KENNEL                                                       10\n",
       "DRIVEWAY                                                     10\n",
       "VEHICLE-COMMERCIAL - TROLLEY BUS                             10\n",
       "TAVERN                                                       10\n",
       "STAIRWELL                                                     9\n",
       "BARBER SHOP/BEAUTY SALON                                      9\n",
       "HOSPITAL                                                      8\n",
       "CHA GROUNDS                                                   6\n",
       "CTA \"L\" PLATFORM                                              6\n",
       "FARM                                                          6\n",
       "SCHOOL YARD                                                   5\n",
       "VEHICLE - COMMERCIAL: ENTERTAINMENT / PARTY BUS               5\n",
       "CLUB                                                          5\n",
       "BASEMENT                                                      5\n",
       "NURSING HOME                                                  4\n",
       "OFFICE                                                        4\n",
       "LIQUOR STORE                                                  4\n",
       "GARAGE/AUTO REPAIR                                            3\n",
       "CTA PROPERTY                                                  3\n",
       "HORSE STABLE                                                  3\n",
       "VEHICLE - COMMERCIAL: TROLLEY BUS                             2\n",
       "RIVER BANK                                                    2\n",
       "WOODED AREA                                                   2\n",
       "CHA HALLWAY                                                   2\n",
       "MOTEL                                                         2\n",
       "RAILROAD PROPERTY                                             2\n",
       "TAXI CAB                                                      2\n",
       "GOVERNMENT BUILDING                                           2\n",
       "CHA PLAY LOT                                                  2\n",
       "CHURCH                                                        2\n",
       "CLEANERS/LAUNDROMAT                                           1\n",
       "TRUCK                                                         1\n",
       "TRAILER                                                       1\n",
       "SEWER                                                         1\n",
       "ROOMING HOUSE                                                 1\n",
       "CHURCH PROPERTY                                               1\n",
       "PUBLIC HIGH SCHOOL                                            1\n",
       "POOLROOM                                                      1\n",
       "CTA \"L\" TRAIN                                                 1\n",
       "CTA SUBWAY STATION                                            1\n",
       "ELEVATOR                                                      1\n",
       "EXPRESSWAY EMBANKMENT                                         1\n",
       "LAUNDRY ROOM                                                  1\n",
       "LAKE                                                          1\n",
       "LAGOON                                                        1\n",
       "YMCA                                                          1\n",
       "CHA ELEVATOR                                                  0\n",
       "Name: location_description, dtype: int64"
      ]
     },
     "execution_count": 53,
     "metadata": {},
     "output_type": "execute_result"
    }
   ],
   "source": [
    "#Take a look at the different categories in the location description variable\n",
    "pd.set_option(\"display.max_rows\", None)\n",
    "chicago_train[\"location_description\"].value_counts()"
   ]
  },
  {
   "cell_type": "markdown",
   "id": "3b882988",
   "metadata": {},
   "source": [
    "Clearly, there are too many categories, 197, to be used in a model with most variables having very few occurrences. Let's see if we can't combine some of the similar values into one category. For instance, there are numerous different ways to break down Chicago Transit Authority (CTA) which can all be combined into one CTA category"
   ]
  },
  {
   "cell_type": "code",
   "execution_count": 51,
   "id": "abdd9e15",
   "metadata": {},
   "outputs": [
    {
     "data": {
      "text/plain": [
       "CTA TRAIN                                    15906\n",
       "CTA PLATFORM                                 12793\n",
       "CTA BUS                                      11066\n",
       "CTA BUS STOP                                  6331\n",
       "CTA STATION                                   5767\n",
       "CTA GARAGE / OTHER PROPERTY                   4863\n",
       "CTA TRACKS - RIGHT OF WAY                      168\n",
       "CTA PARKING LOT / GARAGE / OTHER PROPERTY      137\n",
       "CTA \"L\" PLATFORM                                 6\n",
       "CTA PROPERTY                                     3\n",
       "CTA SUBWAY STATION                               1\n",
       "CTA \"L\" TRAIN                                    1\n",
       "POLICE FACILITY/VEH PARKING LOT                  0\n",
       "POLICE FACILITY / VEHICLE PARKING LOT            0\n",
       "PAWN SHOP                                        0\n",
       "PARKING LOT/GARAGE(NON.RESID.)                   0\n",
       "PARKING LOT / GARAGE (NON RESIDENTIAL)           0\n",
       "ABANDONED BUILDING                               0\n",
       "HOTEL/MOTEL                                      0\n",
       "POOL ROOM                                        0\n",
       "Name: location_description, dtype: int64"
      ]
     },
     "execution_count": 51,
     "metadata": {},
     "output_type": "execute_result"
    }
   ],
   "source": [
    "chicago_train.loc[chicago_train[\"location_description\"].str.contains(\"CTA\")][\"location_description\"].value_counts()[:20]"
   ]
  },
  {
   "cell_type": "markdown",
   "id": "95793372",
   "metadata": {},
   "source": [
    "We'll do this process of combining categories by putting them all into one function"
   ]
  },
  {
   "cell_type": "code",
   "execution_count": 54,
   "id": "265c97d8",
   "metadata": {},
   "outputs": [],
   "source": [
    "def location_cleaner(df):\n",
    "    \"\"\"\n",
    "    This function cleans the location_description by merging categories together that are logically related in place.\n",
    "    \n",
    "    df: DataFrame that contains the location_description column\n",
    "    \n",
    "    returns: None\n",
    "    \"\"\"\n",
    "\n",
    "    #Combine all values related to CTA\n",
    "    CTA = [\"CTA TRAIN\", \"CTA PLATFORM\", \"CTA BUS\", \"CTA BUS STOP\", \"CTA STATION\", \"CTA GARAGE / OTHER PROPERTY\", \n",
    "           \"CTA TRACKS - RIGHT OF WAY\", \"CTA PARKING LOT / GARAGE / OTHER PROPERTY\", \"\"\"CTA \"L\" PLATFORM\"\"\",\n",
    "          \"CTA PROPERTY\", \"\"\"CTA \"L\" TRAIN\"\"\", \"CTA SUBWAY STATION\"]\n",
    "    df[\"location_description\"].replace(CTA, \"CTA\", inplace = True)\n",
    "\n",
    "    #Combine GANGWAY into ALLEY\n",
    "    df[\"location_description\"].replace([\"GANGWAY\"], \"ALLEY\", inplace = True)\n",
    "\n",
    "    #Combine all values related to Sports/Clubs\n",
    "    sports = [\"ATHLETIC CLUB\", \"SPORTS ARENA/STADIUM\", \"SPORTS ARENA / STADIUM\", \"CLUB\"]\n",
    "    df[\"location_description\"].replace(sports, \"SPORTS\", inplace = True)\n",
    "\n",
    "    #Combine all values related to VACANT\n",
    "    vacant = [\"VACANT LOT/LAND\", \"VACANT LOT / LAND\", \"VACANT LOT\"]\n",
    "    df[\"location_description\"].replace(vacant, \"VACANT\", inplace = True)\n",
    "\n",
    "    #Combine the two Gas Station values\n",
    "    df[\"location_description\"].replace([\"GAS STATION DRIVE/PROP.\"], \"GAS STATION\", inplace = True)\n",
    "\n",
    "    #Combine all values related to Water/River/Lake\n",
    "    water = [\"LAKEFRONT/WATERFRONT/RIVERBANK\", \"POOL ROOM\", \"BOAT/WATERCRAFT\", \"LAKEFRONT / WATERFRONT / RIVERBANK\", \n",
    "             \"BOAT / WATERCRAFT\", \"RIVER BANK\", \"POOLROOM\", \"LAKE\", \"LAGOON\"]\n",
    "    df[\"location_description\"].replace(water, \"WATER\", inplace = True)\n",
    "\n",
    "    #Combine all values related to Banks/Credit Unions\n",
    "    bank = [\"ATM (AUTOMATIC TELLER MACHINE)\", \"CURRENCY EXCHANGE\", \"CREDIT UNION\", \"SAVINGS AND LOAN\"]\n",
    "    df[\"location_description\"].replace(bank, \"BANK\", inplace = True)\n",
    "\n",
    "    #Combine all values related to Roads/Streets/Highway\n",
    "    street = [\"HIGHWAY/EXPRESSWAY\", \"BRIDGE\", \"HIGHWAY / EXPRESSWAY\", \"EXPRESSWAY EMBANKMENT\"]\n",
    "    df[\"location_description\"].replace(street, \"STREET\", inplace = True)\n",
    "\n",
    "    #Combine all values related to Residence/Houses or items inside a House\n",
    "    residence = [\"RESIDENCE PORCH/HALLWAY\", \"RESIDENCE-GARAGE\", \"RESIDENCE - YARD (FRONT / BACK)\", \"RESIDENCE - PORCH / HALLWAY\", \n",
    "           \"RESIDENCE - GARAGE\", \"RESIDENTIAL YARD (FRONT/BACK)\", \"HOUSE\", \"ROOMING HOUSE\", \"PORCH\", \"YARD\", \"HALLWAY\", \"GARAGE\",\n",
    "          \"VESTIBULE\", \"STAIRWELL\", \"BASEMENT\", \"LAUNDRY ROOM\", \"DRIVEWAY\", \"DRIVEWAY - RESIDENTIAL\"]\n",
    "    df[\"location_description\"].replace(residence, \"RESIDENCE\", inplace = True)\n",
    "\n",
    "    #Combine all values related to College\n",
    "    college = [\"COLLEGE/UNIVERSITY GROUNDS\", \"COLLEGE/UNIVERSITY RESIDENCE HALL\", \"COLLEGE / UNIVERSITY - GROUNDS\", \n",
    "           \"COLLEGE / UNIVERSITY - RESIDENCE HALL\"]\n",
    "    df[\"location_description\"].replace(college, \"COLLEGE\", inplace = True)\n",
    "\n",
    "    #Combine all values related to CTA into one CTA category\n",
    "    veh = [\"VEHICLE NON-COMMERCIAL\", \"VEHICLE-COMMERCIAL\", \"VEHICLE - OTHER RIDE SHARE SERVICE (E.G., UBER, LYFT)\", \n",
    "           \"VEHICLE - OTHER RIDE SERVICE\", \"VEHICLE - DELIVERY TRUCK\", \"VEHICLE - OTHER RIDE SHARE SERVICE (LYFT, UBER, ETC.)\", \n",
    "           \"VEHICLE - COMMERCIAL\", \"VEHICLE-COMMERCIAL - TROLLEY BUS\", \"VEHICLE-COMMERCIAL - ENTERTAINMENT/PARTY BUS\", \n",
    "           \"VEHICLE - COMMERCIAL: TROLLEY BUS\", \"VEHICLE - COMMERCIAL: ENTERTAINMENT / PARTY BUS\", \"TAXICAB\", \"\",\n",
    "          \"AUTO / BOAT / RV DEALERSHIP\", \"AUTO\", \"DELIVERY TRUCK\", \"GARAGE/AUTO REPAIR\", \"TAXI CAB\", \"TRUCK\", \"TRAILER\"]\n",
    "    df[\"location_description\"].replace(veh, \"VEHICLE\", inplace = True)\n",
    "\n",
    "    #Combine all values related to Police/Fire Station/Protection\n",
    "    police = [\"POLICE FACILITY/VEH PARKING LOT\", \"POLICE FACILITY / VEHICLE PARKING LOT\", \"JAIL / LOCK-UP FACILITY\",\n",
    "             \"FIRE STATION\", \"FOREST PRESERVE\"]\n",
    "    df[\"location_description\"].replace(police, \"POLICE\", inplace = True)\n",
    "\n",
    "    #Combine all values related to Parking\n",
    "    parking = [\"PARKING LOT/GARAGE(NON.RESID.)\", \"CHA PARKING LOT/GROUNDS\", \"PARKING LOT / GARAGE (NON RESIDENTIAL)\", \n",
    "            \"CHA PARKING LOT / GROUNDS\", \"PARKING LOT\", \"CHA PARKING LOT\"]\n",
    "    df[\"location_description\"].replace(parking, \"PARKING\", inplace = True)\n",
    "\n",
    "    #Combine all values related to Airports\n",
    "    air = [\"AIRPORT TERMINAL UPPER LEVEL - SECURE AREA\", \"AIRPORT TERMINAL LOWER LEVEL - NON-SECURE AREA\", \n",
    "           \"AIRPORT BUILDING NON-TERMINAL - NON-SECURE AREA\", \"AIRPORT VENDING ESTABLISHMENT\", \"AIRPORT/AIRCRAFT\", \"AIRCRAFT\", \n",
    "           \"AIRPORT PARKING LOT\", \"AIRPORT EXTERIOR - NON-SECURE AREA\", \"AIRPORT TERMINAL LOWER LEVEL - SECURE AREA\", \n",
    "           \"AIRPORT BUILDING NON-TERMINAL - SECURE AREA\", \"AIRPORT EXTERIOR - SECURE AREA\", \"AIRPORT TRANSPORTATION SYSTEM (ATS)\",\n",
    "           \"AIRPORT TERMINAL MEZZANINE - NON-SECURE AREA\", \"AIRPORT TERMINAL UPPER LEVEL - NON-SECURE AREA\"]\n",
    "    df[\"location_description\"].replace(air, \"AIRPORT\", inplace = True)\n",
    "\n",
    "    #Combine all values related to School/Day Care\n",
    "    school = [\"SCHOOL, PUBLIC, BUILDING\", \"SCHOOL, PUBLIC, GROUNDS\", \"SCHOOL - PUBLIC BUILDING\", \"SCHOOL - PUBLIC GROUNDS\", \n",
    "              \"PUBLIC HIGH SCHOOL\", \"SCHOOL, PRIVATE, BUILDING\", \"SCHOOL, PRIVATE, GROUNDS\", \"SCHOOL - PRIVATE BUILDING\", \n",
    "              \"SCHOOL - PRIVATE GROUNDS\", \"SCHOOL YARD\", \"DAY CARE CENTER\"]\n",
    "    df[\"location_description\"].replace(school, \"SCHOOL\", inplace = True)\n",
    "\n",
    "    #Combine all values related to Bar/Tavern/Restaurant\n",
    "    restaurant = [\"BAR OR TAVERN\", \"TAVERN\"]\n",
    "    df[\"location_description\"].replace(restaurant, \"RESTAURANT\", inplace = True)\n",
    "\n",
    "    #Combine all values related to stores\n",
    "    store = [\"SMALL RETAIL STORE\", \"DEPARTMENT STORE\", \"GROCERY FOOD STORE\", \"CONVENIENCE STORE\", \"DRUG STORE\", \n",
    "             \"TAVERN/LIQUOR STORE\", \"CLEANING STORE\", \"APPLIANCE STORE\", \"TAVERN / LIQUOR STORE\", \"RETAIL STORE\", \n",
    "             \"LIQUOR STORE\", \"NEWSSTAND\", \"PAWN SHOP\", \"MOVIE HOUSE/THEATER\", \"MOVIE HOUSE / THEATER\", \"BARBERSHOP\", \n",
    "             \"CAR WASH\", \"COIN OPERATED MACHINE\", \"BOWLING ALLEY\",\"KENNEL\", \"BARBER SHOP/BEAUTY SALON\", \"CLEANERS/LAUNDROMAT\"]\n",
    "    df[\"location_description\"].replace(store, \"STORE\", inplace = True)\n",
    "\n",
    "    #Combine all values related to hospitals or nursing homes\n",
    "    hos = [\"HOSPITAL BUILDING/GROUNDS\", \"HOSPITAL BUILDING / GROUNDS\", \"ANIMAL HOSPITAL\", \"NURSING HOME/RETIREMENT HOME\", \n",
    "           \"NURSING / RETIREMENT HOME\", \"NURSING HOME\"]\n",
    "    df[\"location_description\"].replace(hos, \"HOSPITAL\", inplace = True)\n",
    "\n",
    "    #Combine all values related to hotels/motels\n",
    "    hotel = [\"HOTEL/MOTEL\", \"HOTEL / MOTEL\", \"MOTEL\"]\n",
    "    df[\"location_description\"].replace(hotel, \"HOTEL\", inplace = True)\n",
    "\n",
    "    #Combine all values related to offices\n",
    "    office = [\"COMMERCIAL / BUSINESS OFFICE\", \"MEDICAL/DENTAL OFFICE\", \"MEDICAL / DENTAL OFFICE\"]\n",
    "    df[\"location_description\"].replace(office, \"OFFICE\", inplace = True)\n",
    "\n",
    "    #Combine all values related to buildings\n",
    "    building = [\"ABANDONED BUILDING\", \"GOVERNMENT BUILDING/PROPERTY\", \"FACTORY/MANUFACTURING BUILDING\", \n",
    "                \"GOVERNMENT BUILDING / PROPERTY\", \"FEDERAL BUILDING\", \"FACTORY / MANUFACTURING BUILDING\", \"GOVERNMENT BUILDING\",\n",
    "               \"WAREHOUSE\", \"ELEVATOR\", \"YMCA\"]\n",
    "    df[\"location_description\"].replace(building, \"BUILDING\", inplace = True)\n",
    "\n",
    "    #Combine all values related to Chicago Housing Authority (CHA)\n",
    "    cha = [\"CHA APARTMENT\", \"CHA HALLWAY/STAIRWELL/ELEVATOR\", \"CHA HALLWAY / STAIRWELL / ELEVATOR\", \"CHA GROUNDS\", \n",
    "           \"CHA PLAY LOT\", \"CHA HALLWAY\", \"CHA ELEVATOR\"]\n",
    "    df[\"location_description\"].replace(cha, \"CHA\", inplace = True)\n",
    "\n",
    "    #Combine all values related to Church\n",
    "    church = [\"CHURCH/SYNAGOGUE/PLACE OF WORSHIP\", \"CHURCH / SYNAGOGUE / PLACE OF WORSHIP\", \"CHURCH PROPERTY\"]\n",
    "    df[\"location_description\"].replace(church, \"CHURCH\", inplace = True)\n",
    "\n",
    "    #Combine all other miscellaneous vaules\n",
    "    other = [\"OTHER (SPECIFY)\", \"OTHER RAILROAD PROP / TRAIN DEPOT\", \"OTHER COMMERCIAL TRANSPORTATION\", \n",
    "             \"OTHER RAILROAD PROPERTY / TRAIN DEPOT\", \"CEMETARY\", \"FARM\", \"HORSE STABLE\", \"RAILROAD PROPERTY\",\n",
    "             \"WOODED AREA\", \"SEWER\"]\n",
    "    df[\"location_description\"].replace(other, \"OTHER\", inplace = True)\n",
    "    \n"
   ]
  },
  {
   "cell_type": "code",
   "execution_count": 56,
   "id": "2ef860c2",
   "metadata": {},
   "outputs": [
    {
     "data": {
      "text/plain": [
       "STREET               639494\n",
       "RESIDENCE            634663\n",
       "APARTMENT            366599\n",
       "SIDEWALK             277648\n",
       "STORE                174996\n",
       "OTHER                110876\n",
       "PARKING               88353\n",
       "RESTAURANT            74485\n",
       "SCHOOL                64492\n",
       "ALLEY                 59376\n",
       "VEHICLE               57290\n",
       "CTA                   57042\n",
       "GAS STATION           33424\n",
       "PARK PROPERTY         21477\n",
       "BANK                  20019\n",
       "OFFICE                19074\n",
       "HOSPITAL              18387\n",
       "BUILDING              16748\n",
       "HOTEL                 13006\n",
       "AIRPORT               12855\n",
       "VACANT                11034\n",
       "POLICE                10114\n",
       "CHA                    9771\n",
       "SPORTS                 7598\n",
       "CHURCH                 6033\n",
       "CONSTRUCTION SITE      3427\n",
       "LIBRARY                2511\n",
       "COLLEGE                2469\n",
       "WATER                  1593\n",
       "Name: location_description, dtype: int64"
      ]
     },
     "execution_count": 56,
     "metadata": {},
     "output_type": "execute_result"
    }
   ],
   "source": [
    "#Clean location description variable\n",
    "location_cleaner(chicago_train)\n",
    "chicago_train[\"location_description\"].value_counts()"
   ]
  },
  {
   "cell_type": "markdown",
   "id": "445cdcce",
   "metadata": {},
   "source": [
    "We reduced the number of categories from 197 to only 29. "
   ]
  },
  {
   "cell_type": "code",
   "execution_count": 59,
   "id": "087916ba",
   "metadata": {},
   "outputs": [],
   "source": [
    "#Reset display options\n",
    "pd.options.display.max_rows = 15"
   ]
  }
 ],
 "metadata": {
  "kernelspec": {
   "display_name": "Python 3",
   "language": "python",
   "name": "python3"
  },
  "language_info": {
   "codemirror_mode": {
    "name": "ipython",
    "version": 3
   },
   "file_extension": ".py",
   "mimetype": "text/x-python",
   "name": "python",
   "nbconvert_exporter": "python",
   "pygments_lexer": "ipython3",
   "version": "3.8.8"
  }
 },
 "nbformat": 4,
 "nbformat_minor": 5
}
