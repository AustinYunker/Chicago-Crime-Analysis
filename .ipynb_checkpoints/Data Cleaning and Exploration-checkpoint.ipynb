{
 "cells": [
  {
   "cell_type": "markdown",
   "id": "f04f2723",
   "metadata": {},
   "source": [
    "# Setup and Imports"
   ]
  },
  {
   "cell_type": "code",
   "execution_count": 2,
   "id": "70a2e2d6",
   "metadata": {},
   "outputs": [],
   "source": [
    "import pandas as pd\n",
    "import numpy as np\n",
    "import matplotlib.pyplot as plt\n",
    "%matplotlib inline\n",
    "import seaborn as sns\n",
    "sns.set\n",
    "import warnings\n",
    "import re\n",
    "from pandas.io import gbq\n",
    "from sklearn.preprocessing import OneHotEncoder\n",
    "from sklearn.compose import ColumnTransformer\n",
    "from scipy import sparse"
   ]
  },
  {
   "cell_type": "markdown",
   "id": "72dead4f",
   "metadata": {},
   "source": [
    "# Get the Data"
   ]
  },
  {
   "cell_type": "code",
   "execution_count": 3,
   "id": "f09c915b",
   "metadata": {},
   "outputs": [],
   "source": [
    "chicago_data = \"\"\"\n",
    "                    SELECT unique_key, date, primary_type, location_description, \n",
    "                            arrest, domestic, community_area,year, latitude, longitude,\n",
    "                    FROM `gdac-327115.Chicago.chicago2`\n",
    "                    WHERE year >= 2011\n",
    "               \"\"\"\n",
    "chicago_data = gbq.read_gbq(chicago_data, project_id=\"gdac-327115\")"
   ]
  },
  {
   "cell_type": "code",
   "execution_count": 4,
   "id": "6c8497f4",
   "metadata": {},
   "outputs": [],
   "source": [
    "#Read in an Excel file with a one to one mapping between Chicago community areas and districts\n",
    "chicago_districts = pd.read_excel(\"ChicagoCommunityAreas.xlsx\")"
   ]
  },
  {
   "cell_type": "code",
   "execution_count": 5,
   "id": "1458a052",
   "metadata": {},
   "outputs": [],
   "source": [
    "#Data type can't be joined on an int\n",
    "chicago_districts.community_area = chicago_districts[\"community_area\"].astype(\"string\")\n",
    "chicago_data.community_area = chicago_data[\"community_area\"].astype(\"string\")"
   ]
  },
  {
   "cell_type": "code",
   "execution_count": 6,
   "id": "3c4090c1",
   "metadata": {},
   "outputs": [],
   "source": [
    "#Outer join the two data sets\n",
    "chicago = chicago_data.merge(chicago_districts, how=\"outer\", left_on=\"community_area\", right_on=\"community_area\", )"
   ]
  },
  {
   "cell_type": "code",
   "execution_count": 7,
   "id": "d91a9a4e",
   "metadata": {},
   "outputs": [
    {
     "data": {
      "text/plain": [
       "unique_key                            Int64\n",
       "date                    datetime64[ns, UTC]\n",
       "primary_type                         object\n",
       "location_description                 object\n",
       "arrest                              boolean\n",
       "domestic                            boolean\n",
       "community_area                       string\n",
       "year                                  Int64\n",
       "latitude                            float64\n",
       "longitude                           float64\n",
       "district_name                        object\n",
       "community_name                       object\n",
       "dtype: object"
      ]
     },
     "execution_count": 7,
     "metadata": {},
     "output_type": "execute_result"
    }
   ],
   "source": [
    "#Check data types\n",
    "chicago.dtypes"
   ]
  },
  {
   "cell_type": "code",
   "execution_count": 8,
   "id": "7d4d3495",
   "metadata": {},
   "outputs": [],
   "source": [
    "#Change the object data types to categorical\n",
    "chicago.loc[:, chicago.dtypes == \"object\"] = chicago.select_dtypes([\"object\"]).apply(lambda x: x.astype(\"category\"))"
   ]
  },
  {
   "cell_type": "code",
   "execution_count": 9,
   "id": "9c27cada",
   "metadata": {},
   "outputs": [],
   "source": [
    "#Drop the community area variable since we have a community name variable\n",
    "chicago.drop(\"community_area\", axis = 1, inplace = True)"
   ]
  },
  {
   "cell_type": "markdown",
   "id": "b9667907",
   "metadata": {},
   "source": [
    "### Explore first few rows"
   ]
  },
  {
   "cell_type": "code",
   "execution_count": 10,
   "id": "d27c22e6",
   "metadata": {},
   "outputs": [
    {
     "data": {
      "text/html": [
       "<div>\n",
       "<style scoped>\n",
       "    .dataframe tbody tr th:only-of-type {\n",
       "        vertical-align: middle;\n",
       "    }\n",
       "\n",
       "    .dataframe tbody tr th {\n",
       "        vertical-align: top;\n",
       "    }\n",
       "\n",
       "    .dataframe thead th {\n",
       "        text-align: right;\n",
       "    }\n",
       "</style>\n",
       "<table border=\"1\" class=\"dataframe\">\n",
       "  <thead>\n",
       "    <tr style=\"text-align: right;\">\n",
       "      <th></th>\n",
       "      <th>unique_key</th>\n",
       "      <th>date</th>\n",
       "      <th>primary_type</th>\n",
       "      <th>location_description</th>\n",
       "      <th>arrest</th>\n",
       "      <th>domestic</th>\n",
       "      <th>year</th>\n",
       "      <th>latitude</th>\n",
       "      <th>longitude</th>\n",
       "      <th>district_name</th>\n",
       "      <th>community_name</th>\n",
       "    </tr>\n",
       "  </thead>\n",
       "  <tbody>\n",
       "    <tr>\n",
       "      <th>0</th>\n",
       "      <td>11228094</td>\n",
       "      <td>2017-11-20 15:00:00+00:00</td>\n",
       "      <td>DECEPTIVE PRACTICE</td>\n",
       "      <td>POOL ROOM</td>\n",
       "      <td>False</td>\n",
       "      <td>False</td>\n",
       "      <td>2017</td>\n",
       "      <td>NaN</td>\n",
       "      <td>NaN</td>\n",
       "      <td>Far North</td>\n",
       "      <td>NORTH PARK</td>\n",
       "    </tr>\n",
       "    <tr>\n",
       "      <th>1</th>\n",
       "      <td>12135292</td>\n",
       "      <td>2020-08-13 12:00:00+00:00</td>\n",
       "      <td>DECEPTIVE PRACTICE</td>\n",
       "      <td>BANK</td>\n",
       "      <td>False</td>\n",
       "      <td>False</td>\n",
       "      <td>2020</td>\n",
       "      <td>41.993402</td>\n",
       "      <td>-87.712280</td>\n",
       "      <td>Far North</td>\n",
       "      <td>NORTH PARK</td>\n",
       "    </tr>\n",
       "    <tr>\n",
       "      <th>2</th>\n",
       "      <td>8905294</td>\n",
       "      <td>2012-11-27 17:30:00+00:00</td>\n",
       "      <td>PUBLIC PEACE VIOLATION</td>\n",
       "      <td>RESTAURANT</td>\n",
       "      <td>False</td>\n",
       "      <td>False</td>\n",
       "      <td>2012</td>\n",
       "      <td>41.978265</td>\n",
       "      <td>-87.708742</td>\n",
       "      <td>Far North</td>\n",
       "      <td>NORTH PARK</td>\n",
       "    </tr>\n",
       "    <tr>\n",
       "      <th>3</th>\n",
       "      <td>8805120</td>\n",
       "      <td>2012-09-17 00:30:00+00:00</td>\n",
       "      <td>DECEPTIVE PRACTICE</td>\n",
       "      <td>TAXICAB</td>\n",
       "      <td>False</td>\n",
       "      <td>False</td>\n",
       "      <td>2012</td>\n",
       "      <td>41.985277</td>\n",
       "      <td>-87.713827</td>\n",
       "      <td>Far North</td>\n",
       "      <td>NORTH PARK</td>\n",
       "    </tr>\n",
       "    <tr>\n",
       "      <th>4</th>\n",
       "      <td>9030552</td>\n",
       "      <td>2013-02-21 00:00:00+00:00</td>\n",
       "      <td>CRIM SEXUAL ASSAULT</td>\n",
       "      <td>RESIDENCE</td>\n",
       "      <td>False</td>\n",
       "      <td>True</td>\n",
       "      <td>2013</td>\n",
       "      <td>41.994323</td>\n",
       "      <td>-87.720213</td>\n",
       "      <td>Far North</td>\n",
       "      <td>NORTH PARK</td>\n",
       "    </tr>\n",
       "  </tbody>\n",
       "</table>\n",
       "</div>"
      ],
      "text/plain": [
       "   unique_key                      date            primary_type  \\\n",
       "0    11228094 2017-11-20 15:00:00+00:00      DECEPTIVE PRACTICE   \n",
       "1    12135292 2020-08-13 12:00:00+00:00      DECEPTIVE PRACTICE   \n",
       "2     8905294 2012-11-27 17:30:00+00:00  PUBLIC PEACE VIOLATION   \n",
       "3     8805120 2012-09-17 00:30:00+00:00      DECEPTIVE PRACTICE   \n",
       "4     9030552 2013-02-21 00:00:00+00:00     CRIM SEXUAL ASSAULT   \n",
       "\n",
       "  location_description  arrest  domestic  year   latitude  longitude  \\\n",
       "0            POOL ROOM   False     False  2017        NaN        NaN   \n",
       "1                 BANK   False     False  2020  41.993402 -87.712280   \n",
       "2           RESTAURANT   False     False  2012  41.978265 -87.708742   \n",
       "3              TAXICAB   False     False  2012  41.985277 -87.713827   \n",
       "4            RESIDENCE   False      True  2013  41.994323 -87.720213   \n",
       "\n",
       "  district_name community_name  \n",
       "0     Far North     NORTH PARK  \n",
       "1     Far North     NORTH PARK  \n",
       "2     Far North     NORTH PARK  \n",
       "3     Far North     NORTH PARK  \n",
       "4     Far North     NORTH PARK  "
      ]
     },
     "execution_count": 10,
     "metadata": {},
     "output_type": "execute_result"
    }
   ],
   "source": [
    "chicago.head()"
   ]
  },
  {
   "cell_type": "code",
   "execution_count": 11,
   "id": "bf0adce8",
   "metadata": {},
   "outputs": [
    {
     "data": {
      "text/plain": [
       "(2971810, 11)"
      ]
     },
     "execution_count": 11,
     "metadata": {},
     "output_type": "execute_result"
    }
   ],
   "source": [
    "#Check the number of rows and columns\n",
    "chicago.shape"
   ]
  },
  {
   "cell_type": "markdown",
   "id": "5b377548",
   "metadata": {},
   "source": [
    "# Split the Data into a Training Set and Test Set"
   ]
  },
  {
   "cell_type": "code",
   "execution_count": 12,
   "id": "634ad243",
   "metadata": {},
   "outputs": [],
   "source": [
    "chicago_train = chicago.loc[chicago[\"year\"] != 2021]\n",
    "chicago_test = chicago.loc[chicago[\"year\"] == 2021]"
   ]
  },
  {
   "cell_type": "code",
   "execution_count": 20,
   "id": "e5a11aee",
   "metadata": {},
   "outputs": [
    {
     "data": {
      "text/html": [
       "<div>\n",
       "<style scoped>\n",
       "    .dataframe tbody tr th:only-of-type {\n",
       "        vertical-align: middle;\n",
       "    }\n",
       "\n",
       "    .dataframe tbody tr th {\n",
       "        vertical-align: top;\n",
       "    }\n",
       "\n",
       "    .dataframe thead th {\n",
       "        text-align: right;\n",
       "    }\n",
       "</style>\n",
       "<table border=\"1\" class=\"dataframe\">\n",
       "  <thead>\n",
       "    <tr style=\"text-align: right;\">\n",
       "      <th></th>\n",
       "      <th>Month</th>\n",
       "      <th>Count</th>\n",
       "    </tr>\n",
       "  </thead>\n",
       "  <tbody>\n",
       "    <tr>\n",
       "      <th>5</th>\n",
       "      <td>1</td>\n",
       "      <td>16008</td>\n",
       "    </tr>\n",
       "    <tr>\n",
       "      <th>8</th>\n",
       "      <td>2</td>\n",
       "      <td>12852</td>\n",
       "    </tr>\n",
       "    <tr>\n",
       "      <th>6</th>\n",
       "      <td>3</td>\n",
       "      <td>15709</td>\n",
       "    </tr>\n",
       "    <tr>\n",
       "      <th>7</th>\n",
       "      <td>4</td>\n",
       "      <td>15279</td>\n",
       "    </tr>\n",
       "    <tr>\n",
       "      <th>4</th>\n",
       "      <td>5</td>\n",
       "      <td>17493</td>\n",
       "    </tr>\n",
       "    <tr>\n",
       "      <th>2</th>\n",
       "      <td>6</td>\n",
       "      <td>18468</td>\n",
       "    </tr>\n",
       "    <tr>\n",
       "      <th>0</th>\n",
       "      <td>7</td>\n",
       "      <td>18898</td>\n",
       "    </tr>\n",
       "    <tr>\n",
       "      <th>3</th>\n",
       "      <td>8</td>\n",
       "      <td>18110</td>\n",
       "    </tr>\n",
       "    <tr>\n",
       "      <th>1</th>\n",
       "      <td>9</td>\n",
       "      <td>18632</td>\n",
       "    </tr>\n",
       "    <tr>\n",
       "      <th>9</th>\n",
       "      <td>10</td>\n",
       "      <td>5507</td>\n",
       "    </tr>\n",
       "  </tbody>\n",
       "</table>\n",
       "</div>"
      ],
      "text/plain": [
       "   Month  Count\n",
       "5      1  16008\n",
       "8      2  12852\n",
       "6      3  15709\n",
       "7      4  15279\n",
       "4      5  17493\n",
       "2      6  18468\n",
       "0      7  18898\n",
       "3      8  18110\n",
       "1      9  18632\n",
       "9     10   5507"
      ]
     },
     "execution_count": 20,
     "metadata": {},
     "output_type": "execute_result"
    }
   ],
   "source": [
    "#Check if the test set contains data from the full year\n",
    "chicago_test.loc[:, \"date\"].dt.month. \\\n",
    "                                value_counts(). \\\n",
    "                                reset_index(). \\\n",
    "                                rename(columns={\"index\":\"Month\", \"date\":\"Count\"}). \\\n",
    "                                sort_values(by = \"Month\")"
   ]
  }
 ],
 "metadata": {
  "kernelspec": {
   "display_name": "Python 3",
   "language": "python",
   "name": "python3"
  },
  "language_info": {
   "codemirror_mode": {
    "name": "ipython",
    "version": 3
   },
   "file_extension": ".py",
   "mimetype": "text/x-python",
   "name": "python",
   "nbconvert_exporter": "python",
   "pygments_lexer": "ipython3",
   "version": "3.8.8"
  }
 },
 "nbformat": 4,
 "nbformat_minor": 5
}
