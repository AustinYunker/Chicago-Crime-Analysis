{
 "cells": [
  {
   "cell_type": "markdown",
   "id": "4e4aaa12",
   "metadata": {},
   "source": [
    "# Setup and Imports"
   ]
  },
  {
   "cell_type": "code",
   "execution_count": 1,
   "id": "7c25408a",
   "metadata": {},
   "outputs": [],
   "source": [
    "import pandas as pd\n",
    "import numpy as np\n",
    "import matplotlib.pyplot as plt\n",
    "%matplotlib inline\n",
    "import seaborn as sns\n",
    "sns.set\n",
    "import warnings\n",
    "import re\n",
    "from pandas.io import gbq\n",
    "from sklearn.preprocessing import OneHotEncoder\n",
    "from sklearn.compose import ColumnTransformer\n",
    "from scipy import sparse"
   ]
  },
  {
   "cell_type": "markdown",
   "id": "80f4e408",
   "metadata": {},
   "source": [
    "# Get the Data"
   ]
  },
  {
   "cell_type": "markdown",
   "id": "1aecdaeb",
   "metadata": {},
   "source": [
    "To get the data, we'll write a function that fetches the data from Google BigQuery. We'll create a Python Module that will hold the code below to be used in other notebooks."
   ]
  },
  {
   "cell_type": "code",
   "execution_count": 2,
   "id": "c04f0bca",
   "metadata": {},
   "outputs": [],
   "source": [
    "def fetch_chicago_data(query_string, project_id, excel_file, verbose = True):\n",
    "    \"\"\"\n",
    "    This function fetches the data from Google BigQuery. First a query is made based on the specified query string and\n",
    "    project id. Next, an excel file with the Chicago districts are read in and joined with the original data. Finally, \n",
    "    a duplicate column is dropped.\n",
    "    \n",
    "    query_string: String with the specific query to be passed to Google BigQuery\n",
    "    project_id: Corresponding project id in Google BigQuery\n",
    "    excel_file: Path to the excel file containing chicago districts\n",
    "    \n",
    "    returns: pandas dataframe with the queried and joined data\n",
    "    \"\"\"\n",
    "    \n",
    "    if verbose: print(\"Fetching Chicago Data Started...\\n\")\n",
    "        \n",
    "    #Read the data in from Google BigQuery\n",
    "    chicago_data = gbq.read_gbq(query_string, project_id=project_id)\n",
    "    if verbose: print(\"Successfully queried Google BigQuery.\")\n",
    "        \n",
    "    #Read in an Excel file with a one to one mapping between Chicago community areas and districts\n",
    "    chicago_districts = pd.read_excel(excel_file)\n",
    "    if verbose: print(\"Sucessfully read in excel file.\")\n",
    "        \n",
    "    #Data type can't be joined on an int\n",
    "    chicago_districts.community_area = chicago_districts[\"community_area\"].astype(\"string\")\n",
    "    chicago_data.community_area = chicago_data[\"community_area\"].astype(\"string\")\n",
    "        \n",
    "    #Outer join the two data sets\n",
    "    chicago = chicago_data.merge(chicago_districts, how=\"outer\", left_on=\"community_area\", right_on=\"community_area\")\n",
    "    if verbose: print(\"Sucessfully joined Chicago districts to main data.\")\n",
    "    \n",
    "    #Drop the community area variable since we have a community name variable\n",
    "    chicago.drop(\"community_area\", axis = 1, inplace = True)\n",
    "    if verbose: print(\"Successfully dropped duplicate column\")\n",
    "        \n",
    "    if verbose: print(\"\\nSucccessfully fetched Chicago Data\")\n",
    "        \n",
    "    return chicago"
   ]
  },
  {
   "cell_type": "code",
   "execution_count": 3,
   "id": "227b41c8",
   "metadata": {},
   "outputs": [
    {
     "name": "stdout",
     "output_type": "stream",
     "text": [
      "Fetching Chicago Data Started...\n",
      "\n",
      "Successfully queried Google BigQuery.\n",
      "Sucessfully read in excel file.\n",
      "Sucessfully joined Chicago districts to main data.\n",
      "Successfully dropped duplicate column\n",
      "\n",
      "Succcessfully fetched Chicago Data\n",
      "Wall time: 3min 39s\n"
     ]
    }
   ],
   "source": [
    "%%time\n",
    "#Specify input values for fetching the data\n",
    "query = \"\"\"\n",
    "            SELECT unique_key, date, primary_type, location_description, \n",
    "                    arrest, domestic, community_area, year\n",
    "            FROM `gdac-327115.Chicago.chicago2`\n",
    "            WHERE year >= 2011\n",
    "        \"\"\"\n",
    "project_id = \"gdac-327115\"\n",
    "excel_file = \"ChicagoCommunityAreas.xlsx\"\n",
    "\n",
    "#Fetch the data\n",
    "chicago = fetch_chicago_data(query, project_id, excel_file, verbose=True)"
   ]
  },
  {
   "cell_type": "code",
   "execution_count": 4,
   "id": "516f1b41",
   "metadata": {},
   "outputs": [
    {
     "data": {
      "text/plain": [
       "unique_key                            Int64\n",
       "date                    datetime64[ns, UTC]\n",
       "primary_type                         object\n",
       "location_description                 object\n",
       "arrest                              boolean\n",
       "domestic                            boolean\n",
       "year                                  Int64\n",
       "district_name                        object\n",
       "community_name                       object\n",
       "dtype: object"
      ]
     },
     "execution_count": 4,
     "metadata": {},
     "output_type": "execute_result"
    }
   ],
   "source": [
    "#Check data types\n",
    "chicago.dtypes"
   ]
  },
  {
   "cell_type": "code",
   "execution_count": 9,
   "id": "f1486ec2",
   "metadata": {},
   "outputs": [],
   "source": [
    "#Change the object data types to categorical\n",
    "chicago.loc[:, chicago.dtypes == \"object\"] = chicago.select_dtypes([\"object\"]).apply(lambda x: x.astype(\"category\"))"
   ]
  },
  {
   "cell_type": "markdown",
   "id": "f3b1a678",
   "metadata": {},
   "source": [
    "### Explore first few rows"
   ]
  },
  {
   "cell_type": "code",
   "execution_count": 10,
   "id": "cc84ac96",
   "metadata": {},
   "outputs": [
    {
     "data": {
      "text/html": [
       "<div>\n",
       "<style scoped>\n",
       "    .dataframe tbody tr th:only-of-type {\n",
       "        vertical-align: middle;\n",
       "    }\n",
       "\n",
       "    .dataframe tbody tr th {\n",
       "        vertical-align: top;\n",
       "    }\n",
       "\n",
       "    .dataframe thead th {\n",
       "        text-align: right;\n",
       "    }\n",
       "</style>\n",
       "<table border=\"1\" class=\"dataframe\">\n",
       "  <thead>\n",
       "    <tr style=\"text-align: right;\">\n",
       "      <th></th>\n",
       "      <th>unique_key</th>\n",
       "      <th>date</th>\n",
       "      <th>primary_type</th>\n",
       "      <th>location_description</th>\n",
       "      <th>arrest</th>\n",
       "      <th>domestic</th>\n",
       "      <th>year</th>\n",
       "      <th>latitude</th>\n",
       "      <th>longitude</th>\n",
       "      <th>district_name</th>\n",
       "      <th>community_name</th>\n",
       "    </tr>\n",
       "  </thead>\n",
       "  <tbody>\n",
       "    <tr>\n",
       "      <th>0</th>\n",
       "      <td>11228094</td>\n",
       "      <td>2017-11-20 15:00:00+00:00</td>\n",
       "      <td>DECEPTIVE PRACTICE</td>\n",
       "      <td>POOL ROOM</td>\n",
       "      <td>False</td>\n",
       "      <td>False</td>\n",
       "      <td>2017</td>\n",
       "      <td>NaN</td>\n",
       "      <td>NaN</td>\n",
       "      <td>Far North</td>\n",
       "      <td>NORTH PARK</td>\n",
       "    </tr>\n",
       "    <tr>\n",
       "      <th>1</th>\n",
       "      <td>12135292</td>\n",
       "      <td>2020-08-13 12:00:00+00:00</td>\n",
       "      <td>DECEPTIVE PRACTICE</td>\n",
       "      <td>BANK</td>\n",
       "      <td>False</td>\n",
       "      <td>False</td>\n",
       "      <td>2020</td>\n",
       "      <td>41.993402</td>\n",
       "      <td>-87.712280</td>\n",
       "      <td>Far North</td>\n",
       "      <td>NORTH PARK</td>\n",
       "    </tr>\n",
       "    <tr>\n",
       "      <th>2</th>\n",
       "      <td>8905294</td>\n",
       "      <td>2012-11-27 17:30:00+00:00</td>\n",
       "      <td>PUBLIC PEACE VIOLATION</td>\n",
       "      <td>RESTAURANT</td>\n",
       "      <td>False</td>\n",
       "      <td>False</td>\n",
       "      <td>2012</td>\n",
       "      <td>41.978265</td>\n",
       "      <td>-87.708742</td>\n",
       "      <td>Far North</td>\n",
       "      <td>NORTH PARK</td>\n",
       "    </tr>\n",
       "    <tr>\n",
       "      <th>3</th>\n",
       "      <td>8805120</td>\n",
       "      <td>2012-09-17 00:30:00+00:00</td>\n",
       "      <td>DECEPTIVE PRACTICE</td>\n",
       "      <td>TAXICAB</td>\n",
       "      <td>False</td>\n",
       "      <td>False</td>\n",
       "      <td>2012</td>\n",
       "      <td>41.985277</td>\n",
       "      <td>-87.713827</td>\n",
       "      <td>Far North</td>\n",
       "      <td>NORTH PARK</td>\n",
       "    </tr>\n",
       "    <tr>\n",
       "      <th>4</th>\n",
       "      <td>9030552</td>\n",
       "      <td>2013-02-21 00:00:00+00:00</td>\n",
       "      <td>CRIM SEXUAL ASSAULT</td>\n",
       "      <td>RESIDENCE</td>\n",
       "      <td>False</td>\n",
       "      <td>True</td>\n",
       "      <td>2013</td>\n",
       "      <td>41.994323</td>\n",
       "      <td>-87.720213</td>\n",
       "      <td>Far North</td>\n",
       "      <td>NORTH PARK</td>\n",
       "    </tr>\n",
       "  </tbody>\n",
       "</table>\n",
       "</div>"
      ],
      "text/plain": [
       "   unique_key                      date            primary_type  \\\n",
       "0    11228094 2017-11-20 15:00:00+00:00      DECEPTIVE PRACTICE   \n",
       "1    12135292 2020-08-13 12:00:00+00:00      DECEPTIVE PRACTICE   \n",
       "2     8905294 2012-11-27 17:30:00+00:00  PUBLIC PEACE VIOLATION   \n",
       "3     8805120 2012-09-17 00:30:00+00:00      DECEPTIVE PRACTICE   \n",
       "4     9030552 2013-02-21 00:00:00+00:00     CRIM SEXUAL ASSAULT   \n",
       "\n",
       "  location_description  arrest  domestic  year   latitude  longitude  \\\n",
       "0            POOL ROOM   False     False  2017        NaN        NaN   \n",
       "1                 BANK   False     False  2020  41.993402 -87.712280   \n",
       "2           RESTAURANT   False     False  2012  41.978265 -87.708742   \n",
       "3              TAXICAB   False     False  2012  41.985277 -87.713827   \n",
       "4            RESIDENCE   False      True  2013  41.994323 -87.720213   \n",
       "\n",
       "  district_name community_name  \n",
       "0     Far North     NORTH PARK  \n",
       "1     Far North     NORTH PARK  \n",
       "2     Far North     NORTH PARK  \n",
       "3     Far North     NORTH PARK  \n",
       "4     Far North     NORTH PARK  "
      ]
     },
     "execution_count": 10,
     "metadata": {},
     "output_type": "execute_result"
    }
   ],
   "source": [
    "chicago.head()"
   ]
  },
  {
   "cell_type": "code",
   "execution_count": 11,
   "id": "74316c23",
   "metadata": {},
   "outputs": [
    {
     "data": {
      "text/plain": [
       "(2971810, 11)"
      ]
     },
     "execution_count": 11,
     "metadata": {},
     "output_type": "execute_result"
    }
   ],
   "source": [
    "#Check the number of rows and columns\n",
    "chicago.shape"
   ]
  },
  {
   "cell_type": "markdown",
   "id": "5e979316",
   "metadata": {},
   "source": [
    "# Split the Data into a Training Set and Test Set"
   ]
  },
  {
   "cell_type": "code",
   "execution_count": 10,
   "id": "cf0f5a70",
   "metadata": {},
   "outputs": [],
   "source": [
    "chicago_train = chicago.loc[chicago[\"year\"] != 2021]\n",
    "chicago_test = chicago.loc[chicago[\"year\"] == 2021]"
   ]
  },
  {
   "cell_type": "code",
   "execution_count": 20,
   "id": "5f441aee",
   "metadata": {},
   "outputs": [
    {
     "data": {
      "text/html": [
       "<div>\n",
       "<style scoped>\n",
       "    .dataframe tbody tr th:only-of-type {\n",
       "        vertical-align: middle;\n",
       "    }\n",
       "\n",
       "    .dataframe tbody tr th {\n",
       "        vertical-align: top;\n",
       "    }\n",
       "\n",
       "    .dataframe thead th {\n",
       "        text-align: right;\n",
       "    }\n",
       "</style>\n",
       "<table border=\"1\" class=\"dataframe\">\n",
       "  <thead>\n",
       "    <tr style=\"text-align: right;\">\n",
       "      <th></th>\n",
       "      <th>Month</th>\n",
       "      <th>Count</th>\n",
       "    </tr>\n",
       "  </thead>\n",
       "  <tbody>\n",
       "    <tr>\n",
       "      <th>5</th>\n",
       "      <td>1</td>\n",
       "      <td>16008</td>\n",
       "    </tr>\n",
       "    <tr>\n",
       "      <th>8</th>\n",
       "      <td>2</td>\n",
       "      <td>12852</td>\n",
       "    </tr>\n",
       "    <tr>\n",
       "      <th>6</th>\n",
       "      <td>3</td>\n",
       "      <td>15709</td>\n",
       "    </tr>\n",
       "    <tr>\n",
       "      <th>7</th>\n",
       "      <td>4</td>\n",
       "      <td>15279</td>\n",
       "    </tr>\n",
       "    <tr>\n",
       "      <th>4</th>\n",
       "      <td>5</td>\n",
       "      <td>17493</td>\n",
       "    </tr>\n",
       "    <tr>\n",
       "      <th>2</th>\n",
       "      <td>6</td>\n",
       "      <td>18468</td>\n",
       "    </tr>\n",
       "    <tr>\n",
       "      <th>0</th>\n",
       "      <td>7</td>\n",
       "      <td>18898</td>\n",
       "    </tr>\n",
       "    <tr>\n",
       "      <th>3</th>\n",
       "      <td>8</td>\n",
       "      <td>18110</td>\n",
       "    </tr>\n",
       "    <tr>\n",
       "      <th>1</th>\n",
       "      <td>9</td>\n",
       "      <td>18632</td>\n",
       "    </tr>\n",
       "    <tr>\n",
       "      <th>9</th>\n",
       "      <td>10</td>\n",
       "      <td>5507</td>\n",
       "    </tr>\n",
       "  </tbody>\n",
       "</table>\n",
       "</div>"
      ],
      "text/plain": [
       "   Month  Count\n",
       "5      1  16008\n",
       "8      2  12852\n",
       "6      3  15709\n",
       "7      4  15279\n",
       "4      5  17493\n",
       "2      6  18468\n",
       "0      7  18898\n",
       "3      8  18110\n",
       "1      9  18632\n",
       "9     10   5507"
      ]
     },
     "execution_count": 20,
     "metadata": {},
     "output_type": "execute_result"
    }
   ],
   "source": [
    "#Check if the test set contains data from the full year\n",
    "chicago_test.loc[:, \"date\"].dt.month. \\\n",
    "                                value_counts(). \\\n",
    "                                reset_index(). \\\n",
    "                                rename(columns={\"index\":\"Month\", \"date\":\"Count\"}). \\\n",
    "                                sort_values(by = \"Month\")"
   ]
  },
  {
   "cell_type": "markdown",
   "id": "2b4e2768",
   "metadata": {},
   "source": [
    "# Data Exploration and Cleaning"
   ]
  },
  {
   "cell_type": "code",
   "execution_count": 22,
   "id": "88b517e3",
   "metadata": {},
   "outputs": [
    {
     "data": {
      "text/plain": [
       "unique_key                  0\n",
       "date                        0\n",
       "primary_type                0\n",
       "location_description     7844\n",
       "arrest                      0\n",
       "domestic                    0\n",
       "year                        0\n",
       "latitude                26843\n",
       "longitude               26843\n",
       "district_name             218\n",
       "community_name            218\n",
       "dtype: int64"
      ]
     },
     "execution_count": 22,
     "metadata": {},
     "output_type": "execute_result"
    }
   ],
   "source": [
    "#Check the total number of missing values for each variable\n",
    "chicago_train.isnull().sum()"
   ]
  },
  {
   "cell_type": "code",
   "execution_count": 21,
   "id": "c07028a1",
   "metadata": {},
   "outputs": [],
   "source": [
    "#Check to make sure there are no duplicate incidents based on the \"unique key\" variable\n",
    "assert len(chicago_train[\"unique_key\"].unique()) == chicago_train.shape[0]"
   ]
  },
  {
   "cell_type": "markdown",
   "id": "89c1f39d",
   "metadata": {},
   "source": [
    "### Cleaning Primary Type Variable"
   ]
  },
  {
   "cell_type": "code",
   "execution_count": 23,
   "id": "01f3e147",
   "metadata": {},
   "outputs": [
    {
     "data": {
      "text/plain": [
       "0"
      ]
     },
     "execution_count": 23,
     "metadata": {},
     "output_type": "execute_result"
    }
   ],
   "source": [
    "#Quick reference on the number of missing values\n",
    "chicago_train[\"primary_type\"].isnull().sum()"
   ]
  },
  {
   "cell_type": "code",
   "execution_count": 10,
   "id": "f374bc1a",
   "metadata": {},
   "outputs": [
    {
     "data": {
      "text/plain": [
       "THEFT                                636007\n",
       "BATTERY                              512318\n",
       "CRIMINAL DAMAGE                      299943\n",
       "NARCOTICS                            222406\n",
       "ASSAULT                              189549\n",
       "OTHER OFFENSE                        171368\n",
       "DECEPTIVE PRACTICE                   167709\n",
       "BURGLARY                             152532\n",
       "MOTOR VEHICLE THEFT                  120013\n",
       "ROBBERY                              108092\n",
       "CRIMINAL TRESPASS                     69971\n",
       "WEAPONS VIOLATION                     45871\n",
       "OFFENSE INVOLVING CHILDREN            23359\n",
       "PUBLIC PEACE VIOLATION                21829\n",
       "PROSTITUTION                          12438\n",
       "CRIM SEXUAL ASSAULT                   12334\n",
       "INTERFERENCE WITH PUBLIC OFFICER      11793\n",
       "SEX OFFENSE                           10771\n",
       "HOMICIDE                               5669\n",
       "ARSON                                  4482\n",
       "GAMBLING                               3507\n",
       "LIQUOR LAW VIOLATION                   3407\n",
       "CRIMINAL SEXUAL ASSAULT                2516\n",
       "KIDNAPPING                             2008\n",
       "STALKING                               1837\n",
       "INTIMIDATION                           1476\n",
       "CONCEALED CARRY LICENSE VIOLATION       668\n",
       "OBSCENITY                               516\n",
       "NON-CRIMINAL                            169\n",
       "PUBLIC INDECENCY                        118\n",
       "HUMAN TRAFFICKING                        69\n",
       "OTHER NARCOTIC VIOLATION                 61\n",
       "NON - CRIMINAL                           38\n",
       "NON-CRIMINAL (SUBJECT SPECIFIED)          9\n",
       "RITUALISM                                 1\n",
       "Name: primary_type, dtype: int64"
      ]
     },
     "execution_count": 10,
     "metadata": {},
     "output_type": "execute_result"
    }
   ],
   "source": [
    "#Examine the different crime types listed\n",
    "chicago_train[\"primary_type\"].value_counts()"
   ]
  },
  {
   "cell_type": "markdown",
   "id": "9513c280",
   "metadata": {},
   "source": [
    "It appears \"CRIM SEXUAL ASSAULT\" should be merged into \"CRIMINAL SEXUAL ASSAULT\". We'll also merge the three various \"Non-criminal\" categories into one category. We'll do the same thing for the \"OTHER NARCOTIC VIOLATION\" category. Finally, we'll move \"RITUALISM\" into the \"OTHER\" since it has only one occurence. Let's collect all of these changes into one function. "
   ]
  },
  {
   "cell_type": "code",
   "execution_count": 11,
   "id": "36f5ac4e",
   "metadata": {},
   "outputs": [],
   "source": [
    "def crime_type_cleaner(df):\n",
    "    \"\"\"\n",
    "    This function cleans the primary_type column in place. \n",
    "    \n",
    "    df: DataFrame with primary_type column\n",
    "    \n",
    "    returns: None\n",
    "    \"\"\"\n",
    "    df.loc[:, \"primary_type\"].replace([\"CRIM SEXUAL ASSAULT\"], \"CRIMINAL SEXUAL ASSAULT\", inplace = True)\n",
    "\n",
    "    df.loc[:, \"primary_type\"].replace([\"OTHER NARCOTIC VIOLATION\"], \"NARCOTICS\", inplace = True)\n",
    "\n",
    "    df.loc[:, \"primary_type\"].replace([\"NON - CRIMINAL\", \"NON-CRIMINAL (SUBJECT SPECIFIED)\"], \"NON-CRIMINAL\", inplace = True)\n",
    "\n",
    "    df.loc[:, \"primary_type\"].replace([\"RITUALISM\"], \"OTHER OFFENSE\", inplace = True)\n",
    "   "
   ]
  },
  {
   "cell_type": "code",
   "execution_count": 29,
   "id": "25bf8d07",
   "metadata": {},
   "outputs": [
    {
     "data": {
      "text/plain": [
       "THEFT                                636007\n",
       "BATTERY                              512318\n",
       "CRIMINAL DAMAGE                      299943\n",
       "NARCOTICS                            222467\n",
       "ASSAULT                              189549\n",
       "OTHER OFFENSE                        171369\n",
       "DECEPTIVE PRACTICE                   167709\n",
       "BURGLARY                             152532\n",
       "MOTOR VEHICLE THEFT                  120013\n",
       "ROBBERY                              108092\n",
       "CRIMINAL TRESPASS                     69971\n",
       "WEAPONS VIOLATION                     45871\n",
       "OFFENSE INVOLVING CHILDREN            23359\n",
       "PUBLIC PEACE VIOLATION                21829\n",
       "CRIMINAL SEXUAL ASSAULT               14850\n",
       "PROSTITUTION                          12438\n",
       "INTERFERENCE WITH PUBLIC OFFICER      11793\n",
       "SEX OFFENSE                           10771\n",
       "HOMICIDE                               5669\n",
       "ARSON                                  4482\n",
       "GAMBLING                               3507\n",
       "LIQUOR LAW VIOLATION                   3407\n",
       "KIDNAPPING                             2008\n",
       "STALKING                               1837\n",
       "INTIMIDATION                           1476\n",
       "CONCEALED CARRY LICENSE VIOLATION       668\n",
       "OBSCENITY                               516\n",
       "NON-CRIMINAL                            216\n",
       "PUBLIC INDECENCY                        118\n",
       "HUMAN TRAFFICKING                        69\n",
       "Name: primary_type, dtype: int64"
      ]
     },
     "execution_count": 29,
     "metadata": {},
     "output_type": "execute_result"
    }
   ],
   "source": [
    "#Clean the primary type variable\n",
    "crime_type_cleaner(chicago_train)\n",
    "#Check the cleaned variable\n",
    "chicago_train[\"primary_type\"].value_counts()"
   ]
  },
  {
   "cell_type": "markdown",
   "id": "b0d4e9e4",
   "metadata": {},
   "source": [
    "### Cleaning Location Description Variable"
   ]
  },
  {
   "cell_type": "code",
   "execution_count": 11,
   "id": "bd95e8e7",
   "metadata": {},
   "outputs": [
    {
     "data": {
      "text/plain": [
       "7844"
      ]
     },
     "execution_count": 11,
     "metadata": {},
     "output_type": "execute_result"
    }
   ],
   "source": [
    "#Check the number of missing values\n",
    "chicago_train[\"location_description\"].isnull().sum()"
   ]
  },
  {
   "cell_type": "code",
   "execution_count": 12,
   "id": "df16803b",
   "metadata": {},
   "outputs": [
    {
     "data": {
      "text/html": [
       "<div>\n",
       "<style scoped>\n",
       "    .dataframe tbody tr th:only-of-type {\n",
       "        vertical-align: middle;\n",
       "    }\n",
       "\n",
       "    .dataframe tbody tr th {\n",
       "        vertical-align: top;\n",
       "    }\n",
       "\n",
       "    .dataframe thead th {\n",
       "        text-align: right;\n",
       "    }\n",
       "</style>\n",
       "<table border=\"1\" class=\"dataframe\">\n",
       "  <thead>\n",
       "    <tr style=\"text-align: right;\">\n",
       "      <th></th>\n",
       "      <th>unique_key</th>\n",
       "      <th>date</th>\n",
       "      <th>primary_type</th>\n",
       "      <th>location_description</th>\n",
       "      <th>arrest</th>\n",
       "      <th>domestic</th>\n",
       "      <th>year</th>\n",
       "      <th>district_name</th>\n",
       "      <th>community_name</th>\n",
       "    </tr>\n",
       "  </thead>\n",
       "  <tbody>\n",
       "    <tr>\n",
       "      <th>2783</th>\n",
       "      <td>11405363</td>\n",
       "      <td>2018-03-16 08:10:00+00:00</td>\n",
       "      <td>DECEPTIVE PRACTICE</td>\n",
       "      <td>NaN</td>\n",
       "      <td>False</td>\n",
       "      <td>False</td>\n",
       "      <td>2018</td>\n",
       "      <td>Far Southeast</td>\n",
       "      <td>RIVERDALE</td>\n",
       "    </tr>\n",
       "    <tr>\n",
       "      <th>2791</th>\n",
       "      <td>12046546</td>\n",
       "      <td>2020-05-08 09:30:00+00:00</td>\n",
       "      <td>DECEPTIVE PRACTICE</td>\n",
       "      <td>NaN</td>\n",
       "      <td>False</td>\n",
       "      <td>False</td>\n",
       "      <td>2020</td>\n",
       "      <td>Far Southeast</td>\n",
       "      <td>RIVERDALE</td>\n",
       "    </tr>\n",
       "    <tr>\n",
       "      <th>6360</th>\n",
       "      <td>11376002</td>\n",
       "      <td>2017-07-19 09:50:00+00:00</td>\n",
       "      <td>DECEPTIVE PRACTICE</td>\n",
       "      <td>NaN</td>\n",
       "      <td>False</td>\n",
       "      <td>False</td>\n",
       "      <td>2017</td>\n",
       "      <td>Far Southeast</td>\n",
       "      <td>RIVERDALE</td>\n",
       "    </tr>\n",
       "    <tr>\n",
       "      <th>6366</th>\n",
       "      <td>11515304</td>\n",
       "      <td>2018-11-23 00:35:00+00:00</td>\n",
       "      <td>DECEPTIVE PRACTICE</td>\n",
       "      <td>NaN</td>\n",
       "      <td>False</td>\n",
       "      <td>False</td>\n",
       "      <td>2018</td>\n",
       "      <td>Far Southeast</td>\n",
       "      <td>RIVERDALE</td>\n",
       "    </tr>\n",
       "    <tr>\n",
       "      <th>6371</th>\n",
       "      <td>12175047</td>\n",
       "      <td>2020-09-22 11:55:00+00:00</td>\n",
       "      <td>DECEPTIVE PRACTICE</td>\n",
       "      <td>NaN</td>\n",
       "      <td>False</td>\n",
       "      <td>False</td>\n",
       "      <td>2020</td>\n",
       "      <td>Far Southeast</td>\n",
       "      <td>RIVERDALE</td>\n",
       "    </tr>\n",
       "    <tr>\n",
       "      <th>...</th>\n",
       "      <td>...</td>\n",
       "      <td>...</td>\n",
       "      <td>...</td>\n",
       "      <td>...</td>\n",
       "      <td>...</td>\n",
       "      <td>...</td>\n",
       "      <td>...</td>\n",
       "      <td>...</td>\n",
       "      <td>...</td>\n",
       "    </tr>\n",
       "    <tr>\n",
       "      <th>2970637</th>\n",
       "      <td>11503719</td>\n",
       "      <td>2017-10-01 08:30:00+00:00</td>\n",
       "      <td>DECEPTIVE PRACTICE</td>\n",
       "      <td>NaN</td>\n",
       "      <td>False</td>\n",
       "      <td>False</td>\n",
       "      <td>2017</td>\n",
       "      <td>Far North</td>\n",
       "      <td>EDGEWATER</td>\n",
       "    </tr>\n",
       "    <tr>\n",
       "      <th>2970640</th>\n",
       "      <td>12491726</td>\n",
       "      <td>2017-11-30 12:00:00+00:00</td>\n",
       "      <td>DECEPTIVE PRACTICE</td>\n",
       "      <td>NaN</td>\n",
       "      <td>False</td>\n",
       "      <td>False</td>\n",
       "      <td>2017</td>\n",
       "      <td>Far North</td>\n",
       "      <td>EDGEWATER</td>\n",
       "    </tr>\n",
       "    <tr>\n",
       "      <th>2970654</th>\n",
       "      <td>12232285</td>\n",
       "      <td>2015-10-01 16:15:00+00:00</td>\n",
       "      <td>DECEPTIVE PRACTICE</td>\n",
       "      <td>NaN</td>\n",
       "      <td>False</td>\n",
       "      <td>False</td>\n",
       "      <td>2015</td>\n",
       "      <td>Far North</td>\n",
       "      <td>EDGEWATER</td>\n",
       "    </tr>\n",
       "    <tr>\n",
       "      <th>2970655</th>\n",
       "      <td>12195264</td>\n",
       "      <td>2020-10-09 10:25:00+00:00</td>\n",
       "      <td>DECEPTIVE PRACTICE</td>\n",
       "      <td>NaN</td>\n",
       "      <td>False</td>\n",
       "      <td>False</td>\n",
       "      <td>2020</td>\n",
       "      <td>Far North</td>\n",
       "      <td>EDGEWATER</td>\n",
       "    </tr>\n",
       "    <tr>\n",
       "      <th>2970657</th>\n",
       "      <td>11830766</td>\n",
       "      <td>2019-08-20 12:35:00+00:00</td>\n",
       "      <td>DECEPTIVE PRACTICE</td>\n",
       "      <td>NaN</td>\n",
       "      <td>False</td>\n",
       "      <td>False</td>\n",
       "      <td>2019</td>\n",
       "      <td>Far North</td>\n",
       "      <td>EDGEWATER</td>\n",
       "    </tr>\n",
       "  </tbody>\n",
       "</table>\n",
       "<p>7844 rows × 9 columns</p>\n",
       "</div>"
      ],
      "text/plain": [
       "         unique_key                      date        primary_type  \\\n",
       "2783       11405363 2018-03-16 08:10:00+00:00  DECEPTIVE PRACTICE   \n",
       "2791       12046546 2020-05-08 09:30:00+00:00  DECEPTIVE PRACTICE   \n",
       "6360       11376002 2017-07-19 09:50:00+00:00  DECEPTIVE PRACTICE   \n",
       "6366       11515304 2018-11-23 00:35:00+00:00  DECEPTIVE PRACTICE   \n",
       "6371       12175047 2020-09-22 11:55:00+00:00  DECEPTIVE PRACTICE   \n",
       "...             ...                       ...                 ...   \n",
       "2970637    11503719 2017-10-01 08:30:00+00:00  DECEPTIVE PRACTICE   \n",
       "2970640    12491726 2017-11-30 12:00:00+00:00  DECEPTIVE PRACTICE   \n",
       "2970654    12232285 2015-10-01 16:15:00+00:00  DECEPTIVE PRACTICE   \n",
       "2970655    12195264 2020-10-09 10:25:00+00:00  DECEPTIVE PRACTICE   \n",
       "2970657    11830766 2019-08-20 12:35:00+00:00  DECEPTIVE PRACTICE   \n",
       "\n",
       "        location_description  arrest  domestic  year  district_name  \\\n",
       "2783                     NaN   False     False  2018  Far Southeast   \n",
       "2791                     NaN   False     False  2020  Far Southeast   \n",
       "6360                     NaN   False     False  2017  Far Southeast   \n",
       "6366                     NaN   False     False  2018  Far Southeast   \n",
       "6371                     NaN   False     False  2020  Far Southeast   \n",
       "...                      ...     ...       ...   ...            ...   \n",
       "2970637                  NaN   False     False  2017      Far North   \n",
       "2970640                  NaN   False     False  2017      Far North   \n",
       "2970654                  NaN   False     False  2015      Far North   \n",
       "2970655                  NaN   False     False  2020      Far North   \n",
       "2970657                  NaN   False     False  2019      Far North   \n",
       "\n",
       "        community_name  \n",
       "2783         RIVERDALE  \n",
       "2791         RIVERDALE  \n",
       "6360         RIVERDALE  \n",
       "6366         RIVERDALE  \n",
       "6371         RIVERDALE  \n",
       "...                ...  \n",
       "2970637      EDGEWATER  \n",
       "2970640      EDGEWATER  \n",
       "2970654      EDGEWATER  \n",
       "2970655      EDGEWATER  \n",
       "2970657      EDGEWATER  \n",
       "\n",
       "[7844 rows x 9 columns]"
      ]
     },
     "execution_count": 12,
     "metadata": {},
     "output_type": "execute_result"
    }
   ],
   "source": [
    "#Look at which rows are missing\n",
    "chicago_train.loc[chicago_train[\"location_description\"].isnull()]"
   ]
  },
  {
   "cell_type": "markdown",
   "id": "2a2ad41f",
   "metadata": {},
   "source": [
    "Looks like there might be some relationship between the missing locations and the type of crime committed. Let's further explore this. "
   ]
  },
  {
   "cell_type": "code",
   "execution_count": 13,
   "id": "e92b028c",
   "metadata": {
    "scrolled": false
   },
   "outputs": [
    {
     "data": {
      "text/plain": [
       "DECEPTIVE PRACTICE                   7124\n",
       "THEFT                                 704\n",
       "BURGLARY                                5\n",
       "ROBBERY                                 4\n",
       "BATTERY                                 2\n",
       "CRIMINAL DAMAGE                         2\n",
       "OTHER OFFENSE                           1\n",
       "ARSON                                   1\n",
       "CRIMINAL SEXUAL ASSAULT                 1\n",
       "SEX OFFENSE                             0\n",
       "NON-CRIMINAL                            0\n",
       "RITUALISM                               0\n",
       "PUBLIC PEACE VIOLATION                  0\n",
       "PUBLIC INDECENCY                        0\n",
       "PROSTITUTION                            0\n",
       "STALKING                                0\n",
       "OTHER NARCOTIC VIOLATION                0\n",
       "OFFENSE INVOLVING CHILDREN              0\n",
       "OBSCENITY                               0\n",
       "NON-CRIMINAL (SUBJECT SPECIFIED)        0\n",
       "MOTOR VEHICLE THEFT                     0\n",
       "NON - CRIMINAL                          0\n",
       "NARCOTICS                               0\n",
       "ASSAULT                                 0\n",
       "LIQUOR LAW VIOLATION                    0\n",
       "KIDNAPPING                              0\n",
       "INTIMIDATION                            0\n",
       "INTERFERENCE WITH PUBLIC OFFICER        0\n",
       "HUMAN TRAFFICKING                       0\n",
       "HOMICIDE                                0\n",
       "GAMBLING                                0\n",
       "CRIMINAL TRESPASS                       0\n",
       "CRIM SEXUAL ASSAULT                     0\n",
       "CONCEALED CARRY LICENSE VIOLATION       0\n",
       "WEAPONS VIOLATION                       0\n",
       "Name: primary_type, dtype: int64"
      ]
     },
     "execution_count": 13,
     "metadata": {},
     "output_type": "execute_result"
    }
   ],
   "source": [
    "#Look at the counts of the primary type variable with the data filtered to those values of location that are missing\n",
    "chicago_train.loc[chicago_train[\"location_description\"].isnull()][\"primary_type\"].value_counts()"
   ]
  },
  {
   "cell_type": "markdown",
   "id": "ac71d205",
   "metadata": {},
   "source": [
    "It appears that nearly all missing values for location description have a primary type that is labeled as \"DECEPTIVE PRACTICE\". Let's see what the non-missing values for location description have for their corresponding \"DECEPTIVE PRACTICE\" values."
   ]
  },
  {
   "cell_type": "code",
   "execution_count": 24,
   "id": "d4d063dc",
   "metadata": {},
   "outputs": [
    {
     "data": {
      "text/plain": [
       "RESIDENCE                54361\n",
       "APARTMENT                17232\n",
       "OTHER                    16680\n",
       "STREET                    8369\n",
       "BANK                      6910\n",
       "                         ...  \n",
       "PORCH                        0\n",
       "POOLROOM                     0\n",
       "EXPRESSWAY EMBANKMENT        0\n",
       "FARM                         0\n",
       "YMCA                         0\n",
       "Name: location_description, Length: 197, dtype: int64"
      ]
     },
     "execution_count": 24,
     "metadata": {},
     "output_type": "execute_result"
    }
   ],
   "source": [
    "#Create a boolean mask that filters the data to non-missing locations with a primary type of \"DECEPTIVE PRACTICE\"\n",
    "mask = (chicago_train[\"location_description\"].notnull()) & (chicago_train[\"primary_type\"] == \"DECEPTIVE PRACTICE\")\n",
    "chicago_train.loc[mask][\"location_description\"].value_counts()"
   ]
  },
  {
   "cell_type": "markdown",
   "id": "64163dfb",
   "metadata": {},
   "source": [
    "Thus, it appears that the \"RESIDENCE\" location occurrs the most for non-missing \"DECEPTIVE PRACTICE\" crimes. Therefore, we can impute the missing values for location that have the corresponding crime as \"DECEPTIVE PRACTICE\" with \"RESIDENCE\".  "
   ]
  },
  {
   "cell_type": "markdown",
   "id": "2958b992",
   "metadata": {},
   "source": [
    "Let's do the same process for the \"THEFT\" crime"
   ]
  },
  {
   "cell_type": "code",
   "execution_count": 23,
   "id": "be998fb5",
   "metadata": {},
   "outputs": [
    {
     "data": {
      "text/plain": [
       "STREET                152284\n",
       "RESIDENCE              58720\n",
       "APARTMENT              41793\n",
       "SMALL RETAIL STORE     35004\n",
       "DEPARTMENT STORE       32695\n",
       "                       ...  \n",
       "ELEVATOR                   0\n",
       "DRIVEWAY                   0\n",
       "SCHOOL YARD                0\n",
       "CTA PROPERTY               0\n",
       "YMCA                       0\n",
       "Name: location_description, Length: 197, dtype: int64"
      ]
     },
     "execution_count": 23,
     "metadata": {},
     "output_type": "execute_result"
    }
   ],
   "source": [
    "#Create a boolean mask that filters the data to non-missing locations with a primary type of \"THEFT\"\n",
    "mask = (chicago_train[\"location_description\"].notnull()) & (chicago_train[\"primary_type\"] == \"THEFT\")\n",
    "chicago_train.loc[mask][\"location_description\"].value_counts()"
   ]
  },
  {
   "cell_type": "markdown",
   "id": "68d49f1d",
   "metadata": {},
   "source": [
    "Now, it appears that the \"STREET\" location is the most occurring for non-missing \"THEFT\" crimes. Let's impute the missing values for location that have the corresponding crime as \"THEFT\" with \"STREET\". "
   ]
  },
  {
   "cell_type": "markdown",
   "id": "b82ede0e",
   "metadata": {},
   "source": [
    "Finally, we'll collect the remaining crimes into one group due to their low counts and check what crime is most occurring for the group."
   ]
  },
  {
   "cell_type": "code",
   "execution_count": 37,
   "id": "695606a2",
   "metadata": {},
   "outputs": [
    {
     "data": {
      "text/plain": [
       "location_description\n",
       "RESIDENCE               277616\n",
       "APARTMENT               248008\n",
       "STREET                  235210\n",
       "SIDEWALK                125040\n",
       "RESIDENCE-GARAGE         35372\n",
       "                         ...  \n",
       "PARKING LOT                  0\n",
       "CLUB                         0\n",
       "OFFICE                       0\n",
       "NURSING HOME                 0\n",
       "YMCA                         0\n",
       "Length: 197, dtype: int64"
      ]
     },
     "execution_count": 37,
     "metadata": {},
     "output_type": "execute_result"
    }
   ],
   "source": [
    "crime_type = [\"BURGLARY\", \"ROBBERY\", \"BATTERY\", \"CRIMINAL DAMAGE\", \"ARSON\", \"CRIMINAL SEXUAL ASSAULT\", \"OTHER OFFENSE\"]\n",
    "mask = (chicago_train[\"primary_type\"].isin(crime_type)) & (chicago_train[\"location_description\"].notnull())\n",
    "chicago_train.loc[mask, [\"location_description\"]].value_counts()"
   ]
  },
  {
   "cell_type": "markdown",
   "id": "5faa4b0c",
   "metadata": {},
   "source": [
    "Again, it looks like \"RESIDENCE\" is the most occuring location for the group of crimes when location is not missing. Thus, we can impute the missing location values for the group of crimes as \"RESIDENCE\". "
   ]
  },
  {
   "cell_type": "markdown",
   "id": "65b2334e",
   "metadata": {},
   "source": [
    "We'll collect all of these missing value imputations into one function"
   ]
  },
  {
   "cell_type": "code",
   "execution_count": 14,
   "id": "30c0c1f3",
   "metadata": {},
   "outputs": [],
   "source": [
    "def location_imputer(df):\n",
    "    \"\"\"\n",
    "    This function imputes missing values in the location_description column by setting the missing value to the value that \n",
    "    occurs most in the primary_type column in place\n",
    "    \n",
    "    df: DataFrame that contains the location_description column\n",
    "    \n",
    "    returns: None\n",
    "    \"\"\"\n",
    "    mask = (df.loc[:, \"primary_type\"] == \"DECEPTIVE PRACTICE\") & (df.loc[:, \"location_description\"].isnull())\n",
    "    df.loc[mask, [\"location_description\"]] = \"RESIDENCE\"\n",
    "    \n",
    "    mask = (df.loc[:, \"primary_type\"] == \"THEFT\") & (df.loc[:, \"location_description\"].isnull())\n",
    "    df.loc[mask, [\"location_description\"]] = \"STREET\"\n",
    "    \n",
    "    crime_type = [\"BURGLARY\", \"ROBBERY\", \"BATTERY\", \"CRIMINAL DAMAGE\", \"ARSON\", \"CRIMINAL SEXUAL ASSAULT\", \"OTHER OFFENSE\"]\n",
    "    mask = (df.loc[:, \"primary_type\"].isin(crime_type)) & (df.loc[:, \"location_description\"].isnull())\n",
    "    df.loc[mask, [\"location_description\"]] = \"RESIDENCE\"\n",
    "    "
   ]
  },
  {
   "cell_type": "code",
   "execution_count": 16,
   "id": "13fc310c",
   "metadata": {},
   "outputs": [
    {
     "data": {
      "text/plain": [
       "0"
      ]
     },
     "execution_count": 16,
     "metadata": {},
     "output_type": "execute_result"
    }
   ],
   "source": [
    "#Impute the missing values\n",
    "location_imputer(chicago_train)\n",
    "#Check that there are no missing values\n",
    "chicago_train[\"location_description\"].isnull().sum()"
   ]
  },
  {
   "cell_type": "markdown",
   "id": "1fd6f88e",
   "metadata": {},
   "source": [
    "Now we can examine the different locations"
   ]
  },
  {
   "cell_type": "code",
   "execution_count": 21,
   "id": "7bd2ece4",
   "metadata": {},
   "outputs": [
    {
     "data": {
      "text/plain": [
       "STREET          638800\n",
       "RESIDENCE       473271\n",
       "APARTMENT       366599\n",
       "SIDEWALK        277648\n",
       "OTHER           101780\n",
       "                 ...  \n",
       "LAUNDRY ROOM         1\n",
       "LAKE                 1\n",
       "LAGOON               1\n",
       "YMCA                 1\n",
       "CHA ELEVATOR         0\n",
       "Name: location_description, Length: 197, dtype: int64"
      ]
     },
     "execution_count": 21,
     "metadata": {},
     "output_type": "execute_result"
    }
   ],
   "source": [
    "#Take a look at the different categories in the location description variable\n",
    "chicago_train[\"location_description\"].value_counts()"
   ]
  },
  {
   "cell_type": "markdown",
   "id": "306516cf",
   "metadata": {},
   "source": [
    "Clearly, there are too many categories, 197, to be used in a model with most variables having very few occurrences. Let's see if we can't combine some of the similar values into one category. For instance, there are numerous different ways to break down Chicago Transit Authority (CTA) which can all be combined into one CTA category"
   ]
  },
  {
   "cell_type": "code",
   "execution_count": 51,
   "id": "f3382b36",
   "metadata": {},
   "outputs": [
    {
     "data": {
      "text/plain": [
       "CTA TRAIN                                    15906\n",
       "CTA PLATFORM                                 12793\n",
       "CTA BUS                                      11066\n",
       "CTA BUS STOP                                  6331\n",
       "CTA STATION                                   5767\n",
       "CTA GARAGE / OTHER PROPERTY                   4863\n",
       "CTA TRACKS - RIGHT OF WAY                      168\n",
       "CTA PARKING LOT / GARAGE / OTHER PROPERTY      137\n",
       "CTA \"L\" PLATFORM                                 6\n",
       "CTA PROPERTY                                     3\n",
       "CTA SUBWAY STATION                               1\n",
       "CTA \"L\" TRAIN                                    1\n",
       "POLICE FACILITY/VEH PARKING LOT                  0\n",
       "POLICE FACILITY / VEHICLE PARKING LOT            0\n",
       "PAWN SHOP                                        0\n",
       "PARKING LOT/GARAGE(NON.RESID.)                   0\n",
       "PARKING LOT / GARAGE (NON RESIDENTIAL)           0\n",
       "ABANDONED BUILDING                               0\n",
       "HOTEL/MOTEL                                      0\n",
       "POOL ROOM                                        0\n",
       "Name: location_description, dtype: int64"
      ]
     },
     "execution_count": 51,
     "metadata": {},
     "output_type": "execute_result"
    }
   ],
   "source": [
    "chicago_train.loc[chicago_train[\"location_description\"].str.contains(\"CTA\")][\"location_description\"].value_counts()[:20]"
   ]
  },
  {
   "cell_type": "markdown",
   "id": "81f7a10e",
   "metadata": {},
   "source": [
    "We'll do this process of combining categories by putting them all into one function"
   ]
  },
  {
   "cell_type": "code",
   "execution_count": 54,
   "id": "ea72e18a",
   "metadata": {},
   "outputs": [],
   "source": [
    "def location_cleaner(df):\n",
    "    \"\"\"\n",
    "    This function cleans the location_description by merging categories together that are logically related in place.\n",
    "    \n",
    "    df: DataFrame that contains the location_description column\n",
    "    \n",
    "    returns: None\n",
    "    \"\"\"\n",
    "\n",
    "    #Combine all values related to CTA\n",
    "    CTA = [\"CTA TRAIN\", \"CTA PLATFORM\", \"CTA BUS\", \"CTA BUS STOP\", \"CTA STATION\", \"CTA GARAGE / OTHER PROPERTY\", \n",
    "           \"CTA TRACKS - RIGHT OF WAY\", \"CTA PARKING LOT / GARAGE / OTHER PROPERTY\", \"\"\"CTA \"L\" PLATFORM\"\"\",\n",
    "          \"CTA PROPERTY\", \"\"\"CTA \"L\" TRAIN\"\"\", \"CTA SUBWAY STATION\"]\n",
    "    df[\"location_description\"].replace(CTA, \"CTA\", inplace = True)\n",
    "\n",
    "    #Combine GANGWAY into ALLEY\n",
    "    df[\"location_description\"].replace([\"GANGWAY\"], \"ALLEY\", inplace = True)\n",
    "\n",
    "    #Combine all values related to Sports/Clubs\n",
    "    sports = [\"ATHLETIC CLUB\", \"SPORTS ARENA/STADIUM\", \"SPORTS ARENA / STADIUM\", \"CLUB\"]\n",
    "    df[\"location_description\"].replace(sports, \"SPORTS\", inplace = True)\n",
    "\n",
    "    #Combine all values related to VACANT\n",
    "    vacant = [\"VACANT LOT/LAND\", \"VACANT LOT / LAND\", \"VACANT LOT\"]\n",
    "    df[\"location_description\"].replace(vacant, \"VACANT\", inplace = True)\n",
    "\n",
    "    #Combine the two Gas Station values\n",
    "    df[\"location_description\"].replace([\"GAS STATION DRIVE/PROP.\"], \"GAS STATION\", inplace = True)\n",
    "\n",
    "    #Combine all values related to Water/River/Lake\n",
    "    water = [\"LAKEFRONT/WATERFRONT/RIVERBANK\", \"POOL ROOM\", \"BOAT/WATERCRAFT\", \"LAKEFRONT / WATERFRONT / RIVERBANK\", \n",
    "             \"BOAT / WATERCRAFT\", \"RIVER BANK\", \"POOLROOM\", \"LAKE\", \"LAGOON\"]\n",
    "    df[\"location_description\"].replace(water, \"WATER\", inplace = True)\n",
    "\n",
    "    #Combine all values related to Banks/Credit Unions\n",
    "    bank = [\"ATM (AUTOMATIC TELLER MACHINE)\", \"CURRENCY EXCHANGE\", \"CREDIT UNION\", \"SAVINGS AND LOAN\"]\n",
    "    df[\"location_description\"].replace(bank, \"BANK\", inplace = True)\n",
    "\n",
    "    #Combine all values related to Roads/Streets/Highway\n",
    "    street = [\"HIGHWAY/EXPRESSWAY\", \"BRIDGE\", \"HIGHWAY / EXPRESSWAY\", \"EXPRESSWAY EMBANKMENT\"]\n",
    "    df[\"location_description\"].replace(street, \"STREET\", inplace = True)\n",
    "\n",
    "    #Combine all values related to Residence/Houses or items inside a House\n",
    "    residence = [\"RESIDENCE PORCH/HALLWAY\", \"RESIDENCE-GARAGE\", \"RESIDENCE - YARD (FRONT / BACK)\", \"RESIDENCE - PORCH / HALLWAY\", \n",
    "           \"RESIDENCE - GARAGE\", \"RESIDENTIAL YARD (FRONT/BACK)\", \"HOUSE\", \"ROOMING HOUSE\", \"PORCH\", \"YARD\", \"HALLWAY\", \"GARAGE\",\n",
    "          \"VESTIBULE\", \"STAIRWELL\", \"BASEMENT\", \"LAUNDRY ROOM\", \"DRIVEWAY\", \"DRIVEWAY - RESIDENTIAL\"]\n",
    "    df[\"location_description\"].replace(residence, \"RESIDENCE\", inplace = True)\n",
    "\n",
    "    #Combine all values related to College\n",
    "    college = [\"COLLEGE/UNIVERSITY GROUNDS\", \"COLLEGE/UNIVERSITY RESIDENCE HALL\", \"COLLEGE / UNIVERSITY - GROUNDS\", \n",
    "           \"COLLEGE / UNIVERSITY - RESIDENCE HALL\"]\n",
    "    df[\"location_description\"].replace(college, \"COLLEGE\", inplace = True)\n",
    "\n",
    "    #Combine all values related to CTA into one CTA category\n",
    "    veh = [\"VEHICLE NON-COMMERCIAL\", \"VEHICLE-COMMERCIAL\", \"VEHICLE - OTHER RIDE SHARE SERVICE (E.G., UBER, LYFT)\", \n",
    "           \"VEHICLE - OTHER RIDE SERVICE\", \"VEHICLE - DELIVERY TRUCK\", \"VEHICLE - OTHER RIDE SHARE SERVICE (LYFT, UBER, ETC.)\", \n",
    "           \"VEHICLE - COMMERCIAL\", \"VEHICLE-COMMERCIAL - TROLLEY BUS\", \"VEHICLE-COMMERCIAL - ENTERTAINMENT/PARTY BUS\", \n",
    "           \"VEHICLE - COMMERCIAL: TROLLEY BUS\", \"VEHICLE - COMMERCIAL: ENTERTAINMENT / PARTY BUS\", \"TAXICAB\", \"\",\n",
    "          \"AUTO / BOAT / RV DEALERSHIP\", \"AUTO\", \"DELIVERY TRUCK\", \"GARAGE/AUTO REPAIR\", \"TAXI CAB\", \"TRUCK\", \"TRAILER\"]\n",
    "    df[\"location_description\"].replace(veh, \"VEHICLE\", inplace = True)\n",
    "\n",
    "    #Combine all values related to Police/Fire Station/Protection\n",
    "    police = [\"POLICE FACILITY/VEH PARKING LOT\", \"POLICE FACILITY / VEHICLE PARKING LOT\", \"JAIL / LOCK-UP FACILITY\",\n",
    "             \"FIRE STATION\", \"FOREST PRESERVE\"]\n",
    "    df[\"location_description\"].replace(police, \"POLICE\", inplace = True)\n",
    "\n",
    "    #Combine all values related to Parking\n",
    "    parking = [\"PARKING LOT/GARAGE(NON.RESID.)\", \"CHA PARKING LOT/GROUNDS\", \"PARKING LOT / GARAGE (NON RESIDENTIAL)\", \n",
    "            \"CHA PARKING LOT / GROUNDS\", \"PARKING LOT\", \"CHA PARKING LOT\"]\n",
    "    df[\"location_description\"].replace(parking, \"PARKING\", inplace = True)\n",
    "\n",
    "    #Combine all values related to Airports\n",
    "    air = [\"AIRPORT TERMINAL UPPER LEVEL - SECURE AREA\", \"AIRPORT TERMINAL LOWER LEVEL - NON-SECURE AREA\", \n",
    "           \"AIRPORT BUILDING NON-TERMINAL - NON-SECURE AREA\", \"AIRPORT VENDING ESTABLISHMENT\", \"AIRPORT/AIRCRAFT\", \"AIRCRAFT\", \n",
    "           \"AIRPORT PARKING LOT\", \"AIRPORT EXTERIOR - NON-SECURE AREA\", \"AIRPORT TERMINAL LOWER LEVEL - SECURE AREA\", \n",
    "           \"AIRPORT BUILDING NON-TERMINAL - SECURE AREA\", \"AIRPORT EXTERIOR - SECURE AREA\", \"AIRPORT TRANSPORTATION SYSTEM (ATS)\",\n",
    "           \"AIRPORT TERMINAL MEZZANINE - NON-SECURE AREA\", \"AIRPORT TERMINAL UPPER LEVEL - NON-SECURE AREA\"]\n",
    "    df[\"location_description\"].replace(air, \"AIRPORT\", inplace = True)\n",
    "\n",
    "    #Combine all values related to School/Day Care\n",
    "    school = [\"SCHOOL, PUBLIC, BUILDING\", \"SCHOOL, PUBLIC, GROUNDS\", \"SCHOOL - PUBLIC BUILDING\", \"SCHOOL - PUBLIC GROUNDS\", \n",
    "              \"PUBLIC HIGH SCHOOL\", \"SCHOOL, PRIVATE, BUILDING\", \"SCHOOL, PRIVATE, GROUNDS\", \"SCHOOL - PRIVATE BUILDING\", \n",
    "              \"SCHOOL - PRIVATE GROUNDS\", \"SCHOOL YARD\", \"DAY CARE CENTER\"]\n",
    "    df[\"location_description\"].replace(school, \"SCHOOL\", inplace = True)\n",
    "\n",
    "    #Combine all values related to Bar/Tavern/Restaurant\n",
    "    restaurant = [\"BAR OR TAVERN\", \"TAVERN\"]\n",
    "    df[\"location_description\"].replace(restaurant, \"RESTAURANT\", inplace = True)\n",
    "\n",
    "    #Combine all values related to stores\n",
    "    store = [\"SMALL RETAIL STORE\", \"DEPARTMENT STORE\", \"GROCERY FOOD STORE\", \"CONVENIENCE STORE\", \"DRUG STORE\", \n",
    "             \"TAVERN/LIQUOR STORE\", \"CLEANING STORE\", \"APPLIANCE STORE\", \"TAVERN / LIQUOR STORE\", \"RETAIL STORE\", \n",
    "             \"LIQUOR STORE\", \"NEWSSTAND\", \"PAWN SHOP\", \"MOVIE HOUSE/THEATER\", \"MOVIE HOUSE / THEATER\", \"BARBERSHOP\", \n",
    "             \"CAR WASH\", \"COIN OPERATED MACHINE\", \"BOWLING ALLEY\",\"KENNEL\", \"BARBER SHOP/BEAUTY SALON\", \"CLEANERS/LAUNDROMAT\"]\n",
    "    df[\"location_description\"].replace(store, \"STORE\", inplace = True)\n",
    "\n",
    "    #Combine all values related to hospitals or nursing homes\n",
    "    hos = [\"HOSPITAL BUILDING/GROUNDS\", \"HOSPITAL BUILDING / GROUNDS\", \"ANIMAL HOSPITAL\", \"NURSING HOME/RETIREMENT HOME\", \n",
    "           \"NURSING / RETIREMENT HOME\", \"NURSING HOME\"]\n",
    "    df[\"location_description\"].replace(hos, \"HOSPITAL\", inplace = True)\n",
    "\n",
    "    #Combine all values related to hotels/motels\n",
    "    hotel = [\"HOTEL/MOTEL\", \"HOTEL / MOTEL\", \"MOTEL\"]\n",
    "    df[\"location_description\"].replace(hotel, \"HOTEL\", inplace = True)\n",
    "\n",
    "    #Combine all values related to offices\n",
    "    office = [\"COMMERCIAL / BUSINESS OFFICE\", \"MEDICAL/DENTAL OFFICE\", \"MEDICAL / DENTAL OFFICE\"]\n",
    "    df[\"location_description\"].replace(office, \"OFFICE\", inplace = True)\n",
    "\n",
    "    #Combine all values related to buildings\n",
    "    building = [\"ABANDONED BUILDING\", \"GOVERNMENT BUILDING/PROPERTY\", \"FACTORY/MANUFACTURING BUILDING\", \n",
    "                \"GOVERNMENT BUILDING / PROPERTY\", \"FEDERAL BUILDING\", \"FACTORY / MANUFACTURING BUILDING\", \"GOVERNMENT BUILDING\",\n",
    "               \"WAREHOUSE\", \"ELEVATOR\", \"YMCA\"]\n",
    "    df[\"location_description\"].replace(building, \"BUILDING\", inplace = True)\n",
    "\n",
    "    #Combine all values related to Chicago Housing Authority (CHA)\n",
    "    cha = [\"CHA APARTMENT\", \"CHA HALLWAY/STAIRWELL/ELEVATOR\", \"CHA HALLWAY / STAIRWELL / ELEVATOR\", \"CHA GROUNDS\", \n",
    "           \"CHA PLAY LOT\", \"CHA HALLWAY\", \"CHA ELEVATOR\"]\n",
    "    df[\"location_description\"].replace(cha, \"CHA\", inplace = True)\n",
    "\n",
    "    #Combine all values related to Church\n",
    "    church = [\"CHURCH/SYNAGOGUE/PLACE OF WORSHIP\", \"CHURCH / SYNAGOGUE / PLACE OF WORSHIP\", \"CHURCH PROPERTY\"]\n",
    "    df[\"location_description\"].replace(church, \"CHURCH\", inplace = True)\n",
    "\n",
    "    #Combine all other miscellaneous vaules\n",
    "    other = [\"OTHER (SPECIFY)\", \"OTHER RAILROAD PROP / TRAIN DEPOT\", \"OTHER COMMERCIAL TRANSPORTATION\", \n",
    "             \"OTHER RAILROAD PROPERTY / TRAIN DEPOT\", \"CEMETARY\", \"FARM\", \"HORSE STABLE\", \"RAILROAD PROPERTY\",\n",
    "             \"WOODED AREA\", \"SEWER\"]\n",
    "    df[\"location_description\"].replace(other, \"OTHER\", inplace = True)\n",
    "    \n"
   ]
  },
  {
   "cell_type": "code",
   "execution_count": 56,
   "id": "e8101002",
   "metadata": {},
   "outputs": [
    {
     "data": {
      "text/plain": [
       "STREET               639494\n",
       "RESIDENCE            634663\n",
       "APARTMENT            366599\n",
       "SIDEWALK             277648\n",
       "STORE                174996\n",
       "OTHER                110876\n",
       "PARKING               88353\n",
       "RESTAURANT            74485\n",
       "SCHOOL                64492\n",
       "ALLEY                 59376\n",
       "VEHICLE               57290\n",
       "CTA                   57042\n",
       "GAS STATION           33424\n",
       "PARK PROPERTY         21477\n",
       "BANK                  20019\n",
       "OFFICE                19074\n",
       "HOSPITAL              18387\n",
       "BUILDING              16748\n",
       "HOTEL                 13006\n",
       "AIRPORT               12855\n",
       "VACANT                11034\n",
       "POLICE                10114\n",
       "CHA                    9771\n",
       "SPORTS                 7598\n",
       "CHURCH                 6033\n",
       "CONSTRUCTION SITE      3427\n",
       "LIBRARY                2511\n",
       "COLLEGE                2469\n",
       "WATER                  1593\n",
       "Name: location_description, dtype: int64"
      ]
     },
     "execution_count": 56,
     "metadata": {},
     "output_type": "execute_result"
    }
   ],
   "source": [
    "#Clean location description variable\n",
    "location_cleaner(chicago_train)\n",
    "chicago_train[\"location_description\"].value_counts()"
   ]
  },
  {
   "cell_type": "markdown",
   "id": "7d2996a5",
   "metadata": {},
   "source": [
    "We reduced the number of categories from 197 to only 29. "
   ]
  },
  {
   "cell_type": "markdown",
   "id": "ee325aec",
   "metadata": {},
   "source": [
    "### Cleaning Date Variable"
   ]
  },
  {
   "cell_type": "code",
   "execution_count": 66,
   "id": "1e014f49",
   "metadata": {},
   "outputs": [
    {
     "data": {
      "text/plain": [
       "0"
      ]
     },
     "execution_count": 66,
     "metadata": {},
     "output_type": "execute_result"
    }
   ],
   "source": [
    "#Check for missing values\n",
    "chicago_train[\"date\"].isnull().sum()"
   ]
  },
  {
   "cell_type": "markdown",
   "id": "6785ca9a",
   "metadata": {},
   "source": [
    "We'll split the date variable into months and hour to look at the difference in crimes by time"
   ]
  },
  {
   "cell_type": "code",
   "execution_count": 297,
   "id": "66a11064",
   "metadata": {},
   "outputs": [],
   "source": [
    "def crime_month(df):\n",
    "    \"\"\"\n",
    "    This function creates a new column that contains the month the crime occurred.\n",
    "    \n",
    "    df: DataFrame that has a column for the date the crime occurred.\n",
    "    \n",
    "    returns: None\n",
    "    \n",
    "    \"\"\"\n",
    "    df[\"Month\"] = df.loc[:, \"date\"].dt.month\n"
   ]
  },
  {
   "cell_type": "code",
   "execution_count": 300,
   "id": "12ccd6e4",
   "metadata": {},
   "outputs": [],
   "source": [
    "%%capture --no-stdout\n",
    "#Add the Month variable\n",
    "crime_month(chicago_train)"
   ]
  },
  {
   "cell_type": "code",
   "execution_count": 86,
   "id": "2730f7bb",
   "metadata": {},
   "outputs": [
    {
     "data": {
      "text/html": [
       "<div>\n",
       "<style scoped>\n",
       "    .dataframe tbody tr th:only-of-type {\n",
       "        vertical-align: middle;\n",
       "    }\n",
       "\n",
       "    .dataframe tbody tr th {\n",
       "        vertical-align: top;\n",
       "    }\n",
       "\n",
       "    .dataframe thead th {\n",
       "        text-align: right;\n",
       "    }\n",
       "</style>\n",
       "<table border=\"1\" class=\"dataframe\">\n",
       "  <thead>\n",
       "    <tr style=\"text-align: right;\">\n",
       "      <th></th>\n",
       "      <th>Month</th>\n",
       "      <th>Count</th>\n",
       "    </tr>\n",
       "  </thead>\n",
       "  <tbody>\n",
       "    <tr>\n",
       "      <th>8</th>\n",
       "      <td>1</td>\n",
       "      <td>222888</td>\n",
       "    </tr>\n",
       "    <tr>\n",
       "      <th>11</th>\n",
       "      <td>2</td>\n",
       "      <td>193914</td>\n",
       "    </tr>\n",
       "    <tr>\n",
       "      <th>6</th>\n",
       "      <td>3</td>\n",
       "      <td>227062</td>\n",
       "    </tr>\n",
       "    <tr>\n",
       "      <th>7</th>\n",
       "      <td>4</td>\n",
       "      <td>224360</td>\n",
       "    </tr>\n",
       "    <tr>\n",
       "      <th>3</th>\n",
       "      <td>5</td>\n",
       "      <td>251136</td>\n",
       "    </tr>\n",
       "    <tr>\n",
       "      <th>2</th>\n",
       "      <td>6</td>\n",
       "      <td>252769</td>\n",
       "    </tr>\n",
       "    <tr>\n",
       "      <th>0</th>\n",
       "      <td>7</td>\n",
       "      <td>264067</td>\n",
       "    </tr>\n",
       "    <tr>\n",
       "      <th>1</th>\n",
       "      <td>8</td>\n",
       "      <td>261356</td>\n",
       "    </tr>\n",
       "    <tr>\n",
       "      <th>4</th>\n",
       "      <td>9</td>\n",
       "      <td>241026</td>\n",
       "    </tr>\n",
       "    <tr>\n",
       "      <th>5</th>\n",
       "      <td>10</td>\n",
       "      <td>240374</td>\n",
       "    </tr>\n",
       "    <tr>\n",
       "      <th>9</th>\n",
       "      <td>11</td>\n",
       "      <td>219026</td>\n",
       "    </tr>\n",
       "    <tr>\n",
       "      <th>10</th>\n",
       "      <td>12</td>\n",
       "      <td>216876</td>\n",
       "    </tr>\n",
       "  </tbody>\n",
       "</table>\n",
       "</div>"
      ],
      "text/plain": [
       "    Month   Count\n",
       "8       1  222888\n",
       "11      2  193914\n",
       "6       3  227062\n",
       "7       4  224360\n",
       "3       5  251136\n",
       "2       6  252769\n",
       "0       7  264067\n",
       "1       8  261356\n",
       "4       9  241026\n",
       "5      10  240374\n",
       "9      11  219026\n",
       "10     12  216876"
      ]
     },
     "execution_count": 86,
     "metadata": {},
     "output_type": "execute_result"
    }
   ],
   "source": [
    "#Look at the total number of crimes ordered by month\n",
    "chicago_train[\"Month\"].value_counts()\\\n",
    "                      .reset_index()\\\n",
    "                      .rename(columns={\"Month\": \"Count\", \"index\":\"Month\"})\\\n",
    "                      .sort_values(by=\"Month\")"
   ]
  },
  {
   "cell_type": "code",
   "execution_count": 82,
   "id": "8daa65c9",
   "metadata": {},
   "outputs": [],
   "source": [
    "def crime_hour(df):\n",
    "    \"\"\"\n",
    "    This function creates a new column that contains the hour the crime occurred.\n",
    "    \n",
    "    df: DataFrame that has a column for the date the crime occurred.\n",
    "    \n",
    "    returns: None\n",
    "    \n",
    "    \"\"\"\n",
    "    df[\"Hour\"] = df.loc[:, \"date\"].dt.hour"
   ]
  },
  {
   "cell_type": "code",
   "execution_count": 84,
   "id": "d3b8cf55",
   "metadata": {},
   "outputs": [],
   "source": [
    "%%capture --no-stdout\n",
    "#Add the Hour variable\n",
    "crime_hour(chicago_train)"
   ]
  },
  {
   "cell_type": "code",
   "execution_count": 87,
   "id": "a35fbfd0",
   "metadata": {},
   "outputs": [
    {
     "data": {
      "text/html": [
       "<div>\n",
       "<style scoped>\n",
       "    .dataframe tbody tr th:only-of-type {\n",
       "        vertical-align: middle;\n",
       "    }\n",
       "\n",
       "    .dataframe tbody tr th {\n",
       "        vertical-align: top;\n",
       "    }\n",
       "\n",
       "    .dataframe thead th {\n",
       "        text-align: right;\n",
       "    }\n",
       "</style>\n",
       "<table border=\"1\" class=\"dataframe\">\n",
       "  <thead>\n",
       "    <tr style=\"text-align: right;\">\n",
       "      <th></th>\n",
       "      <th>Hour</th>\n",
       "      <th>Count</th>\n",
       "    </tr>\n",
       "  </thead>\n",
       "  <tbody>\n",
       "    <tr>\n",
       "      <th>9</th>\n",
       "      <td>0</td>\n",
       "      <td>142456</td>\n",
       "    </tr>\n",
       "    <tr>\n",
       "      <th>17</th>\n",
       "      <td>1</td>\n",
       "      <td>85249</td>\n",
       "    </tr>\n",
       "    <tr>\n",
       "      <th>18</th>\n",
       "      <td>2</td>\n",
       "      <td>72964</td>\n",
       "    </tr>\n",
       "    <tr>\n",
       "      <th>20</th>\n",
       "      <td>3</td>\n",
       "      <td>60168</td>\n",
       "    </tr>\n",
       "    <tr>\n",
       "      <th>22</th>\n",
       "      <td>4</td>\n",
       "      <td>46156</td>\n",
       "    </tr>\n",
       "    <tr>\n",
       "      <th>23</th>\n",
       "      <td>5</td>\n",
       "      <td>40027</td>\n",
       "    </tr>\n",
       "    <tr>\n",
       "      <th>21</th>\n",
       "      <td>6</td>\n",
       "      <td>47901</td>\n",
       "    </tr>\n",
       "    <tr>\n",
       "      <th>19</th>\n",
       "      <td>7</td>\n",
       "      <td>66662</td>\n",
       "    </tr>\n",
       "    <tr>\n",
       "      <th>16</th>\n",
       "      <td>8</td>\n",
       "      <td>98523</td>\n",
       "    </tr>\n",
       "    <tr>\n",
       "      <th>12</th>\n",
       "      <td>9</td>\n",
       "      <td>130410</td>\n",
       "    </tr>\n",
       "    <tr>\n",
       "      <th>14</th>\n",
       "      <td>10</td>\n",
       "      <td>125435</td>\n",
       "    </tr>\n",
       "    <tr>\n",
       "      <th>13</th>\n",
       "      <td>11</td>\n",
       "      <td>129741</td>\n",
       "    </tr>\n",
       "    <tr>\n",
       "      <th>0</th>\n",
       "      <td>12</td>\n",
       "      <td>166232</td>\n",
       "    </tr>\n",
       "    <tr>\n",
       "      <th>11</th>\n",
       "      <td>13</td>\n",
       "      <td>134993</td>\n",
       "    </tr>\n",
       "    <tr>\n",
       "      <th>8</th>\n",
       "      <td>14</td>\n",
       "      <td>143440</td>\n",
       "    </tr>\n",
       "    <tr>\n",
       "      <th>3</th>\n",
       "      <td>15</td>\n",
       "      <td>154306</td>\n",
       "    </tr>\n",
       "    <tr>\n",
       "      <th>6</th>\n",
       "      <td>16</td>\n",
       "      <td>147882</td>\n",
       "    </tr>\n",
       "    <tr>\n",
       "      <th>5</th>\n",
       "      <td>17</td>\n",
       "      <td>148298</td>\n",
       "    </tr>\n",
       "    <tr>\n",
       "      <th>2</th>\n",
       "      <td>18</td>\n",
       "      <td>157933</td>\n",
       "    </tr>\n",
       "    <tr>\n",
       "      <th>1</th>\n",
       "      <td>19</td>\n",
       "      <td>160215</td>\n",
       "    </tr>\n",
       "    <tr>\n",
       "      <th>4</th>\n",
       "      <td>20</td>\n",
       "      <td>153122</td>\n",
       "    </tr>\n",
       "    <tr>\n",
       "      <th>7</th>\n",
       "      <td>21</td>\n",
       "      <td>143659</td>\n",
       "    </tr>\n",
       "    <tr>\n",
       "      <th>10</th>\n",
       "      <td>22</td>\n",
       "      <td>142061</td>\n",
       "    </tr>\n",
       "    <tr>\n",
       "      <th>15</th>\n",
       "      <td>23</td>\n",
       "      <td>117021</td>\n",
       "    </tr>\n",
       "  </tbody>\n",
       "</table>\n",
       "</div>"
      ],
      "text/plain": [
       "    Hour   Count\n",
       "9      0  142456\n",
       "17     1   85249\n",
       "18     2   72964\n",
       "20     3   60168\n",
       "22     4   46156\n",
       "23     5   40027\n",
       "21     6   47901\n",
       "19     7   66662\n",
       "16     8   98523\n",
       "12     9  130410\n",
       "14    10  125435\n",
       "13    11  129741\n",
       "0     12  166232\n",
       "11    13  134993\n",
       "8     14  143440\n",
       "3     15  154306\n",
       "6     16  147882\n",
       "5     17  148298\n",
       "2     18  157933\n",
       "1     19  160215\n",
       "4     20  153122\n",
       "7     21  143659\n",
       "10    22  142061\n",
       "15    23  117021"
      ]
     },
     "execution_count": 87,
     "metadata": {},
     "output_type": "execute_result"
    }
   ],
   "source": [
    "#Look at the total number of crimes ordered by hour\n",
    "chicago_train[\"Hour\"].value_counts() \\\n",
    "                     .reset_index() \\\n",
    "                     .rename(columns={\"Hour\": \"Count\", \"index\":\"Hour\"}) \\\n",
    "                     .sort_values(by=\"Hour\")"
   ]
  },
  {
   "cell_type": "markdown",
   "id": "8acb7fe8",
   "metadata": {},
   "source": [
    "### Clean Domestic Variable"
   ]
  },
  {
   "cell_type": "code",
   "execution_count": 88,
   "id": "08b20e96",
   "metadata": {},
   "outputs": [
    {
     "data": {
      "text/plain": [
       "0"
      ]
     },
     "execution_count": 88,
     "metadata": {},
     "output_type": "execute_result"
    }
   ],
   "source": [
    "#Check for missing values\n",
    "chicago_train[\"domestic\"].isnull().sum()"
   ]
  },
  {
   "cell_type": "code",
   "execution_count": 89,
   "id": "ba67eab7",
   "metadata": {},
   "outputs": [
    {
     "data": {
      "text/plain": [
       "False    2376026\n",
       "True      438828\n",
       "Name: domestic, dtype: Int64"
      ]
     },
     "execution_count": 89,
     "metadata": {},
     "output_type": "execute_result"
    }
   ],
   "source": [
    "#The data type says Boolean. Check that there are only two values i.e True and False\n",
    "chicago_train[\"domestic\"].value_counts()"
   ]
  },
  {
   "cell_type": "markdown",
   "id": "5d38ada7",
   "metadata": {},
   "source": [
    "Thus, there's nothing we need to clean for the domestic variable"
   ]
  },
  {
   "cell_type": "markdown",
   "id": "f416ddd6",
   "metadata": {},
   "source": [
    "### Clean Community Name and District Variables"
   ]
  },
  {
   "cell_type": "markdown",
   "id": "a4b75396",
   "metadata": {},
   "source": [
    "Since the district variable was created by merging with community areas, cleaning community name will clean district"
   ]
  },
  {
   "cell_type": "code",
   "execution_count": 90,
   "id": "98db5cc5",
   "metadata": {},
   "outputs": [
    {
     "data": {
      "text/plain": [
       "218"
      ]
     },
     "execution_count": 90,
     "metadata": {},
     "output_type": "execute_result"
    }
   ],
   "source": [
    "#Check the number of missing values for community names\n",
    "chicago_train[\"community_name\"].isnull().sum()"
   ]
  },
  {
   "cell_type": "code",
   "execution_count": 96,
   "id": "e7679b69",
   "metadata": {},
   "outputs": [
    {
     "data": {
      "text/plain": [
       "218"
      ]
     },
     "execution_count": 96,
     "metadata": {},
     "output_type": "execute_result"
    }
   ],
   "source": [
    "#Check the number of missing values for district\n",
    "chicago_train[\"district_name\"].isnull().sum()"
   ]
  },
  {
   "cell_type": "code",
   "execution_count": 92,
   "id": "b25ec554",
   "metadata": {},
   "outputs": [
    {
     "data": {
      "text/html": [
       "<div>\n",
       "<style scoped>\n",
       "    .dataframe tbody tr th:only-of-type {\n",
       "        vertical-align: middle;\n",
       "    }\n",
       "\n",
       "    .dataframe tbody tr th {\n",
       "        vertical-align: top;\n",
       "    }\n",
       "\n",
       "    .dataframe thead th {\n",
       "        text-align: right;\n",
       "    }\n",
       "</style>\n",
       "<table border=\"1\" class=\"dataframe\">\n",
       "  <thead>\n",
       "    <tr style=\"text-align: right;\">\n",
       "      <th></th>\n",
       "      <th>unique_key</th>\n",
       "      <th>date</th>\n",
       "      <th>primary_type</th>\n",
       "      <th>location_description</th>\n",
       "      <th>arrest</th>\n",
       "      <th>domestic</th>\n",
       "      <th>year</th>\n",
       "      <th>latitude</th>\n",
       "      <th>longitude</th>\n",
       "      <th>district_name</th>\n",
       "      <th>community_name</th>\n",
       "      <th>Month</th>\n",
       "      <th>Hour</th>\n",
       "    </tr>\n",
       "  </thead>\n",
       "  <tbody>\n",
       "    <tr>\n",
       "      <th>225896</th>\n",
       "      <td>8487665</td>\n",
       "      <td>2012-02-19 18:54:00+00:00</td>\n",
       "      <td>CRIMINAL DAMAGE</td>\n",
       "      <td>RESIDENCE-GARAGE</td>\n",
       "      <td>False</td>\n",
       "      <td>False</td>\n",
       "      <td>2012</td>\n",
       "      <td>41.799090</td>\n",
       "      <td>-87.790549</td>\n",
       "      <td>NaN</td>\n",
       "      <td>NaN</td>\n",
       "      <td>2</td>\n",
       "      <td>18</td>\n",
       "    </tr>\n",
       "    <tr>\n",
       "      <th>225897</th>\n",
       "      <td>8150814</td>\n",
       "      <td>2011-07-07 14:00:00+00:00</td>\n",
       "      <td>ASSAULT</td>\n",
       "      <td>RESIDENTIAL YARD (FRONT/BACK)</td>\n",
       "      <td>False</td>\n",
       "      <td>True</td>\n",
       "      <td>2011</td>\n",
       "      <td>41.798980</td>\n",
       "      <td>-87.790547</td>\n",
       "      <td>NaN</td>\n",
       "      <td>NaN</td>\n",
       "      <td>7</td>\n",
       "      <td>14</td>\n",
       "    </tr>\n",
       "    <tr>\n",
       "      <th>225898</th>\n",
       "      <td>8197932</td>\n",
       "      <td>2011-08-04 17:00:00+00:00</td>\n",
       "      <td>OTHER OFFENSE</td>\n",
       "      <td>RESIDENCE</td>\n",
       "      <td>False</td>\n",
       "      <td>False</td>\n",
       "      <td>2011</td>\n",
       "      <td>41.798980</td>\n",
       "      <td>-87.790547</td>\n",
       "      <td>NaN</td>\n",
       "      <td>NaN</td>\n",
       "      <td>8</td>\n",
       "      <td>17</td>\n",
       "    </tr>\n",
       "    <tr>\n",
       "      <th>225899</th>\n",
       "      <td>8274387</td>\n",
       "      <td>2011-09-21 12:45:00+00:00</td>\n",
       "      <td>BATTERY</td>\n",
       "      <td>CTA PLATFORM</td>\n",
       "      <td>False</td>\n",
       "      <td>False</td>\n",
       "      <td>2011</td>\n",
       "      <td>41.970515</td>\n",
       "      <td>-87.836651</td>\n",
       "      <td>NaN</td>\n",
       "      <td>NaN</td>\n",
       "      <td>9</td>\n",
       "      <td>12</td>\n",
       "    </tr>\n",
       "    <tr>\n",
       "      <th>225900</th>\n",
       "      <td>8039300</td>\n",
       "      <td>2011-04-28 22:50:00+00:00</td>\n",
       "      <td>BATTERY</td>\n",
       "      <td>RESIDENCE</td>\n",
       "      <td>False</td>\n",
       "      <td>True</td>\n",
       "      <td>2011</td>\n",
       "      <td>41.798980</td>\n",
       "      <td>-87.790547</td>\n",
       "      <td>NaN</td>\n",
       "      <td>NaN</td>\n",
       "      <td>4</td>\n",
       "      <td>22</td>\n",
       "    </tr>\n",
       "  </tbody>\n",
       "</table>\n",
       "</div>"
      ],
      "text/plain": [
       "        unique_key                      date     primary_type  \\\n",
       "225896     8487665 2012-02-19 18:54:00+00:00  CRIMINAL DAMAGE   \n",
       "225897     8150814 2011-07-07 14:00:00+00:00          ASSAULT   \n",
       "225898     8197932 2011-08-04 17:00:00+00:00    OTHER OFFENSE   \n",
       "225899     8274387 2011-09-21 12:45:00+00:00          BATTERY   \n",
       "225900     8039300 2011-04-28 22:50:00+00:00          BATTERY   \n",
       "\n",
       "                 location_description  arrest  domestic  year   latitude  \\\n",
       "225896               RESIDENCE-GARAGE   False     False  2012  41.799090   \n",
       "225897  RESIDENTIAL YARD (FRONT/BACK)   False      True  2011  41.798980   \n",
       "225898                      RESIDENCE   False     False  2011  41.798980   \n",
       "225899                   CTA PLATFORM   False     False  2011  41.970515   \n",
       "225900                      RESIDENCE   False      True  2011  41.798980   \n",
       "\n",
       "        longitude district_name community_name  Month  Hour  \n",
       "225896 -87.790549           NaN            NaN      2    18  \n",
       "225897 -87.790547           NaN            NaN      7    14  \n",
       "225898 -87.790547           NaN            NaN      8    17  \n",
       "225899 -87.836651           NaN            NaN      9    12  \n",
       "225900 -87.790547           NaN            NaN      4    22  "
      ]
     },
     "execution_count": 92,
     "metadata": {},
     "output_type": "execute_result"
    }
   ],
   "source": [
    "#Take a look at the data filtered for missing community name values\n",
    "mask = chicago_train[\"community_name\"].isnull()\n",
    "chicago_train.loc[mask].head()"
   ]
  },
  {
   "cell_type": "markdown",
   "id": "077a9290",
   "metadata": {},
   "source": [
    "The date variable shows that the first few missing values are from the beginning of the observations. Let's examine this further."
   ]
  },
  {
   "cell_type": "code",
   "execution_count": 93,
   "id": "d2f58152",
   "metadata": {},
   "outputs": [
    {
     "data": {
      "text/plain": [
       "2011    186\n",
       "2012     27\n",
       "2013      4\n",
       "2020      1\n",
       "Name: year, dtype: Int64"
      ]
     },
     "execution_count": 93,
     "metadata": {},
     "output_type": "execute_result"
    }
   ],
   "source": [
    "chicago_train[mask][\"year\"].value_counts()"
   ]
  },
  {
   "cell_type": "markdown",
   "id": "41caf5f2",
   "metadata": {},
   "source": [
    "Since nearly all missing community names are from the beginning of the data set, we can subjectively decide to drop them. We'll do this in a function."
   ]
  },
  {
   "cell_type": "code",
   "execution_count": 101,
   "id": "ffc7d658",
   "metadata": {},
   "outputs": [],
   "source": [
    "def community_cleaner(df):\n",
    "    \"\"\"\n",
    "    This function cleans the community_name column by dropping those rows with missing values.\n",
    "    \n",
    "    df: DataFrame that contains the community_name column\n",
    "    \n",
    "    returns: None\n",
    "    \"\"\"\n",
    "    df.dropna(subset=[\"community_name\"], inplace = True)\n"
   ]
  },
  {
   "cell_type": "code",
   "execution_count": 98,
   "id": "96fe498d",
   "metadata": {},
   "outputs": [],
   "source": [
    "%%capture --no-stdout\n",
    "#Clean the community names\n",
    "community_cleaner(chicago_train)"
   ]
  },
  {
   "cell_type": "code",
   "execution_count": 99,
   "id": "c7799d72",
   "metadata": {},
   "outputs": [
    {
     "data": {
      "text/plain": [
       "0"
      ]
     },
     "execution_count": 99,
     "metadata": {},
     "output_type": "execute_result"
    }
   ],
   "source": [
    "#Check that there are no missing values for community names\n",
    "chicago_train[\"community_name\"].isnull().sum()"
   ]
  },
  {
   "cell_type": "code",
   "execution_count": 100,
   "id": "a34ff64f",
   "metadata": {},
   "outputs": [
    {
     "data": {
      "text/plain": [
       "0"
      ]
     },
     "execution_count": 100,
     "metadata": {},
     "output_type": "execute_result"
    }
   ],
   "source": [
    "#Check that there are no missing values for district\n",
    "chicago_train[\"district_name\"].isnull().sum()"
   ]
  },
  {
   "cell_type": "code",
   "execution_count": 107,
   "id": "103ce8bc",
   "metadata": {},
   "outputs": [],
   "source": [
    "#Google says there are 77 community areas in Chicago\n",
    "assert 77 == len(chicago_train[\"community_name\"].value_counts())"
   ]
  },
  {
   "cell_type": "code",
   "execution_count": 105,
   "id": "c2612fe9",
   "metadata": {},
   "outputs": [
    {
     "data": {
      "text/plain": [
       "AUSTIN                    175473\n",
       "NEAR NORTH SIDE           106612\n",
       "SOUTH SHORE                94836\n",
       "NORTH LAWNDALE             90965\n",
       "HUMBOLDT PARK              88954\n",
       "NEAR WEST SIDE             87347\n",
       "LOOP                       84337\n",
       "AUBURN GRESHAM             80626\n",
       "WEST TOWN                  78979\n",
       "WEST ENGLEWOOD             78415\n",
       "ROSELAND                   74522\n",
       "GREATER GRAND CROSSING     71155\n",
       "ENGLEWOOD                  70713\n",
       "CHICAGO LAWN               66334\n",
       "CHATHAM                    65530\n",
       "LAKE VIEW                  61453\n",
       "WEST GARFIELD PARK         60011\n",
       "LOGAN SQUARE               54052\n",
       "EAST GARFIELD PARK         53331\n",
       "NEW CITY                   52561\n",
       "SOUTH CHICAGO              50873\n",
       "BELMONT CRAGIN             50749\n",
       "SOUTH LAWNDALE             48034\n",
       "WEST PULLMAN               44921\n",
       "LINCOLN PARK               43550\n",
       "WOODLAWN                   41312\n",
       "ROGERS PARK                40911\n",
       "UPTOWN                     38650\n",
       "GRAND BOULEVARD            35938\n",
       "WEST RIDGE                 35823\n",
       "PORTAGE PARK               34764\n",
       "WASHINGTON HEIGHTS         33864\n",
       "IRVING PARK                31217\n",
       "WASHINGTON PARK            29151\n",
       "LOWER WEST SIDE            27112\n",
       "EDGEWATER                  26596\n",
       "BRIGHTON PARK              26549\n",
       "DOUGLAS                    26291\n",
       "ASHBURN                    25591\n",
       "GAGE PARK                  25455\n",
       "ALBANY PARK                25259\n",
       "AVONDALE                   24928\n",
       "MORGAN PARK                22215\n",
       "GARFIELD RIDGE             20489\n",
       "WEST LAWN                  20312\n",
       "LINCOLN SQUARE             20174\n",
       "SOUTH DEERING              20062\n",
       "NEAR SOUTH SIDE            18373\n",
       "OHARE                      17743\n",
       "HYDE PARK                  17353\n",
       "BRIDGEPORT                 17306\n",
       "DUNNING                    16651\n",
       "HERMOSA                    16578\n",
       "CALUMET HEIGHTS            15752\n",
       "KENWOOD                    15371\n",
       "NORTH CENTER               15136\n",
       "AVALON PARK                14577\n",
       "RIVERDALE                  13646\n",
       "EAST SIDE                  13447\n",
       "NORWOOD PARK               12485\n",
       "JEFFERSON PARK             11645\n",
       "ARMOUR SQUARE              11509\n",
       "PULLMAN                    11485\n",
       "WEST ELSDON                10973\n",
       "MCKINLEY PARK              10776\n",
       "CLEARING                   10317\n",
       "BEVERLY                     9972\n",
       "ARCHER HEIGHTS              9797\n",
       "FULLER PARK                 9505\n",
       "NORTH PARK                  9347\n",
       "OAKLAND                     6894\n",
       "MONTCLARE                   6380\n",
       "HEGEWISCH                   6309\n",
       "MOUNT GREENWOOD             6113\n",
       "FOREST GLEN                 5194\n",
       "BURNSIDE                    4139\n",
       "EDISON PARK                 2867\n",
       "Name: community_name, dtype: int64"
      ]
     },
     "execution_count": 105,
     "metadata": {},
     "output_type": "execute_result"
    }
   ],
   "source": [
    "#Examine the number of crimes by community name\n",
    "chicago_train[\"community_name\"].value_counts()"
   ]
  },
  {
   "cell_type": "code",
   "execution_count": 103,
   "id": "aa4557ba",
   "metadata": {},
   "outputs": [
    {
     "data": {
      "text/plain": [
       "West             710206\n",
       "Southwest        402691\n",
       "South            376621\n",
       "Far Southeast    335263\n",
       "Far North        246694\n",
       "Central          209322\n",
       "North            199119\n",
       "Far Southwest    178381\n",
       "Northwest        156339\n",
       "Name: district_name, dtype: int64"
      ]
     },
     "execution_count": 103,
     "metadata": {},
     "output_type": "execute_result"
    }
   ],
   "source": [
    "#Examine the number of crimes by district\n",
    "chicago_train[\"district_name\"].value_counts()"
   ]
  },
  {
   "cell_type": "markdown",
   "id": "c3c513d6",
   "metadata": {},
   "source": [
    "### Clean Arrest Variable"
   ]
  },
  {
   "cell_type": "code",
   "execution_count": 108,
   "id": "8ca0513d",
   "metadata": {},
   "outputs": [
    {
     "data": {
      "text/plain": [
       "0"
      ]
     },
     "execution_count": 108,
     "metadata": {},
     "output_type": "execute_result"
    }
   ],
   "source": [
    "#Check for missing values\n",
    "chicago_train[\"arrest\"].isnull().sum()"
   ]
  },
  {
   "cell_type": "code",
   "execution_count": 109,
   "id": "4f44b38c",
   "metadata": {},
   "outputs": [
    {
     "data": {
      "text/plain": [
       "False    2142310\n",
       "True      672326\n",
       "Name: arrest, dtype: Int64"
      ]
     },
     "execution_count": 109,
     "metadata": {},
     "output_type": "execute_result"
    }
   ],
   "source": [
    "#The data type for arrest says Boolean so we only expect True or False\n",
    "chicago_train[\"arrest\"].value_counts()"
   ]
  },
  {
   "cell_type": "markdown",
   "id": "26ea05c1",
   "metadata": {},
   "source": [
    "We see that the arrest variable does not need any cleaning"
   ]
  },
  {
   "cell_type": "markdown",
   "id": "3c471915",
   "metadata": {},
   "source": [
    "Now that we have created functions to clean up each individual variable, we can create a wrapper function combining all individual functions"
   ]
  },
  {
   "cell_type": "code",
   "execution_count": 122,
   "id": "c4d0deae",
   "metadata": {},
   "outputs": [],
   "source": [
    "def chicago_data_cleaner(df, clean_crime = True, impute_location = True, clean_location = True, add_month = True,\n",
    "                                add_hour = True, clean_community = True, verbose = False):\n",
    "    \"\"\"\n",
    "    This function is a wrapper over various functions to clean the columns in the Chicago data set in place\n",
    "    \n",
    "    The parameters are boolean values to decide if each individual function should be call on the data set\n",
    "    \n",
    "    returns: None\n",
    "    \"\"\"\n",
    "    if verbose: print(\"Cleaning Started...\\n\")\n",
    "    if clean_crime:\n",
    "        crime_type_cleaner(df)\n",
    "        if verbose: print(\"Successfully Cleaned Primary Type\")\n",
    "        \n",
    "    if impute_location:\n",
    "        location_imputer(df)\n",
    "        if verbose: print(\"Successfully Imputed Location\")\n",
    "    \n",
    "    if clean_location:\n",
    "        location_cleaner(df)\n",
    "        if verbose: print(\"Successfully Cleaned Location\")  \n",
    "    \n",
    "    if add_month:\n",
    "        crime_month(df)\n",
    "        if verbose: print(\"Successfully Added Month Column\")\n",
    "        \n",
    "    if add_hour:\n",
    "        crime_hour(df)\n",
    "        if verbose: print(\"Successfully Added Hour Column\")\n",
    "        \n",
    "    if clean_community:\n",
    "        community_cleaner(df)\n",
    "        if verbose: print(\"Successfully Cleaned Community\\n\")\n",
    "        \n",
    "    df.reset_index(drop = True, inplace = True)\n",
    "    \n",
    "    if verbose: print(\"Data Set Successfully Cleaned!\")\n"
   ]
  },
  {
   "cell_type": "code",
   "execution_count": 120,
   "id": "ccad41ec",
   "metadata": {},
   "outputs": [
    {
     "data": {
      "text/plain": [
       "unique_key                 0\n",
       "date                       0\n",
       "primary_type               0\n",
       "location_description    7844\n",
       "arrest                     0\n",
       "domestic                   0\n",
       "community_area           212\n",
       "year                       0\n",
       "district_name            218\n",
       "community_name           218\n",
       "dtype: int64"
      ]
     },
     "execution_count": 120,
     "metadata": {},
     "output_type": "execute_result"
    }
   ],
   "source": [
    "#Original uncleaned training data\n",
    "chicago_train = chicago.loc[chicago[\"year\"] != 2021]\n",
    "chicago_train.isnull().sum()"
   ]
  },
  {
   "cell_type": "code",
   "execution_count": 123,
   "id": "b362f969",
   "metadata": {},
   "outputs": [
    {
     "name": "stdout",
     "output_type": "stream",
     "text": [
      "Cleaning Started...\n",
      "\n",
      "Successfully Cleaned Primary Type\n",
      "Successfully Imputed Location\n",
      "Successfully Cleaned Location\n",
      "Successfully Added Month Column\n",
      "Successfully Added Hour Column\n",
      "Successfully Cleaned Community\n",
      "\n",
      "Data Set Successfully Cleaned!\n"
     ]
    }
   ],
   "source": [
    "%%capture --no-stdout\n",
    "chicago_data_cleaner(chicago_train, verbose = True)"
   ]
  },
  {
   "cell_type": "code",
   "execution_count": 124,
   "id": "1b0deb59",
   "metadata": {},
   "outputs": [
    {
     "data": {
      "text/plain": [
       "unique_key              0\n",
       "date                    0\n",
       "primary_type            0\n",
       "location_description    0\n",
       "arrest                  0\n",
       "domestic                0\n",
       "community_area          0\n",
       "year                    0\n",
       "district_name           0\n",
       "community_name          0\n",
       "Month                   0\n",
       "Hour                    0\n",
       "dtype: int64"
      ]
     },
     "execution_count": 124,
     "metadata": {},
     "output_type": "execute_result"
    }
   ],
   "source": [
    "chicago_train.isnull().sum()"
   ]
  }
 ],
 "metadata": {
  "kernelspec": {
   "display_name": "Python 3",
   "language": "python",
   "name": "python3"
  },
  "language_info": {
   "codemirror_mode": {
    "name": "ipython",
    "version": 3
   },
   "file_extension": ".py",
   "mimetype": "text/x-python",
   "name": "python",
   "nbconvert_exporter": "python",
   "pygments_lexer": "ipython3",
   "version": "3.8.8"
  }
 },
 "nbformat": 4,
 "nbformat_minor": 5
}
