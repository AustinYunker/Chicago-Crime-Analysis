{
 "cells": [
  {
   "cell_type": "markdown",
   "id": "114eb282",
   "metadata": {},
   "source": [
    "# Setup and Imports"
   ]
  },
  {
   "cell_type": "code",
   "execution_count": 296,
   "id": "1ae9a287",
   "metadata": {},
   "outputs": [],
   "source": [
    "import pandas as pd\n",
    "import numpy as np\n",
    "import matplotlib.pyplot as plt\n",
    "from datetime import datetime\n",
    "%matplotlib inline\n",
    "import seaborn as sns\n",
    "sns.set\n",
    "import warnings\n",
    "import re\n",
    "from pandas.io import gbq\n",
    "from sklearn.preprocessing import OneHotEncoder\n",
    "from sklearn.compose import ColumnTransformer\n",
    "from sklearn.linear_model import LogisticRegression\n",
    "from sklearn.model_selection import cross_val_score\n",
    "from sklearn.model_selection import cross_val_predict\n",
    "from sklearn.metrics import confusion_matrix\n",
    "from sklearn.metrics import f1_score\n",
    "from sklearn.metrics import accuracy_score\n",
    "from sklearn.ensemble import RandomForestClassifier\n",
    "from sklearn.ensemble import ExtraTreesClassifier\n",
    "from sklearn.ensemble import VotingClassifier\n",
    "from sklearn.ensemble import GradientBoostingClassifier\n",
    "from sklearn.neighbors import KNeighborsClassifier\n",
    "from sklearn.naive_bayes import GaussianNB\n",
    "from sklearn.svm import LinearSVC\n",
    "from sklearn.model_selection import train_test_split\n",
    "from sklearn.model_selection import RandomizedSearchCV\n",
    "from scipy.stats import uniform\n",
    "import xgboost\n",
    "import pickle\n",
    "from sklearn.model_selection import ParameterSampler\n",
    "from scipy import sparse\n",
    "#Custom Python Module with functions specifically for this project\n",
    "import ChicagoDataCleaningFunctions as cd"
   ]
  },
  {
   "cell_type": "markdown",
   "id": "e0ac85e8",
   "metadata": {},
   "source": [
    "# Get the Data"
   ]
  },
  {
   "cell_type": "code",
   "execution_count": 2,
   "id": "81593e66",
   "metadata": {},
   "outputs": [],
   "source": [
    "#Read the data in from Google BigQuery\n",
    "chicago_data = \"\"\"\n",
    "                    SELECT unique_key, date, primary_type, location_description, \n",
    "                            arrest, domestic, community_area, year\n",
    "                    FROM `gdac-327115.Chicago.chicago2`\n",
    "                    WHERE year >= 2011\n",
    "               \"\"\"\n",
    "chicago_data = gbq.read_gbq(chicago_data, project_id=\"gdac-327115\")"
   ]
  },
  {
   "cell_type": "code",
   "execution_count": 6,
   "id": "5cd28ea0",
   "metadata": {},
   "outputs": [],
   "source": [
    "#Read in an Excel file with a one to one mapping between Chicago community areas and districts\n",
    "chicago_districts = pd.read_excel(\"ChicagoCommunityAreas.xlsx\")"
   ]
  },
  {
   "cell_type": "code",
   "execution_count": 7,
   "id": "37e6610b",
   "metadata": {},
   "outputs": [],
   "source": [
    "#Data type can't be joined on an int\n",
    "chicago_districts.community_area = chicago_districts[\"community_area\"].astype(\"string\")\n",
    "chicago_data.community_area = chicago_data[\"community_area\"].astype(\"string\")"
   ]
  },
  {
   "cell_type": "code",
   "execution_count": 8,
   "id": "b1fee161",
   "metadata": {},
   "outputs": [],
   "source": [
    "#Outer join the two data sets\n",
    "chicago = chicago_data.merge(chicago_districts, how=\"outer\", left_on=\"community_area\", right_on=\"community_area\", )"
   ]
  },
  {
   "cell_type": "code",
   "execution_count": 9,
   "id": "ea6f9aa4",
   "metadata": {},
   "outputs": [],
   "source": [
    "#Drop the community area variable since we have a community name variable\n",
    "chicago.drop(\"community_area\", axis = 1, inplace = True)"
   ]
  },
  {
   "cell_type": "code",
   "execution_count": 170,
   "id": "7d478a99",
   "metadata": {},
   "outputs": [],
   "source": [
    "district = dict(zip(chicago_districts[\"community_name\"], chicago_districts[\"district_name\"]))"
   ]
  },
  {
   "cell_type": "markdown",
   "id": "290ba3f3",
   "metadata": {},
   "source": [
    "# Clean the Data"
   ]
  },
  {
   "cell_type": "code",
   "execution_count": 279,
   "id": "daa39101",
   "metadata": {},
   "outputs": [
    {
     "name": "stdout",
     "output_type": "stream",
     "text": [
      "Cleaning Started...\n",
      "\n",
      "Successfully Cleaned Primary Type\n",
      "Successfully Imputed Location\n",
      "Successfully Cleaned Location\n",
      "Successfully Added Month Column\n",
      "Successfully Added Hour Column\n",
      "Successfully Cleaned Community\n",
      "\n",
      "Data Set Successfully Cleaned!\n"
     ]
    }
   ],
   "source": [
    "%%capture --no-stdout\n",
    "#Clean the full data set\n",
    "cd.chicago_data_cleaner(chicago, verbose = True)"
   ]
  },
  {
   "cell_type": "markdown",
   "id": "3a083d56",
   "metadata": {},
   "source": [
    "# Load in Production Model"
   ]
  },
  {
   "cell_type": "code",
   "execution_count": 4,
   "id": "885fdcdc",
   "metadata": {},
   "outputs": [
    {
     "data": {
      "text/plain": [
       "XGBClassifier(base_score=0.5, booster='gbtree', colsample_bylevel=1,\n",
       "              colsample_bynode=1, colsample_bytree=0.45195454681591674,\n",
       "              enable_categorical=False, gamma=0.546708263364187, gpu_id=-1,\n",
       "              importance_type=None, interaction_constraints='',\n",
       "              learning_rate=0.38768070515882624, max_delta_step=0, max_depth=7,\n",
       "              min_child_weight=25, missing=nan, monotone_constraints='()',\n",
       "              n_estimators=195, n_jobs=8, num_parallel_tree=1, predictor='auto',\n",
       "              random_state=0, reg_alpha=0, reg_lambda=0.6338249886045665,\n",
       "              scale_pos_weight=1, subsample=0.7838501639099957,\n",
       "              tree_method='exact', use_label_encoder=False,\n",
       "              validate_parameters=1, verbosity=None)"
      ]
     },
     "execution_count": 4,
     "metadata": {},
     "output_type": "execute_result"
    }
   ],
   "source": [
    "best_model = pickle.load(open(\"best_model.sav\", 'rb'))\n",
    "best_model"
   ]
  },
  {
   "cell_type": "code",
   "execution_count": 13,
   "id": "57e08dc1",
   "metadata": {},
   "outputs": [
    {
     "data": {
      "text/plain": [
       "Index(['unique_key', 'date', 'primary_type', 'location_description', 'arrest',\n",
       "       'domestic', 'year', 'district_name', 'community_name', 'Month', 'Hour'],\n",
       "      dtype='object')"
      ]
     },
     "execution_count": 13,
     "metadata": {},
     "output_type": "execute_result"
    }
   ],
   "source": [
    "chicago.columns"
   ]
  },
  {
   "cell_type": "code",
   "execution_count": 136,
   "id": "5a85aa40",
   "metadata": {},
   "outputs": [
    {
     "data": {
      "text/plain": [
       "unique_key                            Int64\n",
       "date                    datetime64[ns, UTC]\n",
       "primary_type                         object\n",
       "location_description                 object\n",
       "arrest                              boolean\n",
       "domestic                            boolean\n",
       "year                                  Int64\n",
       "district_name                        object\n",
       "community_name                       object\n",
       "Month                                 int64\n",
       "Hour                                  int64\n",
       "dtype: object"
      ]
     },
     "execution_count": 136,
     "metadata": {},
     "output_type": "execute_result"
    }
   ],
   "source": [
    "chicago.dtypes"
   ]
  },
  {
   "cell_type": "code",
   "execution_count": 15,
   "id": "9f6afea2",
   "metadata": {},
   "outputs": [
    {
     "data": {
      "text/html": [
       "<div>\n",
       "<style scoped>\n",
       "    .dataframe tbody tr th:only-of-type {\n",
       "        vertical-align: middle;\n",
       "    }\n",
       "\n",
       "    .dataframe tbody tr th {\n",
       "        vertical-align: top;\n",
       "    }\n",
       "\n",
       "    .dataframe thead th {\n",
       "        text-align: right;\n",
       "    }\n",
       "</style>\n",
       "<table border=\"1\" class=\"dataframe\">\n",
       "  <thead>\n",
       "    <tr style=\"text-align: right;\">\n",
       "      <th></th>\n",
       "      <th>community_area</th>\n",
       "      <th>district_name</th>\n",
       "      <th>community_name</th>\n",
       "    </tr>\n",
       "  </thead>\n",
       "  <tbody>\n",
       "    <tr>\n",
       "      <th>0</th>\n",
       "      <td>1</td>\n",
       "      <td>Far North</td>\n",
       "      <td>ROGERS PARK</td>\n",
       "    </tr>\n",
       "    <tr>\n",
       "      <th>1</th>\n",
       "      <td>2</td>\n",
       "      <td>Far North</td>\n",
       "      <td>WEST RIDGE</td>\n",
       "    </tr>\n",
       "    <tr>\n",
       "      <th>2</th>\n",
       "      <td>3</td>\n",
       "      <td>Far North</td>\n",
       "      <td>UPTOWN</td>\n",
       "    </tr>\n",
       "    <tr>\n",
       "      <th>3</th>\n",
       "      <td>4</td>\n",
       "      <td>Far North</td>\n",
       "      <td>LINCOLN SQUARE</td>\n",
       "    </tr>\n",
       "    <tr>\n",
       "      <th>4</th>\n",
       "      <td>5</td>\n",
       "      <td>North</td>\n",
       "      <td>NORTH CENTER</td>\n",
       "    </tr>\n",
       "    <tr>\n",
       "      <th>...</th>\n",
       "      <td>...</td>\n",
       "      <td>...</td>\n",
       "      <td>...</td>\n",
       "    </tr>\n",
       "    <tr>\n",
       "      <th>72</th>\n",
       "      <td>73</td>\n",
       "      <td>Far Southwest</td>\n",
       "      <td>WASHINGTON HEIGHTS</td>\n",
       "    </tr>\n",
       "    <tr>\n",
       "      <th>73</th>\n",
       "      <td>74</td>\n",
       "      <td>Far Southwest</td>\n",
       "      <td>MOUNT GREENWOOD</td>\n",
       "    </tr>\n",
       "    <tr>\n",
       "      <th>74</th>\n",
       "      <td>75</td>\n",
       "      <td>Far Southwest</td>\n",
       "      <td>MORGAN PARK</td>\n",
       "    </tr>\n",
       "    <tr>\n",
       "      <th>75</th>\n",
       "      <td>76</td>\n",
       "      <td>Far North</td>\n",
       "      <td>OHARE</td>\n",
       "    </tr>\n",
       "    <tr>\n",
       "      <th>76</th>\n",
       "      <td>77</td>\n",
       "      <td>Far North</td>\n",
       "      <td>EDGEWATER</td>\n",
       "    </tr>\n",
       "  </tbody>\n",
       "</table>\n",
       "<p>77 rows × 3 columns</p>\n",
       "</div>"
      ],
      "text/plain": [
       "   community_area  district_name      community_name\n",
       "0               1      Far North         ROGERS PARK\n",
       "1               2      Far North          WEST RIDGE\n",
       "2               3      Far North              UPTOWN\n",
       "3               4      Far North      LINCOLN SQUARE\n",
       "4               5          North        NORTH CENTER\n",
       "..            ...            ...                 ...\n",
       "72             73  Far Southwest  WASHINGTON HEIGHTS\n",
       "73             74  Far Southwest     MOUNT GREENWOOD\n",
       "74             75  Far Southwest         MORGAN PARK\n",
       "75             76      Far North               OHARE\n",
       "76             77      Far North           EDGEWATER\n",
       "\n",
       "[77 rows x 3 columns]"
      ]
     },
     "execution_count": 15,
     "metadata": {},
     "output_type": "execute_result"
    }
   ],
   "source": [
    "chicago_districts"
   ]
  },
  {
   "cell_type": "code",
   "execution_count": 17,
   "id": "9c001db3",
   "metadata": {},
   "outputs": [
    {
     "data": {
      "text/html": [
       "<div>\n",
       "<style scoped>\n",
       "    .dataframe tbody tr th:only-of-type {\n",
       "        vertical-align: middle;\n",
       "    }\n",
       "\n",
       "    .dataframe tbody tr th {\n",
       "        vertical-align: top;\n",
       "    }\n",
       "\n",
       "    .dataframe thead th {\n",
       "        text-align: right;\n",
       "    }\n",
       "</style>\n",
       "<table border=\"1\" class=\"dataframe\">\n",
       "  <thead>\n",
       "    <tr style=\"text-align: right;\">\n",
       "      <th></th>\n",
       "      <th>unique_key</th>\n",
       "      <th>date</th>\n",
       "      <th>primary_type</th>\n",
       "      <th>location_description</th>\n",
       "      <th>arrest</th>\n",
       "      <th>domestic</th>\n",
       "      <th>year</th>\n",
       "      <th>district_name</th>\n",
       "      <th>community_name</th>\n",
       "      <th>Month</th>\n",
       "      <th>Hour</th>\n",
       "    </tr>\n",
       "  </thead>\n",
       "  <tbody>\n",
       "    <tr>\n",
       "      <th>0</th>\n",
       "      <td>10225218</td>\n",
       "      <td>2015-09-05 23:00:00+00:00</td>\n",
       "      <td>ROBBERY</td>\n",
       "      <td>CTA</td>\n",
       "      <td>False</td>\n",
       "      <td>False</td>\n",
       "      <td>2015</td>\n",
       "      <td>Far Southeast</td>\n",
       "      <td>RIVERDALE</td>\n",
       "      <td>9</td>\n",
       "      <td>23</td>\n",
       "    </tr>\n",
       "    <tr>\n",
       "      <th>1</th>\n",
       "      <td>10341077</td>\n",
       "      <td>2015-12-10 05:15:00+00:00</td>\n",
       "      <td>BURGLARY</td>\n",
       "      <td>RESIDENCE</td>\n",
       "      <td>False</td>\n",
       "      <td>False</td>\n",
       "      <td>2015</td>\n",
       "      <td>Far Southeast</td>\n",
       "      <td>RIVERDALE</td>\n",
       "      <td>12</td>\n",
       "      <td>5</td>\n",
       "    </tr>\n",
       "    <tr>\n",
       "      <th>2</th>\n",
       "      <td>11861007</td>\n",
       "      <td>2019-10-14 22:47:00+00:00</td>\n",
       "      <td>OTHER OFFENSE</td>\n",
       "      <td>STREET</td>\n",
       "      <td>True</td>\n",
       "      <td>False</td>\n",
       "      <td>2019</td>\n",
       "      <td>Far Southeast</td>\n",
       "      <td>RIVERDALE</td>\n",
       "      <td>10</td>\n",
       "      <td>22</td>\n",
       "    </tr>\n",
       "    <tr>\n",
       "      <th>3</th>\n",
       "      <td>10599541</td>\n",
       "      <td>2016-07-15 22:30:00+00:00</td>\n",
       "      <td>INTERFERENCE WITH PUBLIC OFFICER</td>\n",
       "      <td>PARKING</td>\n",
       "      <td>True</td>\n",
       "      <td>False</td>\n",
       "      <td>2016</td>\n",
       "      <td>Far Southeast</td>\n",
       "      <td>RIVERDALE</td>\n",
       "      <td>7</td>\n",
       "      <td>22</td>\n",
       "    </tr>\n",
       "    <tr>\n",
       "      <th>4</th>\n",
       "      <td>10707134</td>\n",
       "      <td>2016-10-04 17:00:00+00:00</td>\n",
       "      <td>DECEPTIVE PRACTICE</td>\n",
       "      <td>STREET</td>\n",
       "      <td>False</td>\n",
       "      <td>False</td>\n",
       "      <td>2016</td>\n",
       "      <td>Far Southeast</td>\n",
       "      <td>RIVERDALE</td>\n",
       "      <td>10</td>\n",
       "      <td>17</td>\n",
       "    </tr>\n",
       "  </tbody>\n",
       "</table>\n",
       "</div>"
      ],
      "text/plain": [
       "   unique_key                      date                      primary_type  \\\n",
       "0    10225218 2015-09-05 23:00:00+00:00                           ROBBERY   \n",
       "1    10341077 2015-12-10 05:15:00+00:00                          BURGLARY   \n",
       "2    11861007 2019-10-14 22:47:00+00:00                     OTHER OFFENSE   \n",
       "3    10599541 2016-07-15 22:30:00+00:00  INTERFERENCE WITH PUBLIC OFFICER   \n",
       "4    10707134 2016-10-04 17:00:00+00:00                DECEPTIVE PRACTICE   \n",
       "\n",
       "  location_description  arrest  domestic  year  district_name community_name  \\\n",
       "0                  CTA   False     False  2015  Far Southeast      RIVERDALE   \n",
       "1            RESIDENCE   False     False  2015  Far Southeast      RIVERDALE   \n",
       "2               STREET    True     False  2019  Far Southeast      RIVERDALE   \n",
       "3              PARKING    True     False  2016  Far Southeast      RIVERDALE   \n",
       "4               STREET   False     False  2016  Far Southeast      RIVERDALE   \n",
       "\n",
       "   Month  Hour  \n",
       "0      9    23  \n",
       "1     12     5  \n",
       "2     10    22  \n",
       "3      7    22  \n",
       "4     10    17  "
      ]
     },
     "execution_count": 17,
     "metadata": {},
     "output_type": "execute_result"
    }
   ],
   "source": [
    "chicago.head()"
   ]
  },
  {
   "cell_type": "code",
   "execution_count": 197,
   "id": "f29df183",
   "metadata": {},
   "outputs": [],
   "source": [
    "def user_input():\n",
    "    community_name = str.upper(input(\"Enter the Community Name: \"))\n",
    "    district = get_district(community_name)\n",
    "    \n",
    "    primary_type = str.upper(input(\"Enter the crime committed: \"))\n",
    "    \n",
    "    location_description = str.upper(input(\"Enter the crime's location (street, residence, etc.): \"))\n",
    "    \n",
    "    domestic = (str.upper(input(\"Was the crime domestic? (Yes/No): \")) == \"YES\")\n",
    "    \n",
    "    date = input(\"Date of Crime (Ex. 01/01/2022): \")\n",
    "    \n",
    "    hour = input(\"Time of Crime: \")\n",
    "    \n",
    "    date_time = str_to_date(date, hour)\n",
    "    \n",
    "    crime_instance = pd.DataFrame({\"date\": date_time, \"primary_type\": primary_type, \"location_description\": location_description,\n",
    "                                  \"domestic\": domestic, \"district_name\": district, \"community_name\": community_name},\n",
    "                                 index = [1])\n",
    "    return(crime_instance)"
   ]
  },
  {
   "cell_type": "code",
   "execution_count": 281,
   "id": "351967e3",
   "metadata": {},
   "outputs": [],
   "source": [
    "def user_input():\n",
    "    community_name = str.upper(input(\"Enter the Community Name: \"))\n",
    "    district = get_district(community_name)\n",
    "    \n",
    "    primary_type = str.upper(input(\"Enter the crime committed: \"))\n",
    "    \n",
    "    location_description = str.upper(input(\"Enter the crime's location (street, residence, etc.): \"))\n",
    "    \n",
    "    domestic = (str.upper(input(\"Was the crime domestic? (Yes/No): \")) == \"YES\")\n",
    "    \n",
    "    date = input(\"Date of Crime (Ex. 01/01/2022): \")\n",
    "    \n",
    "    hour = input(\"Time of Crime: \")\n",
    "    \n",
    "    date_time = str_to_date(date, hour)\n",
    "    \n",
    "    return [community_name, district, primary_type, location_description, domestic, date_time]"
   ]
  },
  {
   "cell_type": "code",
   "execution_count": 240,
   "id": "4b641304",
   "metadata": {},
   "outputs": [],
   "source": [
    "crimetype = \"THEFT\"\n",
    "crime_cats = pd.Categorical(chicago[\"primary_type\"]).categories\n",
    "crime = pd.Categorical(crimetype, categories=crime_cats)\n",
    "crime\n",
    "temp = pd.DataFrame({\"primary_type\": crime}, index = [1])"
   ]
  },
  {
   "cell_type": "code",
   "execution_count": 282,
   "id": "10d2c77d",
   "metadata": {},
   "outputs": [],
   "source": [
    "def input_to_category(df):\n",
    "    crime_details = user_input()[::-1]\n",
    "    \n",
    "    communities = pd.Categorical(chicago[\"community_name\"]).categories\n",
    "    community_name = pd.Categorical(crime_details.pop(), categories=communities)\n",
    "    \n",
    "    districts = pd.Categorical(chicago[\"district_name\"]).categories\n",
    "    district = pd.Categorical(crime_details.pop(), categories=districts)\n",
    "    \n",
    "    crime_grps = pd.Categorical(chicago[\"primary_type\"]).categories\n",
    "    crime = pd.Categorical(crime_details.pop(), categories=crime_grps)\n",
    "    \n",
    "    location_grps = pd.Categorical(chicago[\"location_description\"]).categories\n",
    "    location = pd.Categorical(crime_details.pop(), categories=location_grps)\n",
    "    \n",
    "    domestic_grp = pd.Categorical(chicago[\"domestic\"]).categories\n",
    "    domestic = pd.Categorical(crime_details.pop(), categories=domestic_grp)\n",
    "    \n",
    "    crime_instance = pd.DataFrame({\"date\": crime_details.pop(), \"primary_type\": crime, \n",
    "                                   \"location_description\": location, \"domestic\": domestic,\n",
    "                                   \"district_name\": district, \"community_name\": community_name},\n",
    "                                 index = [1])\n",
    "    return crime_instance"
   ]
  },
  {
   "cell_type": "code",
   "execution_count": 283,
   "id": "9200e6e5",
   "metadata": {},
   "outputs": [
    {
     "name": "stdout",
     "output_type": "stream",
     "text": [
      "Enter the Community Name: rogers park\n",
      "Enter the crime committed: theft\n",
      "Enter the crime's location (street, residence, etc.): street\n",
      "Was the crime domestic? (Yes/No): yes\n",
      "Date of Crime (Ex. 01/01/2022): 02/14/2022\n",
      "Time of Crime: 2:30:45\n"
     ]
    }
   ],
   "source": [
    "temp = input_to_category(chicago)"
   ]
  },
  {
   "cell_type": "code",
   "execution_count": 284,
   "id": "4caa27a5",
   "metadata": {},
   "outputs": [
    {
     "data": {
      "text/html": [
       "<div>\n",
       "<style scoped>\n",
       "    .dataframe tbody tr th:only-of-type {\n",
       "        vertical-align: middle;\n",
       "    }\n",
       "\n",
       "    .dataframe tbody tr th {\n",
       "        vertical-align: top;\n",
       "    }\n",
       "\n",
       "    .dataframe thead th {\n",
       "        text-align: right;\n",
       "    }\n",
       "</style>\n",
       "<table border=\"1\" class=\"dataframe\">\n",
       "  <thead>\n",
       "    <tr style=\"text-align: right;\">\n",
       "      <th></th>\n",
       "      <th>date</th>\n",
       "      <th>primary_type</th>\n",
       "      <th>location_description</th>\n",
       "      <th>domestic</th>\n",
       "      <th>district_name</th>\n",
       "      <th>community_name</th>\n",
       "    </tr>\n",
       "  </thead>\n",
       "  <tbody>\n",
       "    <tr>\n",
       "      <th>1</th>\n",
       "      <td>2022-02-14 02:30:45</td>\n",
       "      <td>THEFT</td>\n",
       "      <td>STREET</td>\n",
       "      <td>True</td>\n",
       "      <td>Far North</td>\n",
       "      <td>ROGERS PARK</td>\n",
       "    </tr>\n",
       "  </tbody>\n",
       "</table>\n",
       "</div>"
      ],
      "text/plain": [
       "                 date primary_type location_description domestic  \\\n",
       "1 2022-02-14 02:30:45        THEFT               STREET     True   \n",
       "\n",
       "  district_name community_name  \n",
       "1     Far North    ROGERS PARK  "
      ]
     },
     "execution_count": 284,
     "metadata": {},
     "output_type": "execute_result"
    }
   ],
   "source": [
    "temp"
   ]
  },
  {
   "cell_type": "code",
   "execution_count": 297,
   "id": "eb1f2276",
   "metadata": {},
   "outputs": [
    {
     "name": "stdout",
     "output_type": "stream",
     "text": [
      "Cleaning Started...\n",
      "\n",
      "Successfully Cleaned Primary Type\n",
      "Successfully Imputed Location\n",
      "Successfully Cleaned Location\n",
      "Successfully Added Month Column\n",
      "Successfully Added Hour Column\n",
      "Successfully Cleaned Community\n",
      "\n",
      "Data Set Successfully Cleaned!\n"
     ]
    }
   ],
   "source": [
    "cd.chicago_data_cleaner(temp, verbose=True)"
   ]
  },
  {
   "cell_type": "code",
   "execution_count": 298,
   "id": "161633ca",
   "metadata": {},
   "outputs": [
    {
     "data": {
      "text/html": [
       "<div>\n",
       "<style scoped>\n",
       "    .dataframe tbody tr th:only-of-type {\n",
       "        vertical-align: middle;\n",
       "    }\n",
       "\n",
       "    .dataframe tbody tr th {\n",
       "        vertical-align: top;\n",
       "    }\n",
       "\n",
       "    .dataframe thead th {\n",
       "        text-align: right;\n",
       "    }\n",
       "</style>\n",
       "<table border=\"1\" class=\"dataframe\">\n",
       "  <thead>\n",
       "    <tr style=\"text-align: right;\">\n",
       "      <th></th>\n",
       "      <th>date</th>\n",
       "      <th>primary_type</th>\n",
       "      <th>location_description</th>\n",
       "      <th>domestic</th>\n",
       "      <th>district_name</th>\n",
       "      <th>community_name</th>\n",
       "      <th>Month</th>\n",
       "      <th>Hour</th>\n",
       "    </tr>\n",
       "  </thead>\n",
       "  <tbody>\n",
       "    <tr>\n",
       "      <th>0</th>\n",
       "      <td>2022-02-14 02:30:45</td>\n",
       "      <td>THEFT</td>\n",
       "      <td>STREET</td>\n",
       "      <td>True</td>\n",
       "      <td>Far North</td>\n",
       "      <td>ROGERS PARK</td>\n",
       "      <td>2</td>\n",
       "      <td>2</td>\n",
       "    </tr>\n",
       "  </tbody>\n",
       "</table>\n",
       "</div>"
      ],
      "text/plain": [
       "                 date primary_type location_description domestic  \\\n",
       "0 2022-02-14 02:30:45        THEFT               STREET     True   \n",
       "\n",
       "  district_name community_name  Month  Hour  \n",
       "0     Far North    ROGERS PARK      2     2  "
      ]
     },
     "execution_count": 298,
     "metadata": {},
     "output_type": "execute_result"
    }
   ],
   "source": [
    "temp"
   ]
  },
  {
   "cell_type": "code",
   "execution_count": 299,
   "id": "45becb0c",
   "metadata": {},
   "outputs": [
    {
     "data": {
      "text/plain": [
       "2    1\n",
       "Name: Hour, dtype: int64"
      ]
     },
     "execution_count": 299,
     "metadata": {},
     "output_type": "execute_result"
    }
   ],
   "source": [
    "temp[\"Hour\"].value_counts()"
   ]
  },
  {
   "cell_type": "code",
   "execution_count": 199,
   "id": "27c474f9",
   "metadata": {},
   "outputs": [
    {
     "name": "stdout",
     "output_type": "stream",
     "text": [
      "Enter the Community Name: rogers park\n",
      "Enter the crime committed: theft\n",
      "Enter the crime's location (street, residence, etc.): street\n",
      "Was the crime domestic? (Yes/No): yes\n",
      "Date of Crime (Ex. 01/01/2022): 02/14/2022\n",
      "Time of Crime: 2:30:15\n"
     ]
    }
   ],
   "source": [
    "test_instance = user_input()"
   ]
  },
  {
   "cell_type": "code",
   "execution_count": 249,
   "id": "5d083894",
   "metadata": {},
   "outputs": [
    {
     "data": {
      "text/html": [
       "<div>\n",
       "<style scoped>\n",
       "    .dataframe tbody tr th:only-of-type {\n",
       "        vertical-align: middle;\n",
       "    }\n",
       "\n",
       "    .dataframe tbody tr th {\n",
       "        vertical-align: top;\n",
       "    }\n",
       "\n",
       "    .dataframe thead th {\n",
       "        text-align: right;\n",
       "    }\n",
       "</style>\n",
       "<table border=\"1\" class=\"dataframe\">\n",
       "  <thead>\n",
       "    <tr style=\"text-align: right;\">\n",
       "      <th></th>\n",
       "      <th>date</th>\n",
       "      <th>primary_type</th>\n",
       "      <th>location_description</th>\n",
       "      <th>domestic</th>\n",
       "      <th>district_name</th>\n",
       "      <th>community_name</th>\n",
       "      <th>Month</th>\n",
       "      <th>Hour</th>\n",
       "    </tr>\n",
       "  </thead>\n",
       "  <tbody>\n",
       "    <tr>\n",
       "      <th>0</th>\n",
       "      <td>2022-02-14 02:30:45</td>\n",
       "      <td>THEFT</td>\n",
       "      <td>STREET</td>\n",
       "      <td>True</td>\n",
       "      <td>Far North</td>\n",
       "      <td>ROGERS PARK</td>\n",
       "      <td>2</td>\n",
       "      <td>2</td>\n",
       "    </tr>\n",
       "  </tbody>\n",
       "</table>\n",
       "</div>"
      ],
      "text/plain": [
       "                 date primary_type location_description domestic  \\\n",
       "0 2022-02-14 02:30:45        THEFT               STREET     True   \n",
       "\n",
       "  district_name community_name  Month  Hour  \n",
       "0     Far North    ROGERS PARK      2     2  "
      ]
     },
     "execution_count": 249,
     "metadata": {},
     "output_type": "execute_result"
    }
   ],
   "source": [
    "def transform_input(df):\n",
    "    \n",
    "    cd.chicago_data_cleaner(df)\n",
    "    \n",
    "transform_input(df = temp)\n",
    "temp"
   ]
  },
  {
   "cell_type": "code",
   "execution_count": 256,
   "id": "f532cfce",
   "metadata": {},
   "outputs": [
    {
     "data": {
      "text/html": [
       "<div>\n",
       "<style scoped>\n",
       "    .dataframe tbody tr th:only-of-type {\n",
       "        vertical-align: middle;\n",
       "    }\n",
       "\n",
       "    .dataframe tbody tr th {\n",
       "        vertical-align: top;\n",
       "    }\n",
       "\n",
       "    .dataframe thead th {\n",
       "        text-align: right;\n",
       "    }\n",
       "</style>\n",
       "<table border=\"1\" class=\"dataframe\">\n",
       "  <thead>\n",
       "    <tr style=\"text-align: right;\">\n",
       "      <th></th>\n",
       "      <th>unique_key</th>\n",
       "      <th>date</th>\n",
       "      <th>primary_type</th>\n",
       "      <th>location_description</th>\n",
       "      <th>arrest</th>\n",
       "      <th>domestic</th>\n",
       "      <th>year</th>\n",
       "      <th>district_name</th>\n",
       "      <th>community_name</th>\n",
       "      <th>Month</th>\n",
       "      <th>Hour</th>\n",
       "    </tr>\n",
       "  </thead>\n",
       "  <tbody>\n",
       "    <tr>\n",
       "      <th>0</th>\n",
       "      <td>10225218</td>\n",
       "      <td>2015-09-05 23:00:00+00:00</td>\n",
       "      <td>ROBBERY</td>\n",
       "      <td>CTA</td>\n",
       "      <td>False</td>\n",
       "      <td>False</td>\n",
       "      <td>2015</td>\n",
       "      <td>Far Southeast</td>\n",
       "      <td>RIVERDALE</td>\n",
       "      <td>9</td>\n",
       "      <td>23</td>\n",
       "    </tr>\n",
       "    <tr>\n",
       "      <th>1</th>\n",
       "      <td>10341077</td>\n",
       "      <td>2015-12-10 05:15:00+00:00</td>\n",
       "      <td>BURGLARY</td>\n",
       "      <td>RESIDENCE</td>\n",
       "      <td>False</td>\n",
       "      <td>False</td>\n",
       "      <td>2015</td>\n",
       "      <td>Far Southeast</td>\n",
       "      <td>RIVERDALE</td>\n",
       "      <td>12</td>\n",
       "      <td>5</td>\n",
       "    </tr>\n",
       "    <tr>\n",
       "      <th>2</th>\n",
       "      <td>11861007</td>\n",
       "      <td>2019-10-14 22:47:00+00:00</td>\n",
       "      <td>OTHER OFFENSE</td>\n",
       "      <td>STREET</td>\n",
       "      <td>True</td>\n",
       "      <td>False</td>\n",
       "      <td>2019</td>\n",
       "      <td>Far Southeast</td>\n",
       "      <td>RIVERDALE</td>\n",
       "      <td>10</td>\n",
       "      <td>22</td>\n",
       "    </tr>\n",
       "    <tr>\n",
       "      <th>3</th>\n",
       "      <td>10599541</td>\n",
       "      <td>2016-07-15 22:30:00+00:00</td>\n",
       "      <td>INTERFERENCE WITH PUBLIC OFFICER</td>\n",
       "      <td>PARKING</td>\n",
       "      <td>True</td>\n",
       "      <td>False</td>\n",
       "      <td>2016</td>\n",
       "      <td>Far Southeast</td>\n",
       "      <td>RIVERDALE</td>\n",
       "      <td>7</td>\n",
       "      <td>22</td>\n",
       "    </tr>\n",
       "    <tr>\n",
       "      <th>4</th>\n",
       "      <td>10707134</td>\n",
       "      <td>2016-10-04 17:00:00+00:00</td>\n",
       "      <td>DECEPTIVE PRACTICE</td>\n",
       "      <td>STREET</td>\n",
       "      <td>False</td>\n",
       "      <td>False</td>\n",
       "      <td>2016</td>\n",
       "      <td>Far Southeast</td>\n",
       "      <td>RIVERDALE</td>\n",
       "      <td>10</td>\n",
       "      <td>17</td>\n",
       "    </tr>\n",
       "  </tbody>\n",
       "</table>\n",
       "</div>"
      ],
      "text/plain": [
       "   unique_key                      date                      primary_type  \\\n",
       "0    10225218 2015-09-05 23:00:00+00:00                           ROBBERY   \n",
       "1    10341077 2015-12-10 05:15:00+00:00                          BURGLARY   \n",
       "2    11861007 2019-10-14 22:47:00+00:00                     OTHER OFFENSE   \n",
       "3    10599541 2016-07-15 22:30:00+00:00  INTERFERENCE WITH PUBLIC OFFICER   \n",
       "4    10707134 2016-10-04 17:00:00+00:00                DECEPTIVE PRACTICE   \n",
       "\n",
       "  location_description  arrest  domestic  year  district_name community_name  \\\n",
       "0                  CTA   False     False  2015  Far Southeast      RIVERDALE   \n",
       "1            RESIDENCE   False     False  2015  Far Southeast      RIVERDALE   \n",
       "2               STREET    True     False  2019  Far Southeast      RIVERDALE   \n",
       "3              PARKING    True     False  2016  Far Southeast      RIVERDALE   \n",
       "4               STREET   False     False  2016  Far Southeast      RIVERDALE   \n",
       "\n",
       "   Month  Hour  \n",
       "0      9    23  \n",
       "1     12     5  \n",
       "2     10    22  \n",
       "3      7    22  \n",
       "4     10    17  "
      ]
     },
     "execution_count": 256,
     "metadata": {},
     "output_type": "execute_result"
    }
   ],
   "source": [
    "chicago.head()"
   ]
  },
  {
   "cell_type": "code",
   "execution_count": 274,
   "id": "b1ffe971",
   "metadata": {},
   "outputs": [],
   "source": [
    "chicago_sub = chicago.loc[chicago[\"date\"].dt.month == 2, [\"unique_key\", \"date\", \"primary_type\", \"location_description\", \"domestic\", \"district_name\", \"community_name\"]].copy()"
   ]
  },
  {
   "cell_type": "code",
   "execution_count": 275,
   "id": "74e51c35",
   "metadata": {},
   "outputs": [],
   "source": [
    "chicago_sub[\"Month\"] = pd.Categorical(chicago_sub[\"date\"].dt.month, categories=range(1,13))"
   ]
  },
  {
   "cell_type": "code",
   "execution_count": 276,
   "id": "e276a614",
   "metadata": {},
   "outputs": [
    {
     "data": {
      "text/html": [
       "<div>\n",
       "<style scoped>\n",
       "    .dataframe tbody tr th:only-of-type {\n",
       "        vertical-align: middle;\n",
       "    }\n",
       "\n",
       "    .dataframe tbody tr th {\n",
       "        vertical-align: top;\n",
       "    }\n",
       "\n",
       "    .dataframe thead th {\n",
       "        text-align: right;\n",
       "    }\n",
       "</style>\n",
       "<table border=\"1\" class=\"dataframe\">\n",
       "  <thead>\n",
       "    <tr style=\"text-align: right;\">\n",
       "      <th></th>\n",
       "      <th>unique_key</th>\n",
       "      <th>date</th>\n",
       "      <th>primary_type</th>\n",
       "      <th>location_description</th>\n",
       "      <th>domestic</th>\n",
       "      <th>district_name</th>\n",
       "      <th>community_name</th>\n",
       "      <th>Month</th>\n",
       "    </tr>\n",
       "  </thead>\n",
       "  <tbody>\n",
       "    <tr>\n",
       "      <th>14</th>\n",
       "      <td>9505238</td>\n",
       "      <td>2014-02-21 19:00:00+00:00</td>\n",
       "      <td>MOTOR VEHICLE THEFT</td>\n",
       "      <td>STREET</td>\n",
       "      <td>False</td>\n",
       "      <td>Far Southeast</td>\n",
       "      <td>RIVERDALE</td>\n",
       "      <td>2</td>\n",
       "    </tr>\n",
       "    <tr>\n",
       "      <th>41</th>\n",
       "      <td>10414085</td>\n",
       "      <td>2016-02-11 10:00:00+00:00</td>\n",
       "      <td>DECEPTIVE PRACTICE</td>\n",
       "      <td>APARTMENT</td>\n",
       "      <td>False</td>\n",
       "      <td>Far Southeast</td>\n",
       "      <td>RIVERDALE</td>\n",
       "      <td>2</td>\n",
       "    </tr>\n",
       "    <tr>\n",
       "      <th>60</th>\n",
       "      <td>10433256</td>\n",
       "      <td>2016-02-29 21:45:00+00:00</td>\n",
       "      <td>OFFENSE INVOLVING CHILDREN</td>\n",
       "      <td>RESIDENCE</td>\n",
       "      <td>False</td>\n",
       "      <td>Far Southeast</td>\n",
       "      <td>RIVERDALE</td>\n",
       "      <td>2</td>\n",
       "    </tr>\n",
       "    <tr>\n",
       "      <th>69</th>\n",
       "      <td>9017651</td>\n",
       "      <td>2013-02-19 20:00:00+00:00</td>\n",
       "      <td>OTHER OFFENSE</td>\n",
       "      <td>RESIDENCE</td>\n",
       "      <td>True</td>\n",
       "      <td>Far Southeast</td>\n",
       "      <td>RIVERDALE</td>\n",
       "      <td>2</td>\n",
       "    </tr>\n",
       "    <tr>\n",
       "      <th>101</th>\n",
       "      <td>10848541</td>\n",
       "      <td>2017-02-13 20:50:00+00:00</td>\n",
       "      <td>DECEPTIVE PRACTICE</td>\n",
       "      <td>VEHICLE</td>\n",
       "      <td>False</td>\n",
       "      <td>Far Southeast</td>\n",
       "      <td>RIVERDALE</td>\n",
       "      <td>2</td>\n",
       "    </tr>\n",
       "  </tbody>\n",
       "</table>\n",
       "</div>"
      ],
      "text/plain": [
       "     unique_key                      date                primary_type  \\\n",
       "14      9505238 2014-02-21 19:00:00+00:00         MOTOR VEHICLE THEFT   \n",
       "41     10414085 2016-02-11 10:00:00+00:00          DECEPTIVE PRACTICE   \n",
       "60     10433256 2016-02-29 21:45:00+00:00  OFFENSE INVOLVING CHILDREN   \n",
       "69      9017651 2013-02-19 20:00:00+00:00               OTHER OFFENSE   \n",
       "101    10848541 2017-02-13 20:50:00+00:00          DECEPTIVE PRACTICE   \n",
       "\n",
       "    location_description  domestic  district_name community_name Month  \n",
       "14                STREET     False  Far Southeast      RIVERDALE     2  \n",
       "41             APARTMENT     False  Far Southeast      RIVERDALE     2  \n",
       "60             RESIDENCE     False  Far Southeast      RIVERDALE     2  \n",
       "69             RESIDENCE      True  Far Southeast      RIVERDALE     2  \n",
       "101              VEHICLE     False  Far Southeast      RIVERDALE     2  "
      ]
     },
     "execution_count": 276,
     "metadata": {},
     "output_type": "execute_result"
    }
   ],
   "source": [
    "chicago_sub.head()"
   ]
  },
  {
   "cell_type": "code",
   "execution_count": 277,
   "id": "431dc3d0",
   "metadata": {},
   "outputs": [
    {
     "data": {
      "text/plain": [
       "2     206735\n",
       "1          0\n",
       "3          0\n",
       "4          0\n",
       "5          0\n",
       "6          0\n",
       "7          0\n",
       "8          0\n",
       "9          0\n",
       "10         0\n",
       "11         0\n",
       "12         0\n",
       "Name: Month, dtype: int64"
      ]
     },
     "execution_count": 277,
     "metadata": {},
     "output_type": "execute_result"
    }
   ],
   "source": [
    "chicago_sub[\"Month\"].value_counts()"
   ]
  },
  {
   "cell_type": "code",
   "execution_count": 221,
   "id": "65324ecf",
   "metadata": {},
   "outputs": [],
   "source": [
    "cat_attribs = [\"primary_type\", \"location_description\", \"domestic\", \"district_name\", \"community_name\", \"Month\", \"Hour\"]\n",
    "\n",
    "def transform_input2(df, attribs):\n",
    "    cat_encoder = OneHotEncoder()\n",
    "    X = cat_encoder.fit_transform(df[attribs])\n",
    "    return X\n",
    "\n",
    "crime = transform_input2(test_instance, cat_attribs)"
   ]
  },
  {
   "cell_type": "code",
   "execution_count": 222,
   "id": "838fdc81",
   "metadata": {},
   "outputs": [
    {
     "data": {
      "text/plain": [
       "(1, 7)"
      ]
     },
     "execution_count": 222,
     "metadata": {},
     "output_type": "execute_result"
    }
   ],
   "source": [
    "crime.shape"
   ]
  },
  {
   "cell_type": "code",
   "execution_count": 232,
   "id": "5b07d091",
   "metadata": {},
   "outputs": [
    {
     "data": {
      "text/plain": [
       "['THEFT']\n",
       "Categories (30, object): ['ARSON', 'ASSAULT', 'BATTERY', 'BURGLARY', ..., 'SEX OFFENSE', 'STALKING', 'THEFT', 'WEAPONS VIOLATION']"
      ]
     },
     "execution_count": 232,
     "metadata": {},
     "output_type": "execute_result"
    }
   ],
   "source": [
    "test_cate = pd.Categorical(chicago[\"primary_type\"]).categories\n",
    "crime = pd.Categorical(test_instance[\"primary_type\"])\n",
    "crime.set_categories(test_cate)"
   ]
  },
  {
   "cell_type": "code",
   "execution_count": null,
   "id": "5c04bd23",
   "metadata": {},
   "outputs": [],
   "source": []
  },
  {
   "cell_type": "code",
   "execution_count": 213,
   "id": "f7e0c6f2",
   "metadata": {},
   "outputs": [
    {
     "ename": "NameError",
     "evalue": "name 'OneHotEncoder' is not defined",
     "output_type": "error",
     "traceback": [
      "\u001b[1;31m---------------------------------------------------------------------------\u001b[0m",
      "\u001b[1;31mNameError\u001b[0m                                 Traceback (most recent call last)",
      "\u001b[1;32m<ipython-input-213-651ba1d7de5e>\u001b[0m in \u001b[0;36m<module>\u001b[1;34m\u001b[0m\n\u001b[1;32m----> 1\u001b[1;33m \u001b[0mcp\u001b[0m\u001b[1;33m.\u001b[0m\u001b[0mprepare_chicago\u001b[0m\u001b[1;33m(\u001b[0m\u001b[0mtest_instance\u001b[0m\u001b[1;33m,\u001b[0m \u001b[0mcat_attribs\u001b[0m\u001b[1;33m)\u001b[0m\u001b[1;33m\u001b[0m\u001b[1;33m\u001b[0m\u001b[0m\n\u001b[0m",
      "\u001b[1;32m~\\Documents\\Personal\\Python\\Chicago-Crime-Analysis\\PrepareChicago.py\u001b[0m in \u001b[0;36mprepare_chicago\u001b[1;34m(df, attribs)\u001b[0m\n\u001b[0;32m      9\u001b[0m \u001b[1;33m\u001b[0m\u001b[0m\n\u001b[0;32m     10\u001b[0m     \u001b[0mreturns\u001b[0m\u001b[1;33m:\u001b[0m \u001b[0mX\u001b[0m\u001b[1;33m(\u001b[0m\u001b[0mSparse\u001b[0m \u001b[0mMatrix\u001b[0m\u001b[1;33m)\u001b[0m\u001b[1;33m\u001b[0m\u001b[1;33m\u001b[0m\u001b[0m\n\u001b[1;32m---> 11\u001b[1;33m     \"\"\"\n\u001b[0m\u001b[0;32m     12\u001b[0m     \u001b[0mcat_encoder\u001b[0m \u001b[1;33m=\u001b[0m \u001b[0mOneHotEncoder\u001b[0m\u001b[1;33m(\u001b[0m\u001b[1;33m)\u001b[0m\u001b[1;33m\u001b[0m\u001b[1;33m\u001b[0m\u001b[0m\n\u001b[0;32m     13\u001b[0m     \u001b[0mX\u001b[0m \u001b[1;33m=\u001b[0m \u001b[0mcat_encoder\u001b[0m\u001b[1;33m.\u001b[0m\u001b[0mfit_transform\u001b[0m\u001b[1;33m(\u001b[0m\u001b[0mdf\u001b[0m\u001b[1;33m[\u001b[0m\u001b[0mattribs\u001b[0m\u001b[1;33m]\u001b[0m\u001b[1;33m)\u001b[0m\u001b[1;33m\u001b[0m\u001b[1;33m\u001b[0m\u001b[0m\n",
      "\u001b[1;31mNameError\u001b[0m: name 'OneHotEncoder' is not defined"
     ]
    }
   ],
   "source": [
    "cp.prepare_chicago(test_instance, cat_attribs)"
   ]
  },
  {
   "cell_type": "code",
   "execution_count": 209,
   "id": "803edef3",
   "metadata": {},
   "outputs": [
    {
     "data": {
      "text/plain": [
       "['__builtins__',\n",
       " '__cached__',\n",
       " '__doc__',\n",
       " '__file__',\n",
       " '__loader__',\n",
       " '__name__',\n",
       " '__package__',\n",
       " '__spec__',\n",
       " 'prepare_chicago']"
      ]
     },
     "execution_count": 209,
     "metadata": {},
     "output_type": "execute_result"
    }
   ],
   "source": [
    "dir(cp)"
   ]
  },
  {
   "cell_type": "code",
   "execution_count": 201,
   "id": "5701d53b",
   "metadata": {},
   "outputs": [
    {
     "data": {
      "text/html": [
       "<div>\n",
       "<style scoped>\n",
       "    .dataframe tbody tr th:only-of-type {\n",
       "        vertical-align: middle;\n",
       "    }\n",
       "\n",
       "    .dataframe tbody tr th {\n",
       "        vertical-align: top;\n",
       "    }\n",
       "\n",
       "    .dataframe thead th {\n",
       "        text-align: right;\n",
       "    }\n",
       "</style>\n",
       "<table border=\"1\" class=\"dataframe\">\n",
       "  <thead>\n",
       "    <tr style=\"text-align: right;\">\n",
       "      <th></th>\n",
       "      <th>date</th>\n",
       "      <th>primary_type</th>\n",
       "      <th>location_description</th>\n",
       "      <th>domestic</th>\n",
       "      <th>district_name</th>\n",
       "      <th>community_name</th>\n",
       "      <th>Month</th>\n",
       "      <th>Hour</th>\n",
       "    </tr>\n",
       "  </thead>\n",
       "  <tbody>\n",
       "    <tr>\n",
       "      <th>0</th>\n",
       "      <td>2022-02-14 02:30:15</td>\n",
       "      <td>THEFT</td>\n",
       "      <td>STREET</td>\n",
       "      <td>True</td>\n",
       "      <td>Far North</td>\n",
       "      <td>ROGERS PARK</td>\n",
       "      <td>2</td>\n",
       "      <td>2</td>\n",
       "    </tr>\n",
       "  </tbody>\n",
       "</table>\n",
       "</div>"
      ],
      "text/plain": [
       "                 date primary_type location_description  domestic  \\\n",
       "0 2022-02-14 02:30:15        THEFT               STREET      True   \n",
       "\n",
       "  district_name community_name  Month  Hour  \n",
       "0     Far North    ROGERS PARK      2     2  "
      ]
     },
     "execution_count": 201,
     "metadata": {},
     "output_type": "execute_result"
    }
   ],
   "source": [
    "test_instance"
   ]
  },
  {
   "cell_type": "code",
   "execution_count": null,
   "id": "376c5c02",
   "metadata": {},
   "outputs": [],
   "source": []
  },
  {
   "cell_type": "code",
   "execution_count": 190,
   "id": "e13c9bb2",
   "metadata": {},
   "outputs": [
    {
     "name": "stdout",
     "output_type": "stream",
     "text": [
      "Far North\n",
      "['ROGERS PARK' 'WEST RIDGE' 'UPTOWN' 'LINCOLN SQUARE' 'NORTH CENTER'\n",
      " 'LAKE VIEW' 'LINCOLN PARK' 'NEAR NORTH SIDE' 'EDISON PARK' 'NORWOOD PARK'\n",
      " 'JEFFERSON PARK' 'FOREST GLEN' 'NORTH PARK' 'ALBANY PARK' 'PORTAGE PARK'\n",
      " 'IRVING PARK' 'DUNNING' 'MONTCLARE' 'BELMONT CRAGIN' 'HERMOSA' 'AVONDALE'\n",
      " 'LOGAN SQUARE' 'HUMBOLDT PARK' 'WEST TOWN' 'AUSTIN' 'WEST GARFIELD PARK'\n",
      " 'EAST GARFIELD PARK' 'NEAR WEST SIDE' 'NORTH LAWNDALE' 'SOUTH LAWNDALE'\n",
      " 'LOWER WEST SIDE' 'LOOP' 'NEAR SOUTH SIDE' 'ARMOUR SQUARE' 'DOUGLAS'\n",
      " 'OAKLAND' 'FULLER PARK' 'GRAND BOULEVARD' 'KENWOOD' 'WASHINGTON PARK'\n",
      " 'HYDE PARK' 'WOODLAWN' 'SOUTH SHORE' 'CHATHAM' 'AVALON PARK'\n",
      " 'SOUTH CHICAGO' 'BURNSIDE' 'CALUMET HEIGHTS' 'ROSELAND' 'PULLMAN'\n",
      " 'SOUTH DEERING' 'EAST SIDE' 'WEST PULLMAN' 'RIVERDALE' 'HEGEWISCH'\n",
      " 'GARFIELD RIDGE' 'ARCHER HEIGHTS' 'BRIGHTON PARK' 'MCKINLEY PARK'\n",
      " 'BRIDGEPORT' 'NEW CITY' 'WEST ELSDON' 'GAGE PARK' 'CLEARING' 'WEST LAWN'\n",
      " 'CHICAGO LAWN' 'WEST ENGLEWOOD' 'ENGLEWOOD' 'GREATER GRAND CROSSING'\n",
      " 'ASHBURN' 'AUBURN GRESHAM' 'BEVERLY' 'WASHINGTON HEIGHTS'\n",
      " 'MOUNT GREENWOOD' 'MORGAN PARK' 'OHARE' 'EDGEWATER']\n",
      "homicide\n",
      "street\n",
      "True\n",
      "<class 'datetime.date'>\n"
     ]
    }
   ],
   "source": [
    "\"\"\"\n",
    "community_name = str.upper(input(\"Enter the Community Name: \"))\n",
    "primary_type = str.upper(input(\"Enter the crime committed: \"))\n",
    "location_description = str.upper(input(\"Enter the crime's location (street, residence, etc.): \"))\n",
    "domestic = (str.upper(input(\"Was the crime domestic? (Yes/No): \")) == \"YES\")\n",
    "date = input(\"Date of Crime (Ex. 01/01/2022): \")\n",
    "hour = input(\"Time of Crime:\")\n",
    "\"\"\"\n",
    "print(district_name)\n",
    "print(community_name)\n",
    "print(primary_type)\n",
    "print(location_description)\n",
    "print(domestic)\n",
    "print(date)\n",
    "\n",
    "#user_input()\n"
   ]
  },
  {
   "cell_type": "code",
   "execution_count": 196,
   "id": "cbd6ace9",
   "metadata": {},
   "outputs": [
    {
     "data": {
      "text/html": [
       "<div>\n",
       "<style scoped>\n",
       "    .dataframe tbody tr th:only-of-type {\n",
       "        vertical-align: middle;\n",
       "    }\n",
       "\n",
       "    .dataframe tbody tr th {\n",
       "        vertical-align: top;\n",
       "    }\n",
       "\n",
       "    .dataframe thead th {\n",
       "        text-align: right;\n",
       "    }\n",
       "</style>\n",
       "<table border=\"1\" class=\"dataframe\">\n",
       "  <thead>\n",
       "    <tr style=\"text-align: right;\">\n",
       "      <th></th>\n",
       "      <th>test1</th>\n",
       "      <th>test2</th>\n",
       "    </tr>\n",
       "  </thead>\n",
       "  <tbody>\n",
       "    <tr>\n",
       "      <th>1</th>\n",
       "      <td>1</td>\n",
       "      <td>2</td>\n",
       "    </tr>\n",
       "  </tbody>\n",
       "</table>\n",
       "</div>"
      ],
      "text/plain": [
       "   test1  test2\n",
       "1      1      2"
      ]
     },
     "execution_count": 196,
     "metadata": {},
     "output_type": "execute_result"
    }
   ],
   "source": [
    "pd.DataFrame({\"test1\": 1, \"test2\": 2}, index = [1])"
   ]
  },
  {
   "cell_type": "code",
   "execution_count": 174,
   "id": "bdb83db2",
   "metadata": {},
   "outputs": [],
   "source": [
    "def get_district(community):\n",
    "    return district[community]"
   ]
  },
  {
   "cell_type": "code",
   "execution_count": 186,
   "id": "a936ba08",
   "metadata": {},
   "outputs": [
    {
     "data": {
      "text/plain": [
       "datetime.datetime(2022, 2, 13, 2, 30, 15)"
      ]
     },
     "execution_count": 186,
     "metadata": {},
     "output_type": "execute_result"
    }
   ],
   "source": [
    "def str_to_date(date_str, time_str):\n",
    "    crime_time = date_str + \" \" + time_str\n",
    "    return datetime.strptime(crime_time, \"%m/%d/%Y %H:%M:%S\")\n",
    "\n",
    "test_date = \"2/13/2022\"\n",
    "test_hour = \"2:30:15\"\n",
    "str_to_date(test_date, test_hour)"
   ]
  },
  {
   "cell_type": "code",
   "execution_count": 166,
   "id": "b63e45e1",
   "metadata": {},
   "outputs": [],
   "source": [
    "community_name = np.array(chicago_districts[\"community_name\"])\n",
    "district = dict(keys = chicago_districts[\"community_name\"], values = chicago_districts[\"district_name\"])"
   ]
  },
  {
   "cell_type": "code",
   "execution_count": 176,
   "id": "fe50d317",
   "metadata": {},
   "outputs": [
    {
     "name": "stdout",
     "output_type": "stream",
     "text": [
      "Far North\n"
     ]
    },
    {
     "data": {
      "text/plain": [
       "'Far North'"
      ]
     },
     "execution_count": 176,
     "metadata": {},
     "output_type": "execute_result"
    }
   ],
   "source": [
    "district = dict(zip(chicago_districts[\"community_name\"], chicago_districts[\"district_name\"]))\n",
    "print(district[\"ROGERS PARK\"])\n",
    "get_district(\"ROGERS PARK\")"
   ]
  },
  {
   "cell_type": "code",
   "execution_count": 164,
   "id": "e48635df",
   "metadata": {},
   "outputs": [
    {
     "data": {
      "text/plain": [
       "dict_keys(['keys', 'values'])"
      ]
     },
     "execution_count": 164,
     "metadata": {},
     "output_type": "execute_result"
    }
   ],
   "source": [
    "district.keys()"
   ]
  },
  {
   "cell_type": "code",
   "execution_count": 151,
   "id": "717b4da8",
   "metadata": {},
   "outputs": [
    {
     "data": {
      "text/html": [
       "<div>\n",
       "<style scoped>\n",
       "    .dataframe tbody tr th:only-of-type {\n",
       "        vertical-align: middle;\n",
       "    }\n",
       "\n",
       "    .dataframe tbody tr th {\n",
       "        vertical-align: top;\n",
       "    }\n",
       "\n",
       "    .dataframe thead th {\n",
       "        text-align: right;\n",
       "    }\n",
       "</style>\n",
       "<table border=\"1\" class=\"dataframe\">\n",
       "  <thead>\n",
       "    <tr style=\"text-align: right;\">\n",
       "      <th></th>\n",
       "      <th>community_area</th>\n",
       "      <th>district_name</th>\n",
       "      <th>community_name</th>\n",
       "    </tr>\n",
       "  </thead>\n",
       "  <tbody>\n",
       "    <tr>\n",
       "      <th>0</th>\n",
       "      <td>1</td>\n",
       "      <td>Far North</td>\n",
       "      <td>ROGERS PARK</td>\n",
       "    </tr>\n",
       "    <tr>\n",
       "      <th>1</th>\n",
       "      <td>2</td>\n",
       "      <td>Far North</td>\n",
       "      <td>WEST RIDGE</td>\n",
       "    </tr>\n",
       "    <tr>\n",
       "      <th>2</th>\n",
       "      <td>3</td>\n",
       "      <td>Far North</td>\n",
       "      <td>UPTOWN</td>\n",
       "    </tr>\n",
       "    <tr>\n",
       "      <th>3</th>\n",
       "      <td>4</td>\n",
       "      <td>Far North</td>\n",
       "      <td>LINCOLN SQUARE</td>\n",
       "    </tr>\n",
       "    <tr>\n",
       "      <th>4</th>\n",
       "      <td>5</td>\n",
       "      <td>North</td>\n",
       "      <td>NORTH CENTER</td>\n",
       "    </tr>\n",
       "    <tr>\n",
       "      <th>...</th>\n",
       "      <td>...</td>\n",
       "      <td>...</td>\n",
       "      <td>...</td>\n",
       "    </tr>\n",
       "    <tr>\n",
       "      <th>72</th>\n",
       "      <td>73</td>\n",
       "      <td>Far Southwest</td>\n",
       "      <td>WASHINGTON HEIGHTS</td>\n",
       "    </tr>\n",
       "    <tr>\n",
       "      <th>73</th>\n",
       "      <td>74</td>\n",
       "      <td>Far Southwest</td>\n",
       "      <td>MOUNT GREENWOOD</td>\n",
       "    </tr>\n",
       "    <tr>\n",
       "      <th>74</th>\n",
       "      <td>75</td>\n",
       "      <td>Far Southwest</td>\n",
       "      <td>MORGAN PARK</td>\n",
       "    </tr>\n",
       "    <tr>\n",
       "      <th>75</th>\n",
       "      <td>76</td>\n",
       "      <td>Far North</td>\n",
       "      <td>OHARE</td>\n",
       "    </tr>\n",
       "    <tr>\n",
       "      <th>76</th>\n",
       "      <td>77</td>\n",
       "      <td>Far North</td>\n",
       "      <td>EDGEWATER</td>\n",
       "    </tr>\n",
       "  </tbody>\n",
       "</table>\n",
       "<p>77 rows × 3 columns</p>\n",
       "</div>"
      ],
      "text/plain": [
       "   community_area  district_name      community_name\n",
       "0               1      Far North         ROGERS PARK\n",
       "1               2      Far North          WEST RIDGE\n",
       "2               3      Far North              UPTOWN\n",
       "3               4      Far North      LINCOLN SQUARE\n",
       "4               5          North        NORTH CENTER\n",
       "..            ...            ...                 ...\n",
       "72             73  Far Southwest  WASHINGTON HEIGHTS\n",
       "73             74  Far Southwest     MOUNT GREENWOOD\n",
       "74             75  Far Southwest         MORGAN PARK\n",
       "75             76      Far North               OHARE\n",
       "76             77      Far North           EDGEWATER\n",
       "\n",
       "[77 rows x 3 columns]"
      ]
     },
     "execution_count": 151,
     "metadata": {},
     "output_type": "execute_result"
    }
   ],
   "source": [
    "chicago_districts"
   ]
  },
  {
   "cell_type": "code",
   "execution_count": 36,
   "id": "4e595d13",
   "metadata": {},
   "outputs": [
    {
     "name": "stdout",
     "output_type": "stream",
     "text": [
      "Date (Ex: 01/01/2022): 01/01/2022\n"
     ]
    },
    {
     "ename": "TypeError",
     "evalue": "an integer is required (got type str)",
     "output_type": "error",
     "traceback": [
      "\u001b[1;31m---------------------------------------------------------------------------\u001b[0m",
      "\u001b[1;31mTypeError\u001b[0m                                 Traceback (most recent call last)",
      "\u001b[1;32m<ipython-input-36-5ae7bbc6f048>\u001b[0m in \u001b[0;36m<module>\u001b[1;34m\u001b[0m\n\u001b[0;32m      1\u001b[0m \u001b[0mcrime_date\u001b[0m \u001b[1;33m=\u001b[0m \u001b[0minput\u001b[0m\u001b[1;33m(\u001b[0m\u001b[1;34m\"Date (Ex: 01/01/2022): \"\u001b[0m\u001b[1;33m)\u001b[0m\u001b[1;33m\u001b[0m\u001b[1;33m\u001b[0m\u001b[0m\n\u001b[1;32m----> 2\u001b[1;33m \u001b[0mprint\u001b[0m\u001b[1;33m(\u001b[0m\u001b[0mdate\u001b[0m\u001b[1;33m(\u001b[0m\u001b[0mcrime_date\u001b[0m\u001b[1;33m)\u001b[0m\u001b[1;33m)\u001b[0m\u001b[1;33m\u001b[0m\u001b[1;33m\u001b[0m\u001b[0m\n\u001b[0m",
      "\u001b[1;31mTypeError\u001b[0m: an integer is required (got type str)"
     ]
    }
   ],
   "source": [
    "crime_date = input(\"Date (Ex: 01/01/2022): \")\n",
    "print(date(crime_date))"
   ]
  },
  {
   "cell_type": "code",
   "execution_count": 127,
   "id": "09e05626",
   "metadata": {},
   "outputs": [
    {
     "data": {
      "text/plain": [
       "(11, 31, 2022)"
      ]
     },
     "execution_count": 127,
     "metadata": {},
     "output_type": "execute_result"
    }
   ],
   "source": [
    "def str_to_date(date_str, time_str):\n",
    "    #month, day, year = str.split(string, \"/\")\n",
    "    date_lst = str.split(string, \"/\")[::-1]\n",
    "    \n",
    "    month = int(date_lst.pop())\n",
    "    if month not in np.arange(1,13): \n",
    "        raise ValueError(\"Month has to be between 1 and 12\")\n",
    "    \n",
    "    day = int(date_lst.pop())\n",
    "    if day not in np.arange(1,32):\n",
    "        raise ValueError(\"Day has to be between 1 and 31\")\n",
    "        \n",
    "    year = int(date_lst.pop())\n",
    "    return date()\n",
    "\n",
    "test = \"11/31/2022\"\n",
    "str_to_date(test)"
   ]
  },
  {
   "cell_type": "code",
   "execution_count": null,
   "id": "a6b91e7d",
   "metadata": {},
   "outputs": [],
   "source": []
  },
  {
   "cell_type": "code",
   "execution_count": 145,
   "id": "da4f9dfd",
   "metadata": {},
   "outputs": [
    {
     "name": "stdout",
     "output_type": "stream",
     "text": [
      "01/02/2022 00:30:15\n",
      "2022-02-01 00:30:15\n"
     ]
    }
   ],
   "source": [
    "test_date = \"01/02/2022\"\n",
    "test_hour = \"00:30:15\"\n",
    "crime_time = test_date + \" \" + test_hour\n",
    "print(crime_time)\n",
    "test = datetime.strptime(crime_time, \"%d/%m/%Y %H:%M:%S\")\n",
    "print(test)"
   ]
  },
  {
   "cell_type": "code",
   "execution_count": 119,
   "id": "b95b7fb5",
   "metadata": {
    "scrolled": true
   },
   "outputs": [
    {
     "name": "stdout",
     "output_type": "stream",
     "text": [
      "['2022', '02', '01']\n",
      "2022\n",
      "2\n",
      "1\n"
     ]
    }
   ],
   "source": [
    "test = str.split(\"01/02/2022\", \"/\")\n",
    "print(test[::-1])\n",
    "month = int(test.pop())\n",
    "day = int(test.pop())\n",
    "year = int(test.pop())\n",
    "print(month)\n",
    "print(day)\n",
    "print(year)"
   ]
  },
  {
   "cell_type": "code",
   "execution_count": 115,
   "id": "d63552db",
   "metadata": {},
   "outputs": [],
   "source": [
    "test.pop?"
   ]
  },
  {
   "cell_type": "code",
   "execution_count": 90,
   "id": "25b9a686",
   "metadata": {},
   "outputs": [
    {
     "data": {
      "text/plain": [
       "['test/test', 'test/']"
      ]
     },
     "execution_count": 90,
     "metadata": {},
     "output_type": "execute_result"
    }
   ],
   "source": [
    "pattern = \"-\"\n",
    "test = \"test/test-test/\"\n",
    "re.split(pattern, test)"
   ]
  },
  {
   "cell_type": "code",
   "execution_count": 95,
   "id": "6bf4bb6f",
   "metadata": {},
   "outputs": [
    {
     "data": {
      "text/plain": [
       "'test-test-test'"
      ]
     },
     "execution_count": 95,
     "metadata": {},
     "output_type": "execute_result"
    }
   ],
   "source": [
    "str.replace(\"test-test-test\", \"\", \"/\")"
   ]
  },
  {
   "cell_type": "code",
   "execution_count": 35,
   "id": "a5bd0b07",
   "metadata": {},
   "outputs": [],
   "source": [
    "from datetime import date\n",
    "date?"
   ]
  },
  {
   "cell_type": "code",
   "execution_count": 18,
   "id": "bd2bf287",
   "metadata": {},
   "outputs": [
    {
     "data": {
      "text/plain": [
       "'TEST'"
      ]
     },
     "execution_count": 18,
     "metadata": {},
     "output_type": "execute_result"
    }
   ],
   "source": [
    "str.upper(\"test\")"
   ]
  },
  {
   "cell_type": "code",
   "execution_count": 29,
   "id": "9f93b234",
   "metadata": {},
   "outputs": [
    {
     "name": "stdout",
     "output_type": "stream",
     "text": [
      "Was the crime domestic? (Yes/No): yes\n",
      "True\n"
     ]
    }
   ],
   "source": [
    "domestic = (str.upper(input(\"Was the crime domestic? (Yes/No): \")) == \"YES\")\n",
    "domestic\n",
    "print(domestic)"
   ]
  },
  {
   "cell_type": "code",
   "execution_count": 21,
   "id": "226ae274",
   "metadata": {},
   "outputs": [
    {
     "name": "stdout",
     "output_type": "stream",
     "text": [
      "Object `astype` not found.\n"
     ]
    }
   ],
   "source": [
    "astyp"
   ]
  },
  {
   "cell_type": "code",
   "execution_count": null,
   "id": "941e3be2",
   "metadata": {},
   "outputs": [],
   "source": []
  }
 ],
 "metadata": {
  "kernelspec": {
   "display_name": "Python 3",
   "language": "python",
   "name": "python3"
  },
  "language_info": {
   "codemirror_mode": {
    "name": "ipython",
    "version": 3
   },
   "file_extension": ".py",
   "mimetype": "text/x-python",
   "name": "python",
   "nbconvert_exporter": "python",
   "pygments_lexer": "ipython3",
   "version": "3.8.8"
  }
 },
 "nbformat": 4,
 "nbformat_minor": 5
}
