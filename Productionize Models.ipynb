{
 "cells": [
  {
   "cell_type": "markdown",
   "id": "84574ee4",
   "metadata": {},
   "source": [
    "# Setup and Imports"
   ]
  },
  {
   "cell_type": "code",
   "execution_count": 173,
   "id": "12268235",
   "metadata": {},
   "outputs": [],
   "source": [
    "import pandas as pd\n",
    "import numpy as np\n",
    "from datetime import datetime\n",
    "import warnings\n",
    "import pickle\n",
    "\n",
    "#Custom Python Module with functions specifically for this project\n",
    "import ChicagoDataCleaningFunctions as cd\n",
    "#Custom Python Module to fetch the data\n",
    "import FetchChicagoData as fc\n",
    "#Custom Python Module to prepare new crime instances\n",
    "import PrepareChicago as pc"
   ]
  },
  {
   "cell_type": "markdown",
   "id": "02240104",
   "metadata": {},
   "source": [
    "# Get the Data"
   ]
  },
  {
   "cell_type": "code",
   "execution_count": 12,
   "id": "1417285d",
   "metadata": {},
   "outputs": [
    {
     "name": "stdout",
     "output_type": "stream",
     "text": [
      "Fetching Chicago Data Started...\n",
      "\n",
      "Successfully queried Google BigQuery.\n",
      "Sucessfully read in excel file.\n",
      "Sucessfully joined Chicago districts to main data.\n",
      "Successfully dropped duplicate column\n",
      "\n",
      "Succcessfully fetched Chicago Data\n",
      "Wall time: 3min 20s\n"
     ]
    }
   ],
   "source": [
    "%%time\n",
    "#Specify input values for fetching the data\n",
    "query = \"\"\"\n",
    "            SELECT unique_key, date, primary_type, location_description, \n",
    "                    arrest, domestic, community_area, year\n",
    "            FROM `gdac-327115.Chicago.chicago2`\n",
    "            WHERE year >= 2011\n",
    "        \"\"\"\n",
    "project_id = \"gdac-327115\"\n",
    "excel_file = \"ChicagoCommunityAreas.xlsx\"\n",
    "\n",
    "#Fetch the data\n",
    "chicago = fc.fetch_chicago_data(query, project_id, excel_file, verbose=True)"
   ]
  },
  {
   "cell_type": "markdown",
   "id": "752ece1e",
   "metadata": {},
   "source": [
    "# Clean the Data"
   ]
  },
  {
   "cell_type": "code",
   "execution_count": 99,
   "id": "64f3c46c",
   "metadata": {},
   "outputs": [
    {
     "name": "stdout",
     "output_type": "stream",
     "text": [
      "Cleaning Started...\n",
      "\n",
      "Successfully Cleaned Primary Type\n",
      "Successfully Imputed Location\n",
      "Successfully Cleaned Location\n",
      "Successfully Added Month Column\n",
      "Successfully Added Hour Column\n",
      "Successfully Cleaned Community\n",
      "\n",
      "Data Set Successfully Cleaned!\n"
     ]
    }
   ],
   "source": [
    "%%capture --no-stdout\n",
    "#Clean the full data set\n",
    "cd.chicago_data_cleaner(chicago, verbose = True)"
   ]
  },
  {
   "cell_type": "markdown",
   "id": "b3e973d3",
   "metadata": {},
   "source": [
    "# Load in Production Model"
   ]
  },
  {
   "cell_type": "code",
   "execution_count": 104,
   "id": "69ba29ea",
   "metadata": {},
   "outputs": [
    {
     "data": {
      "text/plain": [
       "XGBClassifier(base_score=0.5, booster='gbtree', colsample_bylevel=1,\n",
       "              colsample_bynode=1, colsample_bytree=0.45195454681591674,\n",
       "              enable_categorical=False, gamma=0.546708263364187, gpu_id=-1,\n",
       "              importance_type=None, interaction_constraints='',\n",
       "              learning_rate=0.38768070515882624, max_delta_step=0, max_depth=7,\n",
       "              min_child_weight=25, missing=nan, monotone_constraints='()',\n",
       "              n_estimators=195, n_jobs=8, num_parallel_tree=1, predictor='auto',\n",
       "              random_state=0, reg_alpha=0, reg_lambda=0.6338249886045665,\n",
       "              scale_pos_weight=1, subsample=0.7838501639099957,\n",
       "              tree_method='exact', use_label_encoder=False,\n",
       "              validate_parameters=1, verbosity=None)"
      ]
     },
     "execution_count": 104,
     "metadata": {},
     "output_type": "execute_result"
    }
   ],
   "source": [
    "best_model = pickle.load(open(\"best_model.sav\", 'rb'))\n",
    "best_model"
   ]
  },
  {
   "cell_type": "markdown",
   "id": "8b536d65",
   "metadata": {},
   "source": [
    "# Create Helper Functions"
   ]
  },
  {
   "cell_type": "code",
   "execution_count": 27,
   "id": "09cffbf9",
   "metadata": {},
   "outputs": [],
   "source": [
    "def get_district(community):\n",
    "    \"\"\"\n",
    "    This function returns the district that corresponds to the community area provided\n",
    "    \n",
    "    community: community name\n",
    "    \n",
    "    returns: district name as string\n",
    "    \"\"\"\n",
    "    district = dict(zip(chicago[\"community_name\"], chicago[\"district_name\"]))\n",
    "    return district[community]"
   ]
  },
  {
   "cell_type": "code",
   "execution_count": 192,
   "id": "ca02e61c",
   "metadata": {},
   "outputs": [],
   "source": [
    "def str_to_date(date_str, time_str):\n",
    "    \"\"\"\n",
    "    This function takes takes a date and time string and concatenates them together. Finally, it returns a datetime object.\n",
    "    \n",
    "    date_str: string containing the date in form dd/mm/yyyy\n",
    "    time_str: string containing the time in form hh:mm:ss\n",
    "    \n",
    "    returns: datetime object \n",
    "    \"\"\"\n",
    "    crime_time = date_str + \" \" + time_str\n",
    "    return datetime.strptime(crime_time, \"%m/%d/%Y %H:%M:%S\")\n"
   ]
  },
  {
   "cell_type": "code",
   "execution_count": 174,
   "id": "139453a8",
   "metadata": {},
   "outputs": [],
   "source": [
    "def user_input():\n",
    "    \"\"\"\n",
    "    This function asks the user for the new crime details. It then converts the input to the form found in the original\n",
    "    dataframe. \n",
    "    \n",
    "    returns: DataFrame with the crime details\n",
    "    \"\"\"\n",
    "    community_name = str.upper(input(\"Enter the Community Name: \"))\n",
    "    district = get_district(community_name)\n",
    "    \n",
    "    primary_type = str.upper(input(\"Enter the crime committed: \"))\n",
    "    \n",
    "    location_description = str.upper(input(\"Enter the crime's location (street, residence, etc.): \"))\n",
    "    \n",
    "    domestic = (str.upper(input(\"Was the crime domestic? (Yes/No): \")) == \"YES\")\n",
    "    \n",
    "    date = input(\"Date of Crime (Ex. 01/01/2022): \")\n",
    "    \n",
    "    hour = input(\"Time of Crime: \")\n",
    "    \n",
    "    date_time = str_to_date(date, hour)\n",
    "    \n",
    "    new_crime_df = pd.DataFrame({\"date\": date_time, \"primary_type\": primary_type , \n",
    "                                 \"location_description\": location_description, \"domestic\": domestic,  \n",
    "                                 \"community_name\": community_name,  \"district_name\": district}, index = [1])\n",
    "    \n",
    "    return new_crime_df"
   ]
  },
  {
   "cell_type": "code",
   "execution_count": 193,
   "id": "97c3af44",
   "metadata": {
    "scrolled": true
   },
   "outputs": [],
   "source": [
    "def unique_column_values(df):\n",
    "    \"\"\"\n",
    "    This function creates lists containing the unique values for each variable in the chicago data set. It returns a list of\n",
    "    lists for each variable\n",
    "    \n",
    "    df: Dataframe \n",
    "    \n",
    "    returns: List of list with unique values for each variable\n",
    "    \"\"\"\n",
    "    crime_values = list(np.sort(df[\"primary_type\"].value_counts().index))\n",
    "    location_values = list(np.sort(df[\"location_description\"].value_counts().index))\n",
    "    domestic_values = list(np.sort(df[\"domestic\"].value_counts().index))\n",
    "    district_values = list(np.sort(df[\"district_name\"].value_counts().index))\n",
    "    community_values = list(np.sort(df[\"community_name\"].value_counts().index))\n",
    "    Month_values = list(np.sort(df[\"Month\"].value_counts().index))\n",
    "    Hour_values = list(np.sort(df[\"Hour\"].value_counts().index))\n",
    "\n",
    "    column_values = [crime_values, location_values, domestic_values, district_values, community_values, Month_values, Hour_values]\n",
    "    return column_values"
   ]
  },
  {
   "cell_type": "code",
   "execution_count": 149,
   "id": "67d74de4",
   "metadata": {},
   "outputs": [],
   "source": [
    "def prepare_new_instance(df, unique_vals_per_attrib):\n",
    "    \"\"\"\n",
    "    This function prepares a new crime instance by one hot encoding the variables. It specifies the categories from the \n",
    "    original data set.\n",
    "    \n",
    "    df: Dataframe containing the new crime instance\n",
    "    unique_vals_per_attrib: List of list containing the unique values for each variable\n",
    "    \n",
    "    returns: X (sparse matrix)\n",
    "    \"\"\"\n",
    "    cat_encoder = OneHotEncoder(categories=unique_vals)\n",
    "    X = cat_encoder.fit_transform(df[attribs])\n",
    "    return X\n",
    "    "
   ]
  },
  {
   "cell_type": "code",
   "execution_count": 150,
   "id": "68a554a8",
   "metadata": {},
   "outputs": [],
   "source": [
    "def make_prediction(X, model, probability = True):\n",
    "    \"\"\"\n",
    "    This function makes the prediction on the new crime instance. It can return either the predicted probability or class. \n",
    "    \n",
    "    X (Sparse matrix)\n",
    "    model: Model capable of making returning a predicted probability or class\n",
    "    probability: Specifies if the function should return a predicted probability or class\n",
    "    \"\"\"\n",
    "    if probability:\n",
    "        return model.predict_proba(X)\n",
    "    else:\n",
    "        return model.predict(X)\n",
    "    "
   ]
  },
  {
   "cell_type": "code",
   "execution_count": 183,
   "id": "57b460eb",
   "metadata": {},
   "outputs": [],
   "source": [
    "def chicago_crime_prediction(df, model):\n",
    "    \"\"\"\n",
    "    This the main function for turning a user's input into a predicted response. It contains functions that get the input, \n",
    "    clean it if necessary, transform it to the correct form for the model and finally outputs a predicted probability of \n",
    "    success. \n",
    "    \n",
    "    df: Dataframe of past instances\n",
    "    model: Model capable of giving a predicted probability\n",
    "    \n",
    "    \"\"\"\n",
    "    #new_crime = input_to_category(df)\n",
    "    new_crime = user_input()\n",
    "    #print(new_crime)\n",
    "    cd.chicago_data_cleaner(new_crime, verbose=False)\n",
    "    #print(new_crime.head)\n",
    "    unique_vals = unique_column_values(df)\n",
    "    prepared_crime = prepare_new_instance(new_crime, unique_vals)\n",
    "    #print(prepared_crime.shape)\n",
    "    crime_prediction = make_prediction(prepared_crime, model, probability=True)\n",
    "    #print(crime_prediction)\n",
    "    chance = np.round(crime_prediction[0][1], 4) * 100\n",
    "    #print(chance)\n",
    "    print(f\"\\nThe model predicts a {chance:.2f}% chance of making an arrest\")"
   ]
  },
  {
   "cell_type": "code",
   "execution_count": 190,
   "id": "415efe18",
   "metadata": {},
   "outputs": [
    {
     "name": "stdout",
     "output_type": "stream",
     "text": [
      "Enter the Community Name: woodlawn\n",
      "Enter the crime committed: homicide\n",
      "Enter the crime's location (street, residence, etc.): residence\n",
      "Was the crime domestic? (Yes/No): yes\n",
      "Date of Crime (Ex. 01/01/2022): 06/21/2022\n",
      "Time of Crime: 15:00:00\n",
      "\n",
      "The model predicts a 79.61% chance of making an arrest\n"
     ]
    }
   ],
   "source": [
    "chicago_crime_prediction(chicago, best_model)"
   ]
  },
  {
   "cell_type": "code",
   "execution_count": 191,
   "id": "f3dcadec",
   "metadata": {},
   "outputs": [
    {
     "name": "stdout",
     "output_type": "stream",
     "text": [
      "Enter the Community Name: woodlawn\n",
      "Enter the crime committed: homicide\n",
      "Enter the crime's location (street, residence, etc.): residence\n",
      "Was the crime domestic? (Yes/No): no\n",
      "Date of Crime (Ex. 01/01/2022): 06/21/2022\n",
      "Time of Crime: 15:00:00\n",
      "\n",
      "The model predicts a 37.46% chance of making an arrest\n"
     ]
    }
   ],
   "source": [
    "chicago_crime_prediction(chicago, best_model)"
   ]
  },
  {
   "cell_type": "code",
   "execution_count": 171,
   "id": "4fbb58e9",
   "metadata": {},
   "outputs": [
    {
     "name": "stdout",
     "output_type": "stream",
     "text": [
      "Enter the Community Name: austin\n",
      "Enter the crime committed: homicide\n",
      "Enter the crime's location (street, residence, etc.): street\n",
      "Was the crime domestic? (Yes/No): no\n",
      "Date of Crime (Ex. 01/01/2022): 06/20/2022\n",
      "Time of Crime: 15:00:00\n",
      "[[0.6885135 0.3114865]]\n",
      "\n",
      "The model predicts a 31.15% chance of making an arrest\n"
     ]
    }
   ],
   "source": [
    "chicago_crime_prediction(chicago, best_model)"
   ]
  },
  {
   "cell_type": "code",
   "execution_count": 194,
   "id": "ffed5f21",
   "metadata": {},
   "outputs": [
    {
     "name": "stdout",
     "output_type": "stream",
     "text": [
      "Enter the Community Name: woodlawn\n",
      "Enter the crime committed: homicide\n",
      "Enter the crime's location (street, residence, etc.): hotel\n",
      "Was the crime domestic? (Yes/No): yes\n",
      "Date of Crime (Ex. 01/01/2022): 06/01/2022\n",
      "Time of Crime: 20:00:00\n",
      "\n",
      "The model predicts a 93.78% chance of making an arrest\n"
     ]
    }
   ],
   "source": [
    "chicago_crime_prediction(chicago, best_model)"
   ]
  },
  {
   "cell_type": "code",
   "execution_count": 197,
   "id": "b8eeb7a2",
   "metadata": {},
   "outputs": [
    {
     "name": "stdout",
     "output_type": "stream",
     "text": [
      "Enter the Community Name: woodlawn\n",
      "Enter the crime committed: homicide\n",
      "Enter the crime's location (street, residence, etc.): hotel\n",
      "Was the crime domestic? (Yes/No): no\n",
      "Date of Crime (Ex. 01/01/2022): 6/1/2022\n",
      "Time of Crime: 5:00:00\n",
      "\n",
      "The model predicts a 47.33% chance of making an arrest\n"
     ]
    }
   ],
   "source": [
    "chicago_crime_prediction(chicago, best_model)"
   ]
  },
  {
   "cell_type": "code",
   "execution_count": 30,
   "id": "ec47858c",
   "metadata": {},
   "outputs": [],
   "source": [
    "def input_to_category(df):\n",
    "    \n",
    "    crime_details = user_input()[::-1]\n",
    "    \n",
    "    communities = pd.Categorical(chicago[\"community_name\"]).categories\n",
    "    community_name = pd.Categorical(crime_details.pop(), categories=communities)\n",
    "    \n",
    "    districts = pd.Categorical(chicago[\"district_name\"]).categories\n",
    "    district = pd.Categorical(crime_details.pop(), categories=districts)\n",
    "    \n",
    "    crime_grps = pd.Categorical(chicago[\"primary_type\"]).categories\n",
    "    crime = pd.Categorical(crime_details.pop(), categories=crime_grps)\n",
    "    \n",
    "    location_grps = pd.Categorical(chicago[\"location_description\"]).categories\n",
    "    location = pd.Categorical(crime_details.pop(), categories=location_grps)\n",
    "    \n",
    "    domestic_grp = pd.Categorical(chicago[\"domestic\"]).categories\n",
    "    domestic = pd.Categorical(crime_details.pop(), categories=domestic_grp)\n",
    "    \n",
    "    crime_instance = pd.DataFrame({\"date\": crime_details.pop(), \"primary_type\": crime, \n",
    "                                   \"location_description\": location, \"domestic\": domestic,\n",
    "                                   \"district_name\": district, \"community_name\": community_name},\n",
    "                                 index = [1])\n",
    "    return crime_instance"
   ]
  },
  {
   "cell_type": "code",
   "execution_count": 29,
   "id": "a09a3680",
   "metadata": {},
   "outputs": [],
   "source": [
    "def user_input():\n",
    "    \"\"\"\n",
    "    This function asks the user for the new crime details. It then converts the input to the form found in the original\n",
    "    dataframe. \n",
    "    \n",
    "    returns: list with the crime details\n",
    "    \"\"\"\n",
    "    community_name = str.upper(input(\"Enter the Community Name: \"))\n",
    "    district = get_district(community_name)\n",
    "    \n",
    "    primary_type = str.upper(input(\"Enter the crime committed: \"))\n",
    "    \n",
    "    location_description = str.upper(input(\"Enter the crime's location (street, residence, etc.): \"))\n",
    "    \n",
    "    domestic = (str.upper(input(\"Was the crime domestic? (Yes/No): \")) == \"YES\")\n",
    "    \n",
    "    date = input(\"Date of Crime (Ex. 01/01/2022): \")\n",
    "    \n",
    "    hour = input(\"Time of Crime: \")\n",
    "    \n",
    "    date_time = str_to_date(date, hour)\n",
    "    \n",
    "    return [community_name, district, primary_type, location_description, domestic, date_time]"
   ]
  }
 ],
 "metadata": {
  "kernelspec": {
   "display_name": "Python 3",
   "language": "python",
   "name": "python3"
  },
  "language_info": {
   "codemirror_mode": {
    "name": "ipython",
    "version": 3
   },
   "file_extension": ".py",
   "mimetype": "text/x-python",
   "name": "python",
   "nbconvert_exporter": "python",
   "pygments_lexer": "ipython3",
   "version": "3.8.8"
  }
 },
 "nbformat": 4,
 "nbformat_minor": 5
}
