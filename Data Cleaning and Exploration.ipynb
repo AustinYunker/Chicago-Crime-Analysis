{
 "cells": [
  {
   "cell_type": "markdown",
   "id": "4e4aaa12",
   "metadata": {},
   "source": [
    "# Setup and Imports"
   ]
  },
  {
   "cell_type": "code",
   "execution_count": 1,
   "id": "7c25408a",
   "metadata": {},
   "outputs": [],
   "source": [
    "import pandas as pd\n",
    "import numpy as np\n",
    "import matplotlib.pyplot as plt\n",
    "%matplotlib inline\n",
    "import seaborn as sns\n",
    "sns.set\n",
    "import warnings\n",
    "import re\n",
    "from pandas.io import gbq\n",
    "from sklearn.preprocessing import OneHotEncoder\n",
    "from sklearn.compose import ColumnTransformer\n",
    "from scipy import sparse"
   ]
  },
  {
   "cell_type": "markdown",
   "id": "80f4e408",
   "metadata": {},
   "source": [
    "# Get the Data"
   ]
  },
  {
   "cell_type": "code",
   "execution_count": 110,
   "id": "e531f1f9",
   "metadata": {},
   "outputs": [],
   "source": [
    "#Read the data in from Google BigQuery\n",
    "chicago_data = \"\"\"\n",
    "                    SELECT unique_key, date, primary_type, location_description, \n",
    "                            arrest, domestic, community_area, year\n",
    "                    FROM `gdac-327115.Chicago.chicago2`\n",
    "                    WHERE year >= 2011\n",
    "               \"\"\"\n",
    "chicago_data = gbq.read_gbq(chicago_data, project_id=\"gdac-327115\")"
   ]
  },
  {
   "cell_type": "code",
   "execution_count": 111,
   "id": "46960833",
   "metadata": {},
   "outputs": [],
   "source": [
    "#Read in an Excel file with a one to one mapping between Chicago community areas and districts\n",
    "chicago_districts = pd.read_excel(\"ChicagoCommunityAreas.xlsx\")"
   ]
  },
  {
   "cell_type": "code",
   "execution_count": 112,
   "id": "f855c2c0",
   "metadata": {},
   "outputs": [],
   "source": [
    "#Data type can't be joined on an int\n",
    "chicago_districts.community_area = chicago_districts[\"community_area\"].astype(\"string\")\n",
    "chicago_data.community_area = chicago_data[\"community_area\"].astype(\"string\")"
   ]
  },
  {
   "cell_type": "code",
   "execution_count": 113,
   "id": "936be0ce",
   "metadata": {},
   "outputs": [],
   "source": [
    "#Outer join the two data sets\n",
    "chicago = chicago_data.merge(chicago_districts, how=\"outer\", left_on=\"community_area\", right_on=\"community_area\", )"
   ]
  },
  {
   "cell_type": "code",
   "execution_count": 114,
   "id": "516f1b41",
   "metadata": {},
   "outputs": [
    {
     "data": {
      "text/plain": [
       "unique_key                            Int64\n",
       "date                    datetime64[ns, UTC]\n",
       "primary_type                         object\n",
       "location_description                 object\n",
       "arrest                              boolean\n",
       "domestic                            boolean\n",
       "community_area                       string\n",
       "year                                  Int64\n",
       "district_name                        object\n",
       "community_name                       object\n",
       "dtype: object"
      ]
     },
     "execution_count": 114,
     "metadata": {},
     "output_type": "execute_result"
    }
   ],
   "source": [
    "#Check data types\n",
    "chicago.dtypes"
   ]
  },
  {
   "cell_type": "code",
   "execution_count": 7,
   "id": "f1486ec2",
   "metadata": {},
   "outputs": [],
   "source": [
    "#Change the object data types to categorical\n",
    "chicago.loc[:, chicago.dtypes == \"object\"] = chicago.select_dtypes([\"object\"]).apply(lambda x: x.astype(\"category\"))"
   ]
  },
  {
   "cell_type": "code",
   "execution_count": 8,
   "id": "6024f487",
   "metadata": {},
   "outputs": [],
   "source": [
    "#Drop the community area variable since we have a community name variable\n",
    "chicago.drop(\"community_area\", axis = 1, inplace = True)"
   ]
  },
  {
   "cell_type": "markdown",
   "id": "f3b1a678",
   "metadata": {},
   "source": [
    "### Explore first few rows"
   ]
  },
  {
   "cell_type": "code",
   "execution_count": 10,
   "id": "cc84ac96",
   "metadata": {},
   "outputs": [
    {
     "data": {
      "text/html": [
       "<div>\n",
       "<style scoped>\n",
       "    .dataframe tbody tr th:only-of-type {\n",
       "        vertical-align: middle;\n",
       "    }\n",
       "\n",
       "    .dataframe tbody tr th {\n",
       "        vertical-align: top;\n",
       "    }\n",
       "\n",
       "    .dataframe thead th {\n",
       "        text-align: right;\n",
       "    }\n",
       "</style>\n",
       "<table border=\"1\" class=\"dataframe\">\n",
       "  <thead>\n",
       "    <tr style=\"text-align: right;\">\n",
       "      <th></th>\n",
       "      <th>unique_key</th>\n",
       "      <th>date</th>\n",
       "      <th>primary_type</th>\n",
       "      <th>location_description</th>\n",
       "      <th>arrest</th>\n",
       "      <th>domestic</th>\n",
       "      <th>year</th>\n",
       "      <th>latitude</th>\n",
       "      <th>longitude</th>\n",
       "      <th>district_name</th>\n",
       "      <th>community_name</th>\n",
       "    </tr>\n",
       "  </thead>\n",
       "  <tbody>\n",
       "    <tr>\n",
       "      <th>0</th>\n",
       "      <td>11228094</td>\n",
       "      <td>2017-11-20 15:00:00+00:00</td>\n",
       "      <td>DECEPTIVE PRACTICE</td>\n",
       "      <td>POOL ROOM</td>\n",
       "      <td>False</td>\n",
       "      <td>False</td>\n",
       "      <td>2017</td>\n",
       "      <td>NaN</td>\n",
       "      <td>NaN</td>\n",
       "      <td>Far North</td>\n",
       "      <td>NORTH PARK</td>\n",
       "    </tr>\n",
       "    <tr>\n",
       "      <th>1</th>\n",
       "      <td>12135292</td>\n",
       "      <td>2020-08-13 12:00:00+00:00</td>\n",
       "      <td>DECEPTIVE PRACTICE</td>\n",
       "      <td>BANK</td>\n",
       "      <td>False</td>\n",
       "      <td>False</td>\n",
       "      <td>2020</td>\n",
       "      <td>41.993402</td>\n",
       "      <td>-87.712280</td>\n",
       "      <td>Far North</td>\n",
       "      <td>NORTH PARK</td>\n",
       "    </tr>\n",
       "    <tr>\n",
       "      <th>2</th>\n",
       "      <td>8905294</td>\n",
       "      <td>2012-11-27 17:30:00+00:00</td>\n",
       "      <td>PUBLIC PEACE VIOLATION</td>\n",
       "      <td>RESTAURANT</td>\n",
       "      <td>False</td>\n",
       "      <td>False</td>\n",
       "      <td>2012</td>\n",
       "      <td>41.978265</td>\n",
       "      <td>-87.708742</td>\n",
       "      <td>Far North</td>\n",
       "      <td>NORTH PARK</td>\n",
       "    </tr>\n",
       "    <tr>\n",
       "      <th>3</th>\n",
       "      <td>8805120</td>\n",
       "      <td>2012-09-17 00:30:00+00:00</td>\n",
       "      <td>DECEPTIVE PRACTICE</td>\n",
       "      <td>TAXICAB</td>\n",
       "      <td>False</td>\n",
       "      <td>False</td>\n",
       "      <td>2012</td>\n",
       "      <td>41.985277</td>\n",
       "      <td>-87.713827</td>\n",
       "      <td>Far North</td>\n",
       "      <td>NORTH PARK</td>\n",
       "    </tr>\n",
       "    <tr>\n",
       "      <th>4</th>\n",
       "      <td>9030552</td>\n",
       "      <td>2013-02-21 00:00:00+00:00</td>\n",
       "      <td>CRIM SEXUAL ASSAULT</td>\n",
       "      <td>RESIDENCE</td>\n",
       "      <td>False</td>\n",
       "      <td>True</td>\n",
       "      <td>2013</td>\n",
       "      <td>41.994323</td>\n",
       "      <td>-87.720213</td>\n",
       "      <td>Far North</td>\n",
       "      <td>NORTH PARK</td>\n",
       "    </tr>\n",
       "  </tbody>\n",
       "</table>\n",
       "</div>"
      ],
      "text/plain": [
       "   unique_key                      date            primary_type  \\\n",
       "0    11228094 2017-11-20 15:00:00+00:00      DECEPTIVE PRACTICE   \n",
       "1    12135292 2020-08-13 12:00:00+00:00      DECEPTIVE PRACTICE   \n",
       "2     8905294 2012-11-27 17:30:00+00:00  PUBLIC PEACE VIOLATION   \n",
       "3     8805120 2012-09-17 00:30:00+00:00      DECEPTIVE PRACTICE   \n",
       "4     9030552 2013-02-21 00:00:00+00:00     CRIM SEXUAL ASSAULT   \n",
       "\n",
       "  location_description  arrest  domestic  year   latitude  longitude  \\\n",
       "0            POOL ROOM   False     False  2017        NaN        NaN   \n",
       "1                 BANK   False     False  2020  41.993402 -87.712280   \n",
       "2           RESTAURANT   False     False  2012  41.978265 -87.708742   \n",
       "3              TAXICAB   False     False  2012  41.985277 -87.713827   \n",
       "4            RESIDENCE   False      True  2013  41.994323 -87.720213   \n",
       "\n",
       "  district_name community_name  \n",
       "0     Far North     NORTH PARK  \n",
       "1     Far North     NORTH PARK  \n",
       "2     Far North     NORTH PARK  \n",
       "3     Far North     NORTH PARK  \n",
       "4     Far North     NORTH PARK  "
      ]
     },
     "execution_count": 10,
     "metadata": {},
     "output_type": "execute_result"
    }
   ],
   "source": [
    "chicago.head()"
   ]
  },
  {
   "cell_type": "code",
   "execution_count": 11,
   "id": "74316c23",
   "metadata": {},
   "outputs": [
    {
     "data": {
      "text/plain": [
       "(2971810, 11)"
      ]
     },
     "execution_count": 11,
     "metadata": {},
     "output_type": "execute_result"
    }
   ],
   "source": [
    "#Check the number of rows and columns\n",
    "chicago.shape"
   ]
  },
  {
   "cell_type": "markdown",
   "id": "5e979316",
   "metadata": {},
   "source": [
    "# Split the Data into a Training Set and Test Set"
   ]
  },
  {
   "cell_type": "code",
   "execution_count": 267,
   "id": "cf0f5a70",
   "metadata": {},
   "outputs": [],
   "source": [
    "chicago_train = chicago.loc[chicago[\"year\"] != 2021]\n",
    "chicago_test = chicago.loc[chicago[\"year\"] == 2021]"
   ]
  },
  {
   "cell_type": "code",
   "execution_count": 20,
   "id": "5f441aee",
   "metadata": {},
   "outputs": [
    {
     "data": {
      "text/html": [
       "<div>\n",
       "<style scoped>\n",
       "    .dataframe tbody tr th:only-of-type {\n",
       "        vertical-align: middle;\n",
       "    }\n",
       "\n",
       "    .dataframe tbody tr th {\n",
       "        vertical-align: top;\n",
       "    }\n",
       "\n",
       "    .dataframe thead th {\n",
       "        text-align: right;\n",
       "    }\n",
       "</style>\n",
       "<table border=\"1\" class=\"dataframe\">\n",
       "  <thead>\n",
       "    <tr style=\"text-align: right;\">\n",
       "      <th></th>\n",
       "      <th>Month</th>\n",
       "      <th>Count</th>\n",
       "    </tr>\n",
       "  </thead>\n",
       "  <tbody>\n",
       "    <tr>\n",
       "      <th>5</th>\n",
       "      <td>1</td>\n",
       "      <td>16008</td>\n",
       "    </tr>\n",
       "    <tr>\n",
       "      <th>8</th>\n",
       "      <td>2</td>\n",
       "      <td>12852</td>\n",
       "    </tr>\n",
       "    <tr>\n",
       "      <th>6</th>\n",
       "      <td>3</td>\n",
       "      <td>15709</td>\n",
       "    </tr>\n",
       "    <tr>\n",
       "      <th>7</th>\n",
       "      <td>4</td>\n",
       "      <td>15279</td>\n",
       "    </tr>\n",
       "    <tr>\n",
       "      <th>4</th>\n",
       "      <td>5</td>\n",
       "      <td>17493</td>\n",
       "    </tr>\n",
       "    <tr>\n",
       "      <th>2</th>\n",
       "      <td>6</td>\n",
       "      <td>18468</td>\n",
       "    </tr>\n",
       "    <tr>\n",
       "      <th>0</th>\n",
       "      <td>7</td>\n",
       "      <td>18898</td>\n",
       "    </tr>\n",
       "    <tr>\n",
       "      <th>3</th>\n",
       "      <td>8</td>\n",
       "      <td>18110</td>\n",
       "    </tr>\n",
       "    <tr>\n",
       "      <th>1</th>\n",
       "      <td>9</td>\n",
       "      <td>18632</td>\n",
       "    </tr>\n",
       "    <tr>\n",
       "      <th>9</th>\n",
       "      <td>10</td>\n",
       "      <td>5507</td>\n",
       "    </tr>\n",
       "  </tbody>\n",
       "</table>\n",
       "</div>"
      ],
      "text/plain": [
       "   Month  Count\n",
       "5      1  16008\n",
       "8      2  12852\n",
       "6      3  15709\n",
       "7      4  15279\n",
       "4      5  17493\n",
       "2      6  18468\n",
       "0      7  18898\n",
       "3      8  18110\n",
       "1      9  18632\n",
       "9     10   5507"
      ]
     },
     "execution_count": 20,
     "metadata": {},
     "output_type": "execute_result"
    }
   ],
   "source": [
    "#Check if the test set contains data from the full year\n",
    "chicago_test.loc[:, \"date\"].dt.month. \\\n",
    "                                value_counts(). \\\n",
    "                                reset_index(). \\\n",
    "                                rename(columns={\"index\":\"Month\", \"date\":\"Count\"}). \\\n",
    "                                sort_values(by = \"Month\")"
   ]
  },
  {
   "cell_type": "markdown",
   "id": "2b4e2768",
   "metadata": {},
   "source": [
    "# Data Exploration and Cleaning"
   ]
  },
  {
   "cell_type": "code",
   "execution_count": 22,
   "id": "88b517e3",
   "metadata": {},
   "outputs": [
    {
     "data": {
      "text/plain": [
       "unique_key                  0\n",
       "date                        0\n",
       "primary_type                0\n",
       "location_description     7844\n",
       "arrest                      0\n",
       "domestic                    0\n",
       "year                        0\n",
       "latitude                26843\n",
       "longitude               26843\n",
       "district_name             218\n",
       "community_name            218\n",
       "dtype: int64"
      ]
     },
     "execution_count": 22,
     "metadata": {},
     "output_type": "execute_result"
    }
   ],
   "source": [
    "#Check the total number of missing values for each variable\n",
    "chicago_train.isnull().sum()"
   ]
  },
  {
   "cell_type": "code",
   "execution_count": 21,
   "id": "c07028a1",
   "metadata": {},
   "outputs": [],
   "source": [
    "#Check to make sure there are no duplicate incidents based on the \"unique key\" variable\n",
    "assert len(chicago_train[\"unique_key\"].unique()) == chicago_train.shape[0]"
   ]
  },
  {
   "cell_type": "markdown",
   "id": "89c1f39d",
   "metadata": {},
   "source": [
    "### Cleaning Primary Type Variable"
   ]
  },
  {
   "cell_type": "code",
   "execution_count": 23,
   "id": "01f3e147",
   "metadata": {},
   "outputs": [
    {
     "data": {
      "text/plain": [
       "0"
      ]
     },
     "execution_count": 23,
     "metadata": {},
     "output_type": "execute_result"
    }
   ],
   "source": [
    "#Quick reference on the number of missing values\n",
    "chicago_train[\"primary_type\"].isnull().sum()"
   ]
  },
  {
   "cell_type": "code",
   "execution_count": 10,
   "id": "f374bc1a",
   "metadata": {},
   "outputs": [
    {
     "data": {
      "text/plain": [
       "THEFT                                636007\n",
       "BATTERY                              512318\n",
       "CRIMINAL DAMAGE                      299943\n",
       "NARCOTICS                            222406\n",
       "ASSAULT                              189549\n",
       "OTHER OFFENSE                        171368\n",
       "DECEPTIVE PRACTICE                   167709\n",
       "BURGLARY                             152532\n",
       "MOTOR VEHICLE THEFT                  120013\n",
       "ROBBERY                              108092\n",
       "CRIMINAL TRESPASS                     69971\n",
       "WEAPONS VIOLATION                     45871\n",
       "OFFENSE INVOLVING CHILDREN            23359\n",
       "PUBLIC PEACE VIOLATION                21829\n",
       "PROSTITUTION                          12438\n",
       "CRIM SEXUAL ASSAULT                   12334\n",
       "INTERFERENCE WITH PUBLIC OFFICER      11793\n",
       "SEX OFFENSE                           10771\n",
       "HOMICIDE                               5669\n",
       "ARSON                                  4482\n",
       "GAMBLING                               3507\n",
       "LIQUOR LAW VIOLATION                   3407\n",
       "CRIMINAL SEXUAL ASSAULT                2516\n",
       "KIDNAPPING                             2008\n",
       "STALKING                               1837\n",
       "INTIMIDATION                           1476\n",
       "CONCEALED CARRY LICENSE VIOLATION       668\n",
       "OBSCENITY                               516\n",
       "NON-CRIMINAL                            169\n",
       "PUBLIC INDECENCY                        118\n",
       "HUMAN TRAFFICKING                        69\n",
       "OTHER NARCOTIC VIOLATION                 61\n",
       "NON - CRIMINAL                           38\n",
       "NON-CRIMINAL (SUBJECT SPECIFIED)          9\n",
       "RITUALISM                                 1\n",
       "Name: primary_type, dtype: int64"
      ]
     },
     "execution_count": 10,
     "metadata": {},
     "output_type": "execute_result"
    }
   ],
   "source": [
    "#Examine the different crime types listed\n",
    "chicago_train[\"primary_type\"].value_counts()"
   ]
  },
  {
   "cell_type": "markdown",
   "id": "9513c280",
   "metadata": {},
   "source": [
    "It appears \"CRIM SEXUAL ASSAULT\" should be merged into \"CRIMINAL SEXUAL ASSAULT\". We'll also merge the three various \"Non-criminal\" categories into one category. We'll do the same thing for the \"OTHER NARCOTIC VIOLATION\" category. Finally, we'll move \"RITUALISM\" into the \"OTHER\" since it has only one occurence. Let's collect all of these changes into one function. "
   ]
  },
  {
   "cell_type": "code",
   "execution_count": 11,
   "id": "36f5ac4e",
   "metadata": {},
   "outputs": [],
   "source": [
    "def crime_type_cleaner(df):\n",
    "    \"\"\"\n",
    "    This function cleans the primary_type column in place. \n",
    "    \n",
    "    df: DataFrame with primary_type column\n",
    "    \n",
    "    returns: None\n",
    "    \"\"\"\n",
    "    df.loc[:, \"primary_type\"].replace([\"CRIM SEXUAL ASSAULT\"], \"CRIMINAL SEXUAL ASSAULT\", inplace = True)\n",
    "\n",
    "    df.loc[:, \"primary_type\"].replace([\"OTHER NARCOTIC VIOLATION\"], \"NARCOTICS\", inplace = True)\n",
    "\n",
    "    df.loc[:, \"primary_type\"].replace([\"NON - CRIMINAL\", \"NON-CRIMINAL (SUBJECT SPECIFIED)\"], \"NON-CRIMINAL\", inplace = True)\n",
    "\n",
    "    df.loc[:, \"primary_type\"].replace([\"RITUALISM\"], \"OTHER OFFENSE\", inplace = True)\n",
    "   "
   ]
  },
  {
   "cell_type": "code",
   "execution_count": 29,
   "id": "25bf8d07",
   "metadata": {},
   "outputs": [
    {
     "data": {
      "text/plain": [
       "THEFT                                636007\n",
       "BATTERY                              512318\n",
       "CRIMINAL DAMAGE                      299943\n",
       "NARCOTICS                            222467\n",
       "ASSAULT                              189549\n",
       "OTHER OFFENSE                        171369\n",
       "DECEPTIVE PRACTICE                   167709\n",
       "BURGLARY                             152532\n",
       "MOTOR VEHICLE THEFT                  120013\n",
       "ROBBERY                              108092\n",
       "CRIMINAL TRESPASS                     69971\n",
       "WEAPONS VIOLATION                     45871\n",
       "OFFENSE INVOLVING CHILDREN            23359\n",
       "PUBLIC PEACE VIOLATION                21829\n",
       "CRIMINAL SEXUAL ASSAULT               14850\n",
       "PROSTITUTION                          12438\n",
       "INTERFERENCE WITH PUBLIC OFFICER      11793\n",
       "SEX OFFENSE                           10771\n",
       "HOMICIDE                               5669\n",
       "ARSON                                  4482\n",
       "GAMBLING                               3507\n",
       "LIQUOR LAW VIOLATION                   3407\n",
       "KIDNAPPING                             2008\n",
       "STALKING                               1837\n",
       "INTIMIDATION                           1476\n",
       "CONCEALED CARRY LICENSE VIOLATION       668\n",
       "OBSCENITY                               516\n",
       "NON-CRIMINAL                            216\n",
       "PUBLIC INDECENCY                        118\n",
       "HUMAN TRAFFICKING                        69\n",
       "Name: primary_type, dtype: int64"
      ]
     },
     "execution_count": 29,
     "metadata": {},
     "output_type": "execute_result"
    }
   ],
   "source": [
    "#Clean the primary type variable\n",
    "crime_type_cleaner(chicago_train)\n",
    "#Check the cleaned variable\n",
    "chicago_train[\"primary_type\"].value_counts()"
   ]
  },
  {
   "cell_type": "markdown",
   "id": "1609917f",
   "metadata": {},
   "source": [
    "### Cleaning Location Description Variable"
   ]
  },
  {
   "cell_type": "code",
   "execution_count": 13,
   "id": "db585ad2",
   "metadata": {},
   "outputs": [
    {
     "data": {
      "text/plain": [
       "7844"
      ]
     },
     "execution_count": 13,
     "metadata": {},
     "output_type": "execute_result"
    }
   ],
   "source": [
    "#Check the number of missing values\n",
    "chicago_train[\"location_description\"].isnull().sum()"
   ]
  },
  {
   "cell_type": "code",
   "execution_count": 14,
   "id": "53a039d2",
   "metadata": {},
   "outputs": [
    {
     "data": {
      "text/html": [
       "<div>\n",
       "<style scoped>\n",
       "    .dataframe tbody tr th:only-of-type {\n",
       "        vertical-align: middle;\n",
       "    }\n",
       "\n",
       "    .dataframe tbody tr th {\n",
       "        vertical-align: top;\n",
       "    }\n",
       "\n",
       "    .dataframe thead th {\n",
       "        text-align: right;\n",
       "    }\n",
       "</style>\n",
       "<table border=\"1\" class=\"dataframe\">\n",
       "  <thead>\n",
       "    <tr style=\"text-align: right;\">\n",
       "      <th></th>\n",
       "      <th>unique_key</th>\n",
       "      <th>date</th>\n",
       "      <th>primary_type</th>\n",
       "      <th>location_description</th>\n",
       "      <th>arrest</th>\n",
       "      <th>domestic</th>\n",
       "      <th>year</th>\n",
       "      <th>latitude</th>\n",
       "      <th>longitude</th>\n",
       "      <th>district_name</th>\n",
       "      <th>community_name</th>\n",
       "    </tr>\n",
       "  </thead>\n",
       "  <tbody>\n",
       "    <tr>\n",
       "      <th>192</th>\n",
       "      <td>10625982</td>\n",
       "      <td>2015-08-01 16:20:00+00:00</td>\n",
       "      <td>DECEPTIVE PRACTICE</td>\n",
       "      <td>NaN</td>\n",
       "      <td>False</td>\n",
       "      <td>False</td>\n",
       "      <td>2015</td>\n",
       "      <td>NaN</td>\n",
       "      <td>NaN</td>\n",
       "      <td>Far North</td>\n",
       "      <td>NORTH PARK</td>\n",
       "    </tr>\n",
       "    <tr>\n",
       "      <th>285</th>\n",
       "      <td>12185129</td>\n",
       "      <td>2020-09-28 21:37:00+00:00</td>\n",
       "      <td>DECEPTIVE PRACTICE</td>\n",
       "      <td>NaN</td>\n",
       "      <td>False</td>\n",
       "      <td>False</td>\n",
       "      <td>2020</td>\n",
       "      <td>41.987639</td>\n",
       "      <td>-87.710214</td>\n",
       "      <td>Far North</td>\n",
       "      <td>NORTH PARK</td>\n",
       "    </tr>\n",
       "    <tr>\n",
       "      <th>2019</th>\n",
       "      <td>11489624</td>\n",
       "      <td>2018-10-26 15:05:00+00:00</td>\n",
       "      <td>DECEPTIVE PRACTICE</td>\n",
       "      <td>NaN</td>\n",
       "      <td>False</td>\n",
       "      <td>False</td>\n",
       "      <td>2018</td>\n",
       "      <td>41.994360</td>\n",
       "      <td>-87.723939</td>\n",
       "      <td>Far North</td>\n",
       "      <td>NORTH PARK</td>\n",
       "    </tr>\n",
       "    <tr>\n",
       "      <th>2034</th>\n",
       "      <td>12018775</td>\n",
       "      <td>2020-03-26 14:00:00+00:00</td>\n",
       "      <td>DECEPTIVE PRACTICE</td>\n",
       "      <td>NaN</td>\n",
       "      <td>False</td>\n",
       "      <td>False</td>\n",
       "      <td>2020</td>\n",
       "      <td>41.974920</td>\n",
       "      <td>-87.706215</td>\n",
       "      <td>Far North</td>\n",
       "      <td>NORTH PARK</td>\n",
       "    </tr>\n",
       "    <tr>\n",
       "      <th>2042</th>\n",
       "      <td>10596491</td>\n",
       "      <td>2016-06-16 13:00:00+00:00</td>\n",
       "      <td>DECEPTIVE PRACTICE</td>\n",
       "      <td>NaN</td>\n",
       "      <td>False</td>\n",
       "      <td>False</td>\n",
       "      <td>2016</td>\n",
       "      <td>41.985369</td>\n",
       "      <td>-87.712605</td>\n",
       "      <td>Far North</td>\n",
       "      <td>NORTH PARK</td>\n",
       "    </tr>\n",
       "    <tr>\n",
       "      <th>...</th>\n",
       "      <td>...</td>\n",
       "      <td>...</td>\n",
       "      <td>...</td>\n",
       "      <td>...</td>\n",
       "      <td>...</td>\n",
       "      <td>...</td>\n",
       "      <td>...</td>\n",
       "      <td>...</td>\n",
       "      <td>...</td>\n",
       "      <td>...</td>\n",
       "      <td>...</td>\n",
       "    </tr>\n",
       "    <tr>\n",
       "      <th>2970607</th>\n",
       "      <td>10465221</td>\n",
       "      <td>2016-03-24 14:25:00+00:00</td>\n",
       "      <td>DECEPTIVE PRACTICE</td>\n",
       "      <td>NaN</td>\n",
       "      <td>False</td>\n",
       "      <td>False</td>\n",
       "      <td>2016</td>\n",
       "      <td>41.982365</td>\n",
       "      <td>-87.662518</td>\n",
       "      <td>Far North</td>\n",
       "      <td>EDGEWATER</td>\n",
       "    </tr>\n",
       "    <tr>\n",
       "      <th>2970615</th>\n",
       "      <td>12114559</td>\n",
       "      <td>2020-07-23 11:58:00+00:00</td>\n",
       "      <td>DECEPTIVE PRACTICE</td>\n",
       "      <td>NaN</td>\n",
       "      <td>False</td>\n",
       "      <td>False</td>\n",
       "      <td>2020</td>\n",
       "      <td>41.991336</td>\n",
       "      <td>-87.656851</td>\n",
       "      <td>Far North</td>\n",
       "      <td>EDGEWATER</td>\n",
       "    </tr>\n",
       "    <tr>\n",
       "      <th>2970618</th>\n",
       "      <td>10883083</td>\n",
       "      <td>2017-03-19 11:55:00+00:00</td>\n",
       "      <td>DECEPTIVE PRACTICE</td>\n",
       "      <td>NaN</td>\n",
       "      <td>False</td>\n",
       "      <td>False</td>\n",
       "      <td>2017</td>\n",
       "      <td>NaN</td>\n",
       "      <td>NaN</td>\n",
       "      <td>Far North</td>\n",
       "      <td>EDGEWATER</td>\n",
       "    </tr>\n",
       "    <tr>\n",
       "      <th>2970632</th>\n",
       "      <td>10852091</td>\n",
       "      <td>2017-02-16 17:15:00+00:00</td>\n",
       "      <td>DECEPTIVE PRACTICE</td>\n",
       "      <td>NaN</td>\n",
       "      <td>False</td>\n",
       "      <td>False</td>\n",
       "      <td>2017</td>\n",
       "      <td>41.982755</td>\n",
       "      <td>-87.662528</td>\n",
       "      <td>Far North</td>\n",
       "      <td>EDGEWATER</td>\n",
       "    </tr>\n",
       "    <tr>\n",
       "      <th>2970635</th>\n",
       "      <td>12132604</td>\n",
       "      <td>2020-08-05 14:39:00+00:00</td>\n",
       "      <td>DECEPTIVE PRACTICE</td>\n",
       "      <td>NaN</td>\n",
       "      <td>False</td>\n",
       "      <td>False</td>\n",
       "      <td>2020</td>\n",
       "      <td>NaN</td>\n",
       "      <td>NaN</td>\n",
       "      <td>Far North</td>\n",
       "      <td>EDGEWATER</td>\n",
       "    </tr>\n",
       "  </tbody>\n",
       "</table>\n",
       "<p>7844 rows × 11 columns</p>\n",
       "</div>"
      ],
      "text/plain": [
       "         unique_key                      date        primary_type  \\\n",
       "192        10625982 2015-08-01 16:20:00+00:00  DECEPTIVE PRACTICE   \n",
       "285        12185129 2020-09-28 21:37:00+00:00  DECEPTIVE PRACTICE   \n",
       "2019       11489624 2018-10-26 15:05:00+00:00  DECEPTIVE PRACTICE   \n",
       "2034       12018775 2020-03-26 14:00:00+00:00  DECEPTIVE PRACTICE   \n",
       "2042       10596491 2016-06-16 13:00:00+00:00  DECEPTIVE PRACTICE   \n",
       "...             ...                       ...                 ...   \n",
       "2970607    10465221 2016-03-24 14:25:00+00:00  DECEPTIVE PRACTICE   \n",
       "2970615    12114559 2020-07-23 11:58:00+00:00  DECEPTIVE PRACTICE   \n",
       "2970618    10883083 2017-03-19 11:55:00+00:00  DECEPTIVE PRACTICE   \n",
       "2970632    10852091 2017-02-16 17:15:00+00:00  DECEPTIVE PRACTICE   \n",
       "2970635    12132604 2020-08-05 14:39:00+00:00  DECEPTIVE PRACTICE   \n",
       "\n",
       "        location_description  arrest  domestic  year   latitude  longitude  \\\n",
       "192                      NaN   False     False  2015        NaN        NaN   \n",
       "285                      NaN   False     False  2020  41.987639 -87.710214   \n",
       "2019                     NaN   False     False  2018  41.994360 -87.723939   \n",
       "2034                     NaN   False     False  2020  41.974920 -87.706215   \n",
       "2042                     NaN   False     False  2016  41.985369 -87.712605   \n",
       "...                      ...     ...       ...   ...        ...        ...   \n",
       "2970607                  NaN   False     False  2016  41.982365 -87.662518   \n",
       "2970615                  NaN   False     False  2020  41.991336 -87.656851   \n",
       "2970618                  NaN   False     False  2017        NaN        NaN   \n",
       "2970632                  NaN   False     False  2017  41.982755 -87.662528   \n",
       "2970635                  NaN   False     False  2020        NaN        NaN   \n",
       "\n",
       "        district_name community_name  \n",
       "192         Far North     NORTH PARK  \n",
       "285         Far North     NORTH PARK  \n",
       "2019        Far North     NORTH PARK  \n",
       "2034        Far North     NORTH PARK  \n",
       "2042        Far North     NORTH PARK  \n",
       "...               ...            ...  \n",
       "2970607     Far North      EDGEWATER  \n",
       "2970615     Far North      EDGEWATER  \n",
       "2970618     Far North      EDGEWATER  \n",
       "2970632     Far North      EDGEWATER  \n",
       "2970635     Far North      EDGEWATER  \n",
       "\n",
       "[7844 rows x 11 columns]"
      ]
     },
     "execution_count": 14,
     "metadata": {},
     "output_type": "execute_result"
    }
   ],
   "source": [
    "#Look at which rows are missing\n",
    "chicago_train.loc[chicago_train[\"location_description\"].isnull()]"
   ]
  },
  {
   "cell_type": "markdown",
   "id": "9e0dacc4",
   "metadata": {},
   "source": [
    "Looks like there might be some relationship between the missing locations and the type of crime committed. Let's further explore this. "
   ]
  },
  {
   "cell_type": "code",
   "execution_count": 36,
   "id": "e136dbf7",
   "metadata": {
    "scrolled": false
   },
   "outputs": [
    {
     "data": {
      "text/plain": [
       "DECEPTIVE PRACTICE                   7124\n",
       "THEFT                                 704\n",
       "BURGLARY                                5\n",
       "ROBBERY                                 4\n",
       "BATTERY                                 2\n",
       "CRIMINAL DAMAGE                         2\n",
       "OTHER OFFENSE                           1\n",
       "ARSON                                   1\n",
       "CRIMINAL SEXUAL ASSAULT                 1\n",
       "SEX OFFENSE                             0\n",
       "NON-CRIMINAL                            0\n",
       "RITUALISM                               0\n",
       "PUBLIC PEACE VIOLATION                  0\n",
       "PUBLIC INDECENCY                        0\n",
       "PROSTITUTION                            0\n",
       "STALKING                                0\n",
       "OTHER NARCOTIC VIOLATION                0\n",
       "OFFENSE INVOLVING CHILDREN              0\n",
       "OBSCENITY                               0\n",
       "NON-CRIMINAL (SUBJECT SPECIFIED)        0\n",
       "MOTOR VEHICLE THEFT                     0\n",
       "NON - CRIMINAL                          0\n",
       "NARCOTICS                               0\n",
       "ASSAULT                                 0\n",
       "LIQUOR LAW VIOLATION                    0\n",
       "KIDNAPPING                              0\n",
       "INTIMIDATION                            0\n",
       "INTERFERENCE WITH PUBLIC OFFICER        0\n",
       "HUMAN TRAFFICKING                       0\n",
       "HOMICIDE                                0\n",
       "GAMBLING                                0\n",
       "CRIMINAL TRESPASS                       0\n",
       "CRIM SEXUAL ASSAULT                     0\n",
       "CONCEALED CARRY LICENSE VIOLATION       0\n",
       "WEAPONS VIOLATION                       0\n",
       "Name: primary_type, dtype: int64"
      ]
     },
     "execution_count": 36,
     "metadata": {},
     "output_type": "execute_result"
    }
   ],
   "source": [
    "#Look at the counts of the primary type variable with the data filtered to those values of location that are missing\n",
    "chicago_train.loc[chicago_train[\"location_description\"].isnull()][\"primary_type\"].value_counts()"
   ]
  },
  {
   "cell_type": "markdown",
   "id": "3fcbc50a",
   "metadata": {},
   "source": [
    "It appears that nearly all missing values for location description have a primary type that is labeled as \"DECEPTIVE PRACTICE\". Let's see what the non-missing values for location description have for their corresponding \"DECEPTIVE PRACTICE\" values."
   ]
  },
  {
   "cell_type": "code",
   "execution_count": 24,
   "id": "700cfb14",
   "metadata": {},
   "outputs": [
    {
     "data": {
      "text/plain": [
       "RESIDENCE                54361\n",
       "APARTMENT                17232\n",
       "OTHER                    16680\n",
       "STREET                    8369\n",
       "BANK                      6910\n",
       "                         ...  \n",
       "PORCH                        0\n",
       "POOLROOM                     0\n",
       "EXPRESSWAY EMBANKMENT        0\n",
       "FARM                         0\n",
       "YMCA                         0\n",
       "Name: location_description, Length: 197, dtype: int64"
      ]
     },
     "execution_count": 24,
     "metadata": {},
     "output_type": "execute_result"
    }
   ],
   "source": [
    "#Create a boolean mask that filters the data to non-missing locations with a primary type of \"DECEPTIVE PRACTICE\"\n",
    "mask = (chicago_train[\"location_description\"].notnull()) & (chicago_train[\"primary_type\"] == \"DECEPTIVE PRACTICE\")\n",
    "chicago_train.loc[mask][\"location_description\"].value_counts()"
   ]
  },
  {
   "cell_type": "markdown",
   "id": "958fd417",
   "metadata": {},
   "source": [
    "Thus, it appears that the \"RESIDENCE\" location occurrs the most for non-missing \"DECEPTIVE PRACTICE\" crimes. Therefore, we can impute the missing values for location that have the corresponding crime as \"DECEPTIVE PRACTICE\" with \"RESIDENCE\".  "
   ]
  },
  {
   "cell_type": "markdown",
   "id": "4ddc45aa",
   "metadata": {},
   "source": [
    "Let's do the same process for the \"THEFT\" crime"
   ]
  },
  {
   "cell_type": "code",
   "execution_count": 23,
   "id": "de282583",
   "metadata": {},
   "outputs": [
    {
     "data": {
      "text/plain": [
       "STREET                152284\n",
       "RESIDENCE              58720\n",
       "APARTMENT              41793\n",
       "SMALL RETAIL STORE     35004\n",
       "DEPARTMENT STORE       32695\n",
       "                       ...  \n",
       "ELEVATOR                   0\n",
       "DRIVEWAY                   0\n",
       "SCHOOL YARD                0\n",
       "CTA PROPERTY               0\n",
       "YMCA                       0\n",
       "Name: location_description, Length: 197, dtype: int64"
      ]
     },
     "execution_count": 23,
     "metadata": {},
     "output_type": "execute_result"
    }
   ],
   "source": [
    "#Create a boolean mask that filters the data to non-missing locations with a primary type of \"THEFT\"\n",
    "mask = (chicago_train[\"location_description\"].notnull()) & (chicago_train[\"primary_type\"] == \"THEFT\")\n",
    "chicago_train.loc[mask][\"location_description\"].value_counts()"
   ]
  },
  {
   "cell_type": "markdown",
   "id": "a792da70",
   "metadata": {},
   "source": [
    "Now, it appears that the \"STREET\" location is the most occurring for non-missing \"THEFT\" crimes. Let's impute the missing values for location that have the corresponding crime as \"THEFT\" with \"STREET\". "
   ]
  },
  {
   "cell_type": "markdown",
   "id": "bd14c324",
   "metadata": {},
   "source": [
    "Finally, we'll collect the remaining crimes into one group due to their low counts and check what crime is most occurring for the group."
   ]
  },
  {
   "cell_type": "code",
   "execution_count": 37,
   "id": "e2cea190",
   "metadata": {},
   "outputs": [
    {
     "data": {
      "text/plain": [
       "location_description\n",
       "RESIDENCE               277616\n",
       "APARTMENT               248008\n",
       "STREET                  235210\n",
       "SIDEWALK                125040\n",
       "RESIDENCE-GARAGE         35372\n",
       "                         ...  \n",
       "PARKING LOT                  0\n",
       "CLUB                         0\n",
       "OFFICE                       0\n",
       "NURSING HOME                 0\n",
       "YMCA                         0\n",
       "Length: 197, dtype: int64"
      ]
     },
     "execution_count": 37,
     "metadata": {},
     "output_type": "execute_result"
    }
   ],
   "source": [
    "crime_type = [\"BURGLARY\", \"ROBBERY\", \"BATTERY\", \"CRIMINAL DAMAGE\", \"ARSON\", \"CRIMINAL SEXUAL ASSAULT\", \"OTHER OFFENSE\"]\n",
    "mask = (chicago_train[\"primary_type\"].isin(crime_type)) & (chicago_train[\"location_description\"].notnull())\n",
    "chicago_train.loc[mask, [\"location_description\"]].value_counts()"
   ]
  },
  {
   "cell_type": "markdown",
   "id": "4aa0f928",
   "metadata": {},
   "source": [
    "Again, it looks like \"RESIDENCE\" is the most occuring location for the group of crimes when location is not missing. Thus, we can impute the missing location values for the group of crimes as \"RESIDENCE\". "
   ]
  },
  {
   "cell_type": "markdown",
   "id": "40d673fa",
   "metadata": {},
   "source": [
    "We'll collect all of these missing value imputations into one function"
   ]
  },
  {
   "cell_type": "code",
   "execution_count": 38,
   "id": "9c93e3fa",
   "metadata": {},
   "outputs": [],
   "source": [
    "def location_imputer(df):\n",
    "    \"\"\"\n",
    "    This function imputes missing values in the location_description column by setting the missing value to the value that \n",
    "    occurs most in the primary_type column in place\n",
    "    \n",
    "    df: DataFrame that contains the location_description column\n",
    "    \n",
    "    returns: None\n",
    "    \"\"\"\n",
    "    mask = (df.loc[:, \"primary_type\"] == \"DECEPTIVE PRACTICE\") & (df.loc[:, \"location_description\"].isnull())\n",
    "    df.loc[mask, [\"location_description\"]] = \"RESIDENCE\"\n",
    "    \n",
    "    mask = (df.loc[:, \"primary_type\"] == \"THEFT\") & (df.loc[:, \"location_description\"].isnull())\n",
    "    df.loc[mask, [\"location_description\"]] = \"STREET\"\n",
    "    \n",
    "    crime_type = [\"BURGLARY\", \"ROBBERY\", \"BATTERY\", \"CRIMINAL DAMAGE\", \"ARSON\", \"CRIMINAL SEXUAL ASSAULT\", \"OTHER OFFENSE\"]\n",
    "    mask = (df.loc[:, \"primary_type\"].isin(crime_type)) & (df.loc[:, \"location_description\"].isnull())\n",
    "    df.loc[mask, [\"location_description\"]] = \"RESIDENCE\"\n",
    "    "
   ]
  },
  {
   "cell_type": "code",
   "execution_count": 40,
   "id": "d7c2a723",
   "metadata": {},
   "outputs": [
    {
     "data": {
      "text/plain": [
       "0"
      ]
     },
     "execution_count": 40,
     "metadata": {},
     "output_type": "execute_result"
    }
   ],
   "source": [
    "#Impute the missing values\n",
    "location_imputer(chicago_train)\n",
    "#Check that there are no missing values\n",
    "chicago_train[\"location_description\"].isnull().sum()"
   ]
  },
  {
   "cell_type": "markdown",
   "id": "f1034df2",
   "metadata": {},
   "source": [
    "Now we can examine the different locations"
   ]
  },
  {
   "cell_type": "code",
   "execution_count": 64,
   "id": "4f61bdcf",
   "metadata": {},
   "outputs": [
    {
     "data": {
      "text/plain": [
       "STREET               639494\n",
       "RESIDENCE            634663\n",
       "APARTMENT            366599\n",
       "SIDEWALK             277648\n",
       "STORE                174996\n",
       "OTHER                110876\n",
       "PARKING               88353\n",
       "RESTAURANT            74485\n",
       "SCHOOL                64492\n",
       "ALLEY                 59376\n",
       "VEHICLE               57290\n",
       "CTA                   57042\n",
       "GAS STATION           33424\n",
       "PARK PROPERTY         21477\n",
       "BANK                  20019\n",
       "OFFICE                19074\n",
       "HOSPITAL              18387\n",
       "BUILDING              16748\n",
       "HOTEL                 13006\n",
       "AIRPORT               12855\n",
       "VACANT                11034\n",
       "POLICE                10114\n",
       "CHA                    9771\n",
       "SPORTS                 7598\n",
       "CHURCH                 6033\n",
       "CONSTRUCTION SITE      3427\n",
       "LIBRARY                2511\n",
       "COLLEGE                2469\n",
       "WATER                  1593\n",
       "Name: location_description, dtype: int64"
      ]
     },
     "execution_count": 64,
     "metadata": {},
     "output_type": "execute_result"
    }
   ],
   "source": [
    "#Take a look at the different categories in the location description variable\n",
    "pd.set_option(\"display.max_rows\", None)\n",
    "chicago_train[\"location_description\"].value_counts()[:30]"
   ]
  },
  {
   "cell_type": "markdown",
   "id": "0a1fb362",
   "metadata": {},
   "source": [
    "Clearly, there are too many categories, 197, to be used in a model with most variables having very few occurrences. Let's see if we can't combine some of the similar values into one category. For instance, there are numerous different ways to break down Chicago Transit Authority (CTA) which can all be combined into one CTA category"
   ]
  },
  {
   "cell_type": "code",
   "execution_count": 51,
   "id": "0ec38d48",
   "metadata": {},
   "outputs": [
    {
     "data": {
      "text/plain": [
       "CTA TRAIN                                    15906\n",
       "CTA PLATFORM                                 12793\n",
       "CTA BUS                                      11066\n",
       "CTA BUS STOP                                  6331\n",
       "CTA STATION                                   5767\n",
       "CTA GARAGE / OTHER PROPERTY                   4863\n",
       "CTA TRACKS - RIGHT OF WAY                      168\n",
       "CTA PARKING LOT / GARAGE / OTHER PROPERTY      137\n",
       "CTA \"L\" PLATFORM                                 6\n",
       "CTA PROPERTY                                     3\n",
       "CTA SUBWAY STATION                               1\n",
       "CTA \"L\" TRAIN                                    1\n",
       "POLICE FACILITY/VEH PARKING LOT                  0\n",
       "POLICE FACILITY / VEHICLE PARKING LOT            0\n",
       "PAWN SHOP                                        0\n",
       "PARKING LOT/GARAGE(NON.RESID.)                   0\n",
       "PARKING LOT / GARAGE (NON RESIDENTIAL)           0\n",
       "ABANDONED BUILDING                               0\n",
       "HOTEL/MOTEL                                      0\n",
       "POOL ROOM                                        0\n",
       "Name: location_description, dtype: int64"
      ]
     },
     "execution_count": 51,
     "metadata": {},
     "output_type": "execute_result"
    }
   ],
   "source": [
    "chicago_train.loc[chicago_train[\"location_description\"].str.contains(\"CTA\")][\"location_description\"].value_counts()[:20]"
   ]
  },
  {
   "cell_type": "markdown",
   "id": "e113b3f4",
   "metadata": {},
   "source": [
    "We'll do this process of combining categories by putting them all into one function"
   ]
  },
  {
   "cell_type": "code",
   "execution_count": 54,
   "id": "1c987fec",
   "metadata": {},
   "outputs": [],
   "source": [
    "def location_cleaner(df):\n",
    "    \"\"\"\n",
    "    This function cleans the location_description by merging categories together that are logically related in place.\n",
    "    \n",
    "    df: DataFrame that contains the location_description column\n",
    "    \n",
    "    returns: None\n",
    "    \"\"\"\n",
    "\n",
    "    #Combine all values related to CTA\n",
    "    CTA = [\"CTA TRAIN\", \"CTA PLATFORM\", \"CTA BUS\", \"CTA BUS STOP\", \"CTA STATION\", \"CTA GARAGE / OTHER PROPERTY\", \n",
    "           \"CTA TRACKS - RIGHT OF WAY\", \"CTA PARKING LOT / GARAGE / OTHER PROPERTY\", \"\"\"CTA \"L\" PLATFORM\"\"\",\n",
    "          \"CTA PROPERTY\", \"\"\"CTA \"L\" TRAIN\"\"\", \"CTA SUBWAY STATION\"]\n",
    "    df[\"location_description\"].replace(CTA, \"CTA\", inplace = True)\n",
    "\n",
    "    #Combine GANGWAY into ALLEY\n",
    "    df[\"location_description\"].replace([\"GANGWAY\"], \"ALLEY\", inplace = True)\n",
    "\n",
    "    #Combine all values related to Sports/Clubs\n",
    "    sports = [\"ATHLETIC CLUB\", \"SPORTS ARENA/STADIUM\", \"SPORTS ARENA / STADIUM\", \"CLUB\"]\n",
    "    df[\"location_description\"].replace(sports, \"SPORTS\", inplace = True)\n",
    "\n",
    "    #Combine all values related to VACANT\n",
    "    vacant = [\"VACANT LOT/LAND\", \"VACANT LOT / LAND\", \"VACANT LOT\"]\n",
    "    df[\"location_description\"].replace(vacant, \"VACANT\", inplace = True)\n",
    "\n",
    "    #Combine the two Gas Station values\n",
    "    df[\"location_description\"].replace([\"GAS STATION DRIVE/PROP.\"], \"GAS STATION\", inplace = True)\n",
    "\n",
    "    #Combine all values related to Water/River/Lake\n",
    "    water = [\"LAKEFRONT/WATERFRONT/RIVERBANK\", \"POOL ROOM\", \"BOAT/WATERCRAFT\", \"LAKEFRONT / WATERFRONT / RIVERBANK\", \n",
    "             \"BOAT / WATERCRAFT\", \"RIVER BANK\", \"POOLROOM\", \"LAKE\", \"LAGOON\"]\n",
    "    df[\"location_description\"].replace(water, \"WATER\", inplace = True)\n",
    "\n",
    "    #Combine all values related to Banks/Credit Unions\n",
    "    bank = [\"ATM (AUTOMATIC TELLER MACHINE)\", \"CURRENCY EXCHANGE\", \"CREDIT UNION\", \"SAVINGS AND LOAN\"]\n",
    "    df[\"location_description\"].replace(bank, \"BANK\", inplace = True)\n",
    "\n",
    "    #Combine all values related to Roads/Streets/Highway\n",
    "    street = [\"HIGHWAY/EXPRESSWAY\", \"BRIDGE\", \"HIGHWAY / EXPRESSWAY\", \"EXPRESSWAY EMBANKMENT\"]\n",
    "    df[\"location_description\"].replace(street, \"STREET\", inplace = True)\n",
    "\n",
    "    #Combine all values related to Residence/Houses or items inside a House\n",
    "    residence = [\"RESIDENCE PORCH/HALLWAY\", \"RESIDENCE-GARAGE\", \"RESIDENCE - YARD (FRONT / BACK)\", \"RESIDENCE - PORCH / HALLWAY\", \n",
    "           \"RESIDENCE - GARAGE\", \"RESIDENTIAL YARD (FRONT/BACK)\", \"HOUSE\", \"ROOMING HOUSE\", \"PORCH\", \"YARD\", \"HALLWAY\", \"GARAGE\",\n",
    "          \"VESTIBULE\", \"STAIRWELL\", \"BASEMENT\", \"LAUNDRY ROOM\", \"DRIVEWAY\", \"DRIVEWAY - RESIDENTIAL\"]\n",
    "    df[\"location_description\"].replace(residence, \"RESIDENCE\", inplace = True)\n",
    "\n",
    "    #Combine all values related to College\n",
    "    college = [\"COLLEGE/UNIVERSITY GROUNDS\", \"COLLEGE/UNIVERSITY RESIDENCE HALL\", \"COLLEGE / UNIVERSITY - GROUNDS\", \n",
    "           \"COLLEGE / UNIVERSITY - RESIDENCE HALL\"]\n",
    "    df[\"location_description\"].replace(college, \"COLLEGE\", inplace = True)\n",
    "\n",
    "    #Combine all values related to CTA into one CTA category\n",
    "    veh = [\"VEHICLE NON-COMMERCIAL\", \"VEHICLE-COMMERCIAL\", \"VEHICLE - OTHER RIDE SHARE SERVICE (E.G., UBER, LYFT)\", \n",
    "           \"VEHICLE - OTHER RIDE SERVICE\", \"VEHICLE - DELIVERY TRUCK\", \"VEHICLE - OTHER RIDE SHARE SERVICE (LYFT, UBER, ETC.)\", \n",
    "           \"VEHICLE - COMMERCIAL\", \"VEHICLE-COMMERCIAL - TROLLEY BUS\", \"VEHICLE-COMMERCIAL - ENTERTAINMENT/PARTY BUS\", \n",
    "           \"VEHICLE - COMMERCIAL: TROLLEY BUS\", \"VEHICLE - COMMERCIAL: ENTERTAINMENT / PARTY BUS\", \"TAXICAB\", \"\",\n",
    "          \"AUTO / BOAT / RV DEALERSHIP\", \"AUTO\", \"DELIVERY TRUCK\", \"GARAGE/AUTO REPAIR\", \"TAXI CAB\", \"TRUCK\", \"TRAILER\"]\n",
    "    df[\"location_description\"].replace(veh, \"VEHICLE\", inplace = True)\n",
    "\n",
    "    #Combine all values related to Police/Fire Station/Protection\n",
    "    police = [\"POLICE FACILITY/VEH PARKING LOT\", \"POLICE FACILITY / VEHICLE PARKING LOT\", \"JAIL / LOCK-UP FACILITY\",\n",
    "             \"FIRE STATION\", \"FOREST PRESERVE\"]\n",
    "    df[\"location_description\"].replace(police, \"POLICE\", inplace = True)\n",
    "\n",
    "    #Combine all values related to Parking\n",
    "    parking = [\"PARKING LOT/GARAGE(NON.RESID.)\", \"CHA PARKING LOT/GROUNDS\", \"PARKING LOT / GARAGE (NON RESIDENTIAL)\", \n",
    "            \"CHA PARKING LOT / GROUNDS\", \"PARKING LOT\", \"CHA PARKING LOT\"]\n",
    "    df[\"location_description\"].replace(parking, \"PARKING\", inplace = True)\n",
    "\n",
    "    #Combine all values related to Airports\n",
    "    air = [\"AIRPORT TERMINAL UPPER LEVEL - SECURE AREA\", \"AIRPORT TERMINAL LOWER LEVEL - NON-SECURE AREA\", \n",
    "           \"AIRPORT BUILDING NON-TERMINAL - NON-SECURE AREA\", \"AIRPORT VENDING ESTABLISHMENT\", \"AIRPORT/AIRCRAFT\", \"AIRCRAFT\", \n",
    "           \"AIRPORT PARKING LOT\", \"AIRPORT EXTERIOR - NON-SECURE AREA\", \"AIRPORT TERMINAL LOWER LEVEL - SECURE AREA\", \n",
    "           \"AIRPORT BUILDING NON-TERMINAL - SECURE AREA\", \"AIRPORT EXTERIOR - SECURE AREA\", \"AIRPORT TRANSPORTATION SYSTEM (ATS)\",\n",
    "           \"AIRPORT TERMINAL MEZZANINE - NON-SECURE AREA\", \"AIRPORT TERMINAL UPPER LEVEL - NON-SECURE AREA\"]\n",
    "    df[\"location_description\"].replace(air, \"AIRPORT\", inplace = True)\n",
    "\n",
    "    #Combine all values related to School/Day Care\n",
    "    school = [\"SCHOOL, PUBLIC, BUILDING\", \"SCHOOL, PUBLIC, GROUNDS\", \"SCHOOL - PUBLIC BUILDING\", \"SCHOOL - PUBLIC GROUNDS\", \n",
    "              \"PUBLIC HIGH SCHOOL\", \"SCHOOL, PRIVATE, BUILDING\", \"SCHOOL, PRIVATE, GROUNDS\", \"SCHOOL - PRIVATE BUILDING\", \n",
    "              \"SCHOOL - PRIVATE GROUNDS\", \"SCHOOL YARD\", \"DAY CARE CENTER\"]\n",
    "    df[\"location_description\"].replace(school, \"SCHOOL\", inplace = True)\n",
    "\n",
    "    #Combine all values related to Bar/Tavern/Restaurant\n",
    "    restaurant = [\"BAR OR TAVERN\", \"TAVERN\"]\n",
    "    df[\"location_description\"].replace(restaurant, \"RESTAURANT\", inplace = True)\n",
    "\n",
    "    #Combine all values related to stores\n",
    "    store = [\"SMALL RETAIL STORE\", \"DEPARTMENT STORE\", \"GROCERY FOOD STORE\", \"CONVENIENCE STORE\", \"DRUG STORE\", \n",
    "             \"TAVERN/LIQUOR STORE\", \"CLEANING STORE\", \"APPLIANCE STORE\", \"TAVERN / LIQUOR STORE\", \"RETAIL STORE\", \n",
    "             \"LIQUOR STORE\", \"NEWSSTAND\", \"PAWN SHOP\", \"MOVIE HOUSE/THEATER\", \"MOVIE HOUSE / THEATER\", \"BARBERSHOP\", \n",
    "             \"CAR WASH\", \"COIN OPERATED MACHINE\", \"BOWLING ALLEY\",\"KENNEL\", \"BARBER SHOP/BEAUTY SALON\", \"CLEANERS/LAUNDROMAT\"]\n",
    "    df[\"location_description\"].replace(store, \"STORE\", inplace = True)\n",
    "\n",
    "    #Combine all values related to hospitals or nursing homes\n",
    "    hos = [\"HOSPITAL BUILDING/GROUNDS\", \"HOSPITAL BUILDING / GROUNDS\", \"ANIMAL HOSPITAL\", \"NURSING HOME/RETIREMENT HOME\", \n",
    "           \"NURSING / RETIREMENT HOME\", \"NURSING HOME\"]\n",
    "    df[\"location_description\"].replace(hos, \"HOSPITAL\", inplace = True)\n",
    "\n",
    "    #Combine all values related to hotels/motels\n",
    "    hotel = [\"HOTEL/MOTEL\", \"HOTEL / MOTEL\", \"MOTEL\"]\n",
    "    df[\"location_description\"].replace(hotel, \"HOTEL\", inplace = True)\n",
    "\n",
    "    #Combine all values related to offices\n",
    "    office = [\"COMMERCIAL / BUSINESS OFFICE\", \"MEDICAL/DENTAL OFFICE\", \"MEDICAL / DENTAL OFFICE\"]\n",
    "    df[\"location_description\"].replace(office, \"OFFICE\", inplace = True)\n",
    "\n",
    "    #Combine all values related to buildings\n",
    "    building = [\"ABANDONED BUILDING\", \"GOVERNMENT BUILDING/PROPERTY\", \"FACTORY/MANUFACTURING BUILDING\", \n",
    "                \"GOVERNMENT BUILDING / PROPERTY\", \"FEDERAL BUILDING\", \"FACTORY / MANUFACTURING BUILDING\", \"GOVERNMENT BUILDING\",\n",
    "               \"WAREHOUSE\", \"ELEVATOR\", \"YMCA\"]\n",
    "    df[\"location_description\"].replace(building, \"BUILDING\", inplace = True)\n",
    "\n",
    "    #Combine all values related to Chicago Housing Authority (CHA)\n",
    "    cha = [\"CHA APARTMENT\", \"CHA HALLWAY/STAIRWELL/ELEVATOR\", \"CHA HALLWAY / STAIRWELL / ELEVATOR\", \"CHA GROUNDS\", \n",
    "           \"CHA PLAY LOT\", \"CHA HALLWAY\", \"CHA ELEVATOR\"]\n",
    "    df[\"location_description\"].replace(cha, \"CHA\", inplace = True)\n",
    "\n",
    "    #Combine all values related to Church\n",
    "    church = [\"CHURCH/SYNAGOGUE/PLACE OF WORSHIP\", \"CHURCH / SYNAGOGUE / PLACE OF WORSHIP\", \"CHURCH PROPERTY\"]\n",
    "    df[\"location_description\"].replace(church, \"CHURCH\", inplace = True)\n",
    "\n",
    "    #Combine all other miscellaneous vaules\n",
    "    other = [\"OTHER (SPECIFY)\", \"OTHER RAILROAD PROP / TRAIN DEPOT\", \"OTHER COMMERCIAL TRANSPORTATION\", \n",
    "             \"OTHER RAILROAD PROPERTY / TRAIN DEPOT\", \"CEMETARY\", \"FARM\", \"HORSE STABLE\", \"RAILROAD PROPERTY\",\n",
    "             \"WOODED AREA\", \"SEWER\"]\n",
    "    df[\"location_description\"].replace(other, \"OTHER\", inplace = True)\n",
    "    \n"
   ]
  },
  {
   "cell_type": "code",
   "execution_count": 56,
   "id": "688c0601",
   "metadata": {},
   "outputs": [
    {
     "data": {
      "text/plain": [
       "STREET               639494\n",
       "RESIDENCE            634663\n",
       "APARTMENT            366599\n",
       "SIDEWALK             277648\n",
       "STORE                174996\n",
       "OTHER                110876\n",
       "PARKING               88353\n",
       "RESTAURANT            74485\n",
       "SCHOOL                64492\n",
       "ALLEY                 59376\n",
       "VEHICLE               57290\n",
       "CTA                   57042\n",
       "GAS STATION           33424\n",
       "PARK PROPERTY         21477\n",
       "BANK                  20019\n",
       "OFFICE                19074\n",
       "HOSPITAL              18387\n",
       "BUILDING              16748\n",
       "HOTEL                 13006\n",
       "AIRPORT               12855\n",
       "VACANT                11034\n",
       "POLICE                10114\n",
       "CHA                    9771\n",
       "SPORTS                 7598\n",
       "CHURCH                 6033\n",
       "CONSTRUCTION SITE      3427\n",
       "LIBRARY                2511\n",
       "COLLEGE                2469\n",
       "WATER                  1593\n",
       "Name: location_description, dtype: int64"
      ]
     },
     "execution_count": 56,
     "metadata": {},
     "output_type": "execute_result"
    }
   ],
   "source": [
    "#Clean location description variable\n",
    "location_cleaner(chicago_train)\n",
    "chicago_train[\"location_description\"].value_counts()"
   ]
  },
  {
   "cell_type": "markdown",
   "id": "652e4b14",
   "metadata": {},
   "source": [
    "We reduced the number of categories from 197 to only 29. "
   ]
  },
  {
   "cell_type": "code",
   "execution_count": 59,
   "id": "fa473d58",
   "metadata": {},
   "outputs": [],
   "source": [
    "#Reset display options\n",
    "pd.options.display.max_rows = 15"
   ]
  },
  {
   "cell_type": "markdown",
   "id": "d4ff7802",
   "metadata": {},
   "source": [
    "### Cleaning Date Variable"
   ]
  },
  {
   "cell_type": "code",
   "execution_count": 66,
   "id": "06293bbd",
   "metadata": {},
   "outputs": [
    {
     "data": {
      "text/plain": [
       "0"
      ]
     },
     "execution_count": 66,
     "metadata": {},
     "output_type": "execute_result"
    }
   ],
   "source": [
    "#Check for missing values\n",
    "chicago_train[\"date\"].isnull().sum()"
   ]
  },
  {
   "cell_type": "markdown",
   "id": "e08e2d0b",
   "metadata": {},
   "source": [
    "We'll split the date variable into months and hour to look at the difference in crimes by time"
   ]
  },
  {
   "cell_type": "code",
   "execution_count": 297,
   "id": "8b28e7f7",
   "metadata": {},
   "outputs": [],
   "source": [
    "def crime_month(df):\n",
    "    \"\"\"\n",
    "    This function creates a new column that contains the month the crime occurred.\n",
    "    \n",
    "    df: DataFrame that has a column for the date the crime occurred.\n",
    "    \n",
    "    returns: None\n",
    "    \n",
    "    \"\"\"\n",
    "    df[\"Month\"] = df.loc[:, \"date\"].dt.month\n"
   ]
  },
  {
   "cell_type": "code",
   "execution_count": 300,
   "id": "526daa62",
   "metadata": {},
   "outputs": [],
   "source": [
    "%%capture --no-stdout\n",
    "#Add the Month variable\n",
    "crime_month(chicago_train)"
   ]
  },
  {
   "cell_type": "code",
   "execution_count": 301,
   "id": "ee80e6a8",
   "metadata": {},
   "outputs": [
    {
     "data": {
      "text/html": [
       "<div>\n",
       "<style scoped>\n",
       "    .dataframe tbody tr th:only-of-type {\n",
       "        vertical-align: middle;\n",
       "    }\n",
       "\n",
       "    .dataframe tbody tr th {\n",
       "        vertical-align: top;\n",
       "    }\n",
       "\n",
       "    .dataframe thead th {\n",
       "        text-align: right;\n",
       "    }\n",
       "</style>\n",
       "<table border=\"1\" class=\"dataframe\">\n",
       "  <thead>\n",
       "    <tr style=\"text-align: right;\">\n",
       "      <th></th>\n",
       "      <th>unique_key</th>\n",
       "      <th>date</th>\n",
       "      <th>primary_type</th>\n",
       "      <th>location_description</th>\n",
       "      <th>arrest</th>\n",
       "      <th>domestic</th>\n",
       "      <th>community_area</th>\n",
       "      <th>year</th>\n",
       "      <th>district_name</th>\n",
       "      <th>community_name</th>\n",
       "      <th>Month</th>\n",
       "    </tr>\n",
       "  </thead>\n",
       "  <tbody>\n",
       "    <tr>\n",
       "      <th>0</th>\n",
       "      <td>10225218</td>\n",
       "      <td>2015-09-05 23:00:00+00:00</td>\n",
       "      <td>ROBBERY</td>\n",
       "      <td>CTA BUS STOP</td>\n",
       "      <td>False</td>\n",
       "      <td>False</td>\n",
       "      <td>54</td>\n",
       "      <td>2015</td>\n",
       "      <td>Far Southeast</td>\n",
       "      <td>RIVERDALE</td>\n",
       "      <td>9</td>\n",
       "    </tr>\n",
       "    <tr>\n",
       "      <th>1</th>\n",
       "      <td>10341077</td>\n",
       "      <td>2015-12-10 05:15:00+00:00</td>\n",
       "      <td>BURGLARY</td>\n",
       "      <td>RESIDENCE</td>\n",
       "      <td>False</td>\n",
       "      <td>False</td>\n",
       "      <td>54</td>\n",
       "      <td>2015</td>\n",
       "      <td>Far Southeast</td>\n",
       "      <td>RIVERDALE</td>\n",
       "      <td>12</td>\n",
       "    </tr>\n",
       "    <tr>\n",
       "      <th>2</th>\n",
       "      <td>11861007</td>\n",
       "      <td>2019-10-14 22:47:00+00:00</td>\n",
       "      <td>OTHER OFFENSE</td>\n",
       "      <td>STREET</td>\n",
       "      <td>True</td>\n",
       "      <td>False</td>\n",
       "      <td>54</td>\n",
       "      <td>2019</td>\n",
       "      <td>Far Southeast</td>\n",
       "      <td>RIVERDALE</td>\n",
       "      <td>10</td>\n",
       "    </tr>\n",
       "    <tr>\n",
       "      <th>3</th>\n",
       "      <td>10599541</td>\n",
       "      <td>2016-07-15 22:30:00+00:00</td>\n",
       "      <td>INTERFERENCE WITH PUBLIC OFFICER</td>\n",
       "      <td>CHA PARKING LOT/GROUNDS</td>\n",
       "      <td>True</td>\n",
       "      <td>False</td>\n",
       "      <td>54</td>\n",
       "      <td>2016</td>\n",
       "      <td>Far Southeast</td>\n",
       "      <td>RIVERDALE</td>\n",
       "      <td>7</td>\n",
       "    </tr>\n",
       "    <tr>\n",
       "      <th>4</th>\n",
       "      <td>10707134</td>\n",
       "      <td>2016-10-04 17:00:00+00:00</td>\n",
       "      <td>DECEPTIVE PRACTICE</td>\n",
       "      <td>STREET</td>\n",
       "      <td>False</td>\n",
       "      <td>False</td>\n",
       "      <td>54</td>\n",
       "      <td>2016</td>\n",
       "      <td>Far Southeast</td>\n",
       "      <td>RIVERDALE</td>\n",
       "      <td>10</td>\n",
       "    </tr>\n",
       "  </tbody>\n",
       "</table>\n",
       "</div>"
      ],
      "text/plain": [
       "   unique_key                      date                      primary_type  \\\n",
       "0    10225218 2015-09-05 23:00:00+00:00                           ROBBERY   \n",
       "1    10341077 2015-12-10 05:15:00+00:00                          BURGLARY   \n",
       "2    11861007 2019-10-14 22:47:00+00:00                     OTHER OFFENSE   \n",
       "3    10599541 2016-07-15 22:30:00+00:00  INTERFERENCE WITH PUBLIC OFFICER   \n",
       "4    10707134 2016-10-04 17:00:00+00:00                DECEPTIVE PRACTICE   \n",
       "\n",
       "      location_description  arrest  domestic community_area  year  \\\n",
       "0             CTA BUS STOP   False     False             54  2015   \n",
       "1                RESIDENCE   False     False             54  2015   \n",
       "2                   STREET    True     False             54  2019   \n",
       "3  CHA PARKING LOT/GROUNDS    True     False             54  2016   \n",
       "4                   STREET   False     False             54  2016   \n",
       "\n",
       "   district_name community_name  Month  \n",
       "0  Far Southeast      RIVERDALE      9  \n",
       "1  Far Southeast      RIVERDALE     12  \n",
       "2  Far Southeast      RIVERDALE     10  \n",
       "3  Far Southeast      RIVERDALE      7  \n",
       "4  Far Southeast      RIVERDALE     10  "
      ]
     },
     "execution_count": 301,
     "metadata": {},
     "output_type": "execute_result"
    }
   ],
   "source": [
    "chicago_train.head()"
   ]
  },
  {
   "cell_type": "code",
   "execution_count": 86,
   "id": "3845f594",
   "metadata": {},
   "outputs": [
    {
     "data": {
      "text/html": [
       "<div>\n",
       "<style scoped>\n",
       "    .dataframe tbody tr th:only-of-type {\n",
       "        vertical-align: middle;\n",
       "    }\n",
       "\n",
       "    .dataframe tbody tr th {\n",
       "        vertical-align: top;\n",
       "    }\n",
       "\n",
       "    .dataframe thead th {\n",
       "        text-align: right;\n",
       "    }\n",
       "</style>\n",
       "<table border=\"1\" class=\"dataframe\">\n",
       "  <thead>\n",
       "    <tr style=\"text-align: right;\">\n",
       "      <th></th>\n",
       "      <th>Month</th>\n",
       "      <th>Count</th>\n",
       "    </tr>\n",
       "  </thead>\n",
       "  <tbody>\n",
       "    <tr>\n",
       "      <th>8</th>\n",
       "      <td>1</td>\n",
       "      <td>222888</td>\n",
       "    </tr>\n",
       "    <tr>\n",
       "      <th>11</th>\n",
       "      <td>2</td>\n",
       "      <td>193914</td>\n",
       "    </tr>\n",
       "    <tr>\n",
       "      <th>6</th>\n",
       "      <td>3</td>\n",
       "      <td>227062</td>\n",
       "    </tr>\n",
       "    <tr>\n",
       "      <th>7</th>\n",
       "      <td>4</td>\n",
       "      <td>224360</td>\n",
       "    </tr>\n",
       "    <tr>\n",
       "      <th>3</th>\n",
       "      <td>5</td>\n",
       "      <td>251136</td>\n",
       "    </tr>\n",
       "    <tr>\n",
       "      <th>2</th>\n",
       "      <td>6</td>\n",
       "      <td>252769</td>\n",
       "    </tr>\n",
       "    <tr>\n",
       "      <th>0</th>\n",
       "      <td>7</td>\n",
       "      <td>264067</td>\n",
       "    </tr>\n",
       "    <tr>\n",
       "      <th>1</th>\n",
       "      <td>8</td>\n",
       "      <td>261356</td>\n",
       "    </tr>\n",
       "    <tr>\n",
       "      <th>4</th>\n",
       "      <td>9</td>\n",
       "      <td>241026</td>\n",
       "    </tr>\n",
       "    <tr>\n",
       "      <th>5</th>\n",
       "      <td>10</td>\n",
       "      <td>240374</td>\n",
       "    </tr>\n",
       "    <tr>\n",
       "      <th>9</th>\n",
       "      <td>11</td>\n",
       "      <td>219026</td>\n",
       "    </tr>\n",
       "    <tr>\n",
       "      <th>10</th>\n",
       "      <td>12</td>\n",
       "      <td>216876</td>\n",
       "    </tr>\n",
       "  </tbody>\n",
       "</table>\n",
       "</div>"
      ],
      "text/plain": [
       "    Month   Count\n",
       "8       1  222888\n",
       "11      2  193914\n",
       "6       3  227062\n",
       "7       4  224360\n",
       "3       5  251136\n",
       "2       6  252769\n",
       "0       7  264067\n",
       "1       8  261356\n",
       "4       9  241026\n",
       "5      10  240374\n",
       "9      11  219026\n",
       "10     12  216876"
      ]
     },
     "execution_count": 86,
     "metadata": {},
     "output_type": "execute_result"
    }
   ],
   "source": [
    "#Look at the total number of crimes ordered by month\n",
    "chicago_train[\"Month\"].value_counts()\\\n",
    "                      .reset_index()\\\n",
    "                      .rename(columns={\"Month\": \"Count\", \"index\":\"Month\"})\\\n",
    "                      .sort_values(by=\"Month\")"
   ]
  },
  {
   "cell_type": "code",
   "execution_count": 82,
   "id": "6eb63707",
   "metadata": {},
   "outputs": [],
   "source": [
    "def crime_hour(df):\n",
    "    \"\"\"\n",
    "    This function creates a new column that contains the hour the crime occurred.\n",
    "    \n",
    "    df: DataFrame that has a column for the date the crime occurred.\n",
    "    \n",
    "    returns: None\n",
    "    \n",
    "    \"\"\"\n",
    "    df[\"Hour\"] = df.loc[:, \"date\"].dt.hour"
   ]
  },
  {
   "cell_type": "code",
   "execution_count": 84,
   "id": "8349d0a5",
   "metadata": {},
   "outputs": [],
   "source": [
    "%%capture --no-stdout\n",
    "#Add the Hour variable\n",
    "crime_hour(chicago_train)"
   ]
  },
  {
   "cell_type": "code",
   "execution_count": 87,
   "id": "ebd706f5",
   "metadata": {},
   "outputs": [
    {
     "data": {
      "text/html": [
       "<div>\n",
       "<style scoped>\n",
       "    .dataframe tbody tr th:only-of-type {\n",
       "        vertical-align: middle;\n",
       "    }\n",
       "\n",
       "    .dataframe tbody tr th {\n",
       "        vertical-align: top;\n",
       "    }\n",
       "\n",
       "    .dataframe thead th {\n",
       "        text-align: right;\n",
       "    }\n",
       "</style>\n",
       "<table border=\"1\" class=\"dataframe\">\n",
       "  <thead>\n",
       "    <tr style=\"text-align: right;\">\n",
       "      <th></th>\n",
       "      <th>Hour</th>\n",
       "      <th>Count</th>\n",
       "    </tr>\n",
       "  </thead>\n",
       "  <tbody>\n",
       "    <tr>\n",
       "      <th>9</th>\n",
       "      <td>0</td>\n",
       "      <td>142456</td>\n",
       "    </tr>\n",
       "    <tr>\n",
       "      <th>17</th>\n",
       "      <td>1</td>\n",
       "      <td>85249</td>\n",
       "    </tr>\n",
       "    <tr>\n",
       "      <th>18</th>\n",
       "      <td>2</td>\n",
       "      <td>72964</td>\n",
       "    </tr>\n",
       "    <tr>\n",
       "      <th>20</th>\n",
       "      <td>3</td>\n",
       "      <td>60168</td>\n",
       "    </tr>\n",
       "    <tr>\n",
       "      <th>22</th>\n",
       "      <td>4</td>\n",
       "      <td>46156</td>\n",
       "    </tr>\n",
       "    <tr>\n",
       "      <th>23</th>\n",
       "      <td>5</td>\n",
       "      <td>40027</td>\n",
       "    </tr>\n",
       "    <tr>\n",
       "      <th>21</th>\n",
       "      <td>6</td>\n",
       "      <td>47901</td>\n",
       "    </tr>\n",
       "    <tr>\n",
       "      <th>19</th>\n",
       "      <td>7</td>\n",
       "      <td>66662</td>\n",
       "    </tr>\n",
       "    <tr>\n",
       "      <th>16</th>\n",
       "      <td>8</td>\n",
       "      <td>98523</td>\n",
       "    </tr>\n",
       "    <tr>\n",
       "      <th>12</th>\n",
       "      <td>9</td>\n",
       "      <td>130410</td>\n",
       "    </tr>\n",
       "    <tr>\n",
       "      <th>14</th>\n",
       "      <td>10</td>\n",
       "      <td>125435</td>\n",
       "    </tr>\n",
       "    <tr>\n",
       "      <th>13</th>\n",
       "      <td>11</td>\n",
       "      <td>129741</td>\n",
       "    </tr>\n",
       "    <tr>\n",
       "      <th>0</th>\n",
       "      <td>12</td>\n",
       "      <td>166232</td>\n",
       "    </tr>\n",
       "    <tr>\n",
       "      <th>11</th>\n",
       "      <td>13</td>\n",
       "      <td>134993</td>\n",
       "    </tr>\n",
       "    <tr>\n",
       "      <th>8</th>\n",
       "      <td>14</td>\n",
       "      <td>143440</td>\n",
       "    </tr>\n",
       "    <tr>\n",
       "      <th>3</th>\n",
       "      <td>15</td>\n",
       "      <td>154306</td>\n",
       "    </tr>\n",
       "    <tr>\n",
       "      <th>6</th>\n",
       "      <td>16</td>\n",
       "      <td>147882</td>\n",
       "    </tr>\n",
       "    <tr>\n",
       "      <th>5</th>\n",
       "      <td>17</td>\n",
       "      <td>148298</td>\n",
       "    </tr>\n",
       "    <tr>\n",
       "      <th>2</th>\n",
       "      <td>18</td>\n",
       "      <td>157933</td>\n",
       "    </tr>\n",
       "    <tr>\n",
       "      <th>1</th>\n",
       "      <td>19</td>\n",
       "      <td>160215</td>\n",
       "    </tr>\n",
       "    <tr>\n",
       "      <th>4</th>\n",
       "      <td>20</td>\n",
       "      <td>153122</td>\n",
       "    </tr>\n",
       "    <tr>\n",
       "      <th>7</th>\n",
       "      <td>21</td>\n",
       "      <td>143659</td>\n",
       "    </tr>\n",
       "    <tr>\n",
       "      <th>10</th>\n",
       "      <td>22</td>\n",
       "      <td>142061</td>\n",
       "    </tr>\n",
       "    <tr>\n",
       "      <th>15</th>\n",
       "      <td>23</td>\n",
       "      <td>117021</td>\n",
       "    </tr>\n",
       "  </tbody>\n",
       "</table>\n",
       "</div>"
      ],
      "text/plain": [
       "    Hour   Count\n",
       "9      0  142456\n",
       "17     1   85249\n",
       "18     2   72964\n",
       "20     3   60168\n",
       "22     4   46156\n",
       "23     5   40027\n",
       "21     6   47901\n",
       "19     7   66662\n",
       "16     8   98523\n",
       "12     9  130410\n",
       "14    10  125435\n",
       "13    11  129741\n",
       "0     12  166232\n",
       "11    13  134993\n",
       "8     14  143440\n",
       "3     15  154306\n",
       "6     16  147882\n",
       "5     17  148298\n",
       "2     18  157933\n",
       "1     19  160215\n",
       "4     20  153122\n",
       "7     21  143659\n",
       "10    22  142061\n",
       "15    23  117021"
      ]
     },
     "execution_count": 87,
     "metadata": {},
     "output_type": "execute_result"
    }
   ],
   "source": [
    "#Look at the total number of crimes ordered by hour\n",
    "chicago_train[\"Hour\"].value_counts() \\\n",
    "                     .reset_index() \\\n",
    "                     .rename(columns={\"Hour\": \"Count\", \"index\":\"Hour\"}) \\\n",
    "                     .sort_values(by=\"Hour\")"
   ]
  },
  {
   "cell_type": "markdown",
   "id": "430364ff",
   "metadata": {},
   "source": [
    "### Clean Domestic Variable"
   ]
  },
  {
   "cell_type": "code",
   "execution_count": 88,
   "id": "7cbc422b",
   "metadata": {},
   "outputs": [
    {
     "data": {
      "text/plain": [
       "0"
      ]
     },
     "execution_count": 88,
     "metadata": {},
     "output_type": "execute_result"
    }
   ],
   "source": [
    "#Check for missing values\n",
    "chicago_train[\"domestic\"].isnull().sum()"
   ]
  },
  {
   "cell_type": "code",
   "execution_count": 89,
   "id": "cc31987c",
   "metadata": {},
   "outputs": [
    {
     "data": {
      "text/plain": [
       "False    2376026\n",
       "True      438828\n",
       "Name: domestic, dtype: Int64"
      ]
     },
     "execution_count": 89,
     "metadata": {},
     "output_type": "execute_result"
    }
   ],
   "source": [
    "#The data type says Boolean. Check that there are only two values i.e True and False\n",
    "chicago_train[\"domestic\"].value_counts()"
   ]
  },
  {
   "cell_type": "markdown",
   "id": "1014df68",
   "metadata": {},
   "source": [
    "Thus, there's nothing we need to clean for the domestic variable"
   ]
  },
  {
   "cell_type": "markdown",
   "id": "a47e2f5d",
   "metadata": {},
   "source": [
    "### Clean Community Name and District Variables"
   ]
  },
  {
   "cell_type": "markdown",
   "id": "3b54947a",
   "metadata": {},
   "source": [
    "Since the district variable was created by merging with community areas, cleaning community name will clean district"
   ]
  },
  {
   "cell_type": "code",
   "execution_count": 90,
   "id": "3041c7b6",
   "metadata": {},
   "outputs": [
    {
     "data": {
      "text/plain": [
       "218"
      ]
     },
     "execution_count": 90,
     "metadata": {},
     "output_type": "execute_result"
    }
   ],
   "source": [
    "#Check the number of missing values for community names\n",
    "chicago_train[\"community_name\"].isnull().sum()"
   ]
  },
  {
   "cell_type": "code",
   "execution_count": 96,
   "id": "eaee196e",
   "metadata": {},
   "outputs": [
    {
     "data": {
      "text/plain": [
       "218"
      ]
     },
     "execution_count": 96,
     "metadata": {},
     "output_type": "execute_result"
    }
   ],
   "source": [
    "#Check the number of missing values for district\n",
    "chicago_train[\"district_name\"].isnull().sum()"
   ]
  },
  {
   "cell_type": "code",
   "execution_count": 92,
   "id": "c8844980",
   "metadata": {},
   "outputs": [
    {
     "data": {
      "text/html": [
       "<div>\n",
       "<style scoped>\n",
       "    .dataframe tbody tr th:only-of-type {\n",
       "        vertical-align: middle;\n",
       "    }\n",
       "\n",
       "    .dataframe tbody tr th {\n",
       "        vertical-align: top;\n",
       "    }\n",
       "\n",
       "    .dataframe thead th {\n",
       "        text-align: right;\n",
       "    }\n",
       "</style>\n",
       "<table border=\"1\" class=\"dataframe\">\n",
       "  <thead>\n",
       "    <tr style=\"text-align: right;\">\n",
       "      <th></th>\n",
       "      <th>unique_key</th>\n",
       "      <th>date</th>\n",
       "      <th>primary_type</th>\n",
       "      <th>location_description</th>\n",
       "      <th>arrest</th>\n",
       "      <th>domestic</th>\n",
       "      <th>year</th>\n",
       "      <th>latitude</th>\n",
       "      <th>longitude</th>\n",
       "      <th>district_name</th>\n",
       "      <th>community_name</th>\n",
       "      <th>Month</th>\n",
       "      <th>Hour</th>\n",
       "    </tr>\n",
       "  </thead>\n",
       "  <tbody>\n",
       "    <tr>\n",
       "      <th>225896</th>\n",
       "      <td>8487665</td>\n",
       "      <td>2012-02-19 18:54:00+00:00</td>\n",
       "      <td>CRIMINAL DAMAGE</td>\n",
       "      <td>RESIDENCE-GARAGE</td>\n",
       "      <td>False</td>\n",
       "      <td>False</td>\n",
       "      <td>2012</td>\n",
       "      <td>41.799090</td>\n",
       "      <td>-87.790549</td>\n",
       "      <td>NaN</td>\n",
       "      <td>NaN</td>\n",
       "      <td>2</td>\n",
       "      <td>18</td>\n",
       "    </tr>\n",
       "    <tr>\n",
       "      <th>225897</th>\n",
       "      <td>8150814</td>\n",
       "      <td>2011-07-07 14:00:00+00:00</td>\n",
       "      <td>ASSAULT</td>\n",
       "      <td>RESIDENTIAL YARD (FRONT/BACK)</td>\n",
       "      <td>False</td>\n",
       "      <td>True</td>\n",
       "      <td>2011</td>\n",
       "      <td>41.798980</td>\n",
       "      <td>-87.790547</td>\n",
       "      <td>NaN</td>\n",
       "      <td>NaN</td>\n",
       "      <td>7</td>\n",
       "      <td>14</td>\n",
       "    </tr>\n",
       "    <tr>\n",
       "      <th>225898</th>\n",
       "      <td>8197932</td>\n",
       "      <td>2011-08-04 17:00:00+00:00</td>\n",
       "      <td>OTHER OFFENSE</td>\n",
       "      <td>RESIDENCE</td>\n",
       "      <td>False</td>\n",
       "      <td>False</td>\n",
       "      <td>2011</td>\n",
       "      <td>41.798980</td>\n",
       "      <td>-87.790547</td>\n",
       "      <td>NaN</td>\n",
       "      <td>NaN</td>\n",
       "      <td>8</td>\n",
       "      <td>17</td>\n",
       "    </tr>\n",
       "    <tr>\n",
       "      <th>225899</th>\n",
       "      <td>8274387</td>\n",
       "      <td>2011-09-21 12:45:00+00:00</td>\n",
       "      <td>BATTERY</td>\n",
       "      <td>CTA PLATFORM</td>\n",
       "      <td>False</td>\n",
       "      <td>False</td>\n",
       "      <td>2011</td>\n",
       "      <td>41.970515</td>\n",
       "      <td>-87.836651</td>\n",
       "      <td>NaN</td>\n",
       "      <td>NaN</td>\n",
       "      <td>9</td>\n",
       "      <td>12</td>\n",
       "    </tr>\n",
       "    <tr>\n",
       "      <th>225900</th>\n",
       "      <td>8039300</td>\n",
       "      <td>2011-04-28 22:50:00+00:00</td>\n",
       "      <td>BATTERY</td>\n",
       "      <td>RESIDENCE</td>\n",
       "      <td>False</td>\n",
       "      <td>True</td>\n",
       "      <td>2011</td>\n",
       "      <td>41.798980</td>\n",
       "      <td>-87.790547</td>\n",
       "      <td>NaN</td>\n",
       "      <td>NaN</td>\n",
       "      <td>4</td>\n",
       "      <td>22</td>\n",
       "    </tr>\n",
       "  </tbody>\n",
       "</table>\n",
       "</div>"
      ],
      "text/plain": [
       "        unique_key                      date     primary_type  \\\n",
       "225896     8487665 2012-02-19 18:54:00+00:00  CRIMINAL DAMAGE   \n",
       "225897     8150814 2011-07-07 14:00:00+00:00          ASSAULT   \n",
       "225898     8197932 2011-08-04 17:00:00+00:00    OTHER OFFENSE   \n",
       "225899     8274387 2011-09-21 12:45:00+00:00          BATTERY   \n",
       "225900     8039300 2011-04-28 22:50:00+00:00          BATTERY   \n",
       "\n",
       "                 location_description  arrest  domestic  year   latitude  \\\n",
       "225896               RESIDENCE-GARAGE   False     False  2012  41.799090   \n",
       "225897  RESIDENTIAL YARD (FRONT/BACK)   False      True  2011  41.798980   \n",
       "225898                      RESIDENCE   False     False  2011  41.798980   \n",
       "225899                   CTA PLATFORM   False     False  2011  41.970515   \n",
       "225900                      RESIDENCE   False      True  2011  41.798980   \n",
       "\n",
       "        longitude district_name community_name  Month  Hour  \n",
       "225896 -87.790549           NaN            NaN      2    18  \n",
       "225897 -87.790547           NaN            NaN      7    14  \n",
       "225898 -87.790547           NaN            NaN      8    17  \n",
       "225899 -87.836651           NaN            NaN      9    12  \n",
       "225900 -87.790547           NaN            NaN      4    22  "
      ]
     },
     "execution_count": 92,
     "metadata": {},
     "output_type": "execute_result"
    }
   ],
   "source": [
    "#Take a look at the data filtered for missing community name values\n",
    "mask = chicago_train[\"community_name\"].isnull()\n",
    "chicago_train.loc[mask].head()"
   ]
  },
  {
   "cell_type": "markdown",
   "id": "661222f7",
   "metadata": {},
   "source": [
    "The date variable shows that the first few missing values are from the beginning of the observations. Let's examine this further."
   ]
  },
  {
   "cell_type": "code",
   "execution_count": 93,
   "id": "a80b4d45",
   "metadata": {},
   "outputs": [
    {
     "data": {
      "text/plain": [
       "2011    186\n",
       "2012     27\n",
       "2013      4\n",
       "2020      1\n",
       "Name: year, dtype: Int64"
      ]
     },
     "execution_count": 93,
     "metadata": {},
     "output_type": "execute_result"
    }
   ],
   "source": [
    "chicago_train[mask][\"year\"].value_counts()"
   ]
  },
  {
   "cell_type": "markdown",
   "id": "f0fa31db",
   "metadata": {},
   "source": [
    "Since nearly all missing community names are from the beginning of the data set, we can subjectively decide to drop them. We'll do this in a function."
   ]
  },
  {
   "cell_type": "code",
   "execution_count": 101,
   "id": "7ab0a935",
   "metadata": {},
   "outputs": [],
   "source": [
    "def community_cleaner(df):\n",
    "    \"\"\"\n",
    "    This function cleans the community_name column by dropping those rows with missing values.\n",
    "    \n",
    "    df: DataFrame that contains the community_name column\n",
    "    \n",
    "    returns: None\n",
    "    \"\"\"\n",
    "    df.dropna(subset=[\"community_name\"], inplace = True)\n"
   ]
  },
  {
   "cell_type": "code",
   "execution_count": 98,
   "id": "937caff8",
   "metadata": {},
   "outputs": [],
   "source": [
    "%%capture --no-stdout\n",
    "#Clean the community names\n",
    "community_cleaner(chicago_train)"
   ]
  },
  {
   "cell_type": "code",
   "execution_count": 99,
   "id": "fe1cab4c",
   "metadata": {},
   "outputs": [
    {
     "data": {
      "text/plain": [
       "0"
      ]
     },
     "execution_count": 99,
     "metadata": {},
     "output_type": "execute_result"
    }
   ],
   "source": [
    "#Check that there are no missing values for community names\n",
    "chicago_train[\"community_name\"].isnull().sum()"
   ]
  },
  {
   "cell_type": "code",
   "execution_count": 100,
   "id": "e207b930",
   "metadata": {},
   "outputs": [
    {
     "data": {
      "text/plain": [
       "0"
      ]
     },
     "execution_count": 100,
     "metadata": {},
     "output_type": "execute_result"
    }
   ],
   "source": [
    "#Check that there are no missing values for district\n",
    "chicago_train[\"district_name\"].isnull().sum()"
   ]
  },
  {
   "cell_type": "code",
   "execution_count": 107,
   "id": "cf6230a1",
   "metadata": {},
   "outputs": [],
   "source": [
    "#Google says there are 77 community areas in Chicago\n",
    "assert 77 == len(chicago_train[\"community_name\"].value_counts())"
   ]
  },
  {
   "cell_type": "code",
   "execution_count": 105,
   "id": "ffefde1d",
   "metadata": {},
   "outputs": [
    {
     "data": {
      "text/plain": [
       "AUSTIN                    175473\n",
       "NEAR NORTH SIDE           106612\n",
       "SOUTH SHORE                94836\n",
       "NORTH LAWNDALE             90965\n",
       "HUMBOLDT PARK              88954\n",
       "NEAR WEST SIDE             87347\n",
       "LOOP                       84337\n",
       "AUBURN GRESHAM             80626\n",
       "WEST TOWN                  78979\n",
       "WEST ENGLEWOOD             78415\n",
       "ROSELAND                   74522\n",
       "GREATER GRAND CROSSING     71155\n",
       "ENGLEWOOD                  70713\n",
       "CHICAGO LAWN               66334\n",
       "CHATHAM                    65530\n",
       "LAKE VIEW                  61453\n",
       "WEST GARFIELD PARK         60011\n",
       "LOGAN SQUARE               54052\n",
       "EAST GARFIELD PARK         53331\n",
       "NEW CITY                   52561\n",
       "SOUTH CHICAGO              50873\n",
       "BELMONT CRAGIN             50749\n",
       "SOUTH LAWNDALE             48034\n",
       "WEST PULLMAN               44921\n",
       "LINCOLN PARK               43550\n",
       "WOODLAWN                   41312\n",
       "ROGERS PARK                40911\n",
       "UPTOWN                     38650\n",
       "GRAND BOULEVARD            35938\n",
       "WEST RIDGE                 35823\n",
       "PORTAGE PARK               34764\n",
       "WASHINGTON HEIGHTS         33864\n",
       "IRVING PARK                31217\n",
       "WASHINGTON PARK            29151\n",
       "LOWER WEST SIDE            27112\n",
       "EDGEWATER                  26596\n",
       "BRIGHTON PARK              26549\n",
       "DOUGLAS                    26291\n",
       "ASHBURN                    25591\n",
       "GAGE PARK                  25455\n",
       "ALBANY PARK                25259\n",
       "AVONDALE                   24928\n",
       "MORGAN PARK                22215\n",
       "GARFIELD RIDGE             20489\n",
       "WEST LAWN                  20312\n",
       "LINCOLN SQUARE             20174\n",
       "SOUTH DEERING              20062\n",
       "NEAR SOUTH SIDE            18373\n",
       "OHARE                      17743\n",
       "HYDE PARK                  17353\n",
       "BRIDGEPORT                 17306\n",
       "DUNNING                    16651\n",
       "HERMOSA                    16578\n",
       "CALUMET HEIGHTS            15752\n",
       "KENWOOD                    15371\n",
       "NORTH CENTER               15136\n",
       "AVALON PARK                14577\n",
       "RIVERDALE                  13646\n",
       "EAST SIDE                  13447\n",
       "NORWOOD PARK               12485\n",
       "JEFFERSON PARK             11645\n",
       "ARMOUR SQUARE              11509\n",
       "PULLMAN                    11485\n",
       "WEST ELSDON                10973\n",
       "MCKINLEY PARK              10776\n",
       "CLEARING                   10317\n",
       "BEVERLY                     9972\n",
       "ARCHER HEIGHTS              9797\n",
       "FULLER PARK                 9505\n",
       "NORTH PARK                  9347\n",
       "OAKLAND                     6894\n",
       "MONTCLARE                   6380\n",
       "HEGEWISCH                   6309\n",
       "MOUNT GREENWOOD             6113\n",
       "FOREST GLEN                 5194\n",
       "BURNSIDE                    4139\n",
       "EDISON PARK                 2867\n",
       "Name: community_name, dtype: int64"
      ]
     },
     "execution_count": 105,
     "metadata": {},
     "output_type": "execute_result"
    }
   ],
   "source": [
    "#Examine the number of crimes by community name\n",
    "chicago_train[\"community_name\"].value_counts()"
   ]
  },
  {
   "cell_type": "code",
   "execution_count": 103,
   "id": "9aac33eb",
   "metadata": {},
   "outputs": [
    {
     "data": {
      "text/plain": [
       "West             710206\n",
       "Southwest        402691\n",
       "South            376621\n",
       "Far Southeast    335263\n",
       "Far North        246694\n",
       "Central          209322\n",
       "North            199119\n",
       "Far Southwest    178381\n",
       "Northwest        156339\n",
       "Name: district_name, dtype: int64"
      ]
     },
     "execution_count": 103,
     "metadata": {},
     "output_type": "execute_result"
    }
   ],
   "source": [
    "#Examine the number of crimes by district\n",
    "chicago_train[\"district_name\"].value_counts()"
   ]
  },
  {
   "cell_type": "markdown",
   "id": "b6d0f3c6",
   "metadata": {},
   "source": [
    "### Clean Arrest Variable"
   ]
  },
  {
   "cell_type": "code",
   "execution_count": 108,
   "id": "33f4e551",
   "metadata": {},
   "outputs": [
    {
     "data": {
      "text/plain": [
       "0"
      ]
     },
     "execution_count": 108,
     "metadata": {},
     "output_type": "execute_result"
    }
   ],
   "source": [
    "#Check for missing values\n",
    "chicago_train[\"arrest\"].isnull().sum()"
   ]
  },
  {
   "cell_type": "code",
   "execution_count": 109,
   "id": "b1e0f225",
   "metadata": {},
   "outputs": [
    {
     "data": {
      "text/plain": [
       "False    2142310\n",
       "True      672326\n",
       "Name: arrest, dtype: Int64"
      ]
     },
     "execution_count": 109,
     "metadata": {},
     "output_type": "execute_result"
    }
   ],
   "source": [
    "#The data type for arrest says Boolean so we only expect True or False\n",
    "chicago_train[\"arrest\"].value_counts()"
   ]
  },
  {
   "cell_type": "markdown",
   "id": "c5f7d1f8",
   "metadata": {},
   "source": [
    "We see that the arrest variable does not need any cleaning"
   ]
  },
  {
   "cell_type": "markdown",
   "id": "732ce4c6",
   "metadata": {},
   "source": [
    "Now that we have created functions to clean up each individual variable, we can create a wrapper function combining all individual functions"
   ]
  },
  {
   "cell_type": "code",
   "execution_count": 122,
   "id": "931ea717",
   "metadata": {},
   "outputs": [],
   "source": [
    "def chicago_data_cleaner(df, clean_crime = True, impute_location = True, clean_location = True, add_month = True,\n",
    "                                add_hour = True, clean_community = True, verbose = False):\n",
    "    \"\"\"\n",
    "    This function is a wrapper over various functions to clean the columns in the Chicago data set in place\n",
    "    \n",
    "    The parameters are boolean values to decide if each individual function should be call on the data set\n",
    "    \n",
    "    returns: None\n",
    "    \"\"\"\n",
    "    if verbose: print(\"Cleaning Started...\\n\")\n",
    "    if clean_crime:\n",
    "        crime_type_cleaner(df)\n",
    "        if verbose: print(\"Successfully Cleaned Primary Type\")\n",
    "        \n",
    "    if impute_location:\n",
    "        location_imputer(df)\n",
    "        if verbose: print(\"Successfully Imputed Location\")\n",
    "    \n",
    "    if clean_location:\n",
    "        location_cleaner(df)\n",
    "        if verbose: print(\"Successfully Cleaned Location\")  \n",
    "    \n",
    "    if add_month:\n",
    "        crime_month(df)\n",
    "        if verbose: print(\"Successfully Added Month Column\")\n",
    "        \n",
    "    if add_hour:\n",
    "        crime_hour(df)\n",
    "        if verbose: print(\"Successfully Added Hour Column\")\n",
    "        \n",
    "    if clean_community:\n",
    "        community_cleaner(df)\n",
    "        if verbose: print(\"Successfully Cleaned Community\\n\")\n",
    "        \n",
    "    df.reset_index(drop = True, inplace = True)\n",
    "    \n",
    "    if verbose: print(\"Data Set Successfully Cleaned!\")\n"
   ]
  },
  {
   "cell_type": "code",
   "execution_count": 120,
   "id": "e3c4a0cf",
   "metadata": {},
   "outputs": [
    {
     "data": {
      "text/plain": [
       "unique_key                 0\n",
       "date                       0\n",
       "primary_type               0\n",
       "location_description    7844\n",
       "arrest                     0\n",
       "domestic                   0\n",
       "community_area           212\n",
       "year                       0\n",
       "district_name            218\n",
       "community_name           218\n",
       "dtype: int64"
      ]
     },
     "execution_count": 120,
     "metadata": {},
     "output_type": "execute_result"
    }
   ],
   "source": [
    "#Original uncleaned training data\n",
    "chicago_train = chicago.loc[chicago[\"year\"] != 2021]\n",
    "chicago_train.isnull().sum()"
   ]
  },
  {
   "cell_type": "code",
   "execution_count": 123,
   "id": "3a905a47",
   "metadata": {},
   "outputs": [
    {
     "name": "stdout",
     "output_type": "stream",
     "text": [
      "Cleaning Started...\n",
      "\n",
      "Successfully Cleaned Primary Type\n",
      "Successfully Imputed Location\n",
      "Successfully Cleaned Location\n",
      "Successfully Added Month Column\n",
      "Successfully Added Hour Column\n",
      "Successfully Cleaned Community\n",
      "\n",
      "Data Set Successfully Cleaned!\n"
     ]
    }
   ],
   "source": [
    "%%capture --no-stdout\n",
    "chicago_data_cleaner(chicago_train, verbose = True)"
   ]
  },
  {
   "cell_type": "code",
   "execution_count": 124,
   "id": "7d4a3426",
   "metadata": {},
   "outputs": [
    {
     "data": {
      "text/plain": [
       "unique_key              0\n",
       "date                    0\n",
       "primary_type            0\n",
       "location_description    0\n",
       "arrest                  0\n",
       "domestic                0\n",
       "community_area          0\n",
       "year                    0\n",
       "district_name           0\n",
       "community_name          0\n",
       "Month                   0\n",
       "Hour                    0\n",
       "dtype: int64"
      ]
     },
     "execution_count": 124,
     "metadata": {},
     "output_type": "execute_result"
    }
   ],
   "source": [
    "chicago_train.isnull().sum()"
   ]
  },
  {
   "cell_type": "markdown",
   "id": "2def2aa6",
   "metadata": {},
   "source": [
    "# Data Visualization"
   ]
  },
  {
   "cell_type": "markdown",
   "id": "d5a3c848",
   "metadata": {},
   "source": [
    "The purpose of this project is to look at the percentage of crimes that result in an arrest and ultimately predict if an arrest will be made. Therefore, we are only interested in the arrest percentage broken down by each variable."
   ]
  },
  {
   "cell_type": "markdown",
   "id": "2ac14480",
   "metadata": {},
   "source": [
    "### Percentage of Arrests"
   ]
  },
  {
   "cell_type": "code",
   "execution_count": 133,
   "id": "319b1f1f",
   "metadata": {},
   "outputs": [
    {
     "data": {
      "text/html": [
       "<div>\n",
       "<style scoped>\n",
       "    .dataframe tbody tr th:only-of-type {\n",
       "        vertical-align: middle;\n",
       "    }\n",
       "\n",
       "    .dataframe tbody tr th {\n",
       "        vertical-align: top;\n",
       "    }\n",
       "\n",
       "    .dataframe thead th {\n",
       "        text-align: right;\n",
       "    }\n",
       "</style>\n",
       "<table border=\"1\" class=\"dataframe\">\n",
       "  <thead>\n",
       "    <tr style=\"text-align: right;\">\n",
       "      <th></th>\n",
       "      <th>Arrest</th>\n",
       "      <th>mean</th>\n",
       "    </tr>\n",
       "  </thead>\n",
       "  <tbody>\n",
       "    <tr>\n",
       "      <th>0</th>\n",
       "      <td>False</td>\n",
       "      <td>76.113217</td>\n",
       "    </tr>\n",
       "    <tr>\n",
       "      <th>1</th>\n",
       "      <td>True</td>\n",
       "      <td>23.886783</td>\n",
       "    </tr>\n",
       "  </tbody>\n",
       "</table>\n",
       "</div>"
      ],
      "text/plain": [
       "   Arrest       mean\n",
       "0   False  76.113217\n",
       "1    True  23.886783"
      ]
     },
     "execution_count": 133,
     "metadata": {},
     "output_type": "execute_result"
    }
   ],
   "source": [
    "#Group by arrest while dividing by the number of rows to get the percentage\n",
    "arrest_grp = (chicago_train[\"arrest\"].value_counts() / chicago_train.shape[0]) * 100\n",
    "arrest_grp = pd.DataFrame(arrest_grp).reset_index().rename(columns ={\"index\": \"Arrest\", \"arrest\" : \"mean\"})\n",
    "arrest_grp"
   ]
  },
  {
   "cell_type": "code",
   "execution_count": 134,
   "id": "7f943e2a",
   "metadata": {},
   "outputs": [
    {
     "data": {
      "text/plain": [
       "Text(0.5, 0, 'Arrest Status')"
      ]
     },
     "execution_count": 134,
     "metadata": {},
     "output_type": "execute_result"
    },
    {
     "data": {
      "image/png": "[encoded data removed]",
      "text/plain": [
       "<Figure size 720x720 with 1 Axes>"
      ]
     },
     "metadata": {},
     "output_type": "display_data"
    }
   ],
   "source": [
    "#Make a bar chart of the results\n",
    "sns.set(rc = {'figure.figsize':(10,10)})\n",
    "sns.barplot(x=\"Arrest\", y = \"mean\", order = arrest_grp[\"Arrest\"] \\\n",
    "                                            , data = arrest_grp, color = \"blue\")\n",
    "plt.title(\"Arrest Percentage\")\n",
    "plt.ylabel(\"Percentage\")\n",
    "plt.xlabel(\"Arrest Status\")"
   ]
  },
  {
   "cell_type": "markdown",
   "id": "d8ee058d",
   "metadata": {},
   "source": [
    "Nearly a quarter of every crime results in an arrest. This large class imbalance will play a factor later when we start building models to predict arrest. "
   ]
  },
  {
   "cell_type": "markdown",
   "id": "f6f21b28",
   "metadata": {},
   "source": [
    "### Arrest Percentage By Primary Type"
   ]
  },
  {
   "cell_type": "code",
   "execution_count": 216,
   "id": "28d22665",
   "metadata": {},
   "outputs": [
    {
     "data": {
      "text/html": [
       "<div>\n",
       "<style scoped>\n",
       "    .dataframe tbody tr th:only-of-type {\n",
       "        vertical-align: middle;\n",
       "    }\n",
       "\n",
       "    .dataframe tbody tr th {\n",
       "        vertical-align: top;\n",
       "    }\n",
       "\n",
       "    .dataframe thead th {\n",
       "        text-align: right;\n",
       "    }\n",
       "</style>\n",
       "<table border=\"1\" class=\"dataframe\">\n",
       "  <thead>\n",
       "    <tr style=\"text-align: right;\">\n",
       "      <th></th>\n",
       "      <th>primary_type</th>\n",
       "      <th>mean</th>\n",
       "      <th>sum</th>\n",
       "    </tr>\n",
       "  </thead>\n",
       "  <tbody>\n",
       "    <tr>\n",
       "      <th>0</th>\n",
       "      <td>PUBLIC INDECENCY</td>\n",
       "      <td>100.0</td>\n",
       "      <td>118</td>\n",
       "    </tr>\n",
       "    <tr>\n",
       "      <th>1</th>\n",
       "      <td>GAMBLING</td>\n",
       "      <td>99.800399</td>\n",
       "      <td>3500</td>\n",
       "    </tr>\n",
       "    <tr>\n",
       "      <th>2</th>\n",
       "      <td>PROSTITUTION</td>\n",
       "      <td>99.670365</td>\n",
       "      <td>12397</td>\n",
       "    </tr>\n",
       "    <tr>\n",
       "      <th>3</th>\n",
       "      <td>NARCOTICS</td>\n",
       "      <td>99.646208</td>\n",
       "      <td>221660</td>\n",
       "    </tr>\n",
       "    <tr>\n",
       "      <th>4</th>\n",
       "      <td>LIQUOR LAW VIOLATION</td>\n",
       "      <td>98.67919</td>\n",
       "      <td>3362</td>\n",
       "    </tr>\n",
       "    <tr>\n",
       "      <th>5</th>\n",
       "      <td>CONCEALED CARRY LICENSE VIOLATION</td>\n",
       "      <td>96.706587</td>\n",
       "      <td>646</td>\n",
       "    </tr>\n",
       "    <tr>\n",
       "      <th>6</th>\n",
       "      <td>INTERFERENCE WITH PUBLIC OFFICER</td>\n",
       "      <td>94.768083</td>\n",
       "      <td>11176</td>\n",
       "    </tr>\n",
       "    <tr>\n",
       "      <th>7</th>\n",
       "      <td>OBSCENITY</td>\n",
       "      <td>78.294574</td>\n",
       "      <td>404</td>\n",
       "    </tr>\n",
       "    <tr>\n",
       "      <th>8</th>\n",
       "      <td>WEAPONS VIOLATION</td>\n",
       "      <td>74.11598</td>\n",
       "      <td>33997</td>\n",
       "    </tr>\n",
       "    <tr>\n",
       "      <th>9</th>\n",
       "      <td>PUBLIC PEACE VIOLATION</td>\n",
       "      <td>71.916804</td>\n",
       "      <td>15698</td>\n",
       "    </tr>\n",
       "    <tr>\n",
       "      <th>10</th>\n",
       "      <td>CRIMINAL TRESPASS</td>\n",
       "      <td>64.992496</td>\n",
       "      <td>45472</td>\n",
       "    </tr>\n",
       "    <tr>\n",
       "      <th>11</th>\n",
       "      <td>HOMICIDE</td>\n",
       "      <td>38.719351</td>\n",
       "      <td>2195</td>\n",
       "    </tr>\n",
       "    <tr>\n",
       "      <th>12</th>\n",
       "      <td>BATTERY</td>\n",
       "      <td>21.897381</td>\n",
       "      <td>112177</td>\n",
       "    </tr>\n",
       "    <tr>\n",
       "      <th>13</th>\n",
       "      <td>SEX OFFENSE</td>\n",
       "      <td>21.307214</td>\n",
       "      <td>2295</td>\n",
       "    </tr>\n",
       "    <tr>\n",
       "      <th>14</th>\n",
       "      <td>ASSAULT</td>\n",
       "      <td>20.780351</td>\n",
       "      <td>39385</td>\n",
       "    </tr>\n",
       "    <tr>\n",
       "      <th>15</th>\n",
       "      <td>OTHER OFFENSE</td>\n",
       "      <td>20.144615</td>\n",
       "      <td>34518</td>\n",
       "    </tr>\n",
       "    <tr>\n",
       "      <th>16</th>\n",
       "      <td>OFFENSE INVOLVING CHILDREN</td>\n",
       "      <td>16.277079</td>\n",
       "      <td>3802</td>\n",
       "    </tr>\n",
       "    <tr>\n",
       "      <th>17</th>\n",
       "      <td>STALKING</td>\n",
       "      <td>14.697877</td>\n",
       "      <td>270</td>\n",
       "    </tr>\n",
       "    <tr>\n",
       "      <th>18</th>\n",
       "      <td>INTIMIDATION</td>\n",
       "      <td>14.02439</td>\n",
       "      <td>207</td>\n",
       "    </tr>\n",
       "    <tr>\n",
       "      <th>19</th>\n",
       "      <td>CRIMINAL SEXUAL ASSAULT</td>\n",
       "      <td>11.474747</td>\n",
       "      <td>1704</td>\n",
       "    </tr>\n",
       "    <tr>\n",
       "      <th>20</th>\n",
       "      <td>THEFT</td>\n",
       "      <td>10.515176</td>\n",
       "      <td>66872</td>\n",
       "    </tr>\n",
       "    <tr>\n",
       "      <th>21</th>\n",
       "      <td>ARSON</td>\n",
       "      <td>9.817046</td>\n",
       "      <td>440</td>\n",
       "    </tr>\n",
       "    <tr>\n",
       "      <th>22</th>\n",
       "      <td>NON-CRIMINAL</td>\n",
       "      <td>9.259259</td>\n",
       "      <td>20</td>\n",
       "    </tr>\n",
       "    <tr>\n",
       "      <th>23</th>\n",
       "      <td>ROBBERY</td>\n",
       "      <td>9.228677</td>\n",
       "      <td>9975</td>\n",
       "    </tr>\n",
       "    <tr>\n",
       "      <th>24</th>\n",
       "      <td>KIDNAPPING</td>\n",
       "      <td>9.018435</td>\n",
       "      <td>181</td>\n",
       "    </tr>\n",
       "    <tr>\n",
       "      <th>25</th>\n",
       "      <td>HUMAN TRAFFICKING</td>\n",
       "      <td>8.695652</td>\n",
       "      <td>6</td>\n",
       "    </tr>\n",
       "    <tr>\n",
       "      <th>26</th>\n",
       "      <td>DECEPTIVE PRACTICE</td>\n",
       "      <td>8.689767</td>\n",
       "      <td>14573</td>\n",
       "    </tr>\n",
       "    <tr>\n",
       "      <th>27</th>\n",
       "      <td>MOTOR VEHICLE THEFT</td>\n",
       "      <td>6.637113</td>\n",
       "      <td>7965</td>\n",
       "    </tr>\n",
       "    <tr>\n",
       "      <th>28</th>\n",
       "      <td>CRIMINAL DAMAGE</td>\n",
       "      <td>6.347423</td>\n",
       "      <td>19037</td>\n",
       "    </tr>\n",
       "    <tr>\n",
       "      <th>29</th>\n",
       "      <td>BURGLARY</td>\n",
       "      <td>5.425325</td>\n",
       "      <td>8274</td>\n",
       "    </tr>\n",
       "  </tbody>\n",
       "</table>\n",
       "</div>"
      ],
      "text/plain": [
       "                         primary_type       mean     sum\n",
       "0                    PUBLIC INDECENCY      100.0     118\n",
       "1                            GAMBLING  99.800399    3500\n",
       "2                        PROSTITUTION  99.670365   12397\n",
       "3                           NARCOTICS  99.646208  221660\n",
       "4                LIQUOR LAW VIOLATION   98.67919    3362\n",
       "5   CONCEALED CARRY LICENSE VIOLATION  96.706587     646\n",
       "6    INTERFERENCE WITH PUBLIC OFFICER  94.768083   11176\n",
       "7                           OBSCENITY  78.294574     404\n",
       "8                   WEAPONS VIOLATION   74.11598   33997\n",
       "9              PUBLIC PEACE VIOLATION  71.916804   15698\n",
       "10                  CRIMINAL TRESPASS  64.992496   45472\n",
       "11                           HOMICIDE  38.719351    2195\n",
       "12                            BATTERY  21.897381  112177\n",
       "13                        SEX OFFENSE  21.307214    2295\n",
       "14                            ASSAULT  20.780351   39385\n",
       "15                      OTHER OFFENSE  20.144615   34518\n",
       "16         OFFENSE INVOLVING CHILDREN  16.277079    3802\n",
       "17                           STALKING  14.697877     270\n",
       "18                       INTIMIDATION   14.02439     207\n",
       "19            CRIMINAL SEXUAL ASSAULT  11.474747    1704\n",
       "20                              THEFT  10.515176   66872\n",
       "21                              ARSON   9.817046     440\n",
       "22                       NON-CRIMINAL   9.259259      20\n",
       "23                            ROBBERY   9.228677    9975\n",
       "24                         KIDNAPPING   9.018435     181\n",
       "25                  HUMAN TRAFFICKING   8.695652       6\n",
       "26                 DECEPTIVE PRACTICE   8.689767   14573\n",
       "27                MOTOR VEHICLE THEFT   6.637113    7965\n",
       "28                    CRIMINAL DAMAGE   6.347423   19037\n",
       "29                           BURGLARY   5.425325    8274"
      ]
     },
     "execution_count": 216,
     "metadata": {},
     "output_type": "execute_result"
    }
   ],
   "source": [
    "#Group by primary type while summarizing arrest\n",
    "crime_grp = chicago_train.groupby(\"primary_type\")[\"arrest\"].aggregate([\"mean\", \"sum\"]).sort_values(by=\"mean\", ascending=False)\n",
    "crime_grp = crime_grp.reset_index()\n",
    "#Change it to a percentage\n",
    "crime_grp[\"mean\"] *= 100\n",
    "crime_grp"
   ]
  },
  {
   "cell_type": "code",
   "execution_count": 225,
   "id": "c082d58f",
   "metadata": {},
   "outputs": [
    {
     "data": {
      "text/plain": [
       "Text(0.5, 0, 'Percentage')"
      ]
     },
     "execution_count": 225,
     "metadata": {},
     "output_type": "execute_result"
    },
    {
     "data": {
      "image/png": "[encoded data removed]",
      "text/plain": [
       "<Figure size 1080x864 with 1 Axes>"
      ]
     },
     "metadata": {},
     "output_type": "display_data"
    }
   ],
   "source": [
    "#Make a bar chart showing the results\n",
    "sns.set(rc = {'figure.figsize':(15,12)})\n",
    "sns.barplot(x=\"mean\", y = \"primary_type\", order = crime_grp[\"primary_type\"], data = crime_grp, color = \"blue\")\n",
    "plt.title(\"Arrest Percentage By Crime Type\")\n",
    "plt.ylabel(\"Crime Type\")\n",
    "plt.xlabel(\"Percentage\")"
   ]
  },
  {
   "cell_type": "markdown",
   "id": "ed823f6e",
   "metadata": {},
   "source": [
    "Interestingly, Narcotic crimes rank 4th of most occurrences and are also 4th in arrest percentage with 99.65%."
   ]
  },
  {
   "cell_type": "markdown",
   "id": "c46f7572",
   "metadata": {},
   "source": [
    "### Arrest Percentage By Location"
   ]
  },
  {
   "cell_type": "code",
   "execution_count": 217,
   "id": "6a5d6c88",
   "metadata": {},
   "outputs": [
    {
     "data": {
      "text/html": [
       "<div>\n",
       "<style scoped>\n",
       "    .dataframe tbody tr th:only-of-type {\n",
       "        vertical-align: middle;\n",
       "    }\n",
       "\n",
       "    .dataframe tbody tr th {\n",
       "        vertical-align: top;\n",
       "    }\n",
       "\n",
       "    .dataframe thead th {\n",
       "        text-align: right;\n",
       "    }\n",
       "</style>\n",
       "<table border=\"1\" class=\"dataframe\">\n",
       "  <thead>\n",
       "    <tr style=\"text-align: right;\">\n",
       "      <th></th>\n",
       "      <th>location_description</th>\n",
       "      <th>mean</th>\n",
       "      <th>sum</th>\n",
       "    </tr>\n",
       "  </thead>\n",
       "  <tbody>\n",
       "    <tr>\n",
       "      <th>0</th>\n",
       "      <td>POLICE</td>\n",
       "      <td>66.689737</td>\n",
       "      <td>6745</td>\n",
       "    </tr>\n",
       "    <tr>\n",
       "      <th>1</th>\n",
       "      <td>SIDEWALK</td>\n",
       "      <td>45.96744</td>\n",
       "      <td>127624</td>\n",
       "    </tr>\n",
       "    <tr>\n",
       "      <th>2</th>\n",
       "      <td>ALLEY</td>\n",
       "      <td>42.081417</td>\n",
       "      <td>24985</td>\n",
       "    </tr>\n",
       "    <tr>\n",
       "      <th>3</th>\n",
       "      <td>STORE</td>\n",
       "      <td>38.10558</td>\n",
       "      <td>66676</td>\n",
       "    </tr>\n",
       "    <tr>\n",
       "      <th>4</th>\n",
       "      <td>BUILDING</td>\n",
       "      <td>36.424434</td>\n",
       "      <td>6100</td>\n",
       "    </tr>\n",
       "    <tr>\n",
       "      <th>5</th>\n",
       "      <td>GAS STATION</td>\n",
       "      <td>36.24641</td>\n",
       "      <td>12115</td>\n",
       "    </tr>\n",
       "    <tr>\n",
       "      <th>6</th>\n",
       "      <td>VACANT</td>\n",
       "      <td>35.206672</td>\n",
       "      <td>3884</td>\n",
       "    </tr>\n",
       "    <tr>\n",
       "      <th>7</th>\n",
       "      <td>LIBRARY</td>\n",
       "      <td>32.337714</td>\n",
       "      <td>812</td>\n",
       "    </tr>\n",
       "    <tr>\n",
       "      <th>8</th>\n",
       "      <td>PARK PROPERTY</td>\n",
       "      <td>31.982863</td>\n",
       "      <td>6868</td>\n",
       "    </tr>\n",
       "    <tr>\n",
       "      <th>9</th>\n",
       "      <td>VEHICLE</td>\n",
       "      <td>29.884435</td>\n",
       "      <td>17119</td>\n",
       "    </tr>\n",
       "    <tr>\n",
       "      <th>10</th>\n",
       "      <td>COLLEGE</td>\n",
       "      <td>29.202106</td>\n",
       "      <td>721</td>\n",
       "    </tr>\n",
       "    <tr>\n",
       "      <th>11</th>\n",
       "      <td>CTA</td>\n",
       "      <td>29.179012</td>\n",
       "      <td>16644</td>\n",
       "    </tr>\n",
       "    <tr>\n",
       "      <th>12</th>\n",
       "      <td>SCHOOL</td>\n",
       "      <td>26.61114</td>\n",
       "      <td>17157</td>\n",
       "    </tr>\n",
       "    <tr>\n",
       "      <th>13</th>\n",
       "      <td>CHA</td>\n",
       "      <td>26.568417</td>\n",
       "      <td>2596</td>\n",
       "    </tr>\n",
       "    <tr>\n",
       "      <th>14</th>\n",
       "      <td>AIRPORT</td>\n",
       "      <td>25.445352</td>\n",
       "      <td>3271</td>\n",
       "    </tr>\n",
       "    <tr>\n",
       "      <th>15</th>\n",
       "      <td>STREET</td>\n",
       "      <td>24.25738</td>\n",
       "      <td>155116</td>\n",
       "    </tr>\n",
       "    <tr>\n",
       "      <th>16</th>\n",
       "      <td>HOTEL</td>\n",
       "      <td>23.629373</td>\n",
       "      <td>3073</td>\n",
       "    </tr>\n",
       "    <tr>\n",
       "      <th>17</th>\n",
       "      <td>PARKING</td>\n",
       "      <td>23.593674</td>\n",
       "      <td>20841</td>\n",
       "    </tr>\n",
       "    <tr>\n",
       "      <th>18</th>\n",
       "      <td>RESTAURANT</td>\n",
       "      <td>17.749731</td>\n",
       "      <td>13220</td>\n",
       "    </tr>\n",
       "    <tr>\n",
       "      <th>19</th>\n",
       "      <td>HOSPITAL</td>\n",
       "      <td>16.988522</td>\n",
       "      <td>3123</td>\n",
       "    </tr>\n",
       "    <tr>\n",
       "      <th>20</th>\n",
       "      <td>APARTMENT</td>\n",
       "      <td>15.861459</td>\n",
       "      <td>58147</td>\n",
       "    </tr>\n",
       "    <tr>\n",
       "      <th>21</th>\n",
       "      <td>WATER</td>\n",
       "      <td>13.93597</td>\n",
       "      <td>222</td>\n",
       "    </tr>\n",
       "    <tr>\n",
       "      <th>22</th>\n",
       "      <td>OTHER</td>\n",
       "      <td>13.717672</td>\n",
       "      <td>15207</td>\n",
       "    </tr>\n",
       "    <tr>\n",
       "      <th>23</th>\n",
       "      <td>RESIDENCE</td>\n",
       "      <td>13.212301</td>\n",
       "      <td>83845</td>\n",
       "    </tr>\n",
       "    <tr>\n",
       "      <th>24</th>\n",
       "      <td>SPORTS</td>\n",
       "      <td>12.10845</td>\n",
       "      <td>920</td>\n",
       "    </tr>\n",
       "    <tr>\n",
       "      <th>25</th>\n",
       "      <td>CHURCH</td>\n",
       "      <td>11.304492</td>\n",
       "      <td>682</td>\n",
       "    </tr>\n",
       "    <tr>\n",
       "      <th>26</th>\n",
       "      <td>BANK</td>\n",
       "      <td>11.039512</td>\n",
       "      <td>2210</td>\n",
       "    </tr>\n",
       "    <tr>\n",
       "      <th>27</th>\n",
       "      <td>OFFICE</td>\n",
       "      <td>10.731886</td>\n",
       "      <td>2047</td>\n",
       "    </tr>\n",
       "    <tr>\n",
       "      <th>28</th>\n",
       "      <td>CONSTRUCTION SITE</td>\n",
       "      <td>10.391127</td>\n",
       "      <td>356</td>\n",
       "    </tr>\n",
       "  </tbody>\n",
       "</table>\n",
       "</div>"
      ],
      "text/plain": [
       "   location_description       mean     sum\n",
       "0                POLICE  66.689737    6745\n",
       "1              SIDEWALK   45.96744  127624\n",
       "2                 ALLEY  42.081417   24985\n",
       "3                 STORE   38.10558   66676\n",
       "4              BUILDING  36.424434    6100\n",
       "5           GAS STATION   36.24641   12115\n",
       "6                VACANT  35.206672    3884\n",
       "7               LIBRARY  32.337714     812\n",
       "8         PARK PROPERTY  31.982863    6868\n",
       "9               VEHICLE  29.884435   17119\n",
       "10              COLLEGE  29.202106     721\n",
       "11                  CTA  29.179012   16644\n",
       "12               SCHOOL   26.61114   17157\n",
       "13                  CHA  26.568417    2596\n",
       "14              AIRPORT  25.445352    3271\n",
       "15               STREET   24.25738  155116\n",
       "16                HOTEL  23.629373    3073\n",
       "17              PARKING  23.593674   20841\n",
       "18           RESTAURANT  17.749731   13220\n",
       "19             HOSPITAL  16.988522    3123\n",
       "20            APARTMENT  15.861459   58147\n",
       "21                WATER   13.93597     222\n",
       "22                OTHER  13.717672   15207\n",
       "23            RESIDENCE  13.212301   83845\n",
       "24               SPORTS   12.10845     920\n",
       "25               CHURCH  11.304492     682\n",
       "26                 BANK  11.039512    2210\n",
       "27               OFFICE  10.731886    2047\n",
       "28    CONSTRUCTION SITE  10.391127     356"
      ]
     },
     "execution_count": 217,
     "metadata": {},
     "output_type": "execute_result"
    }
   ],
   "source": [
    "#Group by location while summarizing arrest\n",
    "descrip_grp = chicago_train.groupby(\"location_description\")[\"arrest\"].aggregate([\"mean\", \"sum\"]).sort_values(by=\"mean\", ascending=False)\n",
    "descrip_grp = descrip_grp.reset_index()\n",
    "#Change to percentage\n",
    "descrip_grp[\"mean\"] *= 100\n",
    "descrip_grp"
   ]
  },
  {
   "cell_type": "code",
   "execution_count": 226,
   "id": "e65ab0bb",
   "metadata": {},
   "outputs": [
    {
     "data": {
      "text/plain": [
       "Text(0.5, 0, 'Percentage')"
      ]
     },
     "execution_count": 226,
     "metadata": {},
     "output_type": "execute_result"
    },
    {
     "data": {
      "image/png": "[encoded data removed]",
      "text/plain": [
       "<Figure size 1080x720 with 1 Axes>"
      ]
     },
     "metadata": {},
     "output_type": "display_data"
    }
   ],
   "source": [
    "#Make a bar chart of the results\n",
    "sns.set(rc = {'figure.figsize':(15,10)})\n",
    "sns.barplot(x=\"mean\", y = \"location_description\", order = descrip_grp[\"location_description\"] \\\n",
    "                                            , data = descrip_grp, color = \"blue\")\n",
    "plt.title(\"Arrest Percentage By Location Description\")\n",
    "plt.ylabel(\"Location Description\")\n",
    "plt.xlabel(\"Percentage\")"
   ]
  },
  {
   "cell_type": "markdown",
   "id": "2e5894ab",
   "metadata": {},
   "source": [
    "It should be no surprise that the police location has the highest arrest percentage at 66.69%. What is surprising is that the bank location has such a low arrest percentage at only 11.04% with the numerous security measures in place."
   ]
  },
  {
   "cell_type": "markdown",
   "id": "01f5b0f9",
   "metadata": {},
   "source": [
    "### Arrest Percentage By Month"
   ]
  },
  {
   "cell_type": "code",
   "execution_count": 138,
   "id": "8abf1770",
   "metadata": {},
   "outputs": [
    {
     "data": {
      "text/html": [
       "<div>\n",
       "<style scoped>\n",
       "    .dataframe tbody tr th:only-of-type {\n",
       "        vertical-align: middle;\n",
       "    }\n",
       "\n",
       "    .dataframe tbody tr th {\n",
       "        vertical-align: top;\n",
       "    }\n",
       "\n",
       "    .dataframe thead th {\n",
       "        text-align: right;\n",
       "    }\n",
       "</style>\n",
       "<table border=\"1\" class=\"dataframe\">\n",
       "  <thead>\n",
       "    <tr style=\"text-align: right;\">\n",
       "      <th></th>\n",
       "      <th>Month</th>\n",
       "      <th>mean</th>\n",
       "      <th>sum</th>\n",
       "    </tr>\n",
       "  </thead>\n",
       "  <tbody>\n",
       "    <tr>\n",
       "      <th>0</th>\n",
       "      <td>1</td>\n",
       "      <td>25.346166</td>\n",
       "      <td>56489</td>\n",
       "    </tr>\n",
       "    <tr>\n",
       "      <th>1</th>\n",
       "      <td>2</td>\n",
       "      <td>27.038472</td>\n",
       "      <td>52423</td>\n",
       "    </tr>\n",
       "    <tr>\n",
       "      <th>2</th>\n",
       "      <td>3</td>\n",
       "      <td>26.31062</td>\n",
       "      <td>59738</td>\n",
       "    </tr>\n",
       "    <tr>\n",
       "      <th>3</th>\n",
       "      <td>4</td>\n",
       "      <td>24.718405</td>\n",
       "      <td>55455</td>\n",
       "    </tr>\n",
       "    <tr>\n",
       "      <th>4</th>\n",
       "      <td>5</td>\n",
       "      <td>24.135185</td>\n",
       "      <td>60609</td>\n",
       "    </tr>\n",
       "    <tr>\n",
       "      <th>5</th>\n",
       "      <td>6</td>\n",
       "      <td>23.172975</td>\n",
       "      <td>58569</td>\n",
       "    </tr>\n",
       "    <tr>\n",
       "      <th>6</th>\n",
       "      <td>7</td>\n",
       "      <td>23.132918</td>\n",
       "      <td>61079</td>\n",
       "    </tr>\n",
       "    <tr>\n",
       "      <th>7</th>\n",
       "      <td>8</td>\n",
       "      <td>23.004397</td>\n",
       "      <td>60119</td>\n",
       "    </tr>\n",
       "    <tr>\n",
       "      <th>8</th>\n",
       "      <td>9</td>\n",
       "      <td>23.168652</td>\n",
       "      <td>55839</td>\n",
       "    </tr>\n",
       "    <tr>\n",
       "      <th>9</th>\n",
       "      <td>10</td>\n",
       "      <td>22.63928</td>\n",
       "      <td>54416</td>\n",
       "    </tr>\n",
       "    <tr>\n",
       "      <th>10</th>\n",
       "      <td>11</td>\n",
       "      <td>22.894988</td>\n",
       "      <td>50143</td>\n",
       "    </tr>\n",
       "    <tr>\n",
       "      <th>11</th>\n",
       "      <td>12</td>\n",
       "      <td>21.879093</td>\n",
       "      <td>47447</td>\n",
       "    </tr>\n",
       "  </tbody>\n",
       "</table>\n",
       "</div>"
      ],
      "text/plain": [
       "    Month       mean    sum\n",
       "0       1  25.346166  56489\n",
       "1       2  27.038472  52423\n",
       "2       3   26.31062  59738\n",
       "3       4  24.718405  55455\n",
       "4       5  24.135185  60609\n",
       "5       6  23.172975  58569\n",
       "6       7  23.132918  61079\n",
       "7       8  23.004397  60119\n",
       "8       9  23.168652  55839\n",
       "9      10   22.63928  54416\n",
       "10     11  22.894988  50143\n",
       "11     12  21.879093  47447"
      ]
     },
     "execution_count": 138,
     "metadata": {},
     "output_type": "execute_result"
    }
   ],
   "source": [
    "#Group by month while summarizing arrest\n",
    "month_grp = chicago_train.groupby(\"Month\")[\"arrest\"].aggregate([\"mean\", \"sum\"])\n",
    "month_grp = month_grp.reset_index()\n",
    "#Change to percentage\n",
    "month_grp[\"mean\"] *= 100\n",
    "month_grp"
   ]
  },
  {
   "cell_type": "code",
   "execution_count": 227,
   "id": "868b1f9b",
   "metadata": {},
   "outputs": [
    {
     "data": {
      "text/plain": [
       "Text(0.5, 0, 'Month')"
      ]
     },
     "execution_count": 227,
     "metadata": {},
     "output_type": "execute_result"
    },
    {
     "data": {
      "image/png": "[encoded data removed]",
      "text/plain": [
       "<Figure size 1080x720 with 1 Axes>"
      ]
     },
     "metadata": {},
     "output_type": "display_data"
    }
   ],
   "source": [
    "#Make a bar chart of the results\n",
    "sns.set(rc = {'figure.figsize':(15,10)})\n",
    "sns.barplot(x=\"Month\", y = \"mean\", order = month_grp[\"Month\"] \\\n",
    "                                            , data = month_grp, color = \"blue\")\n",
    "plt.title(\"Arrest Percentage By Month\")\n",
    "plt.ylabel(\"Percentage\")\n",
    "plt.xlabel(\"Month\")"
   ]
  },
  {
   "cell_type": "markdown",
   "id": "04d8a91e",
   "metadata": {},
   "source": [
    "We see that the first few months have the highest arrest percentage compared to the end of the year."
   ]
  },
  {
   "cell_type": "markdown",
   "id": "fda54357",
   "metadata": {},
   "source": [
    "### Arrest Percentage By Hour"
   ]
  },
  {
   "cell_type": "code",
   "execution_count": 149,
   "id": "78b8f02e",
   "metadata": {},
   "outputs": [
    {
     "data": {
      "text/html": [
       "<div>\n",
       "<style scoped>\n",
       "    .dataframe tbody tr th:only-of-type {\n",
       "        vertical-align: middle;\n",
       "    }\n",
       "\n",
       "    .dataframe tbody tr th {\n",
       "        vertical-align: top;\n",
       "    }\n",
       "\n",
       "    .dataframe thead th {\n",
       "        text-align: right;\n",
       "    }\n",
       "</style>\n",
       "<table border=\"1\" class=\"dataframe\">\n",
       "  <thead>\n",
       "    <tr style=\"text-align: right;\">\n",
       "      <th></th>\n",
       "      <th>Hour</th>\n",
       "      <th>mean</th>\n",
       "      <th>sum</th>\n",
       "    </tr>\n",
       "  </thead>\n",
       "  <tbody>\n",
       "    <tr>\n",
       "      <th>0</th>\n",
       "      <td>0</td>\n",
       "      <td>19.375899</td>\n",
       "      <td>27600</td>\n",
       "    </tr>\n",
       "    <tr>\n",
       "      <th>1</th>\n",
       "      <td>1</td>\n",
       "      <td>23.391051</td>\n",
       "      <td>19939</td>\n",
       "    </tr>\n",
       "    <tr>\n",
       "      <th>2</th>\n",
       "      <td>2</td>\n",
       "      <td>21.270268</td>\n",
       "      <td>15519</td>\n",
       "    </tr>\n",
       "    <tr>\n",
       "      <th>3</th>\n",
       "      <td>3</td>\n",
       "      <td>18.817624</td>\n",
       "      <td>11322</td>\n",
       "    </tr>\n",
       "    <tr>\n",
       "      <th>4</th>\n",
       "      <td>4</td>\n",
       "      <td>16.385735</td>\n",
       "      <td>7563</td>\n",
       "    </tr>\n",
       "    <tr>\n",
       "      <th>5</th>\n",
       "      <td>5</td>\n",
       "      <td>13.201419</td>\n",
       "      <td>5284</td>\n",
       "    </tr>\n",
       "    <tr>\n",
       "      <th>6</th>\n",
       "      <td>6</td>\n",
       "      <td>18.085595</td>\n",
       "      <td>8663</td>\n",
       "    </tr>\n",
       "    <tr>\n",
       "      <th>7</th>\n",
       "      <td>7</td>\n",
       "      <td>15.620968</td>\n",
       "      <td>10412</td>\n",
       "    </tr>\n",
       "    <tr>\n",
       "      <th>8</th>\n",
       "      <td>8</td>\n",
       "      <td>16.594596</td>\n",
       "      <td>16348</td>\n",
       "    </tr>\n",
       "    <tr>\n",
       "      <th>9</th>\n",
       "      <td>9</td>\n",
       "      <td>16.002546</td>\n",
       "      <td>20867</td>\n",
       "    </tr>\n",
       "    <tr>\n",
       "      <th>10</th>\n",
       "      <td>10</td>\n",
       "      <td>24.500893</td>\n",
       "      <td>30730</td>\n",
       "    </tr>\n",
       "    <tr>\n",
       "      <th>11</th>\n",
       "      <td>11</td>\n",
       "      <td>29.152213</td>\n",
       "      <td>37818</td>\n",
       "    </tr>\n",
       "    <tr>\n",
       "      <th>12</th>\n",
       "      <td>12</td>\n",
       "      <td>21.991529</td>\n",
       "      <td>36553</td>\n",
       "    </tr>\n",
       "    <tr>\n",
       "      <th>13</th>\n",
       "      <td>13</td>\n",
       "      <td>25.321529</td>\n",
       "      <td>34179</td>\n",
       "    </tr>\n",
       "    <tr>\n",
       "      <th>14</th>\n",
       "      <td>14</td>\n",
       "      <td>24.328413</td>\n",
       "      <td>34894</td>\n",
       "    </tr>\n",
       "    <tr>\n",
       "      <th>15</th>\n",
       "      <td>15</td>\n",
       "      <td>23.301663</td>\n",
       "      <td>35954</td>\n",
       "    </tr>\n",
       "    <tr>\n",
       "      <th>16</th>\n",
       "      <td>16</td>\n",
       "      <td>23.751589</td>\n",
       "      <td>35121</td>\n",
       "    </tr>\n",
       "    <tr>\n",
       "      <th>17</th>\n",
       "      <td>17</td>\n",
       "      <td>22.662656</td>\n",
       "      <td>33606</td>\n",
       "    </tr>\n",
       "    <tr>\n",
       "      <th>18</th>\n",
       "      <td>18</td>\n",
       "      <td>25.750706</td>\n",
       "      <td>40665</td>\n",
       "    </tr>\n",
       "    <tr>\n",
       "      <th>19</th>\n",
       "      <td>19</td>\n",
       "      <td>31.16113</td>\n",
       "      <td>49922</td>\n",
       "    </tr>\n",
       "    <tr>\n",
       "      <th>20</th>\n",
       "      <td>20</td>\n",
       "      <td>29.737567</td>\n",
       "      <td>45530</td>\n",
       "    </tr>\n",
       "    <tr>\n",
       "      <th>21</th>\n",
       "      <td>21</td>\n",
       "      <td>28.862406</td>\n",
       "      <td>41462</td>\n",
       "    </tr>\n",
       "    <tr>\n",
       "      <th>22</th>\n",
       "      <td>22</td>\n",
       "      <td>27.769291</td>\n",
       "      <td>39446</td>\n",
       "    </tr>\n",
       "    <tr>\n",
       "      <th>23</th>\n",
       "      <td>23</td>\n",
       "      <td>28.141318</td>\n",
       "      <td>32929</td>\n",
       "    </tr>\n",
       "  </tbody>\n",
       "</table>\n",
       "</div>"
      ],
      "text/plain": [
       "    Hour       mean    sum\n",
       "0      0  19.375899  27600\n",
       "1      1  23.391051  19939\n",
       "2      2  21.270268  15519\n",
       "3      3  18.817624  11322\n",
       "4      4  16.385735   7563\n",
       "5      5  13.201419   5284\n",
       "6      6  18.085595   8663\n",
       "7      7  15.620968  10412\n",
       "8      8  16.594596  16348\n",
       "9      9  16.002546  20867\n",
       "10    10  24.500893  30730\n",
       "11    11  29.152213  37818\n",
       "12    12  21.991529  36553\n",
       "13    13  25.321529  34179\n",
       "14    14  24.328413  34894\n",
       "15    15  23.301663  35954\n",
       "16    16  23.751589  35121\n",
       "17    17  22.662656  33606\n",
       "18    18  25.750706  40665\n",
       "19    19   31.16113  49922\n",
       "20    20  29.737567  45530\n",
       "21    21  28.862406  41462\n",
       "22    22  27.769291  39446\n",
       "23    23  28.141318  32929"
      ]
     },
     "execution_count": 149,
     "metadata": {},
     "output_type": "execute_result"
    }
   ],
   "source": [
    "#Group by Hour while summarizing Arrest\n",
    "hour_grp = chicago_train.groupby(\"Hour\")[\"arrest\"].aggregate([\"mean\", \"sum\"])\n",
    "hour_grp = hour_grp.reset_index()\n",
    "#Change to a percentage\n",
    "hour_grp[\"mean\"] *= 100\n",
    "hour_grp"
   ]
  },
  {
   "cell_type": "code",
   "execution_count": 228,
   "id": "df6ee876",
   "metadata": {},
   "outputs": [
    {
     "data": {
      "text/plain": [
       "Text(0.5, 0, 'Hour')"
      ]
     },
     "execution_count": 228,
     "metadata": {},
     "output_type": "execute_result"
    },
    {
     "data": {
      "image/png": "[encoded data removed]",
      "text/plain": [
       "<Figure size 1080x720 with 1 Axes>"
      ]
     },
     "metadata": {},
     "output_type": "display_data"
    }
   ],
   "source": [
    "sns.set(rc = {'figure.figsize':(15,10)})\n",
    "sns.barplot(x=\"Hour\", y = \"mean\", order = hour_grp[\"Hour\"] \\\n",
    "                                            , data = hour_grp, color = \"blue\")\n",
    "plt.title(\"Arrest Percentage By Hour\")\n",
    "plt.ylabel(\"Percentage\")\n",
    "plt.xlabel(\"Hour\")"
   ]
  },
  {
   "cell_type": "markdown",
   "id": "e350d0da",
   "metadata": {},
   "source": [
    "We see that there are large discrepancies for the arrest percentage by hour of the day. Let's investigate this seeing if we can find an explanation. We'll look at the two extremes: 5am vs. 7pm. "
   ]
  },
  {
   "cell_type": "markdown",
   "id": "027f6123",
   "metadata": {},
   "source": [
    "### Arrest Percentage By Primary Type Grouped By 5am and 7pm"
   ]
  },
  {
   "cell_type": "code",
   "execution_count": 220,
   "id": "e73eb92d",
   "metadata": {},
   "outputs": [],
   "source": [
    "#Make a boolean mask for the 5th hour\n",
    "mask = chicago_train[\"Hour\"] == 5\n",
    "\n",
    "#Group by primary type while summarizing arrest\n",
    "crime_grp_5 = chicago_train.loc[mask].groupby(\"primary_type\")[\"arrest\"].aggregate([\"mean\", \"sum\"])\n",
    "crime_grp_5 = crime_grp_5.reset_index()\n",
    "#Change it to a percentage\n",
    "crime_grp_5[\"mean\"] *= 100\n",
    "#Add an Hour column\n",
    "crime_grp_5[\"Hour\"] = \"5am\"\n",
    "\n",
    "#Make a boolean mask for the 19th hour\n",
    "mask = chicago_train[\"Hour\"] == 19\n",
    "\n",
    "#Group by primary type while summarizing arrest\n",
    "crime_grp_19 = chicago_train.loc[mask].groupby(\"primary_type\")[\"arrest\"].aggregate([\"mean\", \"sum\"])\n",
    "crime_grp_19 = crime_grp_19.reset_index()\n",
    "#Change it to a percentage\n",
    "crime_grp_19[\"mean\"] *= 100\n",
    "crime_grp_19[\"Hour\"] = \"7pm\"\n",
    "#crime_grp_19\n",
    "\n",
    "#Concat the two data frames\n",
    "crime_grp_hour = pd.concat([crime_grp_5, crime_grp_19])\n",
    "#Sort by arrest percentage\n",
    "crime_grp_hour.sort_values(by=\"mean\", ascending = False, inplace=True)"
   ]
  },
  {
   "cell_type": "code",
   "execution_count": 229,
   "id": "4ab8dd26",
   "metadata": {
    "scrolled": false
   },
   "outputs": [
    {
     "data": {
      "text/plain": [
       "Text(0.5, 0, 'Percentage')"
      ]
     },
     "execution_count": 229,
     "metadata": {},
     "output_type": "execute_result"
    },
    {
     "data": {
      "image/png": "[encoded data removed]",
      "text/plain": [
       "<Figure size 1080x936 with 1 Axes>"
      ]
     },
     "metadata": {},
     "output_type": "display_data"
    }
   ],
   "source": [
    "#Make a bar chart showing the results\n",
    "sns.set(rc = {'figure.figsize':(15,13)})\n",
    "sns.barplot(x=\"mean\", y = \"primary_type\", data = crime_grp_hour, hue = \"Hour\")\n",
    "plt.title(\"Arrest Percentage By Crime Type Grouped by 5am and 7pm\")\n",
    "plt.ylabel(\"Crime Type\")\n",
    "plt.xlabel(\"Percentage\")"
   ]
  },
  {
   "cell_type": "markdown",
   "id": "7f1e35c6",
   "metadata": {},
   "source": [
    "### Arrest Percentage By Location Grouped By 5am and 7pm"
   ]
  },
  {
   "cell_type": "code",
   "execution_count": 230,
   "id": "1b961acb",
   "metadata": {},
   "outputs": [],
   "source": [
    "#Make a boolean mask for the 5th hour\n",
    "mask = chicago_train[\"Hour\"] == 5\n",
    "\n",
    "#Group by location description while summarizing by arrest\n",
    "loc_grp_5 = chicago_train.loc[mask].groupby(\"location_description\")[\"arrest\"].aggregate([\"mean\", \"sum\"])\n",
    "loc_grp_5 = loc_grp_5.reset_index()\n",
    "#Change it to a percentage\n",
    "loc_grp_5[\"mean\"] *= 100\n",
    "#Add an Hour column\n",
    "loc_grp_5[\"Hour\"] = \"5am\"\n",
    "\n",
    "#Make a boolean mask for the 19th hour\n",
    "mask = chicago_train[\"Hour\"] == 19\n",
    "\n",
    "#Group by location description while summarizing by arrest\n",
    "loc_grp_19 = chicago_train.loc[mask].groupby(\"location_description\")[\"arrest\"].aggregate([\"mean\", \"sum\"])\n",
    "loc_grp_19 = loc_grp_19.reset_index()\n",
    "#Change it to a percentage\n",
    "loc_grp_19[\"mean\"] *= 100\n",
    "loc_grp_19[\"Hour\"] = \"7pm\"\n",
    "\n",
    "#Concat the two data frames\n",
    "loc_grp_hour = pd.concat([loc_grp_5, loc_grp_19])\n",
    "#Sort by arrest percentage\n",
    "loc_grp_hour.sort_values(by=\"mean\", ascending = False, inplace=True)"
   ]
  },
  {
   "cell_type": "code",
   "execution_count": 231,
   "id": "ea543d79",
   "metadata": {},
   "outputs": [
    {
     "data": {
      "text/plain": [
       "Text(0.5, 0, 'Percentage')"
      ]
     },
     "execution_count": 231,
     "metadata": {},
     "output_type": "execute_result"
    },
    {
     "data": {
      "image/png": "[encoded data removed]",
      "text/plain": [
       "<Figure size 1080x936 with 1 Axes>"
      ]
     },
     "metadata": {},
     "output_type": "display_data"
    }
   ],
   "source": [
    "#Make a bar chart showing the results\n",
    "sns.set(rc = {'figure.figsize':(15,13)})\n",
    "sns.barplot(x=\"mean\", y = \"location_description\", data = loc_grp_hour, hue = \"Hour\")\n",
    "plt.title(\"Arrest Percentage By Location Grouped by 5am and 7pm\")\n",
    "plt.ylabel(\"Location\")\n",
    "plt.xlabel(\"Percentage\")"
   ]
  },
  {
   "cell_type": "markdown",
   "id": "ce3b2119",
   "metadata": {},
   "source": [
    "It's important to correctly dissect what is happening in both of these graphs. At first glance, it may seem that 7pm simply has more occurrences of each crime or location compared to 5am. That may be true but that's not what is being shown. What is being shown is that given a crime occured at a \"VACANT\" location, the arrest percentage at 7pm is 57.41% compared to 11.39% for example. Therefore, for nearly every crime and location 7pm makes more arrests than 5am. This is probably because there are more officers working but the data does not provide the information to conclude that claim.  "
   ]
  },
  {
   "cell_type": "markdown",
   "id": "00cc7aab",
   "metadata": {},
   "source": [
    "### Arrest Percentage By District"
   ]
  },
  {
   "cell_type": "code",
   "execution_count": 200,
   "id": "f8c5bc40",
   "metadata": {},
   "outputs": [
    {
     "data": {
      "text/html": [
       "<div>\n",
       "<style scoped>\n",
       "    .dataframe tbody tr th:only-of-type {\n",
       "        vertical-align: middle;\n",
       "    }\n",
       "\n",
       "    .dataframe tbody tr th {\n",
       "        vertical-align: top;\n",
       "    }\n",
       "\n",
       "    .dataframe thead th {\n",
       "        text-align: right;\n",
       "    }\n",
       "</style>\n",
       "<table border=\"1\" class=\"dataframe\">\n",
       "  <thead>\n",
       "    <tr style=\"text-align: right;\">\n",
       "      <th></th>\n",
       "      <th>district_name</th>\n",
       "      <th>mean</th>\n",
       "      <th>sum</th>\n",
       "    </tr>\n",
       "  </thead>\n",
       "  <tbody>\n",
       "    <tr>\n",
       "      <th>0</th>\n",
       "      <td>West</td>\n",
       "      <td>30.380059</td>\n",
       "      <td>215761</td>\n",
       "    </tr>\n",
       "    <tr>\n",
       "      <th>1</th>\n",
       "      <td>Southwest</td>\n",
       "      <td>25.64398</td>\n",
       "      <td>103266</td>\n",
       "    </tr>\n",
       "    <tr>\n",
       "      <th>2</th>\n",
       "      <td>Far Southeast</td>\n",
       "      <td>24.422617</td>\n",
       "      <td>81880</td>\n",
       "    </tr>\n",
       "    <tr>\n",
       "      <th>3</th>\n",
       "      <td>South</td>\n",
       "      <td>21.928145</td>\n",
       "      <td>82586</td>\n",
       "    </tr>\n",
       "    <tr>\n",
       "      <th>4</th>\n",
       "      <td>Far Southwest</td>\n",
       "      <td>21.829679</td>\n",
       "      <td>38940</td>\n",
       "    </tr>\n",
       "    <tr>\n",
       "      <th>5</th>\n",
       "      <td>Central</td>\n",
       "      <td>21.049866</td>\n",
       "      <td>44062</td>\n",
       "    </tr>\n",
       "    <tr>\n",
       "      <th>6</th>\n",
       "      <td>Far North</td>\n",
       "      <td>19.157742</td>\n",
       "      <td>47261</td>\n",
       "    </tr>\n",
       "    <tr>\n",
       "      <th>7</th>\n",
       "      <td>Northwest</td>\n",
       "      <td>18.663929</td>\n",
       "      <td>29179</td>\n",
       "    </tr>\n",
       "    <tr>\n",
       "      <th>8</th>\n",
       "      <td>North</td>\n",
       "      <td>14.76052</td>\n",
       "      <td>29391</td>\n",
       "    </tr>\n",
       "  </tbody>\n",
       "</table>\n",
       "</div>"
      ],
      "text/plain": [
       "   district_name       mean     sum\n",
       "0           West  30.380059  215761\n",
       "1      Southwest   25.64398  103266\n",
       "2  Far Southeast  24.422617   81880\n",
       "3          South  21.928145   82586\n",
       "4  Far Southwest  21.829679   38940\n",
       "5        Central  21.049866   44062\n",
       "6      Far North  19.157742   47261\n",
       "7      Northwest  18.663929   29179\n",
       "8          North   14.76052   29391"
      ]
     },
     "execution_count": 200,
     "metadata": {},
     "output_type": "execute_result"
    }
   ],
   "source": [
    "#Group by district while summarizing by arrest\n",
    "district_grp = chicago_train.groupby(\"district_name\")[\"arrest\"].aggregate([\"mean\", \"sum\"]).sort_values(by=\"mean\", ascending = False)\n",
    "district_grp = district_grp.reset_index()\n",
    "#Change to a percentage\n",
    "district_grp[\"mean\"] *= 100\n",
    "district_grp"
   ]
  },
  {
   "cell_type": "code",
   "execution_count": 233,
   "id": "51f5b350",
   "metadata": {},
   "outputs": [
    {
     "data": {
      "text/plain": [
       "Text(0.5, 0, 'District')"
      ]
     },
     "execution_count": 233,
     "metadata": {},
     "output_type": "execute_result"
    },
    {
     "data": {
      "image/png": "[encoded data removed]",
      "text/plain": [
       "<Figure size 1080x720 with 1 Axes>"
      ]
     },
     "metadata": {},
     "output_type": "display_data"
    }
   ],
   "source": [
    "#Make a bar chart with the results\n",
    "sns.set(rc = {'figure.figsize':(15,10)})\n",
    "sns.barplot(x=\"district_name\", y = \"mean\", order = district_grp[\"district_name\"] \\\n",
    "                                            , data = district_grp, color = \"blue\")\n",
    "plt.title(\"Arrest Percentage By District\")\n",
    "plt.ylabel(\"Percentage\")\n",
    "plt.xlabel(\"District\")"
   ]
  },
  {
   "cell_type": "markdown",
   "id": "79be5652",
   "metadata": {},
   "source": [
    "Again, we see a fairly large discrepancy between the highest district, West, compared to the lowest district, North. Let's see if we can again break this down. "
   ]
  },
  {
   "cell_type": "markdown",
   "id": "4ab8940c",
   "metadata": {},
   "source": [
    "### Arrest Percentage By Primary Type Grouped By West and North Districts"
   ]
  },
  {
   "cell_type": "code",
   "execution_count": 234,
   "id": "fe1fac5e",
   "metadata": {},
   "outputs": [],
   "source": [
    "#Make a boolean mask for the West District\n",
    "mask = chicago_train[\"district_name\"] == \"West\"\n",
    "\n",
    "#Group by primary type while summarizing by arrest\n",
    "crm_grp_west = chicago_train.loc[mask].groupby(\"primary_type\")[\"arrest\"].aggregate([\"mean\", \"sum\"])\n",
    "crm_grp_west = crm_grp_west.reset_index()\n",
    "#Change it to a percentage\n",
    "crm_grp_west[\"mean\"] *= 100\n",
    "#Add an Hour column\n",
    "crm_grp_west[\"District\"] = \"West\"\n",
    "\n",
    "#Make a boolean mask for the North District\n",
    "mask = chicago_train[\"district_name\"] == \"North\"\n",
    "\n",
    "#Group by primary type while summarizing by arrest\n",
    "crm_grp_north = chicago_train.loc[mask].groupby(\"primary_type\")[\"arrest\"].aggregate([\"mean\", \"sum\"])\n",
    "crm_grp_north = crm_grp_north.reset_index()\n",
    "#Change it to a percentage\n",
    "crm_grp_north[\"mean\"] *= 100\n",
    "crm_grp_north[\"District\"] = \"North\"\n",
    "\n",
    "#Concat the two data frames\n",
    "crm_grp_dst = pd.concat([crm_grp_west, crm_grp_north])\n",
    "#Sort by arrest percentage\n",
    "crm_grp_dst.sort_values(by=\"mean\", ascending = False, inplace=True)"
   ]
  },
  {
   "cell_type": "code",
   "execution_count": 237,
   "id": "4c53647f",
   "metadata": {
    "scrolled": false
   },
   "outputs": [
    {
     "data": {
      "text/plain": [
       "Text(0.5, 0, 'Percentage')"
      ]
     },
     "execution_count": 237,
     "metadata": {},
     "output_type": "execute_result"
    },
    {
     "data": {
      "image/png": "[encoded data removed]",
      "text/plain": [
       "<Figure size 1080x936 with 1 Axes>"
      ]
     },
     "metadata": {},
     "output_type": "display_data"
    }
   ],
   "source": [
    "#Make a bar chart showing the results\n",
    "sns.set(rc = {'figure.figsize':(15,13)})\n",
    "sns.barplot(x=\"mean\", y = \"primary_type\", data = crm_grp_dst, hue = \"District\")\n",
    "plt.title(\"Arrest Percentage By Location Grouped by 5am and 7pm\")\n",
    "plt.ylabel(\"Crime Type\")\n",
    "plt.xlabel(\"Percentage\")"
   ]
  },
  {
   "cell_type": "markdown",
   "id": "0a4543f4",
   "metadata": {},
   "source": [
    "### Arrest Percentage By Location Grouped By West and North Districts"
   ]
  },
  {
   "cell_type": "code",
   "execution_count": 213,
   "id": "8aa270dd",
   "metadata": {},
   "outputs": [],
   "source": [
    "#Make a boolean mask for the West District\n",
    "mask = chicago_train[\"district_name\"] == \"West\"\n",
    "\n",
    "#Group by primary type while summarizing by arrest\n",
    "loc_grp_west = chicago_train.loc[mask].groupby(\"location_description\")[\"arrest\"].aggregate([\"mean\", \"sum\"])\n",
    "loc_grp_west = loc_grp_west.reset_index()\n",
    "#Change it to a percentage\n",
    "loc_grp_west[\"mean\"] *= 100\n",
    "#Add an Hour column\n",
    "loc_grp_west[\"District\"] = \"West\"\n",
    "\n",
    "#Make a boolean mask for the North District\n",
    "mask = chicago_train[\"district_name\"] == \"North\"\n",
    "\n",
    "#Group by primary type while summarizing by arrest\n",
    "loc_grp_north = chicago_train.loc[mask].groupby(\"location_description\")[\"arrest\"].aggregate([\"mean\", \"sum\"])\n",
    "loc_grp_north = loc_grp_north.reset_index()\n",
    "#Change it to a percentage\n",
    "loc_grp_north[\"mean\"] *= 100\n",
    "loc_grp_north[\"District\"] = \"North\"\n",
    "\n",
    "#Concat the two data frames\n",
    "loc_grp_dst = pd.concat([loc_grp_west, loc_grp_north])\n",
    "#Sort by arrest percentage\n",
    "loc_grp_dst.sort_values(by=\"mean\", ascending = False, inplace=True)"
   ]
  },
  {
   "cell_type": "code",
   "execution_count": 238,
   "id": "03ef68cc",
   "metadata": {},
   "outputs": [
    {
     "data": {
      "text/plain": [
       "Text(0.5, 0, 'Percentage')"
      ]
     },
     "execution_count": 238,
     "metadata": {},
     "output_type": "execute_result"
    },
    {
     "data": {
      "image/png": "[encoded data removed]",
      "text/plain": [
       "<Figure size 1080x936 with 1 Axes>"
      ]
     },
     "metadata": {},
     "output_type": "display_data"
    }
   ],
   "source": [
    "#Make a bar chart showing the results\n",
    "sns.set(rc = {'figure.figsize':(15,13)})\n",
    "sns.barplot(x=\"mean\", y = \"location_description\", data = loc_grp_dst, hue = \"District\")\n",
    "plt.title(\"Arrest Percentage By Location Grouped by 5am and 7pm\")\n",
    "plt.ylabel(\"Location\")\n",
    "plt.xlabel(\"Percentage\")"
   ]
  },
  {
   "cell_type": "markdown",
   "id": "fa0b4658",
   "metadata": {},
   "source": [
    "We can see that when comparing the arrest status of crime type grouped by the West and North district there is little to no difference. However, when comparing the arrest status of location grouped by the West and North district is when the overall difference between the West and North district becomes clear. The arrest percentage of the West district for each location is higher than nearly every location of the North district. "
   ]
  },
  {
   "cell_type": "markdown",
   "id": "14a63374",
   "metadata": {},
   "source": [
    "### Arrest Percentage By Community Name"
   ]
  },
  {
   "cell_type": "code",
   "execution_count": 239,
   "id": "785f3732",
   "metadata": {},
   "outputs": [
    {
     "data": {
      "text/html": [
       "<div>\n",
       "<style scoped>\n",
       "    .dataframe tbody tr th:only-of-type {\n",
       "        vertical-align: middle;\n",
       "    }\n",
       "\n",
       "    .dataframe tbody tr th {\n",
       "        vertical-align: top;\n",
       "    }\n",
       "\n",
       "    .dataframe thead th {\n",
       "        text-align: right;\n",
       "    }\n",
       "</style>\n",
       "<table border=\"1\" class=\"dataframe\">\n",
       "  <thead>\n",
       "    <tr style=\"text-align: right;\">\n",
       "      <th></th>\n",
       "      <th>community_name</th>\n",
       "      <th>mean</th>\n",
       "      <th>sum</th>\n",
       "    </tr>\n",
       "  </thead>\n",
       "  <tbody>\n",
       "    <tr>\n",
       "      <th>0</th>\n",
       "      <td>WEST GARFIELD PARK</td>\n",
       "      <td>44.676809</td>\n",
       "      <td>26811</td>\n",
       "    </tr>\n",
       "    <tr>\n",
       "      <th>1</th>\n",
       "      <td>NORTH LAWNDALE</td>\n",
       "      <td>36.648161</td>\n",
       "      <td>33337</td>\n",
       "    </tr>\n",
       "    <tr>\n",
       "      <th>2</th>\n",
       "      <td>HUMBOLDT PARK</td>\n",
       "      <td>36.615554</td>\n",
       "      <td>32571</td>\n",
       "    </tr>\n",
       "    <tr>\n",
       "      <th>3</th>\n",
       "      <td>EAST GARFIELD PARK</td>\n",
       "      <td>35.035908</td>\n",
       "      <td>18685</td>\n",
       "    </tr>\n",
       "    <tr>\n",
       "      <th>4</th>\n",
       "      <td>AUSTIN</td>\n",
       "      <td>33.419386</td>\n",
       "      <td>58642</td>\n",
       "    </tr>\n",
       "  </tbody>\n",
       "</table>\n",
       "</div>"
      ],
      "text/plain": [
       "       community_name       mean    sum\n",
       "0  WEST GARFIELD PARK  44.676809  26811\n",
       "1      NORTH LAWNDALE  36.648161  33337\n",
       "2       HUMBOLDT PARK  36.615554  32571\n",
       "3  EAST GARFIELD PARK  35.035908  18685\n",
       "4              AUSTIN  33.419386  58642"
      ]
     },
     "execution_count": 239,
     "metadata": {},
     "output_type": "execute_result"
    }
   ],
   "source": [
    "#Group by Community Name while summarizing Arrest\n",
    "comm_grp = chicago_train.groupby(\"community_name\")[\"arrest\"].aggregate([\"mean\", \"sum\"]).sort_values(by=\"mean\", ascending = False)\n",
    "comm_grp = comm_grp.reset_index()\n",
    "#Change to percentage\n",
    "comm_grp[\"mean\"] *= 100\n",
    "#Too many to show all \n",
    "comm_grp.head()"
   ]
  },
  {
   "cell_type": "code",
   "execution_count": 204,
   "id": "31b490a5",
   "metadata": {},
   "outputs": [
    {
     "data": {
      "text/html": [
       "<div>\n",
       "<style scoped>\n",
       "    .dataframe tbody tr th:only-of-type {\n",
       "        vertical-align: middle;\n",
       "    }\n",
       "\n",
       "    .dataframe tbody tr th {\n",
       "        vertical-align: top;\n",
       "    }\n",
       "\n",
       "    .dataframe thead th {\n",
       "        text-align: right;\n",
       "    }\n",
       "</style>\n",
       "<table border=\"1\" class=\"dataframe\">\n",
       "  <thead>\n",
       "    <tr style=\"text-align: right;\">\n",
       "      <th></th>\n",
       "      <th>community_name</th>\n",
       "      <th>mean</th>\n",
       "      <th>sum</th>\n",
       "    </tr>\n",
       "  </thead>\n",
       "  <tbody>\n",
       "    <tr>\n",
       "      <th>72</th>\n",
       "      <td>BEVERLY</td>\n",
       "      <td>12.093863</td>\n",
       "      <td>1206</td>\n",
       "    </tr>\n",
       "    <tr>\n",
       "      <th>73</th>\n",
       "      <td>EDISON PARK</td>\n",
       "      <td>11.824206</td>\n",
       "      <td>339</td>\n",
       "    </tr>\n",
       "    <tr>\n",
       "      <th>74</th>\n",
       "      <td>HYDE PARK</td>\n",
       "      <td>11.168098</td>\n",
       "      <td>1938</td>\n",
       "    </tr>\n",
       "    <tr>\n",
       "      <th>75</th>\n",
       "      <td>LINCOLN PARK</td>\n",
       "      <td>9.963261</td>\n",
       "      <td>4339</td>\n",
       "    </tr>\n",
       "    <tr>\n",
       "      <th>76</th>\n",
       "      <td>FOREST GLEN</td>\n",
       "      <td>9.626492</td>\n",
       "      <td>500</td>\n",
       "    </tr>\n",
       "  </tbody>\n",
       "</table>\n",
       "</div>"
      ],
      "text/plain": [
       "   community_name       mean   sum\n",
       "72        BEVERLY  12.093863  1206\n",
       "73    EDISON PARK  11.824206   339\n",
       "74      HYDE PARK  11.168098  1938\n",
       "75   LINCOLN PARK   9.963261  4339\n",
       "76    FOREST GLEN   9.626492   500"
      ]
     },
     "execution_count": 204,
     "metadata": {},
     "output_type": "execute_result"
    }
   ],
   "source": [
    "comm_grp.tail()"
   ]
  },
  {
   "cell_type": "code",
   "execution_count": 241,
   "id": "b016ae4f",
   "metadata": {},
   "outputs": [
    {
     "data": {
      "text/plain": [
       "Text(0.5, 0, 'Percentage')"
      ]
     },
     "execution_count": 241,
     "metadata": {},
     "output_type": "execute_result"
    },
    {
     "data": {
      "image/png": "[encoded data removed]",
      "text/plain": [
       "<Figure size 1296x1440 with 1 Axes>"
      ]
     },
     "metadata": {},
     "output_type": "display_data"
    }
   ],
   "source": [
    "sns.set(rc = {'figure.figsize':(18,20)})\n",
    "sns.barplot(x=\"mean\", y = \"community_name\", order = comm_grp[\"community_name\"] \\\n",
    "                                            , data = comm_grp, color = \"blue\")\n",
    "plt.title(\"Arrest Percentage By Community Name\")\n",
    "plt.ylabel(\"Community Name\")\n",
    "plt.xlabel(\"Percentage\")"
   ]
  },
  {
   "cell_type": "markdown",
   "id": "b92d8d94",
   "metadata": {},
   "source": [
    "### Arrest Percentage By Domestic"
   ]
  },
  {
   "cell_type": "code",
   "execution_count": 242,
   "id": "1964e796",
   "metadata": {},
   "outputs": [
    {
     "data": {
      "text/html": [
       "<div>\n",
       "<style scoped>\n",
       "    .dataframe tbody tr th:only-of-type {\n",
       "        vertical-align: middle;\n",
       "    }\n",
       "\n",
       "    .dataframe tbody tr th {\n",
       "        vertical-align: top;\n",
       "    }\n",
       "\n",
       "    .dataframe thead th {\n",
       "        text-align: right;\n",
       "    }\n",
       "</style>\n",
       "<table border=\"1\" class=\"dataframe\">\n",
       "  <thead>\n",
       "    <tr style=\"text-align: right;\">\n",
       "      <th></th>\n",
       "      <th>domestic</th>\n",
       "      <th>mean</th>\n",
       "      <th>sum</th>\n",
       "    </tr>\n",
       "  </thead>\n",
       "  <tbody>\n",
       "    <tr>\n",
       "      <th>0</th>\n",
       "      <td>False</td>\n",
       "      <td>24.900203</td>\n",
       "      <td>591587</td>\n",
       "    </tr>\n",
       "    <tr>\n",
       "      <th>1</th>\n",
       "      <td>True</td>\n",
       "      <td>18.399787</td>\n",
       "      <td>80739</td>\n",
       "    </tr>\n",
       "  </tbody>\n",
       "</table>\n",
       "</div>"
      ],
      "text/plain": [
       "   domestic       mean     sum\n",
       "0     False  24.900203  591587\n",
       "1      True  18.399787   80739"
      ]
     },
     "execution_count": 242,
     "metadata": {},
     "output_type": "execute_result"
    }
   ],
   "source": [
    "#Group by Domestic while summarizing Arrest\n",
    "dom_grp = chicago_train.groupby(\"domestic\")[\"arrest\"].aggregate([\"mean\", \"sum\"]).sort_values(by=\"mean\", ascending = False)\n",
    "dom_grp = dom_grp.reset_index()\n",
    "#Change to percentage\n",
    "dom_grp[\"mean\"] *= 100\n",
    "dom_grp"
   ]
  },
  {
   "cell_type": "code",
   "execution_count": 244,
   "id": "23208372",
   "metadata": {},
   "outputs": [
    {
     "data": {
      "text/plain": [
       "Text(0.5, 0, 'Domestic')"
      ]
     },
     "execution_count": 244,
     "metadata": {},
     "output_type": "execute_result"
    },
    {
     "data": {
      "image/png": "[encoded data removed]",
      "text/plain": [
       "<Figure size 720x720 with 1 Axes>"
      ]
     },
     "metadata": {},
     "output_type": "display_data"
    }
   ],
   "source": [
    "sns.set(rc = {'figure.figsize':(10,10)})\n",
    "sns.barplot(x=\"domestic\", y = \"mean\", order = dom_grp[\"domestic\"] \\\n",
    "                                            , data = dom_grp, color = \"blue\")\n",
    "plt.title(\"Arrest Percentage By Domestic Crime\")\n",
    "plt.ylabel(\"Percentage\")\n",
    "plt.xlabel(\"Domestic\")"
   ]
  },
  {
   "cell_type": "code",
   "execution_count": null,
   "id": "723561ec",
   "metadata": {},
   "outputs": [],
   "source": [
    "#Group by arrest while dividing by the number of rows to get the percentage\n",
    "arrest_grp = (chicago_train[\"arrest\"].value_counts() / chicago_train.shape[0]) * 100\n",
    "arrest_grp = pd.DataFrame(arrest_grp).reset_index().rename(columns ={\"index\": \"Arrest\", \"arrest\" : \"mean\"})\n",
    "arrest_grp"
   ]
  },
  {
   "cell_type": "code",
   "execution_count": 263,
   "id": "27e5524b",
   "metadata": {},
   "outputs": [
    {
     "data": {
      "text/html": [
       "<div>\n",
       "<style scoped>\n",
       "    .dataframe tbody tr th:only-of-type {\n",
       "        vertical-align: middle;\n",
       "    }\n",
       "\n",
       "    .dataframe tbody tr th {\n",
       "        vertical-align: top;\n",
       "    }\n",
       "\n",
       "    .dataframe thead th {\n",
       "        text-align: right;\n",
       "    }\n",
       "</style>\n",
       "<table border=\"1\" class=\"dataframe\">\n",
       "  <thead>\n",
       "    <tr style=\"text-align: right;\">\n",
       "      <th></th>\n",
       "      <th>Crime</th>\n",
       "      <th>percentage</th>\n",
       "    </tr>\n",
       "  </thead>\n",
       "  <tbody>\n",
       "    <tr>\n",
       "      <th>0</th>\n",
       "      <td>NARCOTICS</td>\n",
       "      <td>32.969125</td>\n",
       "    </tr>\n",
       "    <tr>\n",
       "      <th>1</th>\n",
       "      <td>BATTERY</td>\n",
       "      <td>16.684912</td>\n",
       "    </tr>\n",
       "    <tr>\n",
       "      <th>2</th>\n",
       "      <td>THEFT</td>\n",
       "      <td>9.946365</td>\n",
       "    </tr>\n",
       "    <tr>\n",
       "      <th>3</th>\n",
       "      <td>CRIMINAL TRESPASS</td>\n",
       "      <td>6.763386</td>\n",
       "    </tr>\n",
       "    <tr>\n",
       "      <th>4</th>\n",
       "      <td>ASSAULT</td>\n",
       "      <td>5.858021</td>\n",
       "    </tr>\n",
       "    <tr>\n",
       "      <th>5</th>\n",
       "      <td>OTHER OFFENSE</td>\n",
       "      <td>5.134116</td>\n",
       "    </tr>\n",
       "    <tr>\n",
       "      <th>6</th>\n",
       "      <td>WEAPONS VIOLATION</td>\n",
       "      <td>5.056624</td>\n",
       "    </tr>\n",
       "    <tr>\n",
       "      <th>7</th>\n",
       "      <td>CRIMINAL DAMAGE</td>\n",
       "      <td>2.831513</td>\n",
       "    </tr>\n",
       "    <tr>\n",
       "      <th>8</th>\n",
       "      <td>PUBLIC PEACE VIOLATION</td>\n",
       "      <td>2.334879</td>\n",
       "    </tr>\n",
       "    <tr>\n",
       "      <th>9</th>\n",
       "      <td>DECEPTIVE PRACTICE</td>\n",
       "      <td>2.167550</td>\n",
       "    </tr>\n",
       "    <tr>\n",
       "      <th>10</th>\n",
       "      <td>PROSTITUTION</td>\n",
       "      <td>1.843897</td>\n",
       "    </tr>\n",
       "    <tr>\n",
       "      <th>11</th>\n",
       "      <td>INTERFERENCE WITH PUBLIC OFFICER</td>\n",
       "      <td>1.662289</td>\n",
       "    </tr>\n",
       "    <tr>\n",
       "      <th>12</th>\n",
       "      <td>ROBBERY</td>\n",
       "      <td>1.483655</td>\n",
       "    </tr>\n",
       "    <tr>\n",
       "      <th>13</th>\n",
       "      <td>BURGLARY</td>\n",
       "      <td>1.230653</td>\n",
       "    </tr>\n",
       "    <tr>\n",
       "      <th>14</th>\n",
       "      <td>MOTOR VEHICLE THEFT</td>\n",
       "      <td>1.184693</td>\n",
       "    </tr>\n",
       "    <tr>\n",
       "      <th>15</th>\n",
       "      <td>OFFENSE INVOLVING CHILDREN</td>\n",
       "      <td>0.565499</td>\n",
       "    </tr>\n",
       "    <tr>\n",
       "      <th>16</th>\n",
       "      <td>GAMBLING</td>\n",
       "      <td>0.520581</td>\n",
       "    </tr>\n",
       "    <tr>\n",
       "      <th>17</th>\n",
       "      <td>LIQUOR LAW VIOLATION</td>\n",
       "      <td>0.500055</td>\n",
       "    </tr>\n",
       "    <tr>\n",
       "      <th>18</th>\n",
       "      <td>SEX OFFENSE</td>\n",
       "      <td>0.341352</td>\n",
       "    </tr>\n",
       "    <tr>\n",
       "      <th>19</th>\n",
       "      <td>HOMICIDE</td>\n",
       "      <td>0.326479</td>\n",
       "    </tr>\n",
       "    <tr>\n",
       "      <th>20</th>\n",
       "      <td>CRIMINAL SEXUAL ASSAULT</td>\n",
       "      <td>0.253448</td>\n",
       "    </tr>\n",
       "    <tr>\n",
       "      <th>21</th>\n",
       "      <td>CONCEALED CARRY LICENSE VIOLATION</td>\n",
       "      <td>0.096084</td>\n",
       "    </tr>\n",
       "    <tr>\n",
       "      <th>22</th>\n",
       "      <td>ARSON</td>\n",
       "      <td>0.065444</td>\n",
       "    </tr>\n",
       "    <tr>\n",
       "      <th>23</th>\n",
       "      <td>OBSCENITY</td>\n",
       "      <td>0.060090</td>\n",
       "    </tr>\n",
       "    <tr>\n",
       "      <th>24</th>\n",
       "      <td>STALKING</td>\n",
       "      <td>0.040159</td>\n",
       "    </tr>\n",
       "    <tr>\n",
       "      <th>25</th>\n",
       "      <td>INTIMIDATION</td>\n",
       "      <td>0.030789</td>\n",
       "    </tr>\n",
       "    <tr>\n",
       "      <th>26</th>\n",
       "      <td>KIDNAPPING</td>\n",
       "      <td>0.026921</td>\n",
       "    </tr>\n",
       "    <tr>\n",
       "      <th>27</th>\n",
       "      <td>PUBLIC INDECENCY</td>\n",
       "      <td>0.017551</td>\n",
       "    </tr>\n",
       "    <tr>\n",
       "      <th>28</th>\n",
       "      <td>NON-CRIMINAL</td>\n",
       "      <td>0.002975</td>\n",
       "    </tr>\n",
       "    <tr>\n",
       "      <th>29</th>\n",
       "      <td>HUMAN TRAFFICKING</td>\n",
       "      <td>0.000892</td>\n",
       "    </tr>\n",
       "  </tbody>\n",
       "</table>\n",
       "</div>"
      ],
      "text/plain": [
       "                                Crime  percentage\n",
       "0                           NARCOTICS   32.969125\n",
       "1                             BATTERY   16.684912\n",
       "2                               THEFT    9.946365\n",
       "3                   CRIMINAL TRESPASS    6.763386\n",
       "4                             ASSAULT    5.858021\n",
       "5                       OTHER OFFENSE    5.134116\n",
       "6                   WEAPONS VIOLATION    5.056624\n",
       "7                     CRIMINAL DAMAGE    2.831513\n",
       "8              PUBLIC PEACE VIOLATION    2.334879\n",
       "9                  DECEPTIVE PRACTICE    2.167550\n",
       "10                       PROSTITUTION    1.843897\n",
       "11   INTERFERENCE WITH PUBLIC OFFICER    1.662289\n",
       "12                            ROBBERY    1.483655\n",
       "13                           BURGLARY    1.230653\n",
       "14                MOTOR VEHICLE THEFT    1.184693\n",
       "15         OFFENSE INVOLVING CHILDREN    0.565499\n",
       "16                           GAMBLING    0.520581\n",
       "17               LIQUOR LAW VIOLATION    0.500055\n",
       "18                        SEX OFFENSE    0.341352\n",
       "19                           HOMICIDE    0.326479\n",
       "20            CRIMINAL SEXUAL ASSAULT    0.253448\n",
       "21  CONCEALED CARRY LICENSE VIOLATION    0.096084\n",
       "22                              ARSON    0.065444\n",
       "23                          OBSCENITY    0.060090\n",
       "24                           STALKING    0.040159\n",
       "25                       INTIMIDATION    0.030789\n",
       "26                         KIDNAPPING    0.026921\n",
       "27                   PUBLIC INDECENCY    0.017551\n",
       "28                       NON-CRIMINAL    0.002975\n",
       "29                  HUMAN TRAFFICKING    0.000892"
      ]
     },
     "execution_count": 263,
     "metadata": {},
     "output_type": "execute_result"
    }
   ],
   "source": [
    "var_lst = [\"primary_type\", \"location_description\", \"Month\", \"Hour\", \"domestic\", \"community_name\", \"district_name\"]\n",
    "\n",
    "mask = chicago_train[\"arrest\"] == True\n",
    "arrests_only = chicago_train.loc[mask, \"primary_type\"].value_counts() / chicago_train[mask].shape[0] * 100\n",
    "arrests_only = pd.DataFrame(arrests_only).reset_index().rename(columns ={\"index\": \"Crime\", \"primary_type\" : \"percentage\"})\n",
    "arrests_only"
   ]
  },
  {
   "cell_type": "code",
   "execution_count": 265,
   "id": "93d3a275",
   "metadata": {},
   "outputs": [
    {
     "data": {
      "text/plain": [
       "Text(0.5, 0, 'Percentage')"
      ]
     },
     "execution_count": 265,
     "metadata": {},
     "output_type": "execute_result"
    },
    {
     "data": {
      "image/png": "[encoded data removed]",
      "text/plain": [
       "<Figure size 720x720 with 1 Axes>"
      ]
     },
     "metadata": {},
     "output_type": "display_data"
    }
   ],
   "source": [
    "sns.set(rc = {'figure.figsize':(10,10)})\n",
    "sns.barplot(x=\"percentage\", y = \"Crime\", order = arrests_only[\"Crime\"] \\\n",
    "                                            , data = arrests_only, color = \"blue\")\n",
    "plt.title(\"Crime Ranked By Arrest Percentage\")\n",
    "plt.ylabel(\"Crime Type\")\n",
    "plt.xlabel(\"Percentage\")"
   ]
  }
 ],
 "metadata": {
  "kernelspec": {
   "display_name": "Python 3",
   "language": "python",
   "name": "python3"
  },
  "language_info": {
   "codemirror_mode": {
    "name": "ipython",
    "version": 3
   },
   "file_extension": ".py",
   "mimetype": "text/x-python",
   "name": "python",
   "nbconvert_exporter": "python",
   "pygments_lexer": "ipython3",
   "version": "3.8.8"
  }
 },
 "nbformat": 4,
 "nbformat_minor": 5
}
