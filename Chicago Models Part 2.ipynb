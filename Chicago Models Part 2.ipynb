{
 "cells": [
  {
   "cell_type": "markdown",
   "id": "5d42c7e0",
   "metadata": {},
   "source": [
    "# Setup and Imports"
   ]
  },
  {
   "cell_type": "code",
   "execution_count": 2,
   "id": "a853395d",
   "metadata": {},
   "outputs": [],
   "source": [
    "import pandas as pd\n",
    "import numpy as np\n",
    "import matplotlib.pyplot as plt\n",
    "%matplotlib inline\n",
    "import seaborn as sns\n",
    "sns.set\n",
    "import warnings\n",
    "import tensorflow as tf\n",
    "from tensorflow import keras\n",
    "from sklearn.metrics import confusion_matrix\n",
    "from sklearn.metrics import f1_score\n",
    "from sklearn.metrics import accuracy_score\n",
    "from sklearn.model_selection import ParameterSampler\n",
    "from sklearn.model_selection import RandomizedSearchCV\n",
    "from scipy.stats import reciprocal\n",
    "import pickle\n",
    "from sklearn.model_selection import train_test_split\n",
    "from sklearn.preprocessing import LabelEncoder\n",
    "from keras.models import Sequential\n",
    "from keras.layers import Dense\n",
    "from keras.models import Model\n",
    "from keras.layers import Input\n",
    "from keras.layers import Embedding\n",
    "from keras.layers import Dropout\n",
    "from keras.layers import BatchNormalization\n",
    "from keras.layers.merge import concatenate\n",
    "from keras.optimizers import adam_v2, rmsprop_v2\n",
    "from keras.optimizers import gradient_descent_v2\n",
    "from keras.callbacks import EarlyStopping\n",
    "\n",
    "\n",
    "#Custom Python Module with functions specifically for this project\n",
    "import ChicagoDataCleaningFunctions as cd\n",
    "#Custom Python Module to fetch the data\n",
    "import FetchChicagoData as fc"
   ]
  },
  {
   "cell_type": "markdown",
   "id": "90fe3d09",
   "metadata": {},
   "source": [
    "# Get the Data"
   ]
  },
  {
   "cell_type": "code",
   "execution_count": 3,
   "id": "e9e71a12",
   "metadata": {},
   "outputs": [
    {
     "name": "stdout",
     "output_type": "stream",
     "text": [
      "Fetching Chicago Data Started...\n",
      "\n",
      "Successfully queried Google BigQuery.\n",
      "Sucessfully read in excel file.\n",
      "Sucessfully joined Chicago districts to main data.\n",
      "Successfully dropped duplicate column\n",
      "\n",
      "Succcessfully fetched Chicago Data\n",
      "Wall time: 3min 21s\n"
     ]
    }
   ],
   "source": [
    "%%time\n",
    "#Specify input values for fetching the data\n",
    "query = \"\"\"\n",
    "            SELECT unique_key, date, primary_type, location_description, \n",
    "                    arrest, domestic, community_area, year\n",
    "            FROM `gdac-327115.Chicago.chicago2`\n",
    "            WHERE year >= 2011\n",
    "        \"\"\"\n",
    "project_id = \"gdac-327115\"\n",
    "excel_file = \"ChicagoCommunityAreas.xlsx\"\n",
    "\n",
    "#Fetch the data\n",
    "chicago = fc.fetch_chicago_data(query, project_id, excel_file, verbose=True)"
   ]
  },
  {
   "cell_type": "markdown",
   "id": "b49b86bb",
   "metadata": {},
   "source": [
    "# Split the Data into Training and Test Sets"
   ]
  },
  {
   "cell_type": "code",
   "execution_count": 4,
   "id": "0acff222",
   "metadata": {},
   "outputs": [],
   "source": [
    "chicago_train = chicago.loc[chicago[\"year\"] != 2021]\n",
    "chicago_test = chicago.loc[chicago[\"year\"] == 2021]"
   ]
  },
  {
   "cell_type": "markdown",
   "id": "c7051899",
   "metadata": {},
   "source": [
    "# Clean the Training Data"
   ]
  },
  {
   "cell_type": "code",
   "execution_count": 5,
   "id": "80dd6eb7",
   "metadata": {},
   "outputs": [
    {
     "name": "stdout",
     "output_type": "stream",
     "text": [
      "Cleaning Started...\n",
      "\n",
      "Successfully Cleaned Primary Type\n",
      "Successfully Imputed Location\n",
      "Successfully Cleaned Location\n",
      "Successfully Added Month Column\n",
      "Successfully Added Hour Column\n",
      "Successfully Cleaned Community\n",
      "\n",
      "Data Set Successfully Cleaned!\n"
     ]
    }
   ],
   "source": [
    "%%capture --no-stdout\n",
    "cd.chicago_data_cleaner(chicago_train, verbose=True)"
   ]
  },
  {
   "cell_type": "markdown",
   "id": "4f2474f5",
   "metadata": {},
   "source": [
    "# Prepare the Data"
   ]
  },
  {
   "cell_type": "markdown",
   "id": "80d0afaf",
   "metadata": {},
   "source": [
    "Since we are focusing on using deep learning techniques, we do more than just one hot encoding the variables. Instead, we'll use embeddings to encode the features."
   ]
  },
  {
   "cell_type": "code",
   "execution_count": 6,
   "id": "10019b35",
   "metadata": {},
   "outputs": [],
   "source": [
    "def data_to_array(df, attribs):\n",
    "    \"\"\"\n",
    "    This function converts the dataframe into numpy arrays based on specified attributes. \n",
    "    \n",
    "    df: Pandas dataframe\n",
    "    attribs: List of columns to use as attributes\n",
    "    \n",
    "    returns: X, y numpy arrays\n",
    "    \"\"\"\n",
    "    X = df[attribs].values\n",
    "    y = df[\"arrest\"].values\n",
    "    \n",
    "    return X, y"
   ]
  },
  {
   "cell_type": "code",
   "execution_count": 7,
   "id": "f9aaad51",
   "metadata": {},
   "outputs": [],
   "source": [
    "def prepare_inputs(X_train, X_test):\n",
    "    \"\"\"\n",
    "    This function prepares the input data by ordinal encoding each one and adding it to a list.\n",
    "    \n",
    "    X_train: Array of training features\n",
    "    X_test: Array of test features\n",
    "    \n",
    "    returns: Two lists of encoded training and test features\n",
    "    \"\"\"\n",
    "    X_train_enc, X_test_enc = list(), list()\n",
    "    # label encode each column\n",
    "    for i in range(X_train.shape[1]):\n",
    "        le = LabelEncoder()\n",
    "        le.fit(X_train[:, i])\n",
    "        # encode\n",
    "        train_enc = le.transform(X_train[:, i])\n",
    "        test_enc = le.transform(X_test[:, i])\n",
    "        # store\n",
    "        X_train_enc.append(train_enc)\n",
    "        X_test_enc.append(test_enc)\n",
    "    return X_train_enc, X_test_enc"
   ]
  },
  {
   "cell_type": "code",
   "execution_count": 8,
   "id": "493c1d1b",
   "metadata": {},
   "outputs": [],
   "source": [
    "def prepare_targets(y_train, y_test):\n",
    "    \"\"\"\n",
    "    This function transforms the target by ordinal encoding the values. \n",
    "    \n",
    "    y_train: Array of training targets\n",
    "    y_test: Array of test targets\n",
    "    \n",
    "    returns: Two lists containing the transformed targets\n",
    "    \"\"\"\n",
    "    le = LabelEncoder()\n",
    "    le.fit(y_train)\n",
    "    y_train_enc = le.transform(y_train)\n",
    "    y_test_enc = le.transform(y_test)\n",
    "    return y_train_enc, y_test_enc"
   ]
  },
  {
   "cell_type": "code",
   "execution_count": 9,
   "id": "e307c20f",
   "metadata": {},
   "outputs": [],
   "source": [
    "def input_to_embedding(n_embeddings, training_encodings):\n",
    "    \"\"\"\n",
    "    This function iterates through each variable and constructs and input layer and connects it to an embedding\n",
    "    layer, and stores both layers in a list. \n",
    "        \n",
    "    n_embeddings: Number of embedding dimensions\n",
    "    training_encodings: List of training features\n",
    "    \n",
    "    returns:\n",
    "        in_layers: List of input layers\n",
    "        em_layers: List of embedding layers\n",
    "    \"\"\"\n",
    "    in_layers = list()\n",
    "    em_layers = list()\n",
    "    for i in range(len(training_encodings)):\n",
    "        #Calculate the number of unique inputs\n",
    "        n_labels = len(np.unique(training_encodings[i]))\n",
    "        #Define input layer\n",
    "        in_layer = Input(shape=(1,))\n",
    "        #Define embedding layer\n",
    "        em_layer = Embedding(n_labels, n_embeddings)(in_layer)\n",
    "        #Store layers\n",
    "        in_layers.append(in_layer)\n",
    "        em_layers.append(em_layer)\n",
    "    return in_layers, em_layers\n"
   ]
  },
  {
   "cell_type": "code",
   "execution_count": 10,
   "id": "48cfbbc2",
   "metadata": {},
   "outputs": [],
   "source": [
    "#Specify the features to use\n",
    "features = [\"primary_type\", \"location_description\", \"domestic\", \"district_name\", \"community_name\", \"Month\", \"Hour\"]\n",
    "#Transform the features and targets into arrays\n",
    "X, y = data_to_array(chicago_train, features)\n",
    "#Split the data twice to quickly train preliminary models\n",
    "X_train, X_val, y_train, y_val = train_test_split(X, y, test_size = .80, random_state = 42, stratify=y)\n",
    "X_train, X_val, y_train, y_val = train_test_split(X_train, y_train, test_size =.10, random_state = 42, stratify = y_train)"
   ]
  },
  {
   "cell_type": "code",
   "execution_count": 10,
   "id": "e2b7384d",
   "metadata": {},
   "outputs": [
    {
     "name": "stdout",
     "output_type": "stream",
     "text": [
      "(506634, 7)\n",
      "(56293, 7)\n",
      "(506634,)\n",
      "(56293,)\n"
     ]
    }
   ],
   "source": [
    "#Check the shapes\n",
    "print(X_train.shape)\n",
    "print(X_val.shape)\n",
    "print(y_train.shape)\n",
    "print(y_val.shape)"
   ]
  },
  {
   "cell_type": "code",
   "execution_count": 11,
   "id": "8912782a",
   "metadata": {},
   "outputs": [],
   "source": [
    "#Encode the training and target features\n",
    "X_train_enc, X_val_enc = prepare_inputs(X_train, X_val)\n",
    "#Encode the training and validation targets\n",
    "y_train_enc, y_val_enc = prepare_targets(y_train, y_val)"
   ]
  },
  {
   "cell_type": "markdown",
   "id": "18defa10",
   "metadata": {},
   "source": [
    "# Baseline Model"
   ]
  },
  {
   "cell_type": "markdown",
   "id": "15cc5b00",
   "metadata": {},
   "source": [
    "Although no one will agree on what a \"baseline\" neural network model looks like, we can build a simple two layer model with 10 neurons in each layer using 10 as the dimension of the embeddings. The model will use the binary crossentropy loss with the adam optimizer and run for 10 epochs with a batch size of 32 using early stopping. "
   ]
  },
  {
   "cell_type": "code",
   "execution_count": 93,
   "id": "9fe75c4a",
   "metadata": {},
   "outputs": [],
   "source": [
    "input_layers, embed_layers = input_to_embedding(n_embeddings=10, training_encodings=X_train_enc)\n",
    "input_ = keras.layers.concatenate(embed_layers)\n",
    "hidden1 = Dense(10, activation='relu')(input_)\n",
    "hidden2 = Dense(10, activation='relu')(hidden1)\n",
    "output = Dense(1, activation='sigmoid')(hidden2)\n",
    "baseline_model = Model(inputs=input_layers, outputs=output)\n",
    "#Compile the keras model\n",
    "baseline_model.compile(loss='binary_crossentropy', optimizer=\"adam\", metrics=['accuracy'])"
   ]
  },
  {
   "cell_type": "code",
   "execution_count": 35,
   "id": "4a60fd51",
   "metadata": {},
   "outputs": [
    {
     "name": "stdout",
     "output_type": "stream",
     "text": [
      "Model: \"model_101\"\n",
      "__________________________________________________________________________________________________\n",
      "Layer (type)                    Output Shape         Param #     Connected to                     \n",
      "==================================================================================================\n",
      "input_708 (InputLayer)          [(None, 1)]          0                                            \n",
      "__________________________________________________________________________________________________\n",
      "input_709 (InputLayer)          [(None, 1)]          0                                            \n",
      "__________________________________________________________________________________________________\n",
      "input_710 (InputLayer)          [(None, 1)]          0                                            \n",
      "__________________________________________________________________________________________________\n",
      "input_711 (InputLayer)          [(None, 1)]          0                                            \n",
      "__________________________________________________________________________________________________\n",
      "input_712 (InputLayer)          [(None, 1)]          0                                            \n",
      "__________________________________________________________________________________________________\n",
      "input_713 (InputLayer)          [(None, 1)]          0                                            \n",
      "__________________________________________________________________________________________________\n",
      "input_714 (InputLayer)          [(None, 1)]          0                                            \n",
      "__________________________________________________________________________________________________\n",
      "embedding_707 (Embedding)       (None, 1, 10)        300         input_708[0][0]                  \n",
      "__________________________________________________________________________________________________\n",
      "embedding_708 (Embedding)       (None, 1, 10)        290         input_709[0][0]                  \n",
      "__________________________________________________________________________________________________\n",
      "embedding_709 (Embedding)       (None, 1, 10)        20          input_710[0][0]                  \n",
      "__________________________________________________________________________________________________\n",
      "embedding_710 (Embedding)       (None, 1, 10)        90          input_711[0][0]                  \n",
      "__________________________________________________________________________________________________\n",
      "embedding_711 (Embedding)       (None, 1, 10)        770         input_712[0][0]                  \n",
      "__________________________________________________________________________________________________\n",
      "embedding_712 (Embedding)       (None, 1, 10)        120         input_713[0][0]                  \n",
      "__________________________________________________________________________________________________\n",
      "embedding_713 (Embedding)       (None, 1, 10)        240         input_714[0][0]                  \n",
      "__________________________________________________________________________________________________\n",
      "tf.concat_101 (TFOpLambda)      (None, 1, 70)        0           embedding_707[0][0]              \n",
      "                                                                 embedding_708[0][0]              \n",
      "                                                                 embedding_709[0][0]              \n",
      "                                                                 embedding_710[0][0]              \n",
      "                                                                 embedding_711[0][0]              \n",
      "                                                                 embedding_712[0][0]              \n",
      "                                                                 embedding_713[0][0]              \n",
      "__________________________________________________________________________________________________\n",
      "dense_708 (Dense)               (None, 1, 10)        710         tf.concat_101[0][0]              \n",
      "__________________________________________________________________________________________________\n",
      "dense_709 (Dense)               (None, 1, 10)        110         dense_708[0][0]                  \n",
      "__________________________________________________________________________________________________\n",
      "dense_710 (Dense)               (None, 1, 1)         11          dense_709[0][0]                  \n",
      "==================================================================================================\n",
      "Total params: 2,661\n",
      "Trainable params: 2,661\n",
      "Non-trainable params: 0\n",
      "__________________________________________________________________________________________________\n",
      "None\n"
     ]
    }
   ],
   "source": [
    "#Model architecture\n",
    "print(baseline_model.summary())"
   ]
  },
  {
   "cell_type": "code",
   "execution_count": 44,
   "id": "62b336cb",
   "metadata": {},
   "outputs": [
    {
     "name": "stdout",
     "output_type": "stream",
     "text": [
      "Wall time: 4min 46s\n"
     ]
    }
   ],
   "source": [
    "%%time\n",
    "early = EarlyStopping(monitor='val_loss', mode='min', verbose=1, patience = 10, restore_best_weights=True)\n",
    "\n",
    "history = baseline_model.fit(X_train_enc, y_train_enc, validation_split=.2, epochs=50, batch_size=32, verbose=0, callbacks = [early])"
   ]
  },
  {
   "cell_type": "code",
   "execution_count": 248,
   "id": "700907aa",
   "metadata": {},
   "outputs": [
    {
     "data": {
      "image/png": "[encoded data removed]",
      "text/plain": [
       "<Figure size 864x576 with 1 Axes>"
      ]
     },
     "metadata": {
      "needs_background": "light"
     },
     "output_type": "display_data"
    }
   ],
   "source": [
    "plt.figure(figsize = (12,8))\n",
    "plt.plot(history.history['loss'], label='train')\n",
    "plt.plot(history.history['val_loss'], label='val')\n",
    "plt.grid(True)\n",
    "plt.xlabel(\"Epoch\")\n",
    "plt.ylabel(\"Loss\")\n",
    "plt.title(\"Train and Validation Loss During Training with Early Stoppping\")\n",
    "plt.legend()\n",
    "plt.show()"
   ]
  },
  {
   "cell_type": "code",
   "execution_count": 243,
   "id": "cadf221b",
   "metadata": {},
   "outputs": [
    {
     "name": "stdout",
     "output_type": "stream",
     "text": [
      "Model Baseline Accuracy Score: 87.70%\n",
      "Model Baseline F1-Score: 69.11%\n"
     ]
    }
   ],
   "source": [
    "#Baseline Accuracy and F1 Scores\n",
    "y_pred = baseline_model.predict(X_val_enc)\n",
    "#Change the prediction to form expected for accuracy and f1-score functions\n",
    "y_pred = np.round(y_pred.reshape((y_pred.shape[0])))\n",
    "#Change the validation targets \n",
    "y_val = y_val.astype(np.int)\n",
    "model_base_acc = np.round(accuracy_score(y_pred, y_val), 4) * 100\n",
    "model_base_f1 = np.round(f1_score(y_pred, y_val), 4) * 100\n",
    "print(f\"Model Baseline Accuracy Score: {model_base_acc:.2f}%\")\n",
    "print(f\"Model Baseline F1-Score: {model_base_f1:.2f}%\")"
   ]
  },
  {
   "cell_type": "code",
   "execution_count": 244,
   "id": "0dd03717",
   "metadata": {},
   "outputs": [
    {
     "data": {
      "text/plain": [
       "array([[41622,  5700],\n",
       "       [ 1224,  7747]], dtype=int64)"
      ]
     },
     "execution_count": 244,
     "metadata": {},
     "output_type": "execute_result"
    }
   ],
   "source": [
    "#Confusion matrix\n",
    "confusion_matrix(y_pred, y_val)"
   ]
  },
  {
   "cell_type": "markdown",
   "id": "a11de8c9",
   "metadata": {},
   "source": [
    "# Hyperparameter Tuning "
   ]
  },
  {
   "cell_type": "markdown",
   "id": "7e90a0a0",
   "metadata": {},
   "source": [
    "### Hyperparameter Considerations\n",
    "<ul>\n",
    "    <li>Number of layers</li>\n",
    "        <ul>\n",
    "            <li>5 - 15 layers</li>\n",
    "        </ul>\n",
    "    <li>Number of neurons per layer</li>\n",
    "        <ul>\n",
    "            <li>25 - 75 neurons</li>\n",
    "        </ul>\n",
    "    <li>Activation function</li>\n",
    "        <ul>\n",
    "            <li>SELU</li>\n",
    "            <li>ELU</li>\n",
    "            <li>ReLU</li>\n",
    "        </ul>\n",
    "    <li>Weight Initialization</li>\n",
    "        <ul>\n",
    "            <li>Glorot</li>\n",
    "            <li>He</li>\n",
    "            <li>LeCun</li>\n",
    "        </ul>            \n",
    "    <li>Learning rate</li>\n",
    "    <li>Momentum</li>\n",
    "    <li>Optimizer</li>\n",
    "        <ul>\n",
    "            <li>SGD with and without the nesterov acccelerated gradient method</li>\n",
    "            <li>RMSProp</li>\n",
    "            <li>Adam</li>\n",
    "        </ul>\n",
    "    <li>Regularization</li>\n",
    "        <ul>\n",
    "            <li>Early stopping</li>\n",
    "            <li>Dropout</li>\n",
    "        </ul>\n",
    "</ul>"
   ]
  },
  {
   "cell_type": "code",
   "execution_count": 12,
   "id": "8f5fc8b0",
   "metadata": {},
   "outputs": [],
   "source": [
    "def build_model(n_embeddings = 10, n_hidden=1, n_neurons=5, lr_rate=3e-2, activation = \"relu\",\n",
    "                drop_rate=.2, kernel = True, kernel_initializer = \"he_normal\", optimizer=\"Adam\", \n",
    "                momentum = .9, nesterov = False, training_input=X_train_enc):\n",
    "    \"\"\"\n",
    "    This function creates a deep learning model with default parameters. This function is used to tune the hyperparameters. \n",
    "    \n",
    "    returns: functional style keras model\n",
    "    \n",
    "    \"\"\"\n",
    "    input_layers, embed_layers = input_to_embedding(n_embeddings=n_embeddings, training_encodings=training_input)\n",
    "    input_ = keras.layers.concatenate(embed_layers)\n",
    "    \n",
    "    for layer in range(n_hidden):\n",
    "        if layer == 0:\n",
    "            hidden = Dense(n_neurons, activation = activation, kernel_initializer=kernel_initializer)(input_)\n",
    "            hidden = Dropout(rate = drop_rate)(hidden)\n",
    "                \n",
    "        else:       \n",
    "            hidden = Dense(n_neurons, activation = activation, kernel_initializer=kernel_initializer)(hidden)\n",
    "            hidden = Dropout(rate = drop_rate)(hidden)\n",
    "    \n",
    "    output = Dense(1, activation = \"sigmoid\")(hidden)    \n",
    "    model = Model(inputs = input_layers, outputs = output)\n",
    "\n",
    "    if optimizer == \"SGD\":\n",
    "        optimizer = gradient_descent_v2.SGD(learning_rate=lr_rate, momentum=momentum, nesterov=nesterov)\n",
    "    elif optimizer == \"Adam\":\n",
    "        optimizer = adam_v2.Adam(learning_rate=lr_rate)\n",
    "    else:\n",
    "        optimizer = rmsprop_v2.RMSprop(learning_rate=lr_rate, momentum = momentum)\n",
    "\n",
    "    model.compile(loss=\"binary_crossentropy\", optimizer=optimizer, metrics = [\"accuracy\"])\n",
    "\n",
    "    return model\n"
   ]
  },
  {
   "cell_type": "code",
   "execution_count": 18,
   "id": "e16bcc34",
   "metadata": {},
   "outputs": [],
   "source": [
    "#Grid of hyperparameters to search through\n",
    "param_distribs = {\n",
    "    \"n_embeddings\": np.arange(20, 100),\n",
    "    \"n_hidden\": np.arange(3, 10),\n",
    "    \"n_neurons\": np.arange(15, 75),\n",
    "    \"drop_rate\" : [0.20, 0.225, 0.25, 0.275, 0.30],\n",
    "    \"lr_rate\" : [.005, .0075, 0.09, .01, 0.02, .025, .05, .075, .1 ],\n",
    "    \"activation\": [\"relu\", \"elu\", \"selu\"],\n",
    "    \"kernel_initializer\" : [\"glorot_normal\", \"he_normal\", \"lecun_normal\"],\n",
    "    \"optimizer\" : [\"SGD\", \"Adam\",\"RMSprop\"],\n",
    "    \"momentum\" : [0.95, 0.99, 0.999, 0.9999],\n",
    "    \"nesterov\" : [True, False]\n",
    "    }\n",
    "\n",
    "#Number of models to consider\n",
    "num_models = 100\n",
    "param_list = list(ParameterSampler(param_distribs, n_iter = num_models))"
   ]
  },
  {
   "cell_type": "code",
   "execution_count": 19,
   "id": "2602901c",
   "metadata": {},
   "outputs": [
    {
     "name": "stdout",
     "output_type": "stream",
     "text": [
      "Done with 10 of 100\n",
      "Done with 20 of 100\n",
      "Done with 30 of 100\n",
      "Done with 40 of 100\n",
      "Done with 50 of 100\n",
      "Done with 60 of 100\n",
      "Done with 70 of 100\n",
      "Done with 80 of 100\n",
      "Done with 90 of 100\n",
      "Done with 100 of 100\n",
      "Wall time: 6h 15min 2s\n"
     ]
    }
   ],
   "source": [
    "%%time\n",
    "\n",
    "val_f1_score = []\n",
    "batch = []\n",
    "count = 1\n",
    "early = EarlyStopping(monitor='val_loss', mode='min', verbose=0, patience = 5)\n",
    "\n",
    "for params in param_list:\n",
    "    model = build_model(**params)\n",
    "    batch_size = np.random.choice([32, 64])\n",
    "    history = model.fit(X_train_enc, y_train_enc, validation_split=.2, epochs=50, batch_size=batch_size, verbose=0, callbacks = [early])\n",
    "    batch.append(batch_size)\n",
    "    min_val_index = np.argmax(history.history[\"val_accuracy\"])\n",
    "    min_val = history.history[\"val_accuracy\"][min_val_index]\n",
    "    val_f1_score.append(min_val)\n",
    "    if count % 10 == 0:\n",
    "        print(f\"Done with {count} of {num_models}\")\n",
    "    count += 1\n",
    "    \n",
    "    "
   ]
  },
  {
   "cell_type": "code",
   "execution_count": 20,
   "id": "41ff4f75",
   "metadata": {},
   "outputs": [
    {
     "data": {
      "text/html": [
       "<div>\n",
       "<style scoped>\n",
       "    .dataframe tbody tr th:only-of-type {\n",
       "        vertical-align: middle;\n",
       "    }\n",
       "\n",
       "    .dataframe tbody tr th {\n",
       "        vertical-align: top;\n",
       "    }\n",
       "\n",
       "    .dataframe thead th {\n",
       "        text-align: right;\n",
       "    }\n",
       "</style>\n",
       "<table border=\"1\" class=\"dataframe\">\n",
       "  <thead>\n",
       "    <tr style=\"text-align: right;\">\n",
       "      <th></th>\n",
       "      <th>optimizer</th>\n",
       "      <th>nesterov</th>\n",
       "      <th>n_neurons</th>\n",
       "      <th>n_hidden</th>\n",
       "      <th>n_embeddings</th>\n",
       "      <th>momentum</th>\n",
       "      <th>lr_rate</th>\n",
       "      <th>kernel_initializer</th>\n",
       "      <th>drop_rate</th>\n",
       "      <th>activation</th>\n",
       "      <th>Batch Size</th>\n",
       "      <th>Validation F1-Score</th>\n",
       "    </tr>\n",
       "  </thead>\n",
       "  <tbody>\n",
       "    <tr>\n",
       "      <th>39</th>\n",
       "      <td>SGD</td>\n",
       "      <td>False</td>\n",
       "      <td>57</td>\n",
       "      <td>3</td>\n",
       "      <td>72</td>\n",
       "      <td>0.9500</td>\n",
       "      <td>0.0100</td>\n",
       "      <td>glorot_normal</td>\n",
       "      <td>0.200</td>\n",
       "      <td>relu</td>\n",
       "      <td>32</td>\n",
       "      <td>0.878394</td>\n",
       "    </tr>\n",
       "    <tr>\n",
       "      <th>49</th>\n",
       "      <td>SGD</td>\n",
       "      <td>True</td>\n",
       "      <td>35</td>\n",
       "      <td>3</td>\n",
       "      <td>62</td>\n",
       "      <td>0.9500</td>\n",
       "      <td>0.0075</td>\n",
       "      <td>glorot_normal</td>\n",
       "      <td>0.225</td>\n",
       "      <td>relu</td>\n",
       "      <td>64</td>\n",
       "      <td>0.878335</td>\n",
       "    </tr>\n",
       "    <tr>\n",
       "      <th>47</th>\n",
       "      <td>SGD</td>\n",
       "      <td>False</td>\n",
       "      <td>71</td>\n",
       "      <td>5</td>\n",
       "      <td>25</td>\n",
       "      <td>0.9500</td>\n",
       "      <td>0.0200</td>\n",
       "      <td>lecun_normal</td>\n",
       "      <td>0.300</td>\n",
       "      <td>elu</td>\n",
       "      <td>32</td>\n",
       "      <td>0.877811</td>\n",
       "    </tr>\n",
       "    <tr>\n",
       "      <th>34</th>\n",
       "      <td>SGD</td>\n",
       "      <td>True</td>\n",
       "      <td>67</td>\n",
       "      <td>9</td>\n",
       "      <td>57</td>\n",
       "      <td>0.9900</td>\n",
       "      <td>0.0050</td>\n",
       "      <td>he_normal</td>\n",
       "      <td>0.225</td>\n",
       "      <td>elu</td>\n",
       "      <td>64</td>\n",
       "      <td>0.877663</td>\n",
       "    </tr>\n",
       "    <tr>\n",
       "      <th>26</th>\n",
       "      <td>SGD</td>\n",
       "      <td>True</td>\n",
       "      <td>60</td>\n",
       "      <td>5</td>\n",
       "      <td>23</td>\n",
       "      <td>0.9900</td>\n",
       "      <td>0.0075</td>\n",
       "      <td>glorot_normal</td>\n",
       "      <td>0.225</td>\n",
       "      <td>selu</td>\n",
       "      <td>64</td>\n",
       "      <td>0.876124</td>\n",
       "    </tr>\n",
       "    <tr>\n",
       "      <th>...</th>\n",
       "      <td>...</td>\n",
       "      <td>...</td>\n",
       "      <td>...</td>\n",
       "      <td>...</td>\n",
       "      <td>...</td>\n",
       "      <td>...</td>\n",
       "      <td>...</td>\n",
       "      <td>...</td>\n",
       "      <td>...</td>\n",
       "      <td>...</td>\n",
       "      <td>...</td>\n",
       "      <td>...</td>\n",
       "    </tr>\n",
       "    <tr>\n",
       "      <th>65</th>\n",
       "      <td>SGD</td>\n",
       "      <td>False</td>\n",
       "      <td>65</td>\n",
       "      <td>5</td>\n",
       "      <td>71</td>\n",
       "      <td>0.9999</td>\n",
       "      <td>0.0050</td>\n",
       "      <td>he_normal</td>\n",
       "      <td>0.225</td>\n",
       "      <td>relu</td>\n",
       "      <td>64</td>\n",
       "      <td>0.239502</td>\n",
       "    </tr>\n",
       "    <tr>\n",
       "      <th>35</th>\n",
       "      <td>SGD</td>\n",
       "      <td>True</td>\n",
       "      <td>37</td>\n",
       "      <td>9</td>\n",
       "      <td>49</td>\n",
       "      <td>0.9500</td>\n",
       "      <td>0.0250</td>\n",
       "      <td>glorot_normal</td>\n",
       "      <td>0.200</td>\n",
       "      <td>selu</td>\n",
       "      <td>32</td>\n",
       "      <td>0.239502</td>\n",
       "    </tr>\n",
       "    <tr>\n",
       "      <th>60</th>\n",
       "      <td>RMSprop</td>\n",
       "      <td>True</td>\n",
       "      <td>64</td>\n",
       "      <td>9</td>\n",
       "      <td>36</td>\n",
       "      <td>0.9900</td>\n",
       "      <td>0.0100</td>\n",
       "      <td>lecun_normal</td>\n",
       "      <td>0.225</td>\n",
       "      <td>selu</td>\n",
       "      <td>32</td>\n",
       "      <td>0.239502</td>\n",
       "    </tr>\n",
       "    <tr>\n",
       "      <th>44</th>\n",
       "      <td>RMSprop</td>\n",
       "      <td>False</td>\n",
       "      <td>43</td>\n",
       "      <td>7</td>\n",
       "      <td>51</td>\n",
       "      <td>0.9500</td>\n",
       "      <td>0.0250</td>\n",
       "      <td>lecun_normal</td>\n",
       "      <td>0.200</td>\n",
       "      <td>selu</td>\n",
       "      <td>64</td>\n",
       "      <td>0.239502</td>\n",
       "    </tr>\n",
       "    <tr>\n",
       "      <th>0</th>\n",
       "      <td>SGD</td>\n",
       "      <td>False</td>\n",
       "      <td>18</td>\n",
       "      <td>6</td>\n",
       "      <td>48</td>\n",
       "      <td>0.9999</td>\n",
       "      <td>0.0500</td>\n",
       "      <td>he_normal</td>\n",
       "      <td>0.250</td>\n",
       "      <td>relu</td>\n",
       "      <td>64</td>\n",
       "      <td>0.239502</td>\n",
       "    </tr>\n",
       "  </tbody>\n",
       "</table>\n",
       "<p>100 rows × 12 columns</p>\n",
       "</div>"
      ],
      "text/plain": [
       "   optimizer  nesterov  n_neurons  n_hidden  n_embeddings  momentum  lr_rate  \\\n",
       "39       SGD     False         57         3            72    0.9500   0.0100   \n",
       "49       SGD      True         35         3            62    0.9500   0.0075   \n",
       "47       SGD     False         71         5            25    0.9500   0.0200   \n",
       "34       SGD      True         67         9            57    0.9900   0.0050   \n",
       "26       SGD      True         60         5            23    0.9900   0.0075   \n",
       "..       ...       ...        ...       ...           ...       ...      ...   \n",
       "65       SGD     False         65         5            71    0.9999   0.0050   \n",
       "35       SGD      True         37         9            49    0.9500   0.0250   \n",
       "60   RMSprop      True         64         9            36    0.9900   0.0100   \n",
       "44   RMSprop     False         43         7            51    0.9500   0.0250   \n",
       "0        SGD     False         18         6            48    0.9999   0.0500   \n",
       "\n",
       "   kernel_initializer  drop_rate activation  Batch Size  Validation F1-Score  \n",
       "39      glorot_normal      0.200       relu          32             0.878394  \n",
       "49      glorot_normal      0.225       relu          64             0.878335  \n",
       "47       lecun_normal      0.300        elu          32             0.877811  \n",
       "34          he_normal      0.225        elu          64             0.877663  \n",
       "26      glorot_normal      0.225       selu          64             0.876124  \n",
       "..                ...        ...        ...         ...                  ...  \n",
       "65          he_normal      0.225       relu          64             0.239502  \n",
       "35      glorot_normal      0.200       selu          32             0.239502  \n",
       "60       lecun_normal      0.225       selu          32             0.239502  \n",
       "44       lecun_normal      0.200       selu          64             0.239502  \n",
       "0           he_normal      0.250       relu          64             0.239502  \n",
       "\n",
       "[100 rows x 12 columns]"
      ]
     },
     "execution_count": 20,
     "metadata": {},
     "output_type": "execute_result"
    }
   ],
   "source": [
    "#Save the results in a dataframe\n",
    "model_param_df = pd.DataFrame(param_list)\n",
    "model_param_df[\"Batch Size\"] = batch\n",
    "model_param_df[\"Validation Accuracy\"] = val_f1_score\n",
    "#Rank the results by the validation f1\n",
    "model_param_df.sort_values(by=\"Validation Accuracy\", ascending = False)"
   ]
  },
  {
   "cell_type": "markdown",
   "id": "1e5f837c",
   "metadata": {},
   "source": [
    "# Save the Best Model"
   ]
  },
  {
   "cell_type": "code",
   "execution_count": 22,
   "id": "ff2a6f05",
   "metadata": {},
   "outputs": [],
   "source": [
    "#Get the best hyperparameters\n",
    "\n",
    "max_f1 = model_param_df[\"Validation F1-Score\"].argmax()\n",
    "best_n_embeds = model_param_df.loc[max_f1, \"n_embeddings\"]\n",
    "best_n_neurons = model_param_df.loc[max_f1, \"n_neurons\"]\n",
    "best_n_hidden = model_param_df.loc[max_f1, \"n_hidden\"]\n",
    "best_lr_rate = model_param_df.loc[max_f1, \"lr_rate\"]\n",
    "best_momentum = model_param_df.loc[max_f1, \"momentum\"]\n",
    "best_init = model_param_df.loc[max_f1, \"kernel_initializer\"]\n",
    "best_drop_rate = model_param_df.loc[max_f1, \"drop_rate\"]\n",
    "best_act_func = model_param_df.loc[max_f1, \"activation\"]\n",
    "best_opt = model_param_df.loc[max_f1, \"optimizer\"]\n",
    "use_nesterov = model_param_df.loc[max_f1, \"nesterov\"]\n",
    "best_batch_size = model_param_df.loc[max_f1, \"Batch Size\"]\n",
    "\n",
    "#Initialize the model\n",
    "model = build_model(n_embeddings = best_n_embeds, n_hidden=best_n_hidden, n_neurons=best_n_neurons, lr_rate=best_lr_rate, \n",
    "                    activation = best_act_func, drop_rate=best_drop_rate, kernel = True, kernel_initializer = best_init, \n",
    "                    optimizer=best_opt, momentum = best_momentum, nesterov = use_nesterov, \n",
    "                    training_input=X_train_enc)\n"
   ]
  },
  {
   "cell_type": "code",
   "execution_count": 23,
   "id": "bd194d45",
   "metadata": {},
   "outputs": [],
   "source": [
    "#Save the model with the best hyperparameters\n",
    "model.save(\"best_nn_model_h5\", save_format=\"h5\")"
   ]
  },
  {
   "cell_type": "markdown",
   "id": "50d0a9b5",
   "metadata": {},
   "source": [
    "# Final Test Score"
   ]
  },
  {
   "cell_type": "markdown",
   "id": "fd55394e",
   "metadata": {},
   "source": [
    "### Clean the Test Data"
   ]
  },
  {
   "cell_type": "code",
   "execution_count": 25,
   "id": "52d40ac1",
   "metadata": {},
   "outputs": [
    {
     "name": "stdout",
     "output_type": "stream",
     "text": [
      "Cleaning Started...\n",
      "\n",
      "Successfully Cleaned Primary Type\n",
      "Successfully Imputed Location\n",
      "Successfully Cleaned Location\n",
      "Successfully Added Month Column\n",
      "Successfully Added Hour Column\n",
      "Successfully Cleaned Community\n",
      "\n",
      "Data Set Successfully Cleaned!\n"
     ]
    }
   ],
   "source": [
    "%%capture --no-stdout\n",
    "cd.chicago_data_cleaner(chicago_test, verbose=True)"
   ]
  },
  {
   "cell_type": "code",
   "execution_count": 26,
   "id": "4fc7a9a9",
   "metadata": {},
   "outputs": [],
   "source": [
    "#Specify the features to use\n",
    "features = [\"primary_type\", \"location_description\", \"domestic\", \"district_name\", \"community_name\", \"Month\", \"Hour\"]\n",
    "#Transform the training features and targets into arrays\n",
    "X_train, y_train = data_to_array(chicago_train, features)\n",
    "#Transform the test features and targets into arrays\n",
    "X_test, y_test = data_to_array(chicago_test, features)"
   ]
  },
  {
   "cell_type": "code",
   "execution_count": 27,
   "id": "143eee55",
   "metadata": {},
   "outputs": [
    {
     "name": "stdout",
     "output_type": "stream",
     "text": [
      "(2814636, 7)\n",
      "(156956, 7)\n",
      "(2814636,)\n",
      "(156956,)\n"
     ]
    }
   ],
   "source": [
    "#Check the shapes\n",
    "print(X_train.shape)\n",
    "print(X_test.shape)\n",
    "print(y_train.shape)\n",
    "print(y_test.shape)"
   ]
  },
  {
   "cell_type": "code",
   "execution_count": 28,
   "id": "c363744c",
   "metadata": {},
   "outputs": [],
   "source": [
    "#Encode the training and target features\n",
    "X_train_enc, X_test_enc = prepare_inputs(X_train, X_test)\n",
    "#Encode the training and validation targets\n",
    "y_train_enc, y_test_enc = prepare_targets(y_train, y_test)"
   ]
  },
  {
   "cell_type": "code",
   "execution_count": 24,
   "id": "544ec718",
   "metadata": {},
   "outputs": [],
   "source": [
    "#Load the model \n",
    "model = keras.models.load_model(\"best_nn_model_h5\")"
   ]
  },
  {
   "cell_type": "markdown",
   "id": "d880b3ac",
   "metadata": {},
   "source": [
    "### Tuned Deep Learning Model"
   ]
  },
  {
   "cell_type": "code",
   "execution_count": 44,
   "id": "6ef37b3e",
   "metadata": {},
   "outputs": [
    {
     "name": "stdout",
     "output_type": "stream",
     "text": [
      "Restoring model weights from the end of the best epoch.\n",
      "Epoch 00028: early stopping\n",
      "Wall time: 1h 36min 36s\n"
     ]
    }
   ],
   "source": [
    "%%time\n",
    "early = EarlyStopping(monitor='val_loss', mode='min', verbose=1, patience = 10, restore_best_weights=True)\n",
    "\n",
    "history = model.fit(X_train_enc, y_train_enc, validation_split=.1, epochs=50, batch_size=32, verbose=0, callbacks = [early])"
   ]
  },
  {
   "cell_type": "code",
   "execution_count": 45,
   "id": "0952cf06",
   "metadata": {},
   "outputs": [
    {
     "data": {
      "image/png": "[encoded data removed]",
      "text/plain": [
       "<Figure size 864x576 with 1 Axes>"
      ]
     },
     "metadata": {
      "needs_background": "light"
     },
     "output_type": "display_data"
    }
   ],
   "source": [
    "plt.figure(figsize = (12,8))\n",
    "plt.plot(history.history['loss'], label='train')\n",
    "plt.plot(history.history['val_loss'], label='val')\n",
    "plt.grid(True)\n",
    "plt.xlabel(\"Epoch\")\n",
    "plt.ylabel(\"Loss\")\n",
    "plt.title(\"Tuned Model Train and Validation Loss During Training with Early Stoppping\")\n",
    "plt.legend()\n",
    "plt.show()"
   ]
  },
  {
   "cell_type": "code",
   "execution_count": 46,
   "id": "a8c47ebf",
   "metadata": {},
   "outputs": [
    {
     "name": "stdout",
     "output_type": "stream",
     "text": [
      "Model Test Accuracy Score: 90.48%\n",
      "Model Test F1-Score: 57.38%\n"
     ]
    }
   ],
   "source": [
    "#Tuned Test Accuracy and F1 Scores\n",
    "y_pred = model.predict(X_test_enc)\n",
    "#Change the prediction to form expected for accuracy and f1-score functions\n",
    "y_pred = np.round(y_pred.reshape((y_pred.shape[0])))\n",
    "#Change the validation targets \n",
    "y_test = y_test.astype(np.int)\n",
    "model_test_acc = np.round(accuracy_score(y_pred, y_test), 4) * 100\n",
    "model_test_f1 = np.round(f1_score(y_pred, y_test), 4) * 100\n",
    "print(f\"Tuned Model Test Accuracy Score: {model_test_acc:.2f}%\")\n",
    "print(f\"Tuned Model Test F1-Score: {model_test_f1:.2f}%\")"
   ]
  },
  {
   "cell_type": "code",
   "execution_count": 47,
   "id": "e41f843b",
   "metadata": {},
   "outputs": [
    {
     "data": {
      "text/plain": [
       "array([[131953,   9089],\n",
       "       [  5854,  10060]], dtype=int64)"
      ]
     },
     "execution_count": 47,
     "metadata": {},
     "output_type": "execute_result"
    }
   ],
   "source": [
    "#Confusion matrix\n",
    "confusion_matrix(y_pred, y_test)"
   ]
  },
  {
   "cell_type": "markdown",
   "id": "c6488319",
   "metadata": {},
   "source": [
    "Let's see what the test results are for the baseline model. "
   ]
  },
  {
   "cell_type": "markdown",
   "id": "b06b273f",
   "metadata": {},
   "source": [
    "### Baseline Deep Learning Model"
   ]
  },
  {
   "cell_type": "code",
   "execution_count": 38,
   "id": "a5aeedec",
   "metadata": {},
   "outputs": [
    {
     "name": "stdout",
     "output_type": "stream",
     "text": [
      "Restoring model weights from the end of the best epoch.\n",
      "Epoch 00011: early stopping\n",
      "Wall time: 20min 23s\n"
     ]
    }
   ],
   "source": [
    "%%time\n",
    "early = EarlyStopping(monitor='val_loss', mode='min', verbose=1, patience = 10, restore_best_weights=True)\n",
    "\n",
    "history = baseline_model.fit(X_train_enc, y_train_enc, validation_split=.1, epochs=50, batch_size=32, verbose=0, callbacks = [early])"
   ]
  },
  {
   "cell_type": "code",
   "execution_count": 39,
   "id": "32b7d41a",
   "metadata": {},
   "outputs": [
    {
     "data": {
      "image/png": "[encoded data removed]",
      "text/plain": [
       "<Figure size 864x576 with 1 Axes>"
      ]
     },
     "metadata": {
      "needs_background": "light"
     },
     "output_type": "display_data"
    }
   ],
   "source": [
    "plt.figure(figsize = (12,8))\n",
    "plt.plot(history.history['loss'], label='train')\n",
    "plt.plot(history.history['val_loss'], label='val')\n",
    "plt.grid(True)\n",
    "plt.xlabel(\"Epoch\")\n",
    "plt.ylabel(\"Loss\")\n",
    "plt.title(\"Baseline Model Train and Validation Loss During Training with Early Stoppping\")\n",
    "plt.legend()\n",
    "plt.show()"
   ]
  },
  {
   "cell_type": "code",
   "execution_count": 42,
   "id": "b7893478",
   "metadata": {},
   "outputs": [
    {
     "name": "stdout",
     "output_type": "stream",
     "text": [
      "Baseline Model Test Accuracy Score: 90.52%\n",
      "Baseline Model Test F1-Score: 57.36%\n"
     ]
    }
   ],
   "source": [
    "#Baseline Test Accuracy and F1 Scores\n",
    "y_pred = baseline_model.predict(X_test_enc)\n",
    "#Change the prediction to form expected for accuracy and f1-score functions\n",
    "y_pred = np.round(y_pred.reshape((y_pred.shape[0])))\n",
    "#Change the validation targets \n",
    "y_test = y_test.astype(np.int)\n",
    "base_model_test_acc = np.round(accuracy_score(y_pred, y_test), 4) * 100\n",
    "base_model_test_f1 = np.round(f1_score(y_pred, y_test), 4) * 100\n",
    "print(f\"Baseline Model Test Accuracy Score: {base_model_test_acc:.2f}%\")\n",
    "print(f\"Baseline Model Test F1-Score: {base_model_test_f1:.2f}%\")"
   ]
  },
  {
   "cell_type": "code",
   "execution_count": 43,
   "id": "78965fd7",
   "metadata": {},
   "outputs": [
    {
     "data": {
      "text/plain": [
       "array([[132065,   9140],\n",
       "       [  5742,  10009]], dtype=int64)"
      ]
     },
     "execution_count": 43,
     "metadata": {},
     "output_type": "execute_result"
    }
   ],
   "source": [
    "#Confusion matrix\n",
    "confusion_matrix(y_pred, y_test)"
   ]
  },
  {
   "cell_type": "markdown",
   "id": "830d4b90",
   "metadata": {},
   "source": [
    "# Train on the Full Data"
   ]
  },
  {
   "cell_type": "markdown",
   "id": "0ba29873",
   "metadata": {},
   "source": [
    "Since the baseline model performed just as well as the tuned model, we'll just use the baseline in production since inference will be much faster for new instances. "
   ]
  },
  {
   "cell_type": "code",
   "execution_count": 83,
   "id": "12d8d183",
   "metadata": {},
   "outputs": [
    {
     "name": "stdout",
     "output_type": "stream",
     "text": [
      "Cleaning Started...\n",
      "\n",
      "Successfully Cleaned Primary Type\n",
      "Successfully Imputed Location\n",
      "Successfully Cleaned Location\n",
      "Successfully Added Month Column\n",
      "Successfully Added Hour Column\n",
      "Successfully Cleaned Community\n",
      "\n",
      "Data Set Successfully Cleaned!\n"
     ]
    }
   ],
   "source": [
    "%%capture --no-stdout\n",
    "cd.chicago_data_cleaner(chicago, verbose=True)"
   ]
  },
  {
   "cell_type": "code",
   "execution_count": 89,
   "id": "d172a510",
   "metadata": {},
   "outputs": [],
   "source": [
    "#Specify the features to use\n",
    "features = [\"primary_type\", \"location_description\", \"domestic\", \"district_name\", \"community_name\", \"Month\", \"Hour\"]\n",
    "#Transform the training features and targets into arrays\n",
    "X, y = data_to_array(chicago, features)"
   ]
  },
  {
   "cell_type": "code",
   "execution_count": 92,
   "id": "dbd8c24b",
   "metadata": {},
   "outputs": [],
   "source": [
    "#Encode the training and target features\n",
    "X_enc, _ = prepare_inputs(X, X)\n",
    "#Encode the training and validation targets\n",
    "y_enc, _ = prepare_targets(y, y)"
   ]
  },
  {
   "cell_type": "code",
   "execution_count": 95,
   "id": "1fefe881",
   "metadata": {},
   "outputs": [
    {
     "name": "stdout",
     "output_type": "stream",
     "text": [
      "Restoring model weights from the end of the best epoch.\n",
      "Epoch 00021: early stopping\n",
      "Wall time: 1h 22min\n"
     ]
    }
   ],
   "source": [
    "%%time\n",
    "early = EarlyStopping(monitor='val_loss', mode='min', verbose=1, patience = 20, restore_best_weights=True)\n",
    "\n",
    "history = baseline_model.fit(X_enc, y_enc, validation_split=.1, epochs=100, batch_size=32, verbose=0, callbacks = [early])"
   ]
  },
  {
   "cell_type": "code",
   "execution_count": 96,
   "id": "75edb833",
   "metadata": {},
   "outputs": [
    {
     "data": {
      "image/png": "[encoded data removed]",
      "text/plain": [
       "<Figure size 864x576 with 1 Axes>"
      ]
     },
     "metadata": {
      "needs_background": "light"
     },
     "output_type": "display_data"
    }
   ],
   "source": [
    "plt.figure(figsize = (12,8))\n",
    "plt.plot(history.history['loss'], label='train')\n",
    "plt.plot(history.history['val_loss'], label='val')\n",
    "plt.grid(True)\n",
    "plt.xlabel(\"Epoch\")\n",
    "plt.ylabel(\"Loss\")\n",
    "plt.title(\"Train and Validation Loss During Training with Early Stoppping\")\n",
    "plt.legend()\n",
    "plt.show()"
   ]
  },
  {
   "cell_type": "code",
   "execution_count": 97,
   "id": "42f99081",
   "metadata": {},
   "outputs": [],
   "source": [
    "#Save the model with the best hyperparameters\n",
    "baseline_model.save(\"best_nn_model_fitted_h5\", save_format=\"h5\")"
   ]
  }
 ],
 "metadata": {
  "kernelspec": {
   "display_name": "Python 3",
   "language": "python",
   "name": "python3"
  },
  "language_info": {
   "codemirror_mode": {
    "name": "ipython",
    "version": 3
   },
   "file_extension": ".py",
   "mimetype": "text/x-python",
   "name": "python",
   "nbconvert_exporter": "python",
   "pygments_lexer": "ipython3",
   "version": "3.8.8"
  }
 },
 "nbformat": 4,
 "nbformat_minor": 5
}
